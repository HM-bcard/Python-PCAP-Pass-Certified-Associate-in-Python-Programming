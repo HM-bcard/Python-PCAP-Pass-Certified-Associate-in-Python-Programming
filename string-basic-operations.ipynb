{
 "cells": [
  {
   "cell_type": "code",
   "execution_count": 5,
   "id": "1ab95768-d6cd-4cf4-a9da-789cca462441",
   "metadata": {},
   "outputs": [
    {
     "data": {
      "text/plain": [
       "9"
      ]
     },
     "execution_count": 5,
     "metadata": {},
     "output_type": "execute_result"
    }
   ],
   "source": [
    "len('hi there!')"
   ]
  },
  {
   "cell_type": "code",
   "execution_count": 7,
   "id": "dafce367-c741-4845-957b-f6eae57f9de7",
   "metadata": {},
   "outputs": [
    {
     "data": {
      "text/plain": [
       "0"
      ]
     },
     "execution_count": 7,
     "metadata": {},
     "output_type": "execute_result"
    }
   ],
   "source": [
    "len('')"
   ]
  },
  {
   "cell_type": "code",
   "execution_count": 9,
   "id": "a97926ca-24cf-4554-9791-f78a76bcf188",
   "metadata": {},
   "outputs": [
    {
     "name": "stdout",
     "output_type": "stream",
     "text": [
      "i\n"
     ]
    }
   ],
   "source": [
    "print('hi there!'[1])"
   ]
  },
  {
   "cell_type": "code",
   "execution_count": 17,
   "id": "71895a87-28d1-4d6f-af34-244cf8591002",
   "metadata": {},
   "outputs": [
    {
     "name": "stdout",
     "output_type": "stream",
     "text": [
      "hi there!\n"
     ]
    }
   ],
   "source": [
    "print('hi there!'[:])"
   ]
  },
  {
   "cell_type": "code",
   "execution_count": 18,
   "id": "605beadf-47e2-4262-9cea-781a02260853",
   "metadata": {},
   "outputs": [
    {
     "name": "stdout",
     "output_type": "stream",
     "text": [
      "i there!\n"
     ]
    }
   ],
   "source": [
    "print('hi there!'[1:])"
   ]
  },
  {
   "cell_type": "code",
   "execution_count": 23,
   "id": "22981055-ffe1-4105-9369-a17ab5f4b896",
   "metadata": {},
   "outputs": [
    {
     "name": "stdout",
     "output_type": "stream",
     "text": [
      "h\n"
     ]
    }
   ],
   "source": [
    "print('hi there!'[:1])"
   ]
  },
  {
   "cell_type": "code",
   "execution_count": 25,
   "id": "021f421d-06f0-45b5-b39a-ad41b5768ba1",
   "metadata": {},
   "outputs": [
    {
     "name": "stdout",
     "output_type": "stream",
     "text": [
      "i\n"
     ]
    }
   ],
   "source": [
    "print('hi th\\ere!'[1])"
   ]
  },
  {
   "cell_type": "code",
   "execution_count": 27,
   "id": "d84f6138-310b-4689-87e0-383987e00366",
   "metadata": {},
   "outputs": [
    {
     "name": "stdout",
     "output_type": "stream",
     "text": [
      "hi ther\\e!\n"
     ]
    }
   ],
   "source": [
    "print('hi ther\\e!')"
   ]
  },
  {
   "cell_type": "code",
   "execution_count": null,
   "id": "56b107d7-e185-4c77-9d3a-a42ce8a0e91a",
   "metadata": {},
   "outputs": [],
   "source": []
  },
  {
   "cell_type": "code",
   "execution_count": 32,
   "id": "c2204009-7114-431c-9274-627806ea3d27",
   "metadata": {},
   "outputs": [
    {
     "name": "stdout",
     "output_type": "stream",
     "text": [
      "hi th'ere!\n"
     ]
    }
   ],
   "source": [
    "print('hi th\\'ere!')"
   ]
  },
  {
   "cell_type": "code",
   "execution_count": 34,
   "id": "1979d44d-d111-4b87-ac91-ae5ca4070fc0",
   "metadata": {},
   "outputs": [
    {
     "ename": "NameError",
     "evalue": "name 'a' is not defined",
     "output_type": "error",
     "traceback": [
      "\u001b[1;31m---------------------------------------------------------------------------\u001b[0m",
      "\u001b[1;31mNameError\u001b[0m                                 Traceback (most recent call last)",
      "Cell \u001b[1;32mIn[34], line 1\u001b[0m\n\u001b[1;32m----> 1\u001b[0m \u001b[38;5;28mord\u001b[39m(a)\n",
      "\u001b[1;31mNameError\u001b[0m: name 'a' is not defined"
     ]
    }
   ],
   "source": [
    "ord(a)"
   ]
  },
  {
   "cell_type": "code",
   "execution_count": 38,
   "id": "e2b2e488-d5c5-461e-abc9-772fc117a13b",
   "metadata": {},
   "outputs": [
    {
     "data": {
      "text/plain": [
       "97"
      ]
     },
     "execution_count": 38,
     "metadata": {},
     "output_type": "execute_result"
    }
   ],
   "source": [
    "ord('a')# number of character"
   ]
  },
  {
   "cell_type": "code",
   "execution_count": null,
   "id": "55fa10c9-ebe3-42f8-9b38-4de4cf6f08e7",
   "metadata": {},
   "outputs": [],
   "source": []
  },
  {
   "cell_type": "code",
   "execution_count": 41,
   "id": "a1046dd1-2253-439a-a84e-14612e6e05d7",
   "metadata": {},
   "outputs": [],
   "source": [
    "# multiline stings"
   ]
  },
  {
   "cell_type": "code",
   "execution_count": 43,
   "id": "dcd527c9-a1b2-4df0-940e-9ae7c19d5541",
   "metadata": {},
   "outputs": [],
   "source": [
    "test_string = \"\"\"blabla\n",
    "blabla\n",
    "blabla\"\"\""
   ]
  },
  {
   "cell_type": "code",
   "execution_count": 45,
   "id": "97f74d1c-a5c2-4f76-b9e0-8d999c6f175a",
   "metadata": {},
   "outputs": [],
   "source": [
    "# concatenationm"
   ]
  },
  {
   "cell_type": "code",
   "execution_count": 47,
   "id": "087bf93a-396a-4f16-889d-62abb22ce850",
   "metadata": {},
   "outputs": [
    {
     "data": {
      "text/plain": [
       "'aaabbb'"
      ]
     },
     "execution_count": 47,
     "metadata": {},
     "output_type": "execute_result"
    }
   ],
   "source": [
    "'aaa' + 'bbb'"
   ]
  },
  {
   "cell_type": "code",
   "execution_count": 51,
   "id": "8d65fd73-9574-4b0f-b19b-0369e4444345",
   "metadata": {},
   "outputs": [
    {
     "data": {
      "text/plain": [
       "'cccccc'"
      ]
     },
     "execution_count": 51,
     "metadata": {},
     "output_type": "execute_result"
    }
   ],
   "source": [
    "2*\"ccc\""
   ]
  },
  {
   "cell_type": "code",
   "execution_count": 55,
   "id": "0cbccb45-4125-47d1-a1f5-a2086b4172c3",
   "metadata": {},
   "outputs": [
    {
     "data": {
      "text/plain": [
       "'\\nusing a mathematical operator for strings is calle doperator overloading\\n'"
      ]
     },
     "execution_count": 55,
     "metadata": {},
     "output_type": "execute_result"
    }
   ],
   "source": [
    "##A\n",
    "'''\n",
    "using a mathematical operator for strings is calle doperator overloading\n",
    "'''"
   ]
  },
  {
   "cell_type": "code",
   "execution_count": 57,
   "id": "0a26663f-e89e-4da1-9401-fbbd727e1a97",
   "metadata": {},
   "outputs": [],
   "source": [
    "# if the order doesn't matter the operator is commutative, if the order doesnt matter , the order is not commutative"
   ]
  },
  {
   "cell_type": "code",
   "execution_count": 59,
   "id": "f33e338e-2751-4daf-9da6-9334bcf8696f",
   "metadata": {},
   "outputs": [
    {
     "name": "stdout",
     "output_type": "stream",
     "text": [
      " -h-e-l-l-o- -f-r-o-m- -t-h-e- -w-o-r-l-d- -o-f- -p-y-t-h-o-n-"
     ]
    }
   ],
   "source": [
    "for char in ' hello from the world of python':\n",
    "    print(char, end = '-')"
   ]
  },
  {
   "cell_type": "code",
   "execution_count": 61,
   "id": "ad2f2c4a-a50f-429c-b115-e238e4f3ae47",
   "metadata": {},
   "outputs": [],
   "source": [
    "#A    Python strings are immutable"
   ]
  },
  {
   "cell_type": "code",
   "execution_count": 63,
   "id": "e9003407-b005-4ed0-8d87-21c09bc5f25c",
   "metadata": {},
   "outputs": [
    {
     "ename": "TypeError",
     "evalue": "'str' object doesn't support item deletion",
     "output_type": "error",
     "traceback": [
      "\u001b[1;31m---------------------------------------------------------------------------\u001b[0m",
      "\u001b[1;31mTypeError\u001b[0m                                 Traceback (most recent call last)",
      "Cell \u001b[1;32mIn[63], line 1\u001b[0m\n\u001b[1;32m----> 1\u001b[0m \u001b[38;5;28;01mdel\u001b[39;00m(\u001b[38;5;124m'\u001b[39m\u001b[38;5;124mhi there!\u001b[39m\u001b[38;5;124m'\u001b[39m[\u001b[38;5;241m1\u001b[39m])\n",
      "\u001b[1;31mTypeError\u001b[0m: 'str' object doesn't support item deletion"
     ]
    }
   ],
   "source": [
    "del('hi there!'[1])"
   ]
  },
  {
   "cell_type": "code",
   "execution_count": 65,
   "id": "c3b1d9d6-2937-4229-9130-b91d852ef9d1",
   "metadata": {},
   "outputs": [],
   "source": [
    "# min function finds the lowest code point character"
   ]
  },
  {
   "cell_type": "code",
   "execution_count": 67,
   "id": "5af383b2-453e-4e12-b312-ec75749f9710",
   "metadata": {},
   "outputs": [],
   "source": [
    "# max function finds the highest code point charaacter"
   ]
  },
  {
   "cell_type": "code",
   "execution_count": 69,
   "id": "9f5dc277-6e21-445f-a059-81ca88b25b12",
   "metadata": {},
   "outputs": [
    {
     "data": {
      "text/plain": [
       "'S'"
      ]
     },
     "execution_count": 69,
     "metadata": {},
     "output_type": "execute_result"
    }
   ],
   "source": [
    "min('String')"
   ]
  },
  {
   "cell_type": "code",
   "execution_count": 71,
   "id": "1aae4d6a-efe1-4965-b44b-0995321b51b2",
   "metadata": {},
   "outputs": [
    {
     "data": {
      "text/plain": [
       "'t'"
      ]
     },
     "execution_count": 71,
     "metadata": {},
     "output_type": "execute_result"
    }
   ],
   "source": [
    "max('String')"
   ]
  },
  {
   "cell_type": "code",
   "execution_count": null,
   "id": "3543094c-208c-40dc-8286-3c1be5f69986",
   "metadata": {},
   "outputs": [],
   "source": []
  }
 ],
 "metadata": {
  "kernelspec": {
   "display_name": "Python [conda env:base] *",
   "language": "python",
   "name": "conda-base-py"
  },
  "language_info": {
   "codemirror_mode": {
    "name": "ipython",
    "version": 3
   },
   "file_extension": ".py",
   "mimetype": "text/x-python",
   "name": "python",
   "nbconvert_exporter": "python",
   "pygments_lexer": "ipython3",
   "version": "3.11.5"
  }
 },
 "nbformat": 4,
 "nbformat_minor": 5
}
