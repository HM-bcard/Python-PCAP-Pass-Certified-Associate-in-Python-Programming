{
 "cells": [
  {
   "cell_type": "code",
   "execution_count": 1,
   "id": "dbef6ff9-6e74-43a9-b244-da3969e36dd0",
   "metadata": {},
   "outputs": [],
   "source": [
    "# changing a seed for time"
   ]
  },
  {
   "cell_type": "code",
   "execution_count": 3,
   "id": "b809d831-6df0-4856-9fa7-4aa12ee4d206",
   "metadata": {},
   "outputs": [
    {
     "name": "stdout",
     "output_type": "stream",
     "text": [
      "0.3132674441841541\n",
      "0.5875324860256638\n"
     ]
    }
   ],
   "source": [
    "import random\n",
    "\n",
    "print(random.random())\n",
    "print(random.random())\n"
   ]
  },
  {
   "cell_type": "code",
   "execution_count": 5,
   "id": "4fcbc3c9-00fe-4964-9426-b56afba308af",
   "metadata": {},
   "outputs": [
    {
     "name": "stdout",
     "output_type": "stream",
     "text": [
      "0.8444218515250481\n",
      "0.7579544029403025\n"
     ]
    }
   ],
   "source": [
    "random.seed(0)\n",
    "print(random.random())\n",
    "print(random.random())\n"
   ]
  },
  {
   "cell_type": "code",
   "execution_count": 9,
   "id": "689be4f6-b268-438a-bf4a-aa92cb560999",
   "metadata": {},
   "outputs": [
    {
     "name": "stdout",
     "output_type": "stream",
     "text": [
      "7\n",
      "Alan\n"
     ]
    }
   ],
   "source": [
    "numbers = [1,2,3,4,5,6,7,8,9,10]\n",
    "names = ['Alan','Kate','Mary','Kate','Jo','Johnn']\n",
    "\n",
    "print(random.choice(numbers))\n",
    "print(random.choice(names))"
   ]
  },
  {
   "cell_type": "code",
   "execution_count": 19,
   "id": "836426ee-3e56-4b16-bef1-d86f2b43fe0e",
   "metadata": {},
   "outputs": [
    {
     "data": {
      "text/plain": [
       "['Mary', 'Jo', 'Kate']"
      ]
     },
     "execution_count": 19,
     "metadata": {},
     "output_type": "execute_result"
    }
   ],
   "source": [
    "random.sample(names,3)"
   ]
  },
  {
   "cell_type": "code",
   "execution_count": null,
   "id": "211213cb-227e-4e36-abba-3a9fc4caae58",
   "metadata": {},
   "outputs": [],
   "source": []
  },
  {
   "cell_type": "code",
   "execution_count": null,
   "id": "1449aa9a-c28a-440d-b36e-ec285453ea40",
   "metadata": {},
   "outputs": [],
   "source": []
  }
 ],
 "metadata": {
  "kernelspec": {
   "display_name": "Python [conda env:base] *",
   "language": "python",
   "name": "conda-base-py"
  },
  "language_info": {
   "codemirror_mode": {
    "name": "ipython",
    "version": 3
   },
   "file_extension": ".py",
   "mimetype": "text/x-python",
   "name": "python",
   "nbconvert_exporter": "python",
   "pygments_lexer": "ipython3",
   "version": "3.11.5"
  }
 },
 "nbformat": 4,
 "nbformat_minor": 5
}
