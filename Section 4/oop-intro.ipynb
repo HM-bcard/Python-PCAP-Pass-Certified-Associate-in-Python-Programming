{
 "cells": [
  {
   "cell_type": "code",
   "execution_count": null,
   "id": "fa2fe1ba-0fd4-4d82-9618-5c85c9036358",
   "metadata": {},
   "outputs": [],
   "source": [
    "class Rectangle(self,width,length):\n",
    "    def __init__(self):\n",
    "        self.width = width\n",
    "        self.length = length\n",
    "    def calculate_area(self):\n",
    "        return width*height\n",
    "    width = "
   ]
  }
 ],
 "metadata": {
  "kernelspec": {
   "display_name": "Python [conda env:base] *",
   "language": "python",
   "name": "conda-base-py"
  },
  "language_info": {
   "codemirror_mode": {
    "name": "ipython",
    "version": 3
   },
   "file_extension": ".py",
   "mimetype": "text/x-python",
   "name": "python",
   "nbconvert_exporter": "python",
   "pygments_lexer": "ipython3",
   "version": "3.11.5"
  }
 },
 "nbformat": 4,
 "nbformat_minor": 5
}
