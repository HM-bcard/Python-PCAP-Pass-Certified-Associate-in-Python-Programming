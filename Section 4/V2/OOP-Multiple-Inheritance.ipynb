{
 "cells": [
  {
   "cell_type": "markdown",
   "id": "f2ecee67-03d4-4e14-9992-bbcc4dccec77",
   "metadata": {},
   "source": [
    "# A class inheriting from multiple classes"
   ]
  },
  {
   "cell_type": "code",
   "execution_count": 8,
   "id": "7adad646-9b2c-4f02-9e45-963398ae18a6",
   "metadata": {},
   "outputs": [],
   "source": [
    "class Vehicle:\n",
    "    def go(self):\n",
    "        print('going')\n",
    "\n",
    "class Aerial:\n",
    "    def fly(self):\n",
    "        print(\"flying\")\n",
    "\n"
   ]
  },
  {
   "cell_type": "code",
   "execution_count": 10,
   "id": "6706c887-2b1d-441e-9d2a-1946b38d7af2",
   "metadata": {},
   "outputs": [],
   "source": [
    "class Airplane(Vehicle,Aerial):\n",
    "    pass"
   ]
  },
  {
   "cell_type": "code",
   "execution_count": 12,
   "id": "a0733b30-a233-4163-9f16-bb1dc1919447",
   "metadata": {},
   "outputs": [],
   "source": [
    "plane = Airplane()"
   ]
  },
  {
   "cell_type": "code",
   "execution_count": 16,
   "id": "27bdf95a-cac2-44e8-9ae5-dd09534da6cc",
   "metadata": {},
   "outputs": [
    {
     "name": "stdout",
     "output_type": "stream",
     "text": [
      "going\n",
      "flying\n"
     ]
    }
   ],
   "source": [
    "plane.go()\n",
    "plane.fly()"
   ]
  },
  {
   "cell_type": "code",
   "execution_count": 18,
   "id": "6d58d1c1-70f5-421e-b20e-7b850f19fbc3",
   "metadata": {},
   "outputs": [],
   "source": [
    "class Vehicle:\n",
    "    def go(self):\n",
    "        print('going')\n",
    "    def introduce(self):\n",
    "        print(\"It's a vehicle\")\n",
    "\n",
    "class Aerial:\n",
    "    def fly(self):\n",
    "        print(\"flying\")\n",
    "    def introduce(self):\n",
    "        print(\"It's an aerial\")\n",
    "\n",
    "\n",
    "class Airplane(Vehicle,Aerial): # left to right\n",
    "    pass\n"
   ]
  },
  {
   "cell_type": "code",
   "execution_count": 20,
   "id": "06f3d7b3-efa2-49b3-b0d9-575723fd60c1",
   "metadata": {},
   "outputs": [],
   "source": [
    "plane = Airplane()"
   ]
  },
  {
   "cell_type": "code",
   "execution_count": 22,
   "id": "408b504c-5ae3-4054-96d6-e5cf74d2e0f8",
   "metadata": {},
   "outputs": [
    {
     "name": "stdout",
     "output_type": "stream",
     "text": [
      "It's a vehicle\n"
     ]
    }
   ],
   "source": [
    "plane.introduce()"
   ]
  },
  {
   "cell_type": "markdown",
   "id": "2d85df05-3a08-4d32-ac58-43c2d95ac95c",
   "metadata": {},
   "source": [
    "## MRO : Method Resolution Order"
   ]
  },
  {
   "cell_type": "markdown",
   "id": "cad87423-fbd1-4ee9-a742-60b060526bb9",
   "metadata": {},
   "source": [
    "### Python's MRO:\n",
    "\n",
    "1.Checks inside the object\n",
    "\n",
    "2.If not found - checks in the superclass from left to right\n",
    "\n",
    "3.If not found - show an error"
   ]
  },
  {
   "cell_type": "code",
   "execution_count": 29,
   "id": "2b1eeb37-e5dd-4383-90fc-fbae741ac1d2",
   "metadata": {},
   "outputs": [
    {
     "name": "stdout",
     "output_type": "stream",
     "text": [
      "It's an aerial\n"
     ]
    }
   ],
   "source": [
    "class Vehicle:\n",
    "    def go(self):\n",
    "        print('going')\n",
    "    def introduce(self):\n",
    "        print(\"It's a vehicle\")\n",
    "\n",
    "class Aerial:\n",
    "    def fly(self):\n",
    "        print(\"flying\")\n",
    "    def introduce(self):\n",
    "        print(\"It's an aerial\")\n",
    "\n",
    "\n",
    "class Airplane(Aerial,Vehicle): # left to right\n",
    "    pass\n",
    "plane = Airplane()\n",
    "plane.introduce()"
   ]
  },
  {
   "cell_type": "code",
   "execution_count": 31,
   "id": "30ea60d4-3d14-4d5c-97e2-c1918011c85c",
   "metadata": {},
   "outputs": [
    {
     "name": "stdout",
     "output_type": "stream",
     "text": [
      "It's an airplane\n"
     ]
    }
   ],
   "source": [
    "class Vehicle:\n",
    "    def go(self):\n",
    "        print('going')\n",
    "    def introduce(self):\n",
    "        print(\"It's a vehicle\")\n",
    "\n",
    "class Aerial:\n",
    "    def fly(self):\n",
    "        print(\"flying\")\n",
    "    def introduce(self):\n",
    "        print(\"It's an aerial\")\n",
    "\n",
    "\n",
    "class Airplane(Aerial,Vehicle): # left to right\n",
    "    def introduce(self):\n",
    "        print(\"It's an airplane\")\n",
    "plane = Airplane()\n",
    "plane.introduce()"
   ]
  },
  {
   "cell_type": "markdown",
   "id": "39f08678-d578-4f01-a25c-507c26b1be87",
   "metadata": {},
   "source": [
    "### __bases__ property"
   ]
  },
  {
   "cell_type": "code",
   "execution_count": 34,
   "id": "0bb33b98-4c70-4d36-9105-84f93be30464",
   "metadata": {},
   "outputs": [
    {
     "ename": "AttributeError",
     "evalue": "'Airplane' object has no attribute '__bases__'",
     "output_type": "error",
     "traceback": [
      "\u001b[1;31m---------------------------------------------------------------------------\u001b[0m",
      "\u001b[1;31mAttributeError\u001b[0m                            Traceback (most recent call last)",
      "Cell \u001b[1;32mIn[34], line 1\u001b[0m\n\u001b[1;32m----> 1\u001b[0m \u001b[38;5;28mprint\u001b[39m(plane\u001b[38;5;241m.\u001b[39m\u001b[38;5;18m__bases__\u001b[39m)\n",
      "\u001b[1;31mAttributeError\u001b[0m: 'Airplane' object has no attribute '__bases__'"
     ]
    }
   ],
   "source": [
    "print(plane.__bases__)"
   ]
  },
  {
   "cell_type": "code",
   "execution_count": 36,
   "id": "4c7c3cc6-56b6-42c4-beca-0720ca3e6a9c",
   "metadata": {},
   "outputs": [
    {
     "name": "stdout",
     "output_type": "stream",
     "text": [
      "(<class '__main__.Aerial'>, <class '__main__.Vehicle'>)\n"
     ]
    }
   ],
   "source": [
    "print(Airplane.__bases__)"
   ]
  },
  {
   "cell_type": "code",
   "execution_count": null,
   "id": "e5d34739-0117-488f-b406-b6b0e810136e",
   "metadata": {},
   "outputs": [],
   "source": []
  }
 ],
 "metadata": {
  "kernelspec": {
   "display_name": "Python [conda env:base] *",
   "language": "python",
   "name": "conda-base-py"
  },
  "language_info": {
   "codemirror_mode": {
    "name": "ipython",
    "version": 3
   },
   "file_extension": ".py",
   "mimetype": "text/x-python",
   "name": "python",
   "nbconvert_exporter": "python",
   "pygments_lexer": "ipython3",
   "version": "3.11.5"
  }
 },
 "nbformat": 4,
 "nbformat_minor": 5
}
