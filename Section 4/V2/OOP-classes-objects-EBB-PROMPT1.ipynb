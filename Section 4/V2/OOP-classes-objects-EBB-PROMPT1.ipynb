{
 "cells": [
  {
   "cell_type": "code",
   "execution_count": 1,
   "id": "5290435a-8a60-457f-9352-80e9b267042b",
   "metadata": {},
   "outputs": [],
   "source": [
    "### Class from memory:"
   ]
  },
  {
   "cell_type": "code",
   "execution_count": null,
   "id": "de1c631f-c08d-4b35-9b54-d32eff8b621a",
   "metadata": {},
   "outputs": [],
   "source": []
  }
 ],
 "metadata": {
  "kernelspec": {
   "display_name": "Python [conda env:base] *",
   "language": "python",
   "name": "conda-base-py"
  },
  "language_info": {
   "codemirror_mode": {
    "name": "ipython",
    "version": 3
   },
   "file_extension": ".py",
   "mimetype": "text/x-python",
   "name": "python",
   "nbconvert_exporter": "python",
   "pygments_lexer": "ipython3",
   "version": "3.11.5"
  }
 },
 "nbformat": 4,
 "nbformat_minor": 5
}
