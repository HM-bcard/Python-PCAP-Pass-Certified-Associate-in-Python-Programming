{
 "cells": [
  {
   "cell_type": "code",
   "execution_count": null,
   "id": "75ce9af0-2dc1-4188-93c6-738e2df4f50b",
   "metadata": {},
   "outputs": [],
   "source": [
    "### Class with diffrent methods:"
   ]
  },
  {
   "cell_type": "code",
   "execution_count": 1,
   "id": "cb35a34a-c0e9-4c39-9abb-24ac49bad53b",
   "metadata": {},
   "outputs": [
    {
     "name": "stdout",
     "output_type": "stream",
     "text": [
      "Hi I am Alexander\n",
      "We don't have the same name\n",
      "{'first_name': 'Alexander', 'last_name': 'Smith'}\n",
      "{'__module__': '__main__', '__init__': <function Doctor.__init__ at 0x0000015C1D2E9F80>, '_Doctor__format_names': <function Doctor.__format_names at 0x0000015C1D2EA200>, 'introduce': <function Doctor.introduce at 0x0000015C1D2E94E0>, 'compare_name': <function Doctor.compare_name at 0x0000015C1D2EA340>, 'get_first_last_name_together': <function Doctor.get_first_last_name_together at 0x0000015C1D2EA3E0>, '__dict__': <attribute '__dict__' of 'Doctor' objects>, '__weakref__': <attribute '__weakref__' of 'Doctor' objects>, '__doc__': None}\n"
     ]
    }
   ],
   "source": [
    "class Doctor():\n",
    "    def __init__(self,first_name = 'John',last_name = 'Smith'):\n",
    "        self.first_name = first_name\n",
    "        self.last_name = last_name\n",
    "        self.__format_names() # creating a placeholder for a method\n",
    "\n",
    "    def __format_names(self): # defining the method\n",
    "        self.first_name = self.first_name.title()\n",
    "        self.last_name = self.last_name.title()\n",
    "\n",
    "    def introduce(self):\n",
    "        print('Hi I am', self.first_name)\n",
    "\n",
    "    def compare_name(self,name_to_compare):\n",
    "        if self.first_name == name_to_compare:\n",
    "            print('We have the same name!')\n",
    "        else:\n",
    "            print('We don\\'t have the same name')\n",
    "\n",
    "    def get_first_last_name_together(self):\n",
    "        return self.first_name + ' ' + self.last_name\n",
    "\n",
    "\n",
    "doc_alex = Doctor('AleXaNDer','SMITh')\n",
    "doc_alex.introduce()\n",
    "doc_alex.compare_name('John')\n",
    "print(doc_alex.__dict__)\n",
    "print(Doctor.__dict__)\n",
    "    \n",
    "    "
   ]
  },
  {
   "cell_type": "code",
   "execution_count": 3,
   "id": "c8ca0155-554a-4f87-a207-c080f8d0ab4f",
   "metadata": {},
   "outputs": [
    {
     "name": "stdout",
     "output_type": "stream",
     "text": [
      "<__main__.Doctor object at 0x0000015C1D694E50>\n"
     ]
    }
   ],
   "source": [
    "print(doc_alex)"
   ]
  },
  {
   "cell_type": "markdown",
   "id": "c41e7567-626a-4125-841c-c205fb175783",
   "metadata": {},
   "source": [
    "### redefining the __str__ method:"
   ]
  },
  {
   "cell_type": "code",
   "execution_count": 12,
   "id": "de75065f-af08-4409-914d-aa1b6a06bc80",
   "metadata": {},
   "outputs": [
    {
     "name": "stdout",
     "output_type": "stream",
     "text": [
      "Hi I am Alexander\n",
      "We don't have the same name\n",
      "{'first_name': 'Alexander', 'last_name': 'Smith'}\n",
      "{'__module__': '__main__', '__init__': <function Doctor.__init__ at 0x0000015C1D2EA660>, '_Doctor__format_names': <function Doctor.__format_names at 0x0000015C1D2E9B20>, 'introduce': <function Doctor.introduce at 0x0000015C1EFB84A0>, 'compare_name': <function Doctor.compare_name at 0x0000015C1EFB8400>, 'get_first_last_name_together': <function Doctor.get_first_last_name_together at 0x0000015C1EFB8680>, '__str__': <function Doctor.__str__ at 0x0000015C1EFB8720>, '__dict__': <attribute '__dict__' of 'Doctor' objects>, '__weakref__': <attribute '__weakref__' of 'Doctor' objects>, '__doc__': None}\n"
     ]
    }
   ],
   "source": [
    "class Doctor():\n",
    "    def __init__(self,first_name = 'John',last_name = 'Smith'):\n",
    "        self.first_name = first_name\n",
    "        self.last_name = last_name\n",
    "        self.__format_names() # creating a placeholder for a method\n",
    "\n",
    "    def __format_names(self): # defining the method\n",
    "        self.first_name = self.first_name.title()\n",
    "        self.last_name = self.last_name.title()\n",
    "\n",
    "    def introduce(self):\n",
    "        print('Hi I am', self.first_name)\n",
    "\n",
    "    def compare_name(self,name_to_compare):\n",
    "        if self.first_name == name_to_compare:\n",
    "            print('We have the same name!')\n",
    "        else:\n",
    "            print('We don\\'t have the same name')\n",
    "\n",
    "    def get_first_last_name_together(self):\n",
    "        return self.first_name + ' ' + self.last_name\n",
    "\n",
    "    def __str__(self): # redefining the str mwethod\n",
    "        return \"doctor \" + self.first_name + ' '+  self.last_name\n",
    "\n",
    "\n",
    "doc_alex = Doctor('AleXaNDer','SMITh')\n",
    "doc_alex.introduce()\n",
    "doc_alex.compare_name('John')\n",
    "print(doc_alex.__dict__)\n",
    "print(Doctor.__dict__)\n",
    "    \n",
    "    "
   ]
  },
  {
   "cell_type": "code",
   "execution_count": 14,
   "id": "4e37162b-435d-47ab-a2cf-46e8c6a80b5e",
   "metadata": {},
   "outputs": [
    {
     "name": "stdout",
     "output_type": "stream",
     "text": [
      "doctor Alexander Smith\n"
     ]
    }
   ],
   "source": [
    "print(doc_alex)"
   ]
  },
  {
   "cell_type": "markdown",
   "id": "d198d575-aebc-4407-9cee-731decb3ea04",
   "metadata": {},
   "source": [
    "### Default parameter for the constructors __self__ argument:"
   ]
  },
  {
   "cell_type": "code",
   "execution_count": null,
   "id": "34b330d1-bc54-49e6-9fe9-7100e2e21842",
   "metadata": {},
   "outputs": [],
   "source": []
  }
 ],
 "metadata": {
  "kernelspec": {
   "display_name": "Python [conda env:base] *",
   "language": "python",
   "name": "conda-base-py"
  },
  "language_info": {
   "codemirror_mode": {
    "name": "ipython",
    "version": 3
   },
   "file_extension": ".py",
   "mimetype": "text/x-python",
   "name": "python",
   "nbconvert_exporter": "python",
   "pygments_lexer": "ipython3",
   "version": "3.11.5"
  }
 },
 "nbformat": 4,
 "nbformat_minor": 5
}
