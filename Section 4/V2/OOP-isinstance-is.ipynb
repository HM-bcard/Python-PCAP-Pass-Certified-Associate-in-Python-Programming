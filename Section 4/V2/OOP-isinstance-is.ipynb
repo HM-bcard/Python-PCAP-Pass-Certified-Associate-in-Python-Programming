{
 "cells": [
  {
   "cell_type": "markdown",
   "id": "542d510a-aafb-48b0-9b33-489b45d00837",
   "metadata": {},
   "source": [
    "## Isinstance and is operators:\n",
    "\n",
    "isinstance can be used to check from whoch class was an object instantiated"
   ]
  },
  {
   "cell_type": "code",
   "execution_count": 2,
   "id": "51a11294-3773-4b5c-9afe-ed7d6ba38813",
   "metadata": {},
   "outputs": [],
   "source": [
    "class Vehicle:\n",
    "    def __init__(self,speed):\n",
    "        self.speed = speed\n",
    "class LandVehicle(Vehicle):\n",
    "    def __init__(self,speed,wheel_count): # after providing a new constructor to the subclass - not all arguments from the superclass need to be satisfied\n",
    "        super().__init__(speed) # invoking the superclass- no constructor(self)\n",
    "        self.wheel_count = wheel_count\n",
    "class Car(LandVehicle):\n",
    "    pass"
   ]
  },
  {
   "cell_type": "markdown",
   "id": "bfb22f0b-9c1f-499f-8c8c-40965a957f97",
   "metadata": {},
   "source": [
    "### Example of isinstance"
   ]
  },
  {
   "cell_type": "code",
   "execution_count": 5,
   "id": "79cf6185-cead-48fd-9410-3d030f0b25a7",
   "metadata": {},
   "outputs": [],
   "source": [
    "my_vehicle = Vehicle(50)\n",
    "land_vehicle = LandVehicle(50,4)\n",
    "car = Car(130,4)"
   ]
  },
  {
   "cell_type": "code",
   "execution_count": 9,
   "id": "cdd85c63-b33f-4b0e-ae61-e22ce3a01fe0",
   "metadata": {},
   "outputs": [
    {
     "name": "stdout",
     "output_type": "stream",
     "text": [
      "True\n",
      "True\n",
      "True\n"
     ]
    }
   ],
   "source": [
    "print(isinstance(my_vehicle,Vehicle))\n",
    "print(isinstance(land_vehicle,LandVehicle))\n",
    "print(isinstance(car,Car))\n"
   ]
  },
  {
   "cell_type": "code",
   "execution_count": 11,
   "id": "4ba4b3ba-b5c2-4ff1-94b2-4f4970298667",
   "metadata": {},
   "outputs": [
    {
     "name": "stdout",
     "output_type": "stream",
     "text": [
      "True\n",
      "True\n",
      "True\n"
     ]
    }
   ],
   "source": [
    "print(isinstance(car,Vehicle))\n",
    "print(isinstance(car,LandVehicle))\n",
    "print(isinstance(car,Car))\n"
   ]
  },
  {
   "cell_type": "code",
   "execution_count": 13,
   "id": "b8163724-3725-4011-bdec-039a832cae91",
   "metadata": {},
   "outputs": [
    {
     "name": "stdout",
     "output_type": "stream",
     "text": [
      "False\n",
      "False\n",
      "True\n"
     ]
    }
   ],
   "source": [
    "print(isinstance(my_vehicle,Car))\n",
    "print(isinstance(land_vehicle,Car))\n",
    "print(isinstance(car,Car))"
   ]
  },
  {
   "cell_type": "markdown",
   "id": "05291861-3e13-4b09-846f-fb5791885280",
   "metadata": {},
   "source": [
    "### is keyword"
   ]
  },
  {
   "cell_type": "code",
   "execution_count": 26,
   "id": "92d5b2e5-7834-4908-8e65-b6e97ada972e",
   "metadata": {},
   "outputs": [],
   "source": [
    "my_vehicle = Vehicle(60)\n",
    "my_new_vehicle = my_vehicle"
   ]
  },
  {
   "cell_type": "code",
   "execution_count": 28,
   "id": "23cc703a-a54c-4a16-81a4-8d35c51de383",
   "metadata": {},
   "outputs": [
    {
     "name": "stdout",
     "output_type": "stream",
     "text": [
      "True\n"
     ]
    }
   ],
   "source": [
    "print(my_new_vehicle is my_vehicle) # checks whether it's the same object"
   ]
  },
  {
   "cell_type": "code",
   "execution_count": 40,
   "id": "a487893f-9445-4f39-bfc1-0e81e965f9ba",
   "metadata": {},
   "outputs": [
    {
     "name": "stdout",
     "output_type": "stream",
     "text": [
      "30\n"
     ]
    }
   ],
   "source": [
    "my_vehicle.speed = 30\n",
    "print(my_new_vehicle.speed)"
   ]
  },
  {
   "cell_type": "code",
   "execution_count": 32,
   "id": "fb4b91b3-8b84-431d-80f7-8f7c20eeb674",
   "metadata": {},
   "outputs": [
    {
     "name": "stdout",
     "output_type": "stream",
     "text": [
      "True\n"
     ]
    }
   ],
   "source": [
    "print(my_new_vehicle is my_vehicle) # checks whether it's the same object"
   ]
  },
  {
   "cell_type": "markdown",
   "id": "f076e1db-928f-4738-b7f3-e21c1c653268",
   "metadata": {},
   "source": [
    "### if you use a reference to an object instead of instantiating it - theyu will have the reference to the same memory address"
   ]
  },
  {
   "cell_type": "markdown",
   "id": "880276d0-ed4b-4b60-aa69-1e47db0480f7",
   "metadata": {},
   "source": [
    "### is keyword with primitive datatypes:"
   ]
  },
  {
   "cell_type": "markdown",
   "id": "7e51fe3e-1d3c-4550-b984-f6a1c9ffc1e4",
   "metadata": {},
   "source": [
    "# integers:"
   ]
  },
  {
   "cell_type": "code",
   "execution_count": 46,
   "id": "65908e0c-7f7c-4780-8ec6-6077b86cf152",
   "metadata": {},
   "outputs": [
    {
     "name": "stdout",
     "output_type": "stream",
     "text": [
      "True\n"
     ]
    }
   ],
   "source": [
    "one = 1\n",
    "two = 1\n",
    "print(two is one)"
   ]
  },
  {
   "cell_type": "code",
   "execution_count": 48,
   "id": "4093a8b9-fd62-44ac-ab63-f881c538cb7a",
   "metadata": {},
   "outputs": [
    {
     "name": "stdout",
     "output_type": "stream",
     "text": [
      "True\n"
     ]
    }
   ],
   "source": [
    "one = 1\n",
    "two = 0\n",
    "two +=1\n",
    "print(two is one)"
   ]
  },
  {
   "cell_type": "markdown",
   "id": "c2e5206a-5526-4e71-9ff0-d929a3679e19",
   "metadata": {},
   "source": [
    "# strings"
   ]
  },
  {
   "cell_type": "code",
   "execution_count": 53,
   "id": "21ac8f4f-079d-4769-9708-23710202a4cd",
   "metadata": {},
   "outputs": [
    {
     "name": "stdout",
     "output_type": "stream",
     "text": [
      "True\n",
      "True\n"
     ]
    }
   ],
   "source": [
    "string1 = \"hello\"\n",
    "string2 = \"hello\"\n",
    "print(string1 is string2)\n",
    "print(string1 == string2)"
   ]
  },
  {
   "cell_type": "code",
   "execution_count": 55,
   "id": "2cfd9fb9-4222-4cb3-82ce-600cf8361ed9",
   "metadata": {},
   "outputs": [
    {
     "name": "stdout",
     "output_type": "stream",
     "text": [
      "hello\n",
      "hello\n"
     ]
    }
   ],
   "source": [
    "string1 = \"hello\"\n",
    "string2 = \"hell\"\n",
    "string2 += 'o'\n",
    "print(string1)\n",
    "print(string2)"
   ]
  },
  {
   "cell_type": "code",
   "execution_count": null,
   "id": "c58f8834-b894-49e0-a38e-a5f0c299b12e",
   "metadata": {},
   "outputs": [],
   "source": []
  }
 ],
 "metadata": {
  "kernelspec": {
   "display_name": "Python [conda env:base] *",
   "language": "python",
   "name": "conda-base-py"
  },
  "language_info": {
   "codemirror_mode": {
    "name": "ipython",
    "version": 3
   },
   "file_extension": ".py",
   "mimetype": "text/x-python",
   "name": "python",
   "nbconvert_exporter": "python",
   "pygments_lexer": "ipython3",
   "version": "3.11.5"
  }
 },
 "nbformat": 4,
 "nbformat_minor": 5
}
