{
 "cells": [
  {
   "cell_type": "code",
   "execution_count": 3,
   "id": "86662d88-89b3-4438-a3f2-d7853273bd19",
   "metadata": {},
   "outputs": [],
   "source": [
    "class Vehicle:\n",
    "    pass\n",
    "class LandVehicle(Vehicle):\n",
    "    pass\n",
    "class Car(LandVehicle):\n",
    "    pass"
   ]
  },
  {
   "cell_type": "code",
   "execution_count": 5,
   "id": "0aa2ca71-f380-4877-994e-45ce8df38cba",
   "metadata": {},
   "outputs": [
    {
     "name": "stdout",
     "output_type": "stream",
     "text": [
      "{}\n"
     ]
    }
   ],
   "source": [
    "car1 = Car()\n",
    "print(car1.__dict__)"
   ]
  },
  {
   "cell_type": "markdown",
   "id": "1e1f7014-272a-4c8f-940c-1285d3b1a9b6",
   "metadata": {},
   "source": [
    "### some properties"
   ]
  },
  {
   "cell_type": "code",
   "execution_count": 8,
   "id": "4bb0d6aa-5a7e-48a6-be4a-8da6ef7eac5e",
   "metadata": {},
   "outputs": [],
   "source": [
    "class Vehicle:\n",
    "    def __init__(self,speed):\n",
    "        self.speed = speed\n",
    "class LandVehicle(Vehicle):\n",
    "    pass\n",
    "class Car(LandVehicle):\n",
    "    pass"
   ]
  },
  {
   "cell_type": "code",
   "execution_count": 10,
   "id": "d9175930-f156-4dbd-b158-02ed319baaff",
   "metadata": {},
   "outputs": [
    {
     "ename": "TypeError",
     "evalue": "Vehicle.__init__() missing 1 required positional argument: 'speed'",
     "output_type": "error",
     "traceback": [
      "\u001b[1;31m---------------------------------------------------------------------------\u001b[0m",
      "\u001b[1;31mTypeError\u001b[0m                                 Traceback (most recent call last)",
      "Cell \u001b[1;32mIn[10], line 1\u001b[0m\n\u001b[1;32m----> 1\u001b[0m car1 \u001b[38;5;241m=\u001b[39m Car()\n\u001b[0;32m      2\u001b[0m \u001b[38;5;28mprint\u001b[39m(car1\u001b[38;5;241m.\u001b[39m\u001b[38;5;18m__dict__\u001b[39m)\n",
      "\u001b[1;31mTypeError\u001b[0m: Vehicle.__init__() missing 1 required positional argument: 'speed'"
     ]
    }
   ],
   "source": [
    "car1 = Car()\n",
    "print(car1.__dict__)"
   ]
  },
  {
   "cell_type": "code",
   "execution_count": null,
   "id": "8ad31717-f161-4696-9179-871275cb4f39",
   "metadata": {},
   "outputs": [],
   "source": []
  }
 ],
 "metadata": {
  "kernelspec": {
   "display_name": "Python [conda env:base] *",
   "language": "python",
   "name": "conda-base-py"
  },
  "language_info": {
   "codemirror_mode": {
    "name": "ipython",
    "version": 3
   },
   "file_extension": ".py",
   "mimetype": "text/x-python",
   "name": "python",
   "nbconvert_exporter": "python",
   "pygments_lexer": "ipython3",
   "version": "3.11.5"
  }
 },
 "nbformat": 4,
 "nbformat_minor": 5
}
