{
 "cells": [
  {
   "cell_type": "markdown",
   "id": "edba471f-f21b-4269-8620-a2fcc4833ea0",
   "metadata": {},
   "source": [
    "### Example of a counter:"
   ]
  },
  {
   "cell_type": "code",
   "execution_count": 2,
   "id": "552598f9-f41b-4981-b8fd-c3f7ab7d28f1",
   "metadata": {},
   "outputs": [
    {
     "name": "stdout",
     "output_type": "stream",
     "text": [
      "3\n",
      "3\n",
      "3\n"
     ]
    }
   ],
   "source": [
    "class Dog:\n",
    "    counter = 0\n",
    "    def __init__(self,name,age):\n",
    "        self.__name = name\n",
    "        self.age = age\n",
    "        Dog.counter += 1 # each time an object is instantiated from this class - the counter increases\n",
    "\n",
    "my_dog = Dog('Bus',9)\n",
    "marks_dog = Dog('Mike',1)\n",
    "chellos_dog = Dog('Chev',6)\n",
    "\n",
    "print(marks_dog.counter)\n",
    "print(my_dog.counter)\n",
    "print(chellos_dog.counter)\n"
   ]
  },
  {
   "cell_type": "markdown",
   "id": "ba5a7519-a173-4aea-90f0-2df31d932e3c",
   "metadata": {},
   "source": [
    "### Not 'reachable' via an object dict:"
   ]
  },
  {
   "cell_type": "code",
   "execution_count": 5,
   "id": "429307f8-81bd-47d6-96f8-6f35421a6276",
   "metadata": {},
   "outputs": [
    {
     "data": {
      "text/plain": [
       "{'_Dog__name': 'Bus', 'age': 9}"
      ]
     },
     "execution_count": 5,
     "metadata": {},
     "output_type": "execute_result"
    }
   ],
   "source": [
    "my_dog.__dict__"
   ]
  },
  {
   "cell_type": "markdown",
   "id": "c1c392ab-f71d-4a07-8c2f-8dc0376d2895",
   "metadata": {},
   "source": [
    "### Accessing class variable:"
   ]
  },
  {
   "cell_type": "code",
   "execution_count": 8,
   "id": "af574386-2aa4-4d89-bfcc-62f39761b2fd",
   "metadata": {},
   "outputs": [
    {
     "name": "stdout",
     "output_type": "stream",
     "text": [
      "3\n"
     ]
    }
   ],
   "source": [
    "print(Dog.counter)"
   ]
  },
  {
   "cell_type": "markdown",
   "id": "cda8822a-5321-42a1-ab03-9c67f3305822",
   "metadata": {},
   "source": [
    "### Private class variables"
   ]
  },
  {
   "cell_type": "code",
   "execution_count": 11,
   "id": "d4433cfe-e0ec-4a09-a001-41bf4c2eccf9",
   "metadata": {},
   "outputs": [],
   "source": [
    "class Dog:\n",
    "    __counter = 0\n",
    "    def __init__(self,name,age):\n",
    "        self.__name = name\n",
    "        self.age = age\n",
    "        Dog.__counter += 1 # each time an object is instantiated from this class - the counter increases"
   ]
  },
  {
   "cell_type": "code",
   "execution_count": 13,
   "id": "6aa345a0-97c3-4107-a467-6baa0e8fa6e1",
   "metadata": {},
   "outputs": [
    {
     "ename": "AttributeError",
     "evalue": "type object 'Dog' has no attribute 'counter'",
     "output_type": "error",
     "traceback": [
      "\u001b[1;31m---------------------------------------------------------------------------\u001b[0m",
      "\u001b[1;31mAttributeError\u001b[0m                            Traceback (most recent call last)",
      "Cell \u001b[1;32mIn[13], line 1\u001b[0m\n\u001b[1;32m----> 1\u001b[0m \u001b[38;5;28mprint\u001b[39m(Dog\u001b[38;5;241m.\u001b[39mcounter)\n",
      "\u001b[1;31mAttributeError\u001b[0m: type object 'Dog' has no attribute 'counter'"
     ]
    }
   ],
   "source": [
    "print(Dog.counter)"
   ]
  },
  {
   "cell_type": "code",
   "execution_count": 17,
   "id": "c1005c30-b063-435d-afd1-174db9e21c00",
   "metadata": {},
   "outputs": [
    {
     "ename": "AttributeError",
     "evalue": "type object 'Dog' has no attribute '__counter'",
     "output_type": "error",
     "traceback": [
      "\u001b[1;31m---------------------------------------------------------------------------\u001b[0m",
      "\u001b[1;31mAttributeError\u001b[0m                            Traceback (most recent call last)",
      "Cell \u001b[1;32mIn[17], line 1\u001b[0m\n\u001b[1;32m----> 1\u001b[0m \u001b[38;5;28mprint\u001b[39m(Dog\u001b[38;5;241m.\u001b[39m__counter)\n",
      "\u001b[1;31mAttributeError\u001b[0m: type object 'Dog' has no attribute '__counter'"
     ]
    }
   ],
   "source": [
    "print(Dog.__counter)"
   ]
  },
  {
   "cell_type": "code",
   "execution_count": 19,
   "id": "849afacd-7fa7-40fb-95c3-0db2298405a8",
   "metadata": {},
   "outputs": [
    {
     "name": "stdout",
     "output_type": "stream",
     "text": [
      "0\n"
     ]
    }
   ],
   "source": [
    "print(Dog._Dog__counter)"
   ]
  },
  {
   "cell_type": "markdown",
   "id": "1f47c724-86bd-4103-82b3-f62cbe73c8dd",
   "metadata": {},
   "source": [
    "## Dict for a class:"
   ]
  },
  {
   "cell_type": "code",
   "execution_count": 22,
   "id": "5130ff51-ed95-4cbe-8fa8-2d5fcca05285",
   "metadata": {},
   "outputs": [
    {
     "name": "stdout",
     "output_type": "stream",
     "text": [
      "{'__module__': '__main__', '_Dog__counter': 0, '__init__': <function Dog.__init__ at 0x000001BB1B1579C0>, '__dict__': <attribute '__dict__' of 'Dog' objects>, '__weakref__': <attribute '__weakref__' of 'Dog' objects>, '__doc__': None}\n"
     ]
    }
   ],
   "source": [
    "print(Dog.__dict__)"
   ]
  },
  {
   "cell_type": "markdown",
   "id": "cd4f2761-4fe9-4513-acbd-a37ccb4b6757",
   "metadata": {},
   "source": [
    "## hasatttr() method:"
   ]
  },
  {
   "cell_type": "code",
   "execution_count": 35,
   "id": "37096546-887e-46c8-b046-4845c8564838",
   "metadata": {},
   "outputs": [
    {
     "name": "stdout",
     "output_type": "stream",
     "text": [
      "indeed it has a private attribute \"name\" with a value of:  Bus\n"
     ]
    }
   ],
   "source": [
    "class Dog:\n",
    "    counter = 0\n",
    "    def __init__(self,name,age):\n",
    "        self.__name = name\n",
    "        self.age = age\n",
    "        Dog.counter += 1 # each time an object is instantiated from this class - the counter increases\n",
    "\n",
    "\n",
    "my_dog = Dog('Bus',9)\n",
    "if hasattr(my_dog,'name'):\n",
    "    print('indeed it has an attribute \"name\" with a value of: ', my_dog.name)\n",
    "elif hasattr(my_dog,'_Dog__name'):\n",
    "    print('indeed it has a private attribute \"name\" with a value of: ', my_dog._Dog__name)\n",
    "else:\n",
    "    print(\"No attribute detected\")"
   ]
  },
  {
   "cell_type": "markdown",
   "id": "0eea4c08-36dd-4aef-bcb1-1ab7f6a2ca73",
   "metadata": {},
   "source": [
    "## Class name method:"
   ]
  },
  {
   "cell_type": "code",
   "execution_count": 38,
   "id": "8dc3ea34-34a9-4389-b420-eea89202d8bf",
   "metadata": {},
   "outputs": [
    {
     "name": "stdout",
     "output_type": "stream",
     "text": [
      "Dog\n"
     ]
    }
   ],
   "source": [
    "print(Dog.__name__)"
   ]
  },
  {
   "cell_type": "markdown",
   "id": "0e494eec-a567-4068-a7f2-c73bffd20027",
   "metadata": {},
   "source": [
    "## Output the name of the class used to instantiate the object:"
   ]
  },
  {
   "cell_type": "code",
   "execution_count": 41,
   "id": "10be7e29-11e0-48b3-8f8f-584ecdbf6fb6",
   "metadata": {},
   "outputs": [
    {
     "data": {
      "text/plain": [
       "'Dog'"
      ]
     },
     "execution_count": 41,
     "metadata": {},
     "output_type": "execute_result"
    }
   ],
   "source": [
    "my_dog = Dog('Jerry',5)\n",
    "\n",
    "type(my_dog).__name__ # type is class - name of class is 'Dog'"
   ]
  },
  {
   "cell_type": "markdown",
   "id": "5316e909-800a-4b96-a01d-cfe3a4f2bfea",
   "metadata": {},
   "source": [
    "## \"Module\" property: "
   ]
  },
  {
   "cell_type": "code",
   "execution_count": 46,
   "id": "b1b8fae1-946f-4458-8f24-399191857fd9",
   "metadata": {},
   "outputs": [
    {
     "name": "stdout",
     "output_type": "stream",
     "text": [
      "__main__\n"
     ]
    }
   ],
   "source": [
    "print(Dog.__module__) # used directly - not by inheritance"
   ]
  },
  {
   "cell_type": "code",
   "execution_count": null,
   "id": "6b110c2f-c9ce-4cec-93dc-ae6c6bd52c6a",
   "metadata": {},
   "outputs": [],
   "source": []
  }
 ],
 "metadata": {
  "kernelspec": {
   "display_name": "Python [conda env:base] *",
   "language": "python",
   "name": "conda-base-py"
  },
  "language_info": {
   "codemirror_mode": {
    "name": "ipython",
    "version": 3
   },
   "file_extension": ".py",
   "mimetype": "text/x-python",
   "name": "python",
   "nbconvert_exporter": "python",
   "pygments_lexer": "ipython3",
   "version": "3.11.5"
  }
 },
 "nbformat": 4,
 "nbformat_minor": 5
}
