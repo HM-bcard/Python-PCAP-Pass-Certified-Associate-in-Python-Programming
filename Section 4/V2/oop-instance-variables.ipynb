{
 "cells": [
  {
   "cell_type": "code",
   "execution_count": 1,
   "id": "2d96b1bb-cc54-4b29-bb91-d09c1ef44875",
   "metadata": {},
   "outputs": [],
   "source": [
    "class Dog:\n",
    "    def __init__(self,name,age):\n",
    "        self.name = name\n",
    "        self.age = age\n",
    "        "
   ]
  },
  {
   "cell_type": "code",
   "execution_count": 3,
   "id": "ff8b45a6-d7b3-40e9-8251-066eb640532d",
   "metadata": {},
   "outputs": [],
   "source": [
    "my_dog = Dog('Mike',2)"
   ]
  },
  {
   "cell_type": "markdown",
   "id": "378c1ab1-de5b-4132-8c8c-5c10739b4bc2",
   "metadata": {},
   "source": [
    "### Creating a new property:"
   ]
  },
  {
   "cell_type": "code",
   "execution_count": 6,
   "id": "ab2b8d37-ebd1-436e-bd62-4b50f22baf37",
   "metadata": {},
   "outputs": [],
   "source": [
    "my_dog.color = 'red'"
   ]
  },
  {
   "cell_type": "markdown",
   "id": "6fe4402f-288e-4f2e-b326-e0490f83e7fe",
   "metadata": {},
   "source": [
    "### Removing a property(bok2)"
   ]
  },
  {
   "cell_type": "code",
   "execution_count": 8,
   "id": "b52d37ce-3743-4c0d-8105-cafba90d2bf7",
   "metadata": {},
   "outputs": [],
   "source": [
    "my_dog.mustache = 'no'"
   ]
  },
  {
   "cell_type": "code",
   "execution_count": 11,
   "id": "85c03b4d-0657-4b35-b84d-fd1337de6d1b",
   "metadata": {},
   "outputs": [],
   "source": [
    "del my_dog.mustache"
   ]
  },
  {
   "cell_type": "code",
   "execution_count": 15,
   "id": "70f07e76-1f05-409e-8c62-96a9ceb6c401",
   "metadata": {},
   "outputs": [
    {
     "ename": "AttributeError",
     "evalue": "type object 'Dog' has no attribute 'args'",
     "output_type": "error",
     "traceback": [
      "\u001b[1;31m---------------------------------------------------------------------------\u001b[0m",
      "\u001b[1;31mAttributeError\u001b[0m                            Traceback (most recent call last)",
      "Cell \u001b[1;32mIn[15], line 1\u001b[0m\n\u001b[1;32m----> 1\u001b[0m \u001b[38;5;28mprint\u001b[39m(Dog\u001b[38;5;241m.\u001b[39margs())\n",
      "\u001b[1;31mAttributeError\u001b[0m: type object 'Dog' has no attribute 'args'"
     ]
    }
   ],
   "source": [
    "print(Dog.args())"
   ]
  },
  {
   "cell_type": "code",
   "execution_count": 17,
   "id": "d167dd9f-aa3b-4ff0-9743-703f5587427c",
   "metadata": {},
   "outputs": [
    {
     "data": {
      "text/plain": [
       "mappingproxy({'__module__': '__main__',\n",
       "              '__init__': <function __main__.Dog.__init__(self, name, age)>,\n",
       "              '__dict__': <attribute '__dict__' of 'Dog' objects>,\n",
       "              '__weakref__': <attribute '__weakref__' of 'Dog' objects>,\n",
       "              '__doc__': None})"
      ]
     },
     "execution_count": 17,
     "metadata": {},
     "output_type": "execute_result"
    }
   ],
   "source": [
    "Dog.__dict__"
   ]
  },
  {
   "cell_type": "code",
   "execution_count": 19,
   "id": "a93e37b2-e9bf-4df4-9260-fa81d4044b99",
   "metadata": {},
   "outputs": [
    {
     "ename": "AttributeError",
     "evalue": "'function' object has no attribute 'dict'",
     "output_type": "error",
     "traceback": [
      "\u001b[1;31m---------------------------------------------------------------------------\u001b[0m",
      "\u001b[1;31mAttributeError\u001b[0m                            Traceback (most recent call last)",
      "Cell \u001b[1;32mIn[19], line 1\u001b[0m\n\u001b[1;32m----> 1\u001b[0m Dog\u001b[38;5;241m.\u001b[39m\u001b[38;5;21m__init__\u001b[39m\u001b[38;5;241m.\u001b[39mdict\n",
      "\u001b[1;31mAttributeError\u001b[0m: 'function' object has no attribute 'dict'"
     ]
    }
   ],
   "source": [
    "Dog.__init__.dict"
   ]
  },
  {
   "cell_type": "code",
   "execution_count": 21,
   "id": "376c5465-f3ac-483e-981e-ac299b6b936b",
   "metadata": {},
   "outputs": [
    {
     "data": {
      "text/plain": [
       "{}"
      ]
     },
     "execution_count": 21,
     "metadata": {},
     "output_type": "execute_result"
    }
   ],
   "source": [
    "Dog.__init__.__dict__"
   ]
  },
  {
   "cell_type": "markdown",
   "id": "907ff266-8b0c-40d6-8332-0ee575d616aa",
   "metadata": {},
   "source": [
    "### Instance properties: "
   ]
  },
  {
   "cell_type": "code",
   "execution_count": 23,
   "id": "b86f7c41-607c-4852-81e6-f185009c0531",
   "metadata": {},
   "outputs": [
    {
     "data": {
      "text/plain": [
       "{'name': 'Mike', 'age': 2, 'color': 'red'}"
      ]
     },
     "execution_count": 23,
     "metadata": {},
     "output_type": "execute_result"
    }
   ],
   "source": [
    "my_dog.__dict__"
   ]
  },
  {
   "cell_type": "code",
   "execution_count": 26,
   "id": "8418d59f-6b86-49c0-8eb2-4ed02d00715a",
   "metadata": {},
   "outputs": [],
   "source": [
    "my_dog.__nose = 'brown'"
   ]
  },
  {
   "cell_type": "code",
   "execution_count": 28,
   "id": "f82e3c12-0a39-401b-bbae-801117c7c737",
   "metadata": {},
   "outputs": [
    {
     "data": {
      "text/plain": [
       "{'name': 'Mike', 'age': 2, 'color': 'red', '__nose': 'brown'}"
      ]
     },
     "execution_count": 28,
     "metadata": {},
     "output_type": "execute_result"
    }
   ],
   "source": [
    "my_dog.__dict__"
   ]
  },
  {
   "cell_type": "code",
   "execution_count": 32,
   "id": "9afb0660-d1be-49b8-825d-86eeada59e92",
   "metadata": {},
   "outputs": [],
   "source": [
    "class Dog:\n",
    "    def __init__(self,name,age):\n",
    "        self.name = name\n",
    "        self.age = age\n",
    "        self.__nose = 'brown' "
   ]
  },
  {
   "cell_type": "code",
   "execution_count": 34,
   "id": "4d4e3e29-c49d-4b77-bd31-b339549b9076",
   "metadata": {},
   "outputs": [],
   "source": [
    "my_dog = Dog('Mike',2)"
   ]
  },
  {
   "cell_type": "markdown",
   "id": "5e73a521-6ad7-48ba-981f-9eacdc3aaf55",
   "metadata": {},
   "source": [
    "### Mangled variable name"
   ]
  },
  {
   "cell_type": "code",
   "execution_count": 36,
   "id": "ed593604-2768-499a-83b1-5bc360c2ac3e",
   "metadata": {},
   "outputs": [
    {
     "data": {
      "text/plain": [
       "{'name': 'Mike', 'age': 2, '_Dog__nose': 'brown'}"
      ]
     },
     "execution_count": 36,
     "metadata": {},
     "output_type": "execute_result"
    }
   ],
   "source": [
    "my_dog.__dict__"
   ]
  },
  {
   "cell_type": "code",
   "execution_count": 39,
   "id": "7101cc70-fa1e-427e-a9f7-371b127c935c",
   "metadata": {},
   "outputs": [
    {
     "ename": "AttributeError",
     "evalue": "'Dog' object has no attribute 'nose'",
     "output_type": "error",
     "traceback": [
      "\u001b[1;31m---------------------------------------------------------------------------\u001b[0m",
      "\u001b[1;31mAttributeError\u001b[0m                            Traceback (most recent call last)",
      "Cell \u001b[1;32mIn[39], line 1\u001b[0m\n\u001b[1;32m----> 1\u001b[0m \u001b[38;5;28mprint\u001b[39m(my_dog\u001b[38;5;241m.\u001b[39mnose)\n",
      "\u001b[1;31mAttributeError\u001b[0m: 'Dog' object has no attribute 'nose'"
     ]
    }
   ],
   "source": [
    "print(my_dog.nose)"
   ]
  },
  {
   "cell_type": "markdown",
   "id": "c8eeb8c1-a6eb-4948-8308-0779120de92e",
   "metadata": {},
   "source": [
    "### Accessing mangled names:"
   ]
  },
  {
   "cell_type": "code",
   "execution_count": 42,
   "id": "a748e96b-795e-4d80-ab1b-ccb16765a040",
   "metadata": {},
   "outputs": [
    {
     "name": "stdout",
     "output_type": "stream",
     "text": [
      "brown\n"
     ]
    }
   ],
   "source": [
    "print(my_dog._Dog__nose)"
   ]
  },
  {
   "cell_type": "code",
   "execution_count": null,
   "id": "f517afdb-e2b8-4da2-8535-73e1d9f7de03",
   "metadata": {},
   "outputs": [],
   "source": []
  }
 ],
 "metadata": {
  "kernelspec": {
   "display_name": "Python [conda env:base] *",
   "language": "python",
   "name": "conda-base-py"
  },
  "language_info": {
   "codemirror_mode": {
    "name": "ipython",
    "version": 3
   },
   "file_extension": ".py",
   "mimetype": "text/x-python",
   "name": "python",
   "nbconvert_exporter": "python",
   "pygments_lexer": "ipython3",
   "version": "3.11.5"
  }
 },
 "nbformat": 4,
 "nbformat_minor": 5
}
