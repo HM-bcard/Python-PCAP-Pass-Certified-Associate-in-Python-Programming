{
 "cells": [
  {
   "cell_type": "code",
   "execution_count": null,
   "id": "d490ed04-cb81-4146-ac76-1d53f9680b11",
   "metadata": {},
   "outputs": [],
   "source": [
    "### What is abstration and encapsulation? \n",
    "\n"
   ]
  },
  {
   "cell_type": "code",
   "execution_count": 26,
   "id": "23d93567-c572-44e7-9f9e-b8bc00801621",
   "metadata": {},
   "outputs": [],
   "source": [
    "class Car:\n",
    "    def __init__(self,model,color,initial_speed):\n",
    "        self.model = model\n",
    "        self.color = color\n",
    "        self.speed = initial_speed\n",
    "    def accelerate(self):\n",
    "        self.speed += 5"
   ]
  },
  {
   "cell_type": "markdown",
   "id": "c4d3758a-e2b4-4b8b-986e-f5016f54d7bd",
   "metadata": {},
   "source": [
    "### My musings"
   ]
  },
  {
   "cell_type": "code",
   "execution_count": 5,
   "id": "77096ea7-69ee-458e-b660-110c9e5e995e",
   "metadata": {},
   "outputs": [],
   "source": [
    "aston = Car('vantage','burgundy',25)"
   ]
  },
  {
   "cell_type": "code",
   "execution_count": 7,
   "id": "6577383d-f69a-4ccb-9ad4-b1088180c5f8",
   "metadata": {},
   "outputs": [
    {
     "name": "stdout",
     "output_type": "stream",
     "text": [
      "burgundy\n"
     ]
    }
   ],
   "source": [
    "print(aston.color)"
   ]
  },
  {
   "cell_type": "code",
   "execution_count": 9,
   "id": "51a4e28c-fa89-47bf-9704-4f36d0aba505",
   "metadata": {},
   "outputs": [],
   "source": [
    "aston.accelerate()"
   ]
  },
  {
   "cell_type": "code",
   "execution_count": 12,
   "id": "121de009-20f3-49c5-9f48-f4dd1bfc87d3",
   "metadata": {},
   "outputs": [
    {
     "name": "stdout",
     "output_type": "stream",
     "text": [
      "30\n"
     ]
    }
   ],
   "source": [
    "print(aston.speed)"
   ]
  },
  {
   "cell_type": "markdown",
   "id": "025a3e69-67ff-424e-afcd-cca996bdcd1c",
   "metadata": {},
   "source": [
    "### end of my musings"
   ]
  },
  {
   "cell_type": "markdown",
   "id": "9b56b886-fd35-4b2f-a51d-b2b79ddf44af",
   "metadata": {},
   "source": [
    "### Initial argument value:"
   ]
  },
  {
   "cell_type": "code",
   "execution_count": 34,
   "id": "b47a9074-8017-425b-8544-753d5b2f5967",
   "metadata": {},
   "outputs": [],
   "source": [
    "class Car:\n",
    "    def __init__(self,model,color,initial_speed = 0):\n",
    "        self.model = model\n",
    "        self.color = color\n",
    "        if initial_speed < 0:\n",
    "            self.speed = 0\n",
    "        else:\n",
    "            self.speed = initial_speed\n",
    "    def accelerate(self):\n",
    "        self.speed += 5\n",
    "    def slow_down(self):\n",
    "        if self.speed < 5:\n",
    "            self.speed = 0\n",
    "        else:\n",
    "            speed -= 5\n",
    "    def show_speed(speed):\n",
    "        print(\"The speed is: \",self.speed)"
   ]
  },
  {
   "cell_type": "code",
   "execution_count": 36,
   "id": "5ba227db-436d-4643-b734-47c0d7e79318",
   "metadata": {},
   "outputs": [],
   "source": [
    "aston = Car('vantage','burgundy')"
   ]
  },
  {
   "cell_type": "markdown",
   "id": "220a4000-85d2-46f0-987b-6ffcaaa1844e",
   "metadata": {},
   "source": [
    "### Private properties:\n",
    "\n",
    "Not selectable via the 'dot' notation by a user"
   ]
  },
  {
   "cell_type": "code",
   "execution_count": 67,
   "id": "862315bd-bc79-4ae7-a38c-9bdeddf0bf13",
   "metadata": {},
   "outputs": [],
   "source": [
    "class Car:\n",
    "    def __init__(self,model,color,initial_speed = 0):\n",
    "        self.model = model\n",
    "        self.color = color\n",
    "        if initial_speed < 0:\n",
    "            self.__speed = 0 # mangled value(private)\n",
    "        else:\n",
    "            self.__speed = initial_speed\n",
    "    def accelerate(self):\n",
    "        self.__speed += 5\n",
    "    def slow_down(self):\n",
    "        if self.__speed < 5:\n",
    "            self.__speed = 0\n",
    "        else:\n",
    "            self.__speed -= 5\n",
    "    def show_speed(self):\n",
    "        print(\"The speed is: \",self.__speed)"
   ]
  },
  {
   "cell_type": "code",
   "execution_count": 75,
   "id": "a0865672-347f-464c-9aa4-0680e0f5bf32",
   "metadata": {},
   "outputs": [],
   "source": [
    "astonM = Car('vantage','burgundy')\n",
    "astonM.speed = -10 # we couldn't change it but we created a new one"
   ]
  },
  {
   "cell_type": "code",
   "execution_count": 73,
   "id": "b5dc2089-4ea7-4e85-b44f-1597460dd51d",
   "metadata": {},
   "outputs": [
    {
     "name": "stdout",
     "output_type": "stream",
     "text": [
      "The speed is:  0\n"
     ]
    }
   ],
   "source": [
    "astonM.show_speed()"
   ]
  },
  {
   "cell_type": "markdown",
   "id": "ec4b07a9-1a06-470a-a94a-2cf96966d308",
   "metadata": {},
   "source": [
    "### OOP main principles:\n",
    "\n",
    "1.Encapsulation\n",
    "\n",
    "2.Abstraction\n",
    "\n",
    "3.Inheritance\n",
    "\n",
    "4.Polymorphism"
   ]
  },
  {
   "cell_type": "code",
   "execution_count": null,
   "id": "65fce4f2-df40-4305-8f60-a05b72d44204",
   "metadata": {},
   "outputs": [],
   "source": []
  }
 ],
 "metadata": {
  "kernelspec": {
   "display_name": "Python [conda env:base] *",
   "language": "python",
   "name": "conda-base-py"
  },
  "language_info": {
   "codemirror_mode": {
    "name": "ipython",
    "version": 3
   },
   "file_extension": ".py",
   "mimetype": "text/x-python",
   "name": "python",
   "nbconvert_exporter": "python",
   "pygments_lexer": "ipython3",
   "version": "3.11.5"
  }
 },
 "nbformat": 4,
 "nbformat_minor": 5
}
