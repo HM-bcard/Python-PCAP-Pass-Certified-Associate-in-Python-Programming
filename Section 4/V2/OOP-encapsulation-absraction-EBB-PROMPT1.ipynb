{
 "cells": [
  {
   "cell_type": "markdown",
   "id": "c47b2bb5-e8fa-464c-82c1-76c69ccd701a",
   "metadata": {},
   "source": [
    "### Car class from memory with provate speed method and default speed value"
   ]
  },
  {
   "cell_type": "code",
   "execution_count": null,
   "id": "dc3e92f5-d9ac-4c99-9881-3b48c87852b3",
   "metadata": {},
   "outputs": [],
   "source": []
  },
  {
   "cell_type": "code",
   "execution_count": null,
   "id": "a1c0346b-06fa-470e-b405-038504b76d1f",
   "metadata": {},
   "outputs": [],
   "source": []
  },
  {
   "cell_type": "markdown",
   "id": "3f4e49f5-b774-4c8b-b17c-bce0c34cee30",
   "metadata": {},
   "source": [
    "### Main OOP tenets:"
   ]
  },
  {
   "cell_type": "code",
   "execution_count": null,
   "id": "d00005f2-6b33-40fc-ba21-e82e6f84437e",
   "metadata": {},
   "outputs": [],
   "source": []
  }
 ],
 "metadata": {
  "kernelspec": {
   "display_name": "Python [conda env:base] *",
   "language": "python",
   "name": "conda-base-py"
  },
  "language_info": {
   "codemirror_mode": {
    "name": "ipython",
    "version": 3
   },
   "file_extension": ".py",
   "mimetype": "text/x-python",
   "name": "python",
   "nbconvert_exporter": "python",
   "pygments_lexer": "ipython3",
   "version": "3.11.5"
  }
 },
 "nbformat": 4,
 "nbformat_minor": 5
}
