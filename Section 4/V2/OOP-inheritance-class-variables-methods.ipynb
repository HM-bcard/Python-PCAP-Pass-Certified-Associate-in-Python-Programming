{
 "cells": [
  {
   "cell_type": "code",
   "execution_count": 1,
   "id": "ff13e3fb-8da0-4d7d-a00a-71f22a256e4e",
   "metadata": {},
   "outputs": [],
   "source": [
    "class Vehicle:\n",
    "    def __init__(self,speed):\n",
    "        self.speed = speed\n",
    "class LandVehicle(Vehicle):\n",
    "    def __init__(self,speed,wheel_count): # after providing a new constructor to the subclass - not all arguments from the superclass need to be satisfied\n",
    "        super().__init__(speed) # invoking the superclass- no constructor(self)\n",
    "        self.wheel_count = wheel_count\n",
    "class Car(LandVehicle):\n",
    "    pass"
   ]
  },
  {
   "cell_type": "markdown",
   "id": "e83a5f6f-e783-4843-9299-651a6d29d1a5",
   "metadata": {},
   "source": [
    "### class variables:"
   ]
  },
  {
   "cell_type": "code",
   "execution_count": 4,
   "id": "8f89b999-0718-491e-9ea3-c40522370b7d",
   "metadata": {},
   "outputs": [],
   "source": [
    "class Vehicle:\n",
    "    class_message = 'Message from the super class'\n",
    "    def __init__(self,speed):\n",
    "        self.speed = speed\n",
    "class LandVehicle(Vehicle):\n",
    "    def __init__(self,speed,wheel_count): # after providing a new constructor to the subclass - not all arguments from the superclass need to be satisfied\n",
    "        super().__init__(speed) # invoking the superclass- no constructor(self)\n",
    "        self.wheel_count = wheel_count\n",
    "        print(Vehicle.class_message)\n",
    "class Car(LandVehicle):\n",
    "    pass"
   ]
  },
  {
   "cell_type": "code",
   "execution_count": 6,
   "id": "143b9dee-89af-4b30-a1a2-964759447741",
   "metadata": {},
   "outputs": [
    {
     "name": "stdout",
     "output_type": "stream",
     "text": [
      "Message from the super class\n"
     ]
    }
   ],
   "source": [
    "my_car = Car(50,4) # the object of class Car prints the message of it's superclass when instantiated"
   ]
  },
  {
   "cell_type": "markdown",
   "id": "20eff6f1-d61c-4556-a89d-b3867ecb8c3e",
   "metadata": {},
   "source": [
    "### Invoking class variables with the super keyword:"
   ]
  },
  {
   "cell_type": "code",
   "execution_count": 10,
   "id": "acc8929c-8e35-442b-9d0d-b18694fee2e4",
   "metadata": {},
   "outputs": [],
   "source": [
    "class Vehicle:\n",
    "    class_message = 'Message from the super class'\n",
    "    def __init__(self,speed):\n",
    "        self.speed = speed\n",
    "class LandVehicle(Vehicle):\n",
    "    def __init__(self,speed,wheel_count): # after providing a new constructor to the subclass - not all arguments from the superclass need to be satisfied\n",
    "        super().__init__(speed) # invoking the superclass- no constructor(self)\n",
    "        self.wheel_count = wheel_count\n",
    "        print(super().class_message)\n",
    "    def speed_up(self):\n",
    "        self.speed += 5\n",
    "class Car(LandVehicle):\n",
    "    def super_speed(self)\n",
    "    print(\"SUPERSPEED\")\n",
    "    super().speed_up()\n",
    "    super().speed_up()\n",
    "    super().speed_up()"
   ]
  },
  {
   "cell_type": "code",
   "execution_count": 12,
   "id": "2bf083fd-80ca-4440-90ed-31fe1037abbe",
   "metadata": {},
   "outputs": [
    {
     "name": "stdout",
     "output_type": "stream",
     "text": [
      "Message from the super class\n"
     ]
    }
   ],
   "source": [
    "my_car = Car(50,4)"
   ]
  },
  {
   "cell_type": "markdown",
   "id": "9d65b767-39b1-4f3e-b893-aa00e58da3f8",
   "metadata": {},
   "source": [
    "### Accessing via dot notation:"
   ]
  },
  {
   "cell_type": "code",
   "execution_count": 17,
   "id": "a317f9f3-0474-4456-bc94-99d52c47cc19",
   "metadata": {},
   "outputs": [
    {
     "data": {
      "text/plain": [
       "'Message from the super class'"
      ]
     },
     "execution_count": 17,
     "metadata": {},
     "output_type": "execute_result"
    }
   ],
   "source": [
    "my_car.class_message"
   ]
  },
  {
   "cell_type": "markdown",
   "id": "6ae7badf-c36e-43de-b9a9-a4560086816f",
   "metadata": {},
   "source": [
    "### Inheriting methods from the superclass:"
   ]
  },
  {
   "cell_type": "code",
   "execution_count": 22,
   "id": "205f2108-0075-425e-832a-f9353ff044b1",
   "metadata": {},
   "outputs": [],
   "source": [
    "class Vehicle:\n",
    "    class_message = 'Message from the super class'\n",
    "    def __init__(self,speed):\n",
    "        self.speed = speed\n",
    "class LandVehicle(Vehicle):\n",
    "    def __init__(self,speed,wheel_count): # after providing a new constructor to the subclass - not all arguments from the superclass need to be satisfied\n",
    "        super().__init__(speed) # invoking the superclass- no constructor(self)\n",
    "        self.wheel_count = wheel_count\n",
    "        print(super().class_message)\n",
    "    def speed_up(self):\n",
    "        self.speed += 5\n",
    "class Car(LandVehicle):\n",
    "    def super_speed(self):\n",
    "        print(\"SUPERSPEED\")\n",
    "        super().speed_up()\n",
    "        super().speed_up()\n",
    "        super().speed_up()"
   ]
  },
  {
   "cell_type": "code",
   "execution_count": 24,
   "id": "2c40286f-b031-4250-8fd0-c83d4a39b4fd",
   "metadata": {},
   "outputs": [
    {
     "name": "stdout",
     "output_type": "stream",
     "text": [
      "Message from the super class\n"
     ]
    }
   ],
   "source": [
    "fastcar = Car(170,4)"
   ]
  },
  {
   "cell_type": "code",
   "execution_count": 26,
   "id": "7e14f0ee-e148-4e79-99cb-1f2a97c927bb",
   "metadata": {},
   "outputs": [
    {
     "name": "stdout",
     "output_type": "stream",
     "text": [
      "170\n"
     ]
    }
   ],
   "source": [
    "print(fastcar.speed)"
   ]
  },
  {
   "cell_type": "code",
   "execution_count": 28,
   "id": "66cfa683-5ec8-4d24-8bcf-78b58da2b8df",
   "metadata": {},
   "outputs": [
    {
     "data": {
      "text/plain": [
       "<bound method LandVehicle.speed_up of <__main__.Car object at 0x000001FFDDACF210>>"
      ]
     },
     "execution_count": 28,
     "metadata": {},
     "output_type": "execute_result"
    }
   ],
   "source": [
    "fastcar.speed_up"
   ]
  },
  {
   "cell_type": "code",
   "execution_count": 30,
   "id": "48d5c91b-c2da-47e1-b0bc-f2a70bc8c17a",
   "metadata": {},
   "outputs": [],
   "source": [
    "fastcar.speed_up()"
   ]
  },
  {
   "cell_type": "code",
   "execution_count": 32,
   "id": "4ef44da1-038e-4f90-9445-01d8763a446c",
   "metadata": {},
   "outputs": [
    {
     "name": "stdout",
     "output_type": "stream",
     "text": [
      "SUPERSPEED\n"
     ]
    }
   ],
   "source": [
    "fastcar.super_speed()"
   ]
  },
  {
   "cell_type": "code",
   "execution_count": 34,
   "id": "60597bb7-c276-4032-b718-0a54216d84e7",
   "metadata": {},
   "outputs": [
    {
     "name": "stdout",
     "output_type": "stream",
     "text": [
      "190\n"
     ]
    }
   ],
   "source": [
    "print(fastcar.speed)"
   ]
  },
  {
   "cell_type": "code",
   "execution_count": null,
   "id": "e39dc2a5-e8f7-4b2b-83fe-574dd014cdfc",
   "metadata": {},
   "outputs": [],
   "source": []
  }
 ],
 "metadata": {
  "kernelspec": {
   "display_name": "Python [conda env:base] *",
   "language": "python",
   "name": "conda-base-py"
  },
  "language_info": {
   "codemirror_mode": {
    "name": "ipython",
    "version": 3
   },
   "file_extension": ".py",
   "mimetype": "text/x-python",
   "name": "python",
   "nbconvert_exporter": "python",
   "pygments_lexer": "ipython3",
   "version": "3.11.5"
  }
 },
 "nbformat": 4,
 "nbformat_minor": 5
}
