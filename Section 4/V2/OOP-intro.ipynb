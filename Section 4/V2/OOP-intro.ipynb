{
 "cells": [
  {
   "cell_type": "code",
   "execution_count": null,
   "id": "ea169895-1323-44d3-a7d6-914b4d6fa74f",
   "metadata": {},
   "outputs": [],
   "source": [
    "#OOP INTRO - BOK "
   ]
  },
  {
   "cell_type": "markdown",
   "id": "797d59bb-70de-43fb-83ee-c60e844da76c",
   "metadata": {},
   "source": [
    "## Procedural vs Functional vs Objective(bok 4)\n",
    "\n",
    "### Procedural\n",
    "In procedural programming we call functions that work on data(1)\n",
    "\n",
    "###OOP\n",
    "In object oriented programming data and functions are kept together in objects(2)\n",
    "    \n",
    "    -Data inside objects are called: properties, attributes or fields(3)\n",
    "\n",
    "    -Functions inside objects are called methods (4) which can interact with each other(5)"
   ]
  },
  {
   "cell_type": "markdown",
   "id": "280232bb-1970-432f-8120-0efce8cedbde",
   "metadata": {},
   "source": [
    "### Procedural example(6):"
   ]
  },
  {
   "cell_type": "code",
   "execution_count": 1,
   "id": "54329058-4701-4d53-bcff-e7699eb8588d",
   "metadata": {},
   "outputs": [
    {
     "name": "stdin",
     "output_type": "stream",
     "text": [
      "What is the width?  1\n",
      "What is the height?  1\n"
     ]
    },
    {
     "name": "stdout",
     "output_type": "stream",
     "text": [
      "1\n"
     ]
    }
   ],
   "source": [
    "def calculate_area(width,height):\n",
    "    return width * height\n",
    "\n",
    "width = int(input(\"What is the width? \"))\n",
    "height = int(input(\"What is the height? \"))\n",
    "are = calculate_area(width,height)\n",
    "print(are)"
   ]
  },
  {
   "cell_type": "markdown",
   "id": "f92af804-4265-4f26-bfee-6b02f3334431",
   "metadata": {},
   "source": [
    "### PRocedural example 2"
   ]
  },
  {
   "cell_type": "code",
   "execution_count": 4,
   "id": "1f7d32f7-2738-4357-bcbd-08e5ee6a97a8",
   "metadata": {},
   "outputs": [
    {
     "name": "stdin",
     "output_type": "stream",
     "text": [
      "What is the width?  1\n",
      "What is the height?  2\n"
     ]
    },
    {
     "name": "stdout",
     "output_type": "stream",
     "text": [
      "The area is 2\n"
     ]
    },
    {
     "name": "stdin",
     "output_type": "stream",
     "text": [
      "What is your age? 25\n"
     ]
    },
    {
     "name": "stdout",
     "output_type": "stream",
     "text": [
      "Your age multiplied by height is 50\n"
     ]
    }
   ],
   "source": [
    "def calculate_area(width,height):\n",
    "    return width * height\n",
    "\n",
    "width = int(input(\"What is the width? \"))\n",
    "height = int(input(\"What is the height? \"))\n",
    "are = calculate_area(width,height)\n",
    "print(\"The area is\",are)\n",
    "\n",
    "age = int(input(\"What is your age?\"))\n",
    "calculate = calculate_area(age,height)\n",
    "print(\"Your age multiplied by height is\",calculate)\n",
    "          "
   ]
  },
  {
   "cell_type": "markdown",
   "id": "9e4ec335-886d-4da5-986f-6cff196db960",
   "metadata": {},
   "source": [
    "### OOP example:"
   ]
  },
  {
   "cell_type": "code",
   "execution_count": 12,
   "id": "a5453c01-4a31-436b-8ce6-33d35a1113ea",
   "metadata": {},
   "outputs": [
    {
     "name": "stdin",
     "output_type": "stream",
     "text": [
      "width: 4\n",
      "height:  4\n"
     ]
    },
    {
     "name": "stdout",
     "output_type": "stream",
     "text": [
      "The area is 16\n"
     ]
    }
   ],
   "source": [
    "class rectangle:\n",
    "    def __init__(self,height,width):\n",
    "        self.width = width\n",
    "        self.height = height \n",
    "\n",
    "    def area(self): # takes the width and height from the main by calling self\n",
    "        return self.width * self.height\n",
    "\n",
    "a = int(input(\"width:\" ))\n",
    "b = int(input(\"height: \"))\n",
    "\n",
    "rectangle_1 = rectangle(a,b)\n",
    "print(\"The area is\",rectangle_1.area())\n",
    "\n"
   ]
  },
  {
   "cell_type": "code",
   "execution_count": null,
   "id": "aad17681-4c60-43b8-a014-559844642c97",
   "metadata": {},
   "outputs": [],
   "source": []
  }
 ],
 "metadata": {
  "kernelspec": {
   "display_name": "Python [conda env:base] *",
   "language": "python",
   "name": "conda-base-py"
  },
  "language_info": {
   "codemirror_mode": {
    "name": "ipython",
    "version": 3
   },
   "file_extension": ".py",
   "mimetype": "text/x-python",
   "name": "python",
   "nbconvert_exporter": "python",
   "pygments_lexer": "ipython3",
   "version": "3.11.5"
  }
 },
 "nbformat": 4,
 "nbformat_minor": 5
}
