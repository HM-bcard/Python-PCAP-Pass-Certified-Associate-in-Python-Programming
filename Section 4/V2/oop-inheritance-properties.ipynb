{
 "cells": [
  {
   "cell_type": "code",
   "execution_count": null,
   "id": "b1649396-1bd5-4daf-9c6a-08f208d48e3c",
   "metadata": {},
   "outputs": [],
   "source": [
    "class Vehicle:\n",
    "    pass\n",
    "class LandVehicle(Vehicle):\n",
    "    pass\n",
    "class Car(LandVehicle):\n",
    "    pass"
   ]
  },
  {
   "cell_type": "markdown",
   "id": "ded28ad3-257c-4063-9465-9e5f7b82a7ef",
   "metadata": {},
   "source": [
    "Vehicle example:\n"
   ]
  },
  {
   "cell_type": "code",
   "execution_count": null,
   "id": "2bc23469-bdff-4be1-8fff-7918b9c6262d",
   "metadata": {},
   "outputs": [],
   "source": [
    "car1 = Car()\n",
    "print(car1.__dict__)"
   ]
  },
  {
   "cell_type": "code",
   "execution_count": 10,
   "id": "8802eb84-aba6-43fd-952f-fd23dbcd7544",
   "metadata": {},
   "outputs": [],
   "source": [
    "class Vehicle:\n",
    "    def __init__(self,speed):\n",
    "        self.speed = speed\n",
    "class LandVehicle(Vehicle):\n",
    "    def __init__(self,wheel_count):\n",
    "        self.wheel_count = wheel_count\n",
    "class Car(LandVehicle):\n",
    "    pass"
   ]
  },
  {
   "cell_type": "code",
   "execution_count": 4,
   "id": "69cecc08-3918-4829-a0c6-7e94410990e7",
   "metadata": {},
   "outputs": [
    {
     "ename": "TypeError",
     "evalue": "Vehicle.__init__() missing 1 required positional argument: 'speed'",
     "output_type": "error",
     "traceback": [
      "\u001b[1;31m---------------------------------------------------------------------------\u001b[0m",
      "\u001b[1;31mTypeError\u001b[0m                                 Traceback (most recent call last)",
      "Cell \u001b[1;32mIn[4], line 1\u001b[0m\n\u001b[1;32m----> 1\u001b[0m car1 \u001b[38;5;241m=\u001b[39m Car()\n\u001b[0;32m      2\u001b[0m \u001b[38;5;28mprint\u001b[39m(car1\u001b[38;5;241m.\u001b[39m\u001b[38;5;18m__dict__\u001b[39m)\n",
      "\u001b[1;31mTypeError\u001b[0m: Vehicle.__init__() missing 1 required positional argument: 'speed'"
     ]
    }
   ],
   "source": [
    "car1 = Car()\n",
    "print(car1.__dict__)"
   ]
  },
  {
   "cell_type": "code",
   "execution_count": null,
   "id": "fe302d3a-4db9-4c4f-a5f0-94e0d0ac9c18",
   "metadata": {},
   "outputs": [],
   "source": [
    "### providing the argument for the superclass:"
   ]
  },
  {
   "cell_type": "code",
   "execution_count": 8,
   "id": "d53900fe-09d1-4722-a98c-114d63d3395c",
   "metadata": {},
   "outputs": [
    {
     "name": "stdout",
     "output_type": "stream",
     "text": [
      "{'speed': 5}\n"
     ]
    }
   ],
   "source": [
    "car1 = Car(5)\n",
    "print(car1.__dict__)"
   ]
  },
  {
   "cell_type": "code",
   "execution_count": 16,
   "id": "787bb24a-19ed-48e6-870a-803b0d756fae",
   "metadata": {},
   "outputs": [],
   "source": [
    "class Vehicle:\n",
    "    def __init__(self,speed):\n",
    "        self.speed = speed\n",
    "class LandVehicle(Vehicle):\n",
    "    def __init__(self,wheel_count): # after providing a new constructor to the subclass - not all arguments from the superclass need to be satisfied\n",
    "        self.wheel_count = wheel_count\n",
    "class Car(LandVehicle):\n",
    "    pass"
   ]
  },
  {
   "cell_type": "code",
   "execution_count": 18,
   "id": "7ad4ac5b-c051-4f46-b091-6a124258ffd5",
   "metadata": {},
   "outputs": [
    {
     "name": "stdout",
     "output_type": "stream",
     "text": [
      "{'wheel_count': 5}\n"
     ]
    }
   ],
   "source": [
    "car1 = Car(5)\n",
    "print(car1.__dict__)"
   ]
  },
  {
   "cell_type": "markdown",
   "id": "3e4a6d88-f5dc-44e9-bd9c-f85ae05e575b",
   "metadata": {},
   "source": [
    "### Invoking the superclass within a constructor of a subclass without the super() method"
   ]
  },
  {
   "cell_type": "code",
   "execution_count": 31,
   "id": "8ab7f59e-bd8b-4cc3-9133-bd1c4580a9bd",
   "metadata": {},
   "outputs": [],
   "source": [
    "class Vehicle:\n",
    "    def __init__(self,speed):\n",
    "        self.speed = speed\n",
    "class LandVehicle(Vehicle):\n",
    "    def __init__(self,speed,wheel_count): # after providing a new constructor to the subclass - not all arguments from the superclass need to be satisfied\n",
    "        Vehicle.__init__(self,speed) # creating a constructor for the superclass\n",
    "        self.wheel_count = wheel_count\n",
    "class Car(LandVehicle):\n",
    "    pass"
   ]
  },
  {
   "cell_type": "code",
   "execution_count": 33,
   "id": "a8d71642-de1d-4cc6-81d8-d085f1037a00",
   "metadata": {},
   "outputs": [
    {
     "name": "stdout",
     "output_type": "stream",
     "text": [
      "{'speed': '65kmh', 'wheel_count': 4}\n"
     ]
    }
   ],
   "source": [
    "car1 = Car('65kmh',4)\n",
    "print(car1.__dict__)"
   ]
  },
  {
   "cell_type": "markdown",
   "id": "9bfe377c-ae18-46b9-84e2-fb60da9fd109",
   "metadata": {},
   "source": [
    "### super() keyword:"
   ]
  },
  {
   "cell_type": "code",
   "execution_count": 45,
   "id": "abce5b98-50f6-4fcc-aad7-3831f3a21849",
   "metadata": {},
   "outputs": [],
   "source": [
    "class Vehicle:\n",
    "    def __init__(self,speed):\n",
    "        self.speed = speed\n",
    "class LandVehicle(Vehicle):\n",
    "    def __init__(self,speed,wheel_count): # after providing a new constructor to the subclass - not all arguments from the superclass need to be satisfied\n",
    "        super().__init__(speed) # invoking the superclass- no constructor(self)\n",
    "        self.wheel_count = wheel_count\n",
    "class Car(LandVehicle):\n",
    "    pass"
   ]
  },
  {
   "cell_type": "code",
   "execution_count": 47,
   "id": "084a8bcb-090c-468e-9091-9a14f880de00",
   "metadata": {},
   "outputs": [
    {
     "name": "stdout",
     "output_type": "stream",
     "text": [
      "{'speed': '65kmh', 'wheel_count': 4}\n"
     ]
    }
   ],
   "source": [
    "car1 = Car('65kmh',4)\n",
    "print(car1.__dict__)"
   ]
  },
  {
   "cell_type": "code",
   "execution_count": null,
   "id": "1d6da107-fc50-45f3-a508-6f401b78f0af",
   "metadata": {},
   "outputs": [],
   "source": []
  },
  {
   "cell_type": "code",
   "execution_count": null,
   "id": "ba1f7423-ac49-463c-9873-e61ce0ecf9fa",
   "metadata": {},
   "outputs": [],
   "source": []
  }
 ],
 "metadata": {
  "kernelspec": {
   "display_name": "Python [conda env:base] *",
   "language": "python",
   "name": "conda-base-py"
  },
  "language_info": {
   "codemirror_mode": {
    "name": "ipython",
    "version": 3
   },
   "file_extension": ".py",
   "mimetype": "text/x-python",
   "name": "python",
   "nbconvert_exporter": "python",
   "pygments_lexer": "ipython3",
   "version": "3.11.5"
  }
 },
 "nbformat": 4,
 "nbformat_minor": 5
}
