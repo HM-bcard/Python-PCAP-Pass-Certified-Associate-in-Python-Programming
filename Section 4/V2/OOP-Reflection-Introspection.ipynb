{
 "cells": [
  {
   "cell_type": "markdown",
   "id": "580929cc-6424-4a8c-8ab9-cc177b4d4152",
   "metadata": {},
   "source": [
    "### Introspection:\n",
    "The ability of a program to check the type of an object or it's properties at runtime"
   ]
  },
  {
   "cell_type": "markdown",
   "id": "c850663e-80fa-4bcf-ae0c-610deb4da65b",
   "metadata": {},
   "source": [
    "### Reflection:\n",
    "\n",
    "Is the ability of a program to change the properties or methods of an object at runtime\n"
   ]
  },
  {
   "cell_type": "markdown",
   "id": "71318466-fc66-43cc-b84c-7ebfabb70503",
   "metadata": {},
   "source": [
    "## task: Creating a function that modifies all string properties of any object by turning them into empty strings:"
   ]
  },
  {
   "cell_type": "code",
   "execution_count": 8,
   "id": "3f145e02-0ab7-464b-9d61-37d3598cd7cc",
   "metadata": {},
   "outputs": [],
   "source": [
    "def empty(object):\n",
    "    for property in object.__dict__.keys(): # standard dictionary method\n",
    "        property_value = getattr(object,property) # gets the attributes of the objects property\n",
    "        if isinstance(property_value,str): # if there is a string withing one of the objects properties:\n",
    "            setattr(object,property,'') # it is set to an empty string"
   ]
  },
  {
   "cell_type": "code",
   "execution_count": 10,
   "id": "d76baddb-3172-4b70-805a-a58b9db6e2cf",
   "metadata": {},
   "outputs": [],
   "source": [
    "class Doctor():\n",
    "    def __init__(self,first_name = 'John',last_name = 'Smith'):\n",
    "        self.first_name = first_name\n",
    "        self.last_name = last_name\n",
    "        self.__format_names() # creating a placeholder for a method\n",
    "\n",
    "    def __format_names(self): # defining the method\n",
    "        self.first_name = self.first_name.title()\n",
    "        self.last_name = self.last_name.title()\n",
    "\n",
    "    def introduce(self):\n",
    "        print('Hi I am', self.first_name)\n",
    "\n",
    "    def compare_name(self,name_to_compare):\n",
    "        if self.first_name == name_to_compare:\n",
    "            print('We have the same name!')\n",
    "        else:\n",
    "            print('We don\\'t have the same name')\n",
    "\n",
    "    def get_first_last_name_together(self):\n",
    "        return self.first_name + ' ' + self.last_name\n",
    "\n",
    "    def __str__(self): # redefining the str mwethod\n",
    "        return \"doctor \" + self.first_name + ' '+  self.last_name\n"
   ]
  },
  {
   "cell_type": "code",
   "execution_count": 18,
   "id": "032e106c-1775-4518-ae53-e123e54bb47d",
   "metadata": {},
   "outputs": [],
   "source": [
    "doc1 = Doctor()"
   ]
  },
  {
   "cell_type": "code",
   "execution_count": 20,
   "id": "22896117-0cc7-4899-9f65-da5fe4e84596",
   "metadata": {},
   "outputs": [],
   "source": [
    "empty(doc1)"
   ]
  },
  {
   "cell_type": "code",
   "execution_count": 22,
   "id": "dbca56c3-8348-4a4f-ac5c-1d0bccef96a4",
   "metadata": {},
   "outputs": [
    {
     "name": "stdout",
     "output_type": "stream",
     "text": [
      "Hi I am \n"
     ]
    }
   ],
   "source": [
    "doc1.introduce()"
   ]
  },
  {
   "cell_type": "code",
   "execution_count": null,
   "id": "ea37326a-76b3-473b-913e-4fabb3fb2390",
   "metadata": {},
   "outputs": [],
   "source": []
  }
 ],
 "metadata": {
  "kernelspec": {
   "display_name": "Python [conda env:base] *",
   "language": "python",
   "name": "conda-base-py"
  },
  "language_info": {
   "codemirror_mode": {
    "name": "ipython",
    "version": 3
   },
   "file_extension": ".py",
   "mimetype": "text/x-python",
   "name": "python",
   "nbconvert_exporter": "python",
   "pygments_lexer": "ipython3",
   "version": "3.11.5"
  }
 },
 "nbformat": 4,
 "nbformat_minor": 5
}
