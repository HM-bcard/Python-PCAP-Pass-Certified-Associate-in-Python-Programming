{
 "cells": [
  {
   "cell_type": "code",
   "execution_count": 1,
   "id": "d00819ef-91ec-4d76-99e7-16021aa0085d",
   "metadata": {},
   "outputs": [],
   "source": [
    "### "
   ]
  },
  {
   "cell_type": "code",
   "execution_count": 7,
   "id": "5741a390-94e3-482e-acff-6598cf5e943b",
   "metadata": {},
   "outputs": [
    {
     "name": "stdout",
     "output_type": "stream",
     "text": [
      "Hello,I am sampleusername and i'm from sampleCity\n"
     ]
    }
   ],
   "source": [
    "class User:\n",
    "    def __init__(self): # constructor , init - initiates , self -point to the object created\n",
    "        self.username = 'sampleusername'\n",
    "        self.city = 'sampleCity' # dot notation is used to point to a method of a variable(the object itself-self)\n",
    "    def introduce(self):\n",
    "        print(\"Hello,I am\", self.username, \"and i'm from\", self.city)\n",
    "\n",
    "sample_user = User() # calling the constructor \n",
    "sample_user.introduce() # calling the introduce method"
   ]
  },
  {
   "cell_type": "markdown",
   "id": "08d96c2a-ef1c-4225-9900-1560ede8c38c",
   "metadata": {},
   "source": [
    "### calling attributes"
   ]
  },
  {
   "cell_type": "code",
   "execution_count": 12,
   "id": "178eb02c-3475-4c7d-9084-487e7e936290",
   "metadata": {},
   "outputs": [
    {
     "name": "stdout",
     "output_type": "stream",
     "text": [
      "sampleusername\n",
      "sampleCity\n"
     ]
    }
   ],
   "source": [
    "print(sample_user.username)\n",
    "print(sample_user.city)"
   ]
  },
  {
   "cell_type": "markdown",
   "id": "7ece443d-2930-49d4-9c10-eea6745f35bf",
   "metadata": {},
   "source": [
    "### No default values:"
   ]
  },
  {
   "cell_type": "code",
   "execution_count": 17,
   "id": "57312d24-8759-47ae-af1f-d6f0df40ac66",
   "metadata": {},
   "outputs": [
    {
     "name": "stdout",
     "output_type": "stream",
     "text": [
      "Hello,I am Bob and i'm from San Jose\n"
     ]
    }
   ],
   "source": [
    "class User:\n",
    "    def __init__(self,username,city): # constructor , init - initiates , self -point to the object created\n",
    "        self.username = username\n",
    "        self.city = city # dot notation is used to point to a method of a variable(the object itself-self)\n",
    "    def introduce(self):\n",
    "        print(\"Hello,I am\", self.username, \"and i'm from\", self.city)\n",
    "\n",
    "sample_user = User(\"Bob\",\"San Jose\") # calling the constructor \n",
    "sample_user.introduce() # calling the introduce method"
   ]
  },
  {
   "cell_type": "code",
   "execution_count": null,
   "id": "b89b3f89-e801-4c78-97ec-1ba55c27fefb",
   "metadata": {},
   "outputs": [],
   "source": []
  }
 ],
 "metadata": {
  "kernelspec": {
   "display_name": "Python [conda env:base] *",
   "language": "python",
   "name": "conda-base-py"
  },
  "language_info": {
   "codemirror_mode": {
    "name": "ipython",
    "version": 3
   },
   "file_extension": ".py",
   "mimetype": "text/x-python",
   "name": "python",
   "nbconvert_exporter": "python",
   "pygments_lexer": "ipython3",
   "version": "3.11.5"
  }
 },
 "nbformat": 4,
 "nbformat_minor": 5
}
