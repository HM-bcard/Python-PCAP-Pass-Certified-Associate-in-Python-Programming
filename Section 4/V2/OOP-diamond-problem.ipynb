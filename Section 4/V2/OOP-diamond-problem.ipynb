{
 "cells": [
  {
   "cell_type": "markdown",
   "id": "16673bf3-d5db-48d0-98d2-844fc556a6df",
   "metadata": {},
   "source": [
    "# Diamond problem def:\n",
    "A situation in which a suclass inherits from two classes that inherit from a common superclass"
   ]
  },
  {
   "cell_type": "code",
   "execution_count": 1,
   "id": "d8fe8269-c4e0-4819-b0d3-2d040e14ea9a",
   "metadata": {},
   "outputs": [],
   "source": [
    "class Vehicle:\n",
    "    def show_power_type(self):\n",
    "        print(\"Multiple\")\n",
    "\n",
    "class ElectricVehicle(Vehicle):\n",
    "    def show_power_type(self):\n",
    "        print(\"Battery\")\n",
    "\n",
    "class PetrolVehicle(Vehicle):\n",
    "    def show_power_type(self):\n",
    "        print(\"Petroleum\")\n",
    "class Hybrid(ElectricVehicle,PetrolVehicle):\n",
    "    pass\n"
   ]
  },
  {
   "cell_type": "code",
   "execution_count": 3,
   "id": "3b32237a-d052-4b6d-9599-8239261e72e6",
   "metadata": {},
   "outputs": [
    {
     "name": "stdout",
     "output_type": "stream",
     "text": [
      "Battery\n"
     ]
    }
   ],
   "source": [
    "prius = Hybrid()\n",
    "prius.show_power_type()"
   ]
  },
  {
   "cell_type": "code",
   "execution_count": 5,
   "id": "5bf9ecb3-056f-4033-8dc8-50bcc97a861f",
   "metadata": {},
   "outputs": [
    {
     "name": "stdout",
     "output_type": "stream",
     "text": [
      "Petroleum\n"
     ]
    }
   ],
   "source": [
    "class Vehicle:\n",
    "    def show_power_type(self):\n",
    "        print(\"Multiple\")\n",
    "\n",
    "class ElectricVehicle(Vehicle):\n",
    "    def show_power_type(self):\n",
    "        print(\"Battery\")\n",
    "\n",
    "class PetrolVehicle(Vehicle):\n",
    "    def show_power_type(self):\n",
    "        print(\"Petroleum\")\n",
    "class Hybrid(PetrolVehicle,ElectricVehicle):\n",
    "    pass\n",
    "prius = Hybrid()\n",
    "prius.show_power_type()"
   ]
  },
  {
   "cell_type": "markdown",
   "id": "acab9916-c6b7-4e65-a879-1b20f016bf7c",
   "metadata": {},
   "source": [
    "## According to MRO"
   ]
  },
  {
   "cell_type": "code",
   "execution_count": null,
   "id": "357d0bdf-24b2-4c7d-b3d2-9133c5f42518",
   "metadata": {},
   "outputs": [],
   "source": []
  }
 ],
 "metadata": {
  "kernelspec": {
   "display_name": "Python [conda env:base] *",
   "language": "python",
   "name": "conda-base-py"
  },
  "language_info": {
   "codemirror_mode": {
    "name": "ipython",
    "version": 3
   },
   "file_extension": ".py",
   "mimetype": "text/x-python",
   "name": "python",
   "nbconvert_exporter": "python",
   "pygments_lexer": "ipython3",
   "version": "3.11.5"
  }
 },
 "nbformat": 4,
 "nbformat_minor": 5
}
