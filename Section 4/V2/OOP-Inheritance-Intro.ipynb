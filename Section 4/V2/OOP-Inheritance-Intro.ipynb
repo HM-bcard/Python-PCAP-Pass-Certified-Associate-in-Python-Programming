{
 "cells": [
  {
   "cell_type": "code",
   "execution_count": null,
   "id": "b137a177-c5d9-493c-94f9-8e9d824fa1db",
   "metadata": {},
   "outputs": [],
   "source": [
    "### Introduction to inheritance:\n"
   ]
  },
  {
   "cell_type": "code",
   "execution_count": null,
   "id": "01263097-9931-4498-80a3-915fca5ac2a0",
   "metadata": {},
   "outputs": [],
   "source": []
  },
  {
   "cell_type": "markdown",
   "id": "60f5c411-9a9d-4c10-bfa7-f5193e7e44fd",
   "metadata": {},
   "source": [
    "## Vehicle example:"
   ]
  },
  {
   "cell_type": "code",
   "execution_count": 2,
   "id": "2d6565b8-f3e7-4e26-97ca-22fa41141a15",
   "metadata": {},
   "outputs": [],
   "source": [
    "class Vehicle:\n",
    "    pass"
   ]
  },
  {
   "cell_type": "code",
   "execution_count": 4,
   "id": "13d19783-0d7e-45e8-b016-da7b9e49ce1c",
   "metadata": {},
   "outputs": [],
   "source": [
    "class LandVehicle(Vehicle):\n",
    "    pass"
   ]
  },
  {
   "cell_type": "code",
   "execution_count": 6,
   "id": "dd60559a-38d3-46e7-a96a-aef8ff1a2a21",
   "metadata": {},
   "outputs": [],
   "source": [
    "class Car(LandVehicle):\n",
    "    pass"
   ]
  },
  {
   "cell_type": "markdown",
   "id": "1af1a7a5-c71f-4dde-aec8-8c41dc7dbffe",
   "metadata": {},
   "source": [
    "### issubclass() method:"
   ]
  },
  {
   "cell_type": "code",
   "execution_count": 11,
   "id": "ac51add7-da57-4134-8b6c-9b7e9b793dc3",
   "metadata": {},
   "outputs": [
    {
     "data": {
      "text/plain": [
       "True"
      ]
     },
     "execution_count": 11,
     "metadata": {},
     "output_type": "execute_result"
    }
   ],
   "source": [
    "issubclass(Car,LandVehicle)"
   ]
  },
  {
   "cell_type": "code",
   "execution_count": 13,
   "id": "1ca042cb-5d14-4af0-b0c3-f12675f7f882",
   "metadata": {},
   "outputs": [
    {
     "data": {
      "text/plain": [
       "True"
      ]
     },
     "execution_count": 13,
     "metadata": {},
     "output_type": "execute_result"
    }
   ],
   "source": [
    "issubclass(Car,Vehicle)"
   ]
  },
  {
   "cell_type": "markdown",
   "id": "f08e6db5-da33-480b-a361-6adf44071566",
   "metadata": {},
   "source": [
    "### self subclass"
   ]
  },
  {
   "cell_type": "code",
   "execution_count": 18,
   "id": "06c6615d-c9d7-4333-8740-6f25b32b6f7f",
   "metadata": {},
   "outputs": [
    {
     "data": {
      "text/plain": [
       "True"
      ]
     },
     "execution_count": 18,
     "metadata": {},
     "output_type": "execute_result"
    }
   ],
   "source": [
    "issubclass(Car,Car)"
   ]
  },
  {
   "cell_type": "code",
   "execution_count": null,
   "id": "a0787fa5-2452-435d-b427-f162637b2236",
   "metadata": {},
   "outputs": [],
   "source": []
  }
 ],
 "metadata": {
  "kernelspec": {
   "display_name": "Python [conda env:base] *",
   "language": "python",
   "name": "conda-base-py"
  },
  "language_info": {
   "codemirror_mode": {
    "name": "ipython",
    "version": 3
   },
   "file_extension": ".py",
   "mimetype": "text/x-python",
   "name": "python",
   "nbconvert_exporter": "python",
   "pygments_lexer": "ipython3",
   "version": "3.11.5"
  }
 },
 "nbformat": 4,
 "nbformat_minor": 5
}
