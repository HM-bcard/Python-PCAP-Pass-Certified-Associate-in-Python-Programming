{
 "cells": [
  {
   "cell_type": "code",
   "execution_count": null,
   "id": "78509cd1-9512-4245-a24b-37554a1e62bc",
   "metadata": {},
   "outputs": [],
   "source": []
  },
  {
   "cell_type": "code",
   "execution_count": 11,
   "id": "dbe258ec-6eb9-401f-b4b5-52d749a0d1aa",
   "metadata": {},
   "outputs": [
    {
     "name": "stdout",
     "output_type": "stream",
     "text": [
      "The house is situated at prestiguous 12 Lexington st , has an area of 1070 sqft and a low price of  540000 usd!\n",
      "1\n"
     ]
    }
   ],
   "source": [
    "class House:\n",
    "    counter = 0\n",
    "    def __init__(self,address,area,price):\n",
    "        self.address = address\n",
    "        self.area = area\n",
    "        self.price = price\n",
    "        House.counter += 1\n",
    "        # differentiating between types of variables:\n",
    "        House.quality = 'low' # class variable(not object variable)\n",
    "        self.quality = 'medium' # instance(per object) variable\n",
    "        quality = 'high' # local variable\n",
    "    def present(self):\n",
    "        print(\"The house is situated at prestiguous\",self.address,\", has an area of\",self.area,\"sqft and a low price of \",self.price,\"usd!\")\n",
    "\n",
    "soho = House(\"12 Lexington st\",1070,540000)\n",
    "soho.present()\n",
    "print(House.counter)"
   ]
  },
  {
   "cell_type": "code",
   "execution_count": 13,
   "id": "c11ce127-6470-4a41-93e4-8bc6d7c8f4ea",
   "metadata": {},
   "outputs": [
    {
     "name": "stdout",
     "output_type": "stream",
     "text": [
      "medium\n"
     ]
    }
   ],
   "source": [
    "print(soho.quality)"
   ]
  },
  {
   "cell_type": "code",
   "execution_count": 15,
   "id": "7cf82ae9-ef1b-48e3-ade9-6a6cebac2157",
   "metadata": {},
   "outputs": [
    {
     "name": "stdout",
     "output_type": "stream",
     "text": [
      "low\n"
     ]
    }
   ],
   "source": [
    "print(House.quality)"
   ]
  },
  {
   "cell_type": "code",
   "execution_count": 17,
   "id": "b82d6237-f1df-40c6-be00-8828bcb084dc",
   "metadata": {},
   "outputs": [
    {
     "ename": "NameError",
     "evalue": "name 'quality' is not defined",
     "output_type": "error",
     "traceback": [
      "\u001b[1;31m---------------------------------------------------------------------------\u001b[0m",
      "\u001b[1;31mNameError\u001b[0m                                 Traceback (most recent call last)",
      "Cell \u001b[1;32mIn[17], line 1\u001b[0m\n\u001b[1;32m----> 1\u001b[0m \u001b[38;5;28mprint\u001b[39m(quality)\n",
      "\u001b[1;31mNameError\u001b[0m: name 'quality' is not defined"
     ]
    }
   ],
   "source": [
    "print(quality)"
   ]
  },
  {
   "cell_type": "markdown",
   "id": "92fbe328-0346-43d0-a13a-3214b8187acf",
   "metadata": {},
   "source": [
    "## Local variables are only visible within the block they were created in"
   ]
  },
  {
   "cell_type": "code",
   "execution_count": null,
   "id": "7a37fa30-7b35-4f10-872c-e3d0db95275f",
   "metadata": {},
   "outputs": [],
   "source": []
  }
 ],
 "metadata": {
  "kernelspec": {
   "display_name": "Python [conda env:base] *",
   "language": "python",
   "name": "conda-base-py"
  },
  "language_info": {
   "codemirror_mode": {
    "name": "ipython",
    "version": 3
   },
   "file_extension": ".py",
   "mimetype": "text/x-python",
   "name": "python",
   "nbconvert_exporter": "python",
   "pygments_lexer": "ipython3",
   "version": "3.11.5"
  }
 },
 "nbformat": 4,
 "nbformat_minor": 5
}
