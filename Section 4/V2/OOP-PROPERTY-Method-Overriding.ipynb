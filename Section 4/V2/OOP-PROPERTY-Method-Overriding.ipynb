{
 "cells": [
  {
   "cell_type": "markdown",
   "id": "3d9cceca-cafe-4362-81f6-7dbf3cca15c6",
   "metadata": {},
   "source": [
    "### An example of overriding:"
   ]
  },
  {
   "cell_type": "code",
   "execution_count": 2,
   "id": "4fc3077b-ecdb-43ef-acf7-e9fb546495ec",
   "metadata": {},
   "outputs": [],
   "source": [
    "class Animal:\n",
    "    def __init__(self):\n",
    "        self.species = 'general'\n",
    "\n",
    "    def produce_sound(self):\n",
    "        print(\"sound sound sound sound sound\")\n",
    "\n",
    "class Dog(Animal):\n",
    "    pass"
   ]
  },
  {
   "cell_type": "code",
   "execution_count": 8,
   "id": "35b8cfd1-af21-45b4-8b8c-c35c912cb372",
   "metadata": {},
   "outputs": [],
   "source": [
    "dog1 = Dog()"
   ]
  },
  {
   "cell_type": "code",
   "execution_count": 16,
   "id": "2f75614f-f77b-4411-8ca2-5d59ca3ef138",
   "metadata": {},
   "outputs": [
    {
     "name": "stdout",
     "output_type": "stream",
     "text": [
      "general\n",
      "sound sound sound sound sound\n"
     ]
    }
   ],
   "source": [
    "print(dog1.species)\n",
    "dog1.produce_sound()"
   ]
  },
  {
   "cell_type": "markdown",
   "id": "39b1ed0a-6249-4e8b-9091-70372b86b983",
   "metadata": {},
   "source": [
    "### Method overriding:"
   ]
  },
  {
   "cell_type": "code",
   "execution_count": 30,
   "id": "f6d880d8-1320-4c7e-bb0a-6098bed8cee2",
   "metadata": {},
   "outputs": [],
   "source": [
    "class Animal:\n",
    "    def __init__(self):\n",
    "        self.species = 'general'\n",
    "\n",
    "    def produce_sound(self):\n",
    "        print(\"sound sound sound sound sound\")\n",
    "\n",
    "class Dog(Animal):\n",
    "    def __init__(self):\n",
    "        self.species = 'Canis Familiaris' # the methods from the superclass are overriden by the lowest subclass\n",
    "    def produce_sound(self):\n",
    "        print(\"Woof woof woof\")"
   ]
  },
  {
   "cell_type": "code",
   "execution_count": 32,
   "id": "a61936da-d9af-4311-a246-333e6071d026",
   "metadata": {},
   "outputs": [
    {
     "name": "stdout",
     "output_type": "stream",
     "text": [
      "Canis Familiaris\n",
      "Woof woof woof\n"
     ]
    }
   ],
   "source": [
    "dog2 = Dog()\n",
    "print(dog2.species)\n",
    "dog2.produce_sound()"
   ]
  },
  {
   "cell_type": "markdown",
   "id": "cf85dd62-7eed-4696-9701-690815a152c9",
   "metadata": {},
   "source": [
    "## OOP main tenets:\n",
    "\n",
    "### 1. encapsulation\n",
    "### 2.abstraction\n",
    "### 3.polymorphism\n",
    "### 4.inheritance"
   ]
  },
  {
   "cell_type": "markdown",
   "id": "c79ca6ec-a508-4fb9-b749-e2a00cd80525",
   "metadata": {},
   "source": [
    "### Method overriding is an example of polymorphism"
   ]
  },
  {
   "cell_type": "code",
   "execution_count": 37,
   "id": "64cc9cbc-7dd7-4f47-9b41-0a5cb1186939",
   "metadata": {},
   "outputs": [],
   "source": [
    "pet1 = Animal()\n",
    "pet2 = Dog()"
   ]
  },
  {
   "cell_type": "code",
   "execution_count": 39,
   "id": "1bd785f3-778a-4a37-b3e2-3eb6e005e27f",
   "metadata": {},
   "outputs": [
    {
     "name": "stdout",
     "output_type": "stream",
     "text": [
      "sound sound sound sound sound\n",
      "Woof woof woof\n"
     ]
    }
   ],
   "source": [
    "pet1.produce_sound()\n",
    "pet2.produce_sound()"
   ]
  },
  {
   "cell_type": "markdown",
   "id": "0d5c4afc-22ce-49d2-9bed-55419889484b",
   "metadata": {},
   "source": [
    "### Methods using other method - example:"
   ]
  },
  {
   "cell_type": "code",
   "execution_count": 42,
   "id": "dbc65e8b-1d84-4af8-a7c0-188dfaf064df",
   "metadata": {},
   "outputs": [],
   "source": [
    "class Animal:\n",
    "    def __init__(self):\n",
    "        self.species = 'general'\n",
    "\n",
    "    def produce_sound(self):\n",
    "        print(\"sound sound sound sound sound\")\n",
    "    def present(self):\n",
    "        print(\"I make the following sound:\") # this method uses polymorphic represebtation of the produce_sound method in two classes: a superclass and suclass\n",
    "        self.produce_sound()\n",
    "\n",
    "class Dog(Animal):\n",
    "    def __init__(self):\n",
    "        self.species = 'Canis Familiaris' # the methods from the superclass are overriden by the lowest subclass\n",
    "    def produce_sound(self):\n",
    "        print(\"Woof woof woof\")"
   ]
  },
  {
   "cell_type": "code",
   "execution_count": 44,
   "id": "58bb02f3-1e55-490f-baf7-943cb233dcc3",
   "metadata": {},
   "outputs": [
    {
     "name": "stdout",
     "output_type": "stream",
     "text": [
      "I make the following sound:\n",
      "sound sound sound sound sound\n",
      "\n",
      "I make the following sound:\n",
      "Woof woof woof\n"
     ]
    }
   ],
   "source": [
    "pet1 = Animal()\n",
    "pet2 = Dog()\n",
    "\n",
    "pet1.present()\n",
    "print('')\n",
    "pet2.present()"
   ]
  },
  {
   "cell_type": "code",
   "execution_count": null,
   "id": "924526f4-3d2d-4eab-be35-a01458941e0c",
   "metadata": {},
   "outputs": [],
   "source": []
  }
 ],
 "metadata": {
  "kernelspec": {
   "display_name": "Python [conda env:base] *",
   "language": "python",
   "name": "conda-base-py"
  },
  "language_info": {
   "codemirror_mode": {
    "name": "ipython",
    "version": 3
   },
   "file_extension": ".py",
   "mimetype": "text/x-python",
   "name": "python",
   "nbconvert_exporter": "python",
   "pygments_lexer": "ipython3",
   "version": "3.11.5"
  }
 },
 "nbformat": 4,
 "nbformat_minor": 5
}
