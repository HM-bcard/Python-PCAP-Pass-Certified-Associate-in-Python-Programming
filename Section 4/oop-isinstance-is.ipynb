{
 "cells": [
  {
   "cell_type": "code",
   "execution_count": 1,
   "id": "5c80e340-2339-48e5-a7b3-3cbc62297ad6",
   "metadata": {},
   "outputs": [],
   "source": [
    "class Vehicle:\n",
    "    def __init__(self,speed):\n",
    "        self.speed = speed\n",
    "\n",
    "class LandVehicle(Vehicle):# subclass of vehicle\n",
    "    def __init__(self,speed,wheel_count):\n",
    "        super().__init__(speed)\n",
    "        self.wheel_count = wheel_count\n",
    "\n",
    "class Car(LandVehicle):# subclass of LandVehicle\n",
    "    pass"
   ]
  },
  {
   "cell_type": "code",
   "execution_count": 4,
   "id": "a2ccfded-b6ea-4e3b-9c64-22fd9b5ca1e2",
   "metadata": {},
   "outputs": [],
   "source": [
    "vehicle_1 = Vehicle(50)\n",
    "land_vehicle_1 = LandVehicle(50,4)\n",
    "car_1 = Car(60,4) "
   ]
  },
  {
   "cell_type": "code",
   "execution_count": 8,
   "id": "7dd1751f-98e7-43d8-8502-0b0651fdce86",
   "metadata": {},
   "outputs": [
    {
     "name": "stdout",
     "output_type": "stream",
     "text": [
      "True\n",
      "True\n",
      "True\n"
     ]
    }
   ],
   "source": [
    "print(isinstance(vehicle_1,Vehicle))\n",
    "print(isinstance(land_vehicle_1,Vehicle))\n",
    "print(isinstance(car_1,Vehicle))"
   ]
  },
  {
   "cell_type": "code",
   "execution_count": 10,
   "id": "81f4c07a-44ea-4965-bb1b-7f3659820f73",
   "metadata": {},
   "outputs": [
    {
     "name": "stdout",
     "output_type": "stream",
     "text": [
      "False\n",
      "True\n",
      "True\n"
     ]
    }
   ],
   "source": [
    "print(isinstance(vehicle_1,LandVehicle))\n",
    "print(isinstance(land_vehicle_1,LandVehicle))\n",
    "print(isinstance(car_1,LandVehicle))"
   ]
  },
  {
   "cell_type": "code",
   "execution_count": 12,
   "id": "aee46d8f-8317-47a9-b116-5c6b07590fbd",
   "metadata": {},
   "outputs": [
    {
     "name": "stdout",
     "output_type": "stream",
     "text": [
      "False\n",
      "False\n",
      "True\n"
     ]
    }
   ],
   "source": [
    "print(isinstance(vehicle_1,Car))\n",
    "print(isinstance(land_vehicle_1,Car))\n",
    "print(isinstance(car_1,Car))"
   ]
  },
  {
   "cell_type": "code",
   "execution_count": 34,
   "id": "6152ab57-4cf9-4102-a686-27ffaf9effe2",
   "metadata": {},
   "outputs": [],
   "source": [
    "vehicle_2 = Vehicle(60)\n",
    "vehicle_3 = vehicle_2  #assigned to the same memory address"
   ]
  },
  {
   "cell_type": "code",
   "execution_count": 36,
   "id": "e564aa37-01b1-4054-86dd-5d8ec6ddfff7",
   "metadata": {},
   "outputs": [
    {
     "name": "stdout",
     "output_type": "stream",
     "text": [
      "True\n"
     ]
    }
   ],
   "source": [
    "print(vehicle_2 is vehicle_3)  # checking whether the variables point to the same memory address"
   ]
  },
  {
   "cell_type": "code",
   "execution_count": 38,
   "id": "0efc650c-d134-4276-bd5b-db33db829240",
   "metadata": {},
   "outputs": [
    {
     "name": "stdout",
     "output_type": "stream",
     "text": [
      "{'speed': 60} {'speed': 60}\n",
      "{'speed': 30} {'speed': 30}\n"
     ]
    }
   ],
   "source": [
    "print(vehicle_2.__dict__, vehicle_3.__dict__)\n",
    "vehicle_2.speed = 30\n",
    "print(vehicle_2.__dict__, vehicle_3.__dict__)  # the speed attribute has changed in both objects"
   ]
  },
  {
   "cell_type": "code",
   "execution_count": 44,
   "id": "209a252c-293e-4312-a7ad-f6b925f5af3b",
   "metadata": {},
   "outputs": [],
   "source": [
    "# a wholly new object:\n",
    "vehicle_2 = Vehicle(60)\n",
    "vehicle_3 = Vehicle(60)"
   ]
  },
  {
   "cell_type": "code",
   "execution_count": 46,
   "id": "ce8f7c20-1560-44c5-b204-735915be6129",
   "metadata": {},
   "outputs": [
    {
     "name": "stdout",
     "output_type": "stream",
     "text": [
      "{'speed': 60} {'speed': 60}\n",
      "{'speed': 30} {'speed': 60}\n"
     ]
    }
   ],
   "source": [
    "print(vehicle_2.__dict__, vehicle_3.__dict__)\n",
    "vehicle_2.speed = 30\n",
    "print(vehicle_2.__dict__, vehicle_3.__dict__)"
   ]
  },
  {
   "cell_type": "code",
   "execution_count": 50,
   "id": "69cb73e8-9ec2-47f2-942a-4f5e7b9e2280",
   "metadata": {},
   "outputs": [
    {
     "name": "stdout",
     "output_type": "stream",
     "text": [
      "True\n"
     ]
    }
   ],
   "source": [
    "num_1 = 5\n",
    "num_2 = 5\n",
    "print(num_1 is num_2)"
   ]
  },
  {
   "cell_type": "code",
   "execution_count": 56,
   "id": "ddd23360-7e4a-49ab-b767-a1224dc45e95",
   "metadata": {},
   "outputs": [
    {
     "name": "stdout",
     "output_type": "stream",
     "text": [
      "True\n"
     ]
    }
   ],
   "source": [
    "num_1 = 5\n",
    "num_2 = 2\n",
    "num_2 += 3\n",
    "print(num_1 is num_2)  # so i assume that a type of integer ( for instance 1) has aways the same memory address for memory allocation "
   ]
  },
  {
   "cell_type": "code",
   "execution_count": 58,
   "id": "ca739ad6-4f1b-4d26-b9fe-cc1dbb895308",
   "metadata": {},
   "outputs": [
    {
     "name": "stdout",
     "output_type": "stream",
     "text": [
      "True\n"
     ]
    }
   ],
   "source": [
    "string_1 = 'cat'\n",
    "string_2 = 'cat'\n",
    "print(string_1 is string_2)"
   ]
  },
  {
   "cell_type": "code",
   "execution_count": 60,
   "id": "858f754a-4579-4bbc-91ca-922d884382bc",
   "metadata": {},
   "outputs": [
    {
     "name": "stdout",
     "output_type": "stream",
     "text": [
      "False\n"
     ]
    }
   ],
   "source": [
    "tup_1 = 1,2\n",
    "tup_2 = 1,2\n",
    "print(tup_1 is tup_2)"
   ]
  },
  {
   "cell_type": "code",
   "execution_count": 64,
   "id": "ff4d6078-7597-4e93-b9b9-900daece8686",
   "metadata": {},
   "outputs": [
    {
     "name": "stdout",
     "output_type": "stream",
     "text": [
      "cat\n",
      "False\n",
      "True\n"
     ]
    }
   ],
   "source": [
    "string_1 = 'cat'\n",
    "string_2 = 'ca'\n",
    "string_2 += 't'\n",
    "print(string_2)\n",
    "print(string_1 is string_2)  # comparing memory addresses\n",
    "print(string_1 == string_2)  # comparing values\n"
   ]
  },
  {
   "cell_type": "code",
   "execution_count": null,
   "id": "ad940988-f836-45aa-be2e-380653dad11f",
   "metadata": {},
   "outputs": [],
   "source": []
  }
 ],
 "metadata": {
  "kernelspec": {
   "display_name": "Python [conda env:base] *",
   "language": "python",
   "name": "conda-base-py"
  },
  "language_info": {
   "codemirror_mode": {
    "name": "ipython",
    "version": 3
   },
   "file_extension": ".py",
   "mimetype": "text/x-python",
   "name": "python",
   "nbconvert_exporter": "python",
   "pygments_lexer": "ipython3",
   "version": "3.11.5"
  }
 },
 "nbformat": 4,
 "nbformat_minor": 5
}
