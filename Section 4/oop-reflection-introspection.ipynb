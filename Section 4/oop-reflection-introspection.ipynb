{
 "cells": [
  {
   "cell_type": "code",
   "execution_count": 3,
   "id": "c526ce80-093c-47ae-aebe-a05b5d37e0c5",
   "metadata": {},
   "outputs": [],
   "source": [
    "def empty_strings(user_object):\n",
    "    for property_name in user_object.__dict__.keys():\n",
    "        property_value = getattr(user_object, property_name)\n",
    "        if isinstance(property_value,str):\n",
    "            setattr(user_object, property_name, '')"
   ]
  },
  {
   "cell_type": "code",
   "execution_count": 5,
   "id": "cc5524ba-4736-4157-870c-b545aa94d3fe",
   "metadata": {},
   "outputs": [],
   "source": [
    "class Doctor():\n",
    "    def __init__(self,first_name = 'John',last_name = 'Smith'):\n",
    "        self.first_name = first_name\n",
    "        self.last_name = last_name\n",
    "        self.__format_names()\n",
    "\n",
    "    def __format_names(self):\n",
    "        self.first_name = self.first_name.title()\n",
    "        self.last_name = self.last_name.title()\n",
    "\n",
    "    def introduce(self):\n",
    "        print('Hi I am', self.first_name)\n",
    "\n",
    "    def compare_name(self,name_to_compare):\n",
    "        if self.first_name == name_to_compare:\n",
    "            print('We have the same name!')\n",
    "        else:\n",
    "            print('We don\\'t have the same name')\n",
    "\n",
    "    def get_first_last_name_together(self):\n",
    "        return self.first_name + ' ' + self.last_name\n",
    "        \n",
    "    def __str__(self):\n",
    "        return self.first_name + ' ' + self.last_name"
   ]
  },
  {
   "cell_type": "code",
   "execution_count": 7,
   "id": "326ec953-613d-4bc3-915a-c50ed9be1af6",
   "metadata": {},
   "outputs": [],
   "source": [
    "doc_alex = Doctor('Alexander','Smith')"
   ]
  },
  {
   "cell_type": "code",
   "execution_count": 9,
   "id": "01f3f957-b750-4873-af34-d24ce65bf1c7",
   "metadata": {},
   "outputs": [
    {
     "name": "stdout",
     "output_type": "stream",
     "text": [
      "Hi I am Alexander\n"
     ]
    }
   ],
   "source": [
    "doc_alex.introduce()"
   ]
  },
  {
   "cell_type": "code",
   "execution_count": 11,
   "id": "87ade082-b03f-4fe4-a694-04288333a31c",
   "metadata": {},
   "outputs": [],
   "source": [
    "empty_strings(doc_alex)"
   ]
  },
  {
   "cell_type": "code",
   "execution_count": 13,
   "id": "9a68842d-b9f6-4ab0-b346-f8774fdeffdd",
   "metadata": {},
   "outputs": [
    {
     "name": "stdout",
     "output_type": "stream",
     "text": [
      "Hi I am \n"
     ]
    }
   ],
   "source": [
    "doc_alex.introduce()"
   ]
  },
  {
   "cell_type": "code",
   "execution_count": null,
   "id": "ef93df80-f3a4-4901-91bc-30cebfe6601c",
   "metadata": {},
   "outputs": [],
   "source": []
  }
 ],
 "metadata": {
  "kernelspec": {
   "display_name": "Python [conda env:base] *",
   "language": "python",
   "name": "conda-base-py"
  },
  "language_info": {
   "codemirror_mode": {
    "name": "ipython",
    "version": 3
   },
   "file_extension": ".py",
   "mimetype": "text/x-python",
   "name": "python",
   "nbconvert_exporter": "python",
   "pygments_lexer": "ipython3",
   "version": "3.11.5"
  }
 },
 "nbformat": 4,
 "nbformat_minor": 5
}
