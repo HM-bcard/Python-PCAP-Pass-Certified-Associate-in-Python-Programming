{
 "cells": [
  {
   "cell_type": "code",
   "execution_count": 5,
   "id": "71a3f5d1-a66b-43fb-a4a7-18f24f2a3cba",
   "metadata": {},
   "outputs": [
    {
     "name": "stdout",
     "output_type": "stream",
     "text": [
      "Hi I am Alexander\n",
      "We don't have the same name\n",
      "{'first_name': 'Alexander', 'last_name': 'Smith'}\n",
      "{'__module__': '__main__', '__init__': <function Doctor.__init__ at 0x000002B459FF79C0>, '_Doctor__format_names': <function Doctor.__format_names at 0x000002B459FF7EC0>, 'introduce': <function Doctor.introduce at 0x000002B45A01C5E0>, 'compare_name': <function Doctor.compare_name at 0x000002B45A01C040>, 'get_first_last_name_together': <function Doctor.get_first_last_name_together at 0x000002B45A01C540>, '__dict__': <attribute '__dict__' of 'Doctor' objects>, '__weakref__': <attribute '__weakref__' of 'Doctor' objects>, '__doc__': None}\n"
     ]
    }
   ],
   "source": [
    "class Doctor():\n",
    "    def __init__(self,first_name = 'John',last_name = 'Smith'):\n",
    "        self.first_name = first_name\n",
    "        self.last_name = last_name\n",
    "        self.__format_names()\n",
    "\n",
    "    def __format_names(self):\n",
    "        self.first_name = self.first_name.title()\n",
    "        self.last_name = self.last_name.title()\n",
    "\n",
    "    def introduce(self):\n",
    "        print('Hi I am', self.first_name)\n",
    "\n",
    "    def compare_name(self,name_to_compare):\n",
    "        if self.first_name == name_to_compare:\n",
    "            print('We have the same name!')\n",
    "        else:\n",
    "            print('We don\\'t have the same name')\n",
    "\n",
    "    def get_first_last_name_together(self):\n",
    "        return self.first_name + ' ' + self.last_name\n",
    "\n",
    "\n",
    "doc_alex = Doctor('AleXaNDer','SMITh')\n",
    "doc_alex.introduce()\n",
    "doc_alex.compare_name('John')\n",
    "print(doc_alex.__dict__)\n",
    "print(Doctor.__dict__)"
   ]
  },
  {
   "cell_type": "code",
   "execution_count": 7,
   "id": "49cc69bf-f0b0-4246-bc85-477342419b92",
   "metadata": {},
   "outputs": [
    {
     "name": "stdout",
     "output_type": "stream",
     "text": [
      "<__main__.Doctor object at 0x000002B45A023C50>\n"
     ]
    }
   ],
   "source": [
    "print(doc_alex)"
   ]
  },
  {
   "cell_type": "code",
   "execution_count": 9,
   "id": "f9d69c7b-c22b-470f-a550-cdefc45d48c7",
   "metadata": {},
   "outputs": [
    {
     "name": "stdout",
     "output_type": "stream",
     "text": [
      "Hi I am Alexander\n",
      "We don't have the same name\n",
      "{'first_name': 'Alexander', 'last_name': 'Smith'}\n",
      "{'__module__': '__main__', '__init__': <function Doctor.__init__ at 0x000002B456B19300>, '_Doctor__format_names': <function Doctor.__format_names at 0x000002B458FE4CC0>, 'introduce': <function Doctor.introduce at 0x000002B458FE4680>, 'compare_name': <function Doctor.compare_name at 0x000002B458FE4AE0>, 'get_first_last_name_together': <function Doctor.get_first_last_name_together at 0x000002B458FE51C0>, '__str__': <function Doctor.__str__ at 0x000002B458FE4D60>, '__dict__': <attribute '__dict__' of 'Doctor' objects>, '__weakref__': <attribute '__weakref__' of 'Doctor' objects>, '__doc__': None}\n"
     ]
    }
   ],
   "source": [
    "class Doctor():\n",
    "    def __init__(self,first_name = 'John',last_name = 'Smith'):\n",
    "        self.first_name = first_name\n",
    "        self.last_name = last_name\n",
    "        self.__format_names()\n",
    "\n",
    "    def __format_names(self):\n",
    "        self.first_name = self.first_name.title()\n",
    "        self.last_name = self.last_name.title()\n",
    "\n",
    "    def introduce(self):\n",
    "        print('Hi I am', self.first_name)\n",
    "\n",
    "    def compare_name(self,name_to_compare):\n",
    "        if self.first_name == name_to_compare:\n",
    "            print('We have the same name!')\n",
    "        else:\n",
    "            print('We don\\'t have the same name')\n",
    "\n",
    "    def get_first_last_name_together(self):\n",
    "        return self.first_name + ' ' + self.last_name\n",
    "        \n",
    "    def __str__(self):\n",
    "        return self.first_name + ' ' + self.last_name\n",
    "\n",
    "doc_alex = Doctor('AleXaNDer','SMITh')\n",
    "doc_alex.introduce()\n",
    "doc_alex.compare_name('John')\n",
    "print(doc_alex.__dict__)\n",
    "print(Doctor.__dict__)"
   ]
  },
  {
   "cell_type": "code",
   "execution_count": 11,
   "id": "2ba68568-a492-470a-9186-808d8d1f578d",
   "metadata": {},
   "outputs": [
    {
     "name": "stdout",
     "output_type": "stream",
     "text": [
      "Alexander Smith\n"
     ]
    }
   ],
   "source": [
    "print(doc_alex)# overridden __str__ method"
   ]
  },
  {
   "cell_type": "code",
   "execution_count": null,
   "id": "b5a32ab9-172e-46d1-ab9c-487047f5c38b",
   "metadata": {},
   "outputs": [],
   "source": []
  }
 ],
 "metadata": {
  "kernelspec": {
   "display_name": "Python [conda env:base] *",
   "language": "python",
   "name": "conda-base-py"
  },
  "language_info": {
   "codemirror_mode": {
    "name": "ipython",
    "version": 3
   },
   "file_extension": ".py",
   "mimetype": "text/x-python",
   "name": "python",
   "nbconvert_exporter": "python",
   "pygments_lexer": "ipython3",
   "version": "3.11.5"
  }
 },
 "nbformat": 4,
 "nbformat_minor": 5
}
