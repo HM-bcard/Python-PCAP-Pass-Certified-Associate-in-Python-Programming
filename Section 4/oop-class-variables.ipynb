{
 "cells": [
  {
   "cell_type": "code",
   "execution_count": 3,
   "id": "27ebd1a5-cd61-41a0-86a7-24072c735b1f",
   "metadata": {},
   "outputs": [
    {
     "name": "stdout",
     "output_type": "stream",
     "text": [
      "3\n",
      "3\n",
      "3\n"
     ]
    }
   ],
   "source": [
    "class Dog():\n",
    "    counter = 0\n",
    "    def __init__(self,name,age):\n",
    "        self.__name = name\n",
    "        self.__age = age\n",
    "        Dog.counter += 1\n",
    "\n",
    "my_pet = Dog('Teddy',2)\n",
    "kates_pet = Dog('Foxy', 5)\n",
    "adams_pet = Dog('Luna',1)\n",
    "\n",
    "print(my_pet.counter)\n",
    "print(kates_pet.counter)\n",
    "print(adams_pet.counter)\n"
   ]
  },
  {
   "cell_type": "code",
   "execution_count": 5,
   "id": "8a01761f-c093-4729-b737-1a4695a2af8a",
   "metadata": {},
   "outputs": [
    {
     "data": {
      "text/plain": [
       "{'_Dog__name': 'Teddy', '_Dog__age': 2}"
      ]
     },
     "execution_count": 5,
     "metadata": {},
     "output_type": "execute_result"
    }
   ],
   "source": [
    "my_pet.__dict__\n"
   ]
  },
  {
   "cell_type": "code",
   "execution_count": 7,
   "id": "5430b807-cf81-42b2-b0a7-c7fd7e0bf7f4",
   "metadata": {},
   "outputs": [
    {
     "name": "stdout",
     "output_type": "stream",
     "text": [
      "3\n"
     ]
    }
   ],
   "source": [
    "print(Dog.counter)"
   ]
  },
  {
   "cell_type": "code",
   "execution_count": 16,
   "id": "0618f86d-60f3-444c-8266-c5fcc259d866",
   "metadata": {},
   "outputs": [
    {
     "name": "stdout",
     "output_type": "stream",
     "text": [
      "3\n"
     ]
    }
   ],
   "source": [
    "class Dog():\n",
    "    __counter = 0\n",
    "    def __init__(self,name,age):\n",
    "        self.__name = name\n",
    "        self.__age = age\n",
    "        Dog.__counter += 1\n",
    "\n",
    "my_pet = Dog('Teddy',2)\n",
    "kates_pet = Dog('Foxy', 5)\n",
    "adams_pet = Dog('Luna',1)\n",
    "'''\n",
    "print(my_pet.counter)\n",
    "print(kates_pet.counter)\n",
    "print(adams_pet.counter)\n",
    "'''\n",
    "print(Dog._Dog__counter)"
   ]
  },
  {
   "cell_type": "code",
   "execution_count": 18,
   "id": "8240027d-995a-40ed-b5a8-641f13977bac",
   "metadata": {},
   "outputs": [
    {
     "name": "stdout",
     "output_type": "stream",
     "text": [
      "{'__module__': '__main__', '_Dog__counter': 3, '__init__': <function Dog.__init__ at 0x000001A2904BD440>, '__dict__': <attribute '__dict__' of 'Dog' objects>, '__weakref__': <attribute '__weakref__' of 'Dog' objects>, '__doc__': None}\n"
     ]
    }
   ],
   "source": [
    "print(Dog.__dict__)"
   ]
  },
  {
   "cell_type": "code",
   "execution_count": 26,
   "id": "920708b7-e469-4dfb-b45d-7899ca363fde",
   "metadata": {},
   "outputs": [
    {
     "name": "stdout",
     "output_type": "stream",
     "text": [
      "My pet has no name\n"
     ]
    }
   ],
   "source": [
    "class Dog():\n",
    "    counter = 0\n",
    "    def __init__(self,name,age):\n",
    "        self.__name = name\n",
    "        self.__age = age\n",
    "        Dog.counter += 1\n",
    "\n",
    "my_pet = Dog('Tom',5)\n",
    "\n",
    "if hasattr(my_pet,'name'):\n",
    "    print(\"My pet is called\",my_pet.name)\n",
    "else:\n",
    "    print(\"My pet has no name\")"
   ]
  },
  {
   "cell_type": "code",
   "execution_count": 40,
   "id": "8b55c6af-d012-49ca-802a-5f9dd14ea56f",
   "metadata": {},
   "outputs": [
    {
     "name": "stdout",
     "output_type": "stream",
     "text": [
      "My pet is called Tom\n",
      "The Dog class has a counter\n"
     ]
    }
   ],
   "source": [
    "class Dog():\n",
    "    counter = 0\n",
    "    def __init__(self,name,age):\n",
    "        self.name = name\n",
    "        self.age = age\n",
    "        Dog.counter += 1\n",
    "\n",
    "my_pet = Dog('Tom',5)\n",
    "\n",
    "if hasattr(my_pet,'name'):\n",
    "    print('My pet is called',my_pet.name)\n",
    "else:\n",
    "    print(\"My pet has no name\")\n",
    "\n",
    "if hasattr(Dog, 'counter'):\n",
    "    print('The Dog class has a counter')\n"
   ]
  },
  {
   "cell_type": "code",
   "execution_count": 34,
   "id": "a4aa9cad-0c92-4b97-a83d-bad6dcdb2d5f",
   "metadata": {},
   "outputs": [],
   "source": [
    "# hasattr() takes in an object or a class"
   ]
  },
  {
   "cell_type": "code",
   "execution_count": 38,
   "id": "16a13d1d-ca59-4a7b-881f-42d9a7e4ebf6",
   "metadata": {},
   "outputs": [
    {
     "name": "stdout",
     "output_type": "stream",
     "text": [
      "Dog\n"
     ]
    }
   ],
   "source": [
    "print(Dog.__name__)# teh name of the class"
   ]
  },
  {
   "cell_type": "code",
   "execution_count": 44,
   "id": "7f5f171d-5936-441d-bccd-2af1c6a116fc",
   "metadata": {},
   "outputs": [
    {
     "data": {
      "text/plain": [
       "'Dog'"
      ]
     },
     "execution_count": 44,
     "metadata": {},
     "output_type": "execute_result"
    }
   ],
   "source": [
    "type(my_pet).__name__# the name of the objects class"
   ]
  },
  {
   "cell_type": "code",
   "execution_count": 46,
   "id": "378e728b-8a66-407c-a18e-11722aa2ca4b",
   "metadata": {},
   "outputs": [
    {
     "name": "stdout",
     "output_type": "stream",
     "text": [
      "__main__\n"
     ]
    }
   ],
   "source": [
    "print(Dog.__module__)# in which module is the dog class"
   ]
  },
  {
   "cell_type": "code",
   "execution_count": null,
   "id": "3751f073-f365-4a16-9851-84ac37e3d50c",
   "metadata": {},
   "outputs": [],
   "source": []
  }
 ],
 "metadata": {
  "kernelspec": {
   "display_name": "Python [conda env:base] *",
   "language": "python",
   "name": "conda-base-py"
  },
  "language_info": {
   "codemirror_mode": {
    "name": "ipython",
    "version": 3
   },
   "file_extension": ".py",
   "mimetype": "text/x-python",
   "name": "python",
   "nbconvert_exporter": "python",
   "pygments_lexer": "ipython3",
   "version": "3.11.5"
  }
 },
 "nbformat": 4,
 "nbformat_minor": 5
}
