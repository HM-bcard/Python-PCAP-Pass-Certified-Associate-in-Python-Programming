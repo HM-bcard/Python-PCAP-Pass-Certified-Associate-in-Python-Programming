{
 "cells": [
  {
   "cell_type": "code",
   "execution_count": 11,
   "id": "9e04005a-55a6-4123-b36c-63d0ea435585",
   "metadata": {},
   "outputs": [],
   "source": [
    "class Vehicle:\n",
    "    class_message = 'Message from Vehicle Class'\n",
    "    def __init__(self,speed):\n",
    "        self.speed = speed\n",
    "\n",
    "class LandVehicle(Vehicle):# subclass of vehicle\n",
    "    def __init__(self,speed,wheel_count):\n",
    "        super().__init__(speed)\n",
    "        self.wheel_count = wheel_count\n",
    "        print(Vehicle.class_message) # accessing the superclass method using the dot notation\n",
    "\n",
    "class Car(LandVehicle):# subclass of LandVehicle\n",
    "    pass"
   ]
  },
  {
   "cell_type": "code",
   "execution_count": 9,
   "id": "1ce4a979-7c78-4c34-bc60-2f9faab156f7",
   "metadata": {},
   "outputs": [
    {
     "name": "stdout",
     "output_type": "stream",
     "text": [
      "Message from Vehicle Class\n"
     ]
    }
   ],
   "source": [
    "car_one = Car(4,50)"
   ]
  },
  {
   "cell_type": "code",
   "execution_count": 13,
   "id": "53a41f05-bde7-4ac0-9150-394d2ce72aa7",
   "metadata": {},
   "outputs": [],
   "source": [
    "class Vehicle:\n",
    "    class_message = 'Message from Vehicle Class'\n",
    "    def __init__(self,speed):\n",
    "        self.speed = speed\n",
    "\n",
    "class LandVehicle(Vehicle):# subclass of vehicle\n",
    "    def __init__(self,speed,wheel_count):\n",
    "        super().__init__(speed)\n",
    "        self.wheel_count = wheel_count\n",
    "        print(super().class_message) # accessing the superclass method using the dot notation\n",
    "\n",
    "class Car(LandVehicle):# subclass of LandVehicle\n",
    "    pass"
   ]
  },
  {
   "cell_type": "code",
   "execution_count": 15,
   "id": "f8117852-4317-4b3a-af25-8b33129eaab2",
   "metadata": {},
   "outputs": [
    {
     "name": "stdout",
     "output_type": "stream",
     "text": [
      "Message from Vehicle Class\n"
     ]
    }
   ],
   "source": [
    "car_two = Car(4,50)"
   ]
  },
  {
   "cell_type": "code",
   "execution_count": 17,
   "id": "ee8720b9-4f0b-4b9b-bc31-ecd3598b227c",
   "metadata": {},
   "outputs": [
    {
     "data": {
      "text/plain": [
       "'Message from Vehicle Class'"
      ]
     },
     "execution_count": 17,
     "metadata": {},
     "output_type": "execute_result"
    }
   ],
   "source": [
    "car_two.class_message"
   ]
  },
  {
   "cell_type": "code",
   "execution_count": 67,
   "id": "f68f2ee5-b39c-49fa-af92-5c35d305e1fb",
   "metadata": {},
   "outputs": [],
   "source": [
    "class Vehicle:\n",
    "    class_message = 'Message from Vehicle Class'\n",
    "    def __init__(self,speed):\n",
    "        self.speed = speed\n",
    "\n",
    "class LandVehicle(Vehicle):# subclass of vehicle\n",
    "    def __init__(self,speed,wheel_count):\n",
    "        super().__init__(speed)\n",
    "        self.wheel_count = wheel_count\n",
    "        print(super().class_message) # accessing the superclass method using the dot notation\n",
    "\n",
    "    def speed_up(self):\n",
    "        self.speed += 5\n",
    "\n",
    "class Car(LandVehicle):  # subclass of LandVehicle\n",
    "    def super_speed(self):\n",
    "        print('Super speed activated!')\n",
    "        super().speed_up()\n",
    "        super().speed_up()\n",
    "        super().speed_up()"
   ]
  },
  {
   "cell_type": "code",
   "execution_count": 69,
   "id": "b1c66687-1c15-45f8-82d6-d06d9d69b0b7",
   "metadata": {},
   "outputs": [
    {
     "name": "stdout",
     "output_type": "stream",
     "text": [
      "Message from Vehicle Class\n",
      "{'speed': 100, 'wheel_count': 4}\n"
     ]
    }
   ],
   "source": [
    "car_three = Car(100,4)\n",
    "print(car_three.__dict__)\n"
   ]
  },
  {
   "cell_type": "code",
   "execution_count": 75,
   "id": "216f99e8-c017-4af3-9a72-f4c164510b0d",
   "metadata": {},
   "outputs": [
    {
     "name": "stdout",
     "output_type": "stream",
     "text": [
      "Super speed activated!\n",
      "{'speed': 130, 'wheel_count': 4}\n"
     ]
    }
   ],
   "source": [
    "car_three.super_speed()\n",
    "print(car_three.__dict__)"
   ]
  },
  {
   "cell_type": "code",
   "execution_count": 77,
   "id": "78f374fc-55b1-4b67-9c66-46d5fdf25815",
   "metadata": {},
   "outputs": [
    {
     "name": "stdout",
     "output_type": "stream",
     "text": [
      "130\n"
     ]
    }
   ],
   "source": [
    "print(car_three.speed)"
   ]
  },
  {
   "cell_type": "code",
   "execution_count": null,
   "id": "4c92035d-a20c-40e9-8a52-ccf81f021cad",
   "metadata": {},
   "outputs": [],
   "source": []
  }
 ],
 "metadata": {
  "kernelspec": {
   "display_name": "Python [conda env:base] *",
   "language": "python",
   "name": "conda-base-py"
  },
  "language_info": {
   "codemirror_mode": {
    "name": "ipython",
    "version": 3
   },
   "file_extension": ".py",
   "mimetype": "text/x-python",
   "name": "python",
   "nbconvert_exporter": "python",
   "pygments_lexer": "ipython3",
   "version": "3.11.5"
  }
 },
 "nbformat": 4,
 "nbformat_minor": 5
}
