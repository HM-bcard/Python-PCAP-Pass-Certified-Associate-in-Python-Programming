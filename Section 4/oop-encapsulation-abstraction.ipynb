{
 "cells": [
  {
   "cell_type": "code",
   "execution_count": 3,
   "id": "6b5cb8f4-b68f-4680-a5f8-0d77c6890d63",
   "metadata": {},
   "outputs": [],
   "source": [
    "class Car():\n",
    "    def __init__(self,model,color,initial_speed):\n",
    "        self.model = model\n",
    "        self.color = color\n",
    "        self.speed = initial_speed\n",
    "        "
   ]
  },
  {
   "cell_type": "code",
   "execution_count": 5,
   "id": "159b6e03-c774-4100-9a7e-5e59b22a0b6e",
   "metadata": {},
   "outputs": [
    {
     "ename": "NameError",
     "evalue": "name 'sle' is not defined",
     "output_type": "error",
     "traceback": [
      "\u001b[1;31m---------------------------------------------------------------------------\u001b[0m",
      "\u001b[1;31mNameError\u001b[0m                                 Traceback (most recent call last)",
      "Cell \u001b[1;32mIn[5], line 1\u001b[0m\n\u001b[1;32m----> 1\u001b[0m my_car \u001b[38;5;241m=\u001b[39m Car(\u001b[38;5;124m'\u001b[39m\u001b[38;5;124mT-roc\u001b[39m\u001b[38;5;124m'\u001b[39m,\u001b[38;5;124m'\u001b[39m\u001b[38;5;124mred\u001b[39m\u001b[38;5;124m'\u001b[39m,\u001b[38;5;241m5\u001b[39m)\n",
      "Cell \u001b[1;32mIn[3], line 5\u001b[0m, in \u001b[0;36mCar.__init__\u001b[1;34m(self, model, color, initial_speed)\u001b[0m\n\u001b[0;32m      3\u001b[0m \u001b[38;5;28mself\u001b[39m\u001b[38;5;241m.\u001b[39mmodel \u001b[38;5;241m=\u001b[39m model\n\u001b[0;32m      4\u001b[0m \u001b[38;5;28mself\u001b[39m\u001b[38;5;241m.\u001b[39mcolor \u001b[38;5;241m=\u001b[39m color\n\u001b[1;32m----> 5\u001b[0m sle\u001b[38;5;241m.\u001b[39mspeed \u001b[38;5;241m=\u001b[39m initial_speed\n",
      "\u001b[1;31mNameError\u001b[0m: name 'sle' is not defined"
     ]
    }
   ],
   "source": [
    "my_car = Car('T-roc','red',5)"
   ]
  },
  {
   "cell_type": "code",
   "execution_count": 7,
   "id": "13e25f6f-f11a-4632-b658-7da60b821370",
   "metadata": {},
   "outputs": [],
   "source": [
    "class Car():\n",
    "    def __init__(self,model,color,initial_speed = 0):\n",
    "        self.model = model\n",
    "        self.color = color\n",
    "        self.speed = initial_speed"
   ]
  },
  {
   "cell_type": "code",
   "execution_count": 9,
   "id": "f44d71cc-9d10-46d4-9a67-59a134c7da39",
   "metadata": {},
   "outputs": [],
   "source": [
    "class Car():\n",
    "    def __init__(self,model,color,initial_speed = 0):\n",
    "        self.model = model\n",
    "        self.color = color\n",
    "        self.speed = initial_speed\n",
    "    def speed_up(self):\n",
    "        self.speed +=5\n",
    "    def slow_down(self):\n",
    "        self.speed -= 5\n",
    "    def show_speed(self):\n",
    "        print('Current speed: ', self.speed)\n",
    "    "
   ]
  },
  {
   "cell_type": "code",
   "execution_count": 11,
   "id": "52c31333-82a6-440f-9c65-aae8ceb375de",
   "metadata": {},
   "outputs": [
    {
     "name": "stdout",
     "output_type": "stream",
     "text": [
      "Current speed:  10\n"
     ]
    }
   ],
   "source": [
    "my_car = Car('T-roc','red')\n",
    "my_car.speed_up()\n",
    "my_car.speed_up()\n",
    "my_car.show_speed()"
   ]
  },
  {
   "cell_type": "code",
   "execution_count": null,
   "id": "f7d343c0-774b-45ea-8b88-45c94fcb3652",
   "metadata": {},
   "outputs": [],
   "source": []
  }
 ],
 "metadata": {
  "kernelspec": {
   "display_name": "Python [conda env:base] *",
   "language": "python",
   "name": "conda-base-py"
  },
  "language_info": {
   "codemirror_mode": {
    "name": "ipython",
    "version": 3
   },
   "file_extension": ".py",
   "mimetype": "text/x-python",
   "name": "python",
   "nbconvert_exporter": "python",
   "pygments_lexer": "ipython3",
   "version": "3.11.5"
  }
 },
 "nbformat": 4,
 "nbformat_minor": 5
}
