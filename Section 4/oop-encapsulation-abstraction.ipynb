{
 "cells": [
  {
   "cell_type": "code",
   "execution_count": 46,
   "id": "6b5cb8f4-b68f-4680-a5f8-0d77c6890d63",
   "metadata": {},
   "outputs": [],
   "source": [
    "class Car():\n",
    "    def __init__(self,model,color,initial_speed = 0):\n",
    "        self.model = model\n",
    "        self.color = color\n",
    "        if initial_speed < 0:\n",
    "            self.speed = 0\n",
    "        else:\n",
    "            self.speed = initial_speed\n",
    "        "
   ]
  },
  {
   "cell_type": "code",
   "execution_count": 48,
   "id": "159b6e03-c774-4100-9a7e-5e59b22a0b6e",
   "metadata": {},
   "outputs": [],
   "source": [
    "my_car = Car('T-roc','red',5)"
   ]
  },
  {
   "cell_type": "code",
   "execution_count": 50,
   "id": "13e25f6f-f11a-4632-b658-7da60b821370",
   "metadata": {},
   "outputs": [],
   "source": [
    "class Car():\n",
    "    def __init__(self,model,color,initial_speed = 0):\n",
    "        self.model = model\n",
    "        self.color = color\n",
    "        self.speed = initial_speed"
   ]
  },
  {
   "cell_type": "code",
   "execution_count": 58,
   "id": "f44d71cc-9d10-46d4-9a67-59a134c7da39",
   "metadata": {},
   "outputs": [],
   "source": [
    "class Car():\n",
    "    def __init__(self,model,color,initial_speed = 0):\n",
    "        self.model = model\n",
    "        self.color = color\n",
    "        if initial_speed < 0: # modifying the initial speed so that speed below 0 is impossible to input\n",
    "            self.speed = 0\n",
    "        else:\n",
    "            self.speed = initial_speed\n",
    "    def speed_up(self):\n",
    "        self.speed +=5\n",
    "    def slow_down(self):\n",
    "        if self.speed < 5:\n",
    "            self.speed = 0\n",
    "        else:\n",
    "            self.speed -= 5\n",
    "    def show_speed(self):\n",
    "        print('Current speed: ', self.speed)\n",
    "    "
   ]
  },
  {
   "cell_type": "code",
   "execution_count": 60,
   "id": "52c31333-82a6-440f-9c65-aae8ceb375de",
   "metadata": {},
   "outputs": [
    {
     "name": "stdout",
     "output_type": "stream",
     "text": [
      "Current speed:  0\n"
     ]
    }
   ],
   "source": [
    "my_car = Car('T-roc','red')\n",
    "my_car.speed_up()\n",
    "my_car.speed_up()\n",
    "for i in range(4):\n",
    "    my_car.speed_up()\n",
    "for i in range(10):\n",
    "    my_car.slow_down()\n",
    "my_car.show_speed()"
   ]
  },
  {
   "cell_type": "code",
   "execution_count": 64,
   "id": "f7d343c0-774b-45ea-8b88-45c94fcb3652",
   "metadata": {},
   "outputs": [
    {
     "name": "stdout",
     "output_type": "stream",
     "text": [
      "Current speed:  -10\n"
     ]
    }
   ],
   "source": [
    "my_car = Car('T-roc','red',-50)\n",
    "my_car.speed = -10\n",
    "my_car.show_speed()"
   ]
  },
  {
   "cell_type": "code",
   "execution_count": 70,
   "id": "12f01818-003c-4d1a-a9ff-88a5f5586cf5",
   "metadata": {},
   "outputs": [],
   "source": [
    "# private properties:\n",
    "# refactoring the class:\n",
    "class Car():\n",
    "    def __init__(self,model,color,initial_speed = 0):\n",
    "        self.model = model\n",
    "        self.color = color\n",
    "        if initial_speed < 0: # modifying the initial speed so that speed below 0 is impossible to input\n",
    "            self.__speed = 0\n",
    "        else:\n",
    "            self.__speed = initial_speed\n",
    "    def speed_up(self):\n",
    "        self.__speed +=5\n",
    "    def slow_down(self):\n",
    "        if self.__speed < 5:\n",
    "            self.__speed = 0\n",
    "        else:\n",
    "            self.__speed -= 5\n",
    "    def show_speed(self):\n",
    "        print('Current speed: ', self.__speed)# change everywhere"
   ]
  },
  {
   "cell_type": "code",
   "execution_count": 72,
   "id": "01238f37-b39d-4dcd-bec9-941b129a5824",
   "metadata": {},
   "outputs": [
    {
     "name": "stdout",
     "output_type": "stream",
     "text": [
      "Current speed:  0\n"
     ]
    }
   ],
   "source": [
    "my_car = Car('T-roc','red',-50)\n",
    "my_car.speed = -10\n",
    "my_car.show_speed()"
   ]
  },
  {
   "cell_type": "code",
   "execution_count": null,
   "id": "f05a3791-71b0-422d-bd55-0895448c1fd7",
   "metadata": {},
   "outputs": [],
   "source": []
  }
 ],
 "metadata": {
  "kernelspec": {
   "display_name": "Python [conda env:base] *",
   "language": "python",
   "name": "conda-base-py"
  },
  "language_info": {
   "codemirror_mode": {
    "name": "ipython",
    "version": 3
   },
   "file_extension": ".py",
   "mimetype": "text/x-python",
   "name": "python",
   "nbconvert_exporter": "python",
   "pygments_lexer": "ipython3",
   "version": "3.11.5"
  }
 },
 "nbformat": 4,
 "nbformat_minor": 5
}
