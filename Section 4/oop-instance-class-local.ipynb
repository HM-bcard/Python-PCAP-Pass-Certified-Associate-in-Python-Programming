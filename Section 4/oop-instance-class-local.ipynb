{
 "cells": [
  {
   "cell_type": "code",
   "execution_count": 3,
   "id": "8d2e9f47-f7ed-41c7-867b-0c22ef561bee",
   "metadata": {},
   "outputs": [
    {
     "name": "stdout",
     "output_type": "stream",
     "text": [
      "The house at 12 Lexington St, Soho has an area of 130 and costs 540000\n",
      "1\n"
     ]
    }
   ],
   "source": [
    "class House():\n",
    "    counter = 0\n",
    "    def __init__(self,address,area,price):\n",
    "        self.address = address\n",
    "        self.area = area\n",
    "        self.price = price\n",
    "        House.counter += 1\n",
    "    def present(self):\n",
    "        print('The house at',self.address,'has an area of',self.area, 'and costs',self.price)\n",
    "\n",
    "soho_house = House('12 Lexington St, Soho', 130, 540000)\n",
    "soho_house.present()\n",
    "\n",
    "print(House.counter)"
   ]
  },
  {
   "cell_type": "code",
   "execution_count": null,
   "id": "94a6b6ef-2ee9-45f0-b289-43aeaef1a586",
   "metadata": {},
   "outputs": [],
   "source": []
  }
 ],
 "metadata": {
  "kernelspec": {
   "display_name": "Python [conda env:base] *",
   "language": "python",
   "name": "conda-base-py"
  },
  "language_info": {
   "codemirror_mode": {
    "name": "ipython",
    "version": 3
   },
   "file_extension": ".py",
   "mimetype": "text/x-python",
   "name": "python",
   "nbconvert_exporter": "python",
   "pygments_lexer": "ipython3",
   "version": "3.11.5"
  }
 },
 "nbformat": 4,
 "nbformat_minor": 5
}
