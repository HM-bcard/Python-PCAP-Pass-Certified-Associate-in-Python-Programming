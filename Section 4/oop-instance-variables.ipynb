{
 "cells": [
  {
   "cell_type": "code",
   "execution_count": 7,
   "id": "6e5565b7-5acb-49f6-9de3-d70f59593c55",
   "metadata": {},
   "outputs": [],
   "source": [
    "class Dog():\n",
    "    def __init__(self,name,age):\n",
    "        self.name = name\n",
    "        self.age = age\n",
    "\n",
    "    "
   ]
  },
  {
   "cell_type": "code",
   "execution_count": 9,
   "id": "a4956643-df4b-410e-b567-f5afd64b7fd9",
   "metadata": {},
   "outputs": [
    {
     "data": {
      "text/plain": [
       "{'name': 'Teddy', 'age': 2}"
      ]
     },
     "execution_count": 9,
     "metadata": {},
     "output_type": "execute_result"
    }
   ],
   "source": [
    "my_pet = Dog('Teddy',2)\n",
    "my_pet.__dict__"
   ]
  },
  {
   "cell_type": "code",
   "execution_count": 11,
   "id": "8a0784f8-720d-4dcd-b590-7f9d3537b585",
   "metadata": {},
   "outputs": [
    {
     "data": {
      "text/plain": [
       "{'name': 'Teddy', 'age': 2, 'colour': 'brown'}"
      ]
     },
     "execution_count": 11,
     "metadata": {},
     "output_type": "execute_result"
    }
   ],
   "source": [
    "my_pet.colour = 'brown'# manually adding a variable to a class\n",
    "#my_pet = Dog('Teddy',2)\n",
    "my_pet.__dict__"
   ]
  },
  {
   "cell_type": "code",
   "execution_count": 13,
   "id": "33b0180b-19ab-44ba-987e-596077ccbd54",
   "metadata": {},
   "outputs": [
    {
     "data": {
      "text/plain": [
       "{'age': 2, 'colour': 'brown'}"
      ]
     },
     "execution_count": 13,
     "metadata": {},
     "output_type": "execute_result"
    }
   ],
   "source": [
    "del my_pet.name\n",
    "#my_pet = Dog('Teddy',2)\n",
    "my_pet.__dict__"
   ]
  },
  {
   "cell_type": "code",
   "execution_count": 15,
   "id": "3ae05f9a-3492-44fd-95ed-a57356782675",
   "metadata": {},
   "outputs": [],
   "source": [
    "class Dog():\n",
    "    def __init__(self,name,age):\n",
    "        self.__name = name\n",
    "        self.age = age"
   ]
  },
  {
   "cell_type": "code",
   "execution_count": 17,
   "id": "b1d99572-72b8-4acd-a571-cdd4df5b786f",
   "metadata": {},
   "outputs": [
    {
     "data": {
      "text/plain": [
       "{'_Dog__name': 'Teddy', 'age': 2, 'colour': 'brown'}"
      ]
     },
     "execution_count": 17,
     "metadata": {},
     "output_type": "execute_result"
    }
   ],
   "source": [
    "my_pet = Dog('Teddy',2)\n",
    "my_pet.colour = 'brown'# manually adding a variable to a class\n",
    "\n",
    "my_pet.__dict__"
   ]
  },
  {
   "cell_type": "code",
   "execution_count": 19,
   "id": "6a2ba2cc-01b0-491e-9a53-3052385bbf49",
   "metadata": {},
   "outputs": [],
   "source": [
    "# private variable has been undersocred with the class name\n"
   ]
  },
  {
   "cell_type": "code",
   "execution_count": 21,
   "id": "62ce390b-1caa-4906-ae60-be164cbecbb7",
   "metadata": {},
   "outputs": [
    {
     "name": "stdout",
     "output_type": "stream",
     "text": [
      "{'_Dog__name': 'Teddy', 'age': 2, 'colour': 'brown'}\n"
     ]
    },
    {
     "ename": "AttributeError",
     "evalue": "'Dog' object has no attribute '__name__'",
     "output_type": "error",
     "traceback": [
      "\u001b[1;31m---------------------------------------------------------------------------\u001b[0m",
      "\u001b[1;31mAttributeError\u001b[0m                            Traceback (most recent call last)",
      "Cell \u001b[1;32mIn[21], line 2\u001b[0m\n\u001b[0;32m      1\u001b[0m \u001b[38;5;28mprint\u001b[39m(my_pet\u001b[38;5;241m.\u001b[39m\u001b[38;5;18m__dict__\u001b[39m)\n\u001b[1;32m----> 2\u001b[0m \u001b[38;5;28mprint\u001b[39m(my_pet\u001b[38;5;241m.\u001b[39m\u001b[38;5;18m__name__\u001b[39m)\n",
      "\u001b[1;31mAttributeError\u001b[0m: 'Dog' object has no attribute '__name__'"
     ]
    }
   ],
   "source": [
    "print(my_pet.__dict__)\n",
    "print(my_pet.__name__)"
   ]
  },
  {
   "cell_type": "code",
   "execution_count": 23,
   "id": "3bcef8b0-43fd-4d10-a4fa-0fcfbf5a37f1",
   "metadata": {},
   "outputs": [
    {
     "name": "stdout",
     "output_type": "stream",
     "text": [
      "{'_Dog__name': 'Teddy', 'age': 2, 'colour': 'brown'}\n"
     ]
    }
   ],
   "source": [
    "print(my_pet.__dict__)\n",
    "#print(my_pet.__name)"
   ]
  },
  {
   "cell_type": "code",
   "execution_count": 25,
   "id": "f249c4a3-b24c-4076-959f-63704af07581",
   "metadata": {},
   "outputs": [
    {
     "name": "stdout",
     "output_type": "stream",
     "text": [
      "{'_Dog__name': 'Teddy', 'age': 2, 'colour': 'brown'}\n",
      "Teddy\n"
     ]
    }
   ],
   "source": [
    "print(my_pet.__dict__)\n",
    "print(my_pet._Dog__name)"
   ]
  },
  {
   "cell_type": "code",
   "execution_count": 65,
   "id": "fd8b3aaf-2c39-4237-95bd-7aabfc277232",
   "metadata": {},
   "outputs": [
    {
     "name": "stdout",
     "output_type": "stream",
     "text": [
      "{'_Dog__name': 'Teddy', 'age': 2, 'colour': 'brown', '__breed': 'Bulldog'}\n"
     ]
    }
   ],
   "source": [
    "my_pet.__breed = 'Bulldog'\n",
    "print(my_pet.__dict__)"
   ]
  },
  {
   "cell_type": "code",
   "execution_count": null,
   "id": "c9d93af0-4ee5-4532-a7fb-6203a221551a",
   "metadata": {},
   "outputs": [],
   "source": []
  }
 ],
 "metadata": {
  "kernelspec": {
   "display_name": "Python [conda env:base] *",
   "language": "python",
   "name": "conda-base-py"
  },
  "language_info": {
   "codemirror_mode": {
    "name": "ipython",
    "version": 3
   },
   "file_extension": ".py",
   "mimetype": "text/x-python",
   "name": "python",
   "nbconvert_exporter": "python",
   "pygments_lexer": "ipython3",
   "version": "3.11.5"
  }
 },
 "nbformat": 4,
 "nbformat_minor": 5
}
