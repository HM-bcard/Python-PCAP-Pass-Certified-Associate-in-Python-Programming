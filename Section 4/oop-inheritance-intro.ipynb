{
 "cells": [
  {
   "cell_type": "code",
   "execution_count": 1,
   "id": "ee929028-8969-4e2e-a382-7ca12008e69e",
   "metadata": {},
   "outputs": [],
   "source": [
    "class Vehicle:\n",
    "    pass"
   ]
  },
  {
   "cell_type": "code",
   "execution_count": 5,
   "id": "19542a8b-8b21-41e1-a1bd-db844985842a",
   "metadata": {},
   "outputs": [],
   "source": [
    "class LandVehicle(Vehicle):# subclass of vehicle\n",
    "    pass"
   ]
  },
  {
   "cell_type": "code",
   "execution_count": 11,
   "id": "c6d4c2c5-1f5c-4040-ae76-0fe8fd6fad63",
   "metadata": {},
   "outputs": [],
   "source": [
    "class Car(LandVehicle):# subclass of LandVehicle\n",
    "    pass"
   ]
  },
  {
   "cell_type": "code",
   "execution_count": 15,
   "id": "084ec7ca-3f41-40af-8914-4e1f6f204aa9",
   "metadata": {},
   "outputs": [
    {
     "data": {
      "text/plain": [
       "False"
      ]
     },
     "execution_count": 15,
     "metadata": {},
     "output_type": "execute_result"
    }
   ],
   "source": [
    "issubclass(Vehicle,LandVehicle)"
   ]
  },
  {
   "cell_type": "code",
   "execution_count": 17,
   "id": "c0b711cf-9a16-4ba2-ae34-11850dc9b812",
   "metadata": {},
   "outputs": [
    {
     "data": {
      "text/plain": [
       "True"
      ]
     },
     "execution_count": 17,
     "metadata": {},
     "output_type": "execute_result"
    }
   ],
   "source": [
    "issubclass(LandVehicle,Vehicle)"
   ]
  },
  {
   "cell_type": "code",
   "execution_count": 19,
   "id": "2a4220a2-78da-47b7-b2eb-307581c0a5d8",
   "metadata": {},
   "outputs": [
    {
     "data": {
      "text/plain": [
       "True"
      ]
     },
     "execution_count": 19,
     "metadata": {},
     "output_type": "execute_result"
    }
   ],
   "source": [
    "issubclass(Car,Vehicle)"
   ]
  },
  {
   "cell_type": "code",
   "execution_count": 21,
   "id": "cfca99a3-ab3c-461b-b1a1-1e5f6b8d428d",
   "metadata": {},
   "outputs": [
    {
     "data": {
      "text/plain": [
       "True"
      ]
     },
     "execution_count": 21,
     "metadata": {},
     "output_type": "execute_result"
    }
   ],
   "source": [
    "issubclass(Car,Car)"
   ]
  },
  {
   "cell_type": "code",
   "execution_count": null,
   "id": "51ed424a-c13f-4cb0-a610-99d5a3bc6935",
   "metadata": {},
   "outputs": [],
   "source": []
  }
 ],
 "metadata": {
  "kernelspec": {
   "display_name": "Python [conda env:base] *",
   "language": "python",
   "name": "conda-base-py"
  },
  "language_info": {
   "codemirror_mode": {
    "name": "ipython",
    "version": 3
   },
   "file_extension": ".py",
   "mimetype": "text/x-python",
   "name": "python",
   "nbconvert_exporter": "python",
   "pygments_lexer": "ipython3",
   "version": "3.11.5"
  }
 },
 "nbformat": 4,
 "nbformat_minor": 5
}
