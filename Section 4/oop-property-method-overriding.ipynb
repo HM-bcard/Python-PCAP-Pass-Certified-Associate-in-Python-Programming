{
 "cells": [
  {
   "cell_type": "code",
   "execution_count": 1,
   "id": "baef73aa-591f-4e18-81a7-5e071df0cc16",
   "metadata": {},
   "outputs": [],
   "source": [
    "class Animal:\n",
    "    def __init__(self):\n",
    "        self.species = 'general'\n",
    "    def produce_sound(self):\n",
    "        print('General animal sound')\n",
    "\n",
    "class Dog(Animal):\n",
    "    pass"
   ]
  },
  {
   "cell_type": "code",
   "execution_count": 3,
   "id": "ba3d9a4c-1440-4537-8798-fb7d299be25e",
   "metadata": {},
   "outputs": [],
   "source": [
    "my_pet = Dog()"
   ]
  },
  {
   "cell_type": "code",
   "execution_count": 5,
   "id": "a2f858b3-572d-4a71-95bd-463a24c212bf",
   "metadata": {},
   "outputs": [
    {
     "name": "stdout",
     "output_type": "stream",
     "text": [
      "general\n",
      "General animal sound\n"
     ]
    }
   ],
   "source": [
    "print(my_pet.species)\n",
    "my_pet.produce_sound()"
   ]
  },
  {
   "cell_type": "code",
   "execution_count": 7,
   "id": "80b0eea8-eaa5-4f3d-b715-fbd85984ae19",
   "metadata": {},
   "outputs": [],
   "source": [
    "class Animal:\n",
    "    def __init__(self):\n",
    "        self.species = 'general'\n",
    "    def produce_sound(self):\n",
    "        print('General animal sound')\n",
    "\n",
    "class Dog(Animal):\n",
    "    def __init__(self):\n",
    "        self.species = 'Canis familiaris' # superclass method overridden\n",
    "\n",
    "    def produce_sound(self):\n",
    "        print('woof woof')\n",
    "    pass"
   ]
  },
  {
   "cell_type": "code",
   "execution_count": 9,
   "id": "bf202c0b-adb5-4186-97ce-6420c275db88",
   "metadata": {},
   "outputs": [
    {
     "name": "stdout",
     "output_type": "stream",
     "text": [
      "Canis familiaris\n",
      "woof woof\n"
     ]
    }
   ],
   "source": [
    "my_pet = Dog()\n",
    "print(my_pet.species)\n",
    "my_pet.produce_sound()"
   ]
  },
  {
   "cell_type": "code",
   "execution_count": 11,
   "id": "3968bdce-33b7-40e7-9617-f9cb7088b2f6",
   "metadata": {},
   "outputs": [],
   "source": [
    "first_pet = Animal()"
   ]
  },
  {
   "cell_type": "code",
   "execution_count": 13,
   "id": "f8c1e2d2-39a9-42d3-b4f4-effd29b2a3c7",
   "metadata": {},
   "outputs": [],
   "source": [
    "second_pet = Dog()"
   ]
  },
  {
   "cell_type": "code",
   "execution_count": 15,
   "id": "a017d9e0-7677-43ec-89e8-a3629b17016f",
   "metadata": {},
   "outputs": [
    {
     "name": "stdout",
     "output_type": "stream",
     "text": [
      "General animal sound\n",
      "woof woof\n"
     ]
    }
   ],
   "source": [
    "first_pet.produce_sound()\n",
    "second_pet.produce_sound()"
   ]
  },
  {
   "cell_type": "code",
   "execution_count": 17,
   "id": "fb206fc9-185a-431e-afc6-3fdeed0b57b1",
   "metadata": {},
   "outputs": [],
   "source": [
    "class Animal:\n",
    "    def __init__(self):\n",
    "        self.species = 'general'\n",
    "    def produce_sound(self):\n",
    "        print('General animal sound')\n",
    "    def present(self):\n",
    "        print('I can do the following sound: ')\n",
    "        self.produce_sound()\n",
    "class Dog(Animal):\n",
    "    def __init__(self):\n",
    "        self.species = 'Canis familiaris' # superclass method overridden\n",
    "\n",
    "    def produce_sound(self):\n",
    "        print('woof woof')\n",
    "    pass"
   ]
  },
  {
   "cell_type": "code",
   "execution_count": 21,
   "id": "11f81f79-d4d4-4e55-91b6-f5da89550827",
   "metadata": {},
   "outputs": [],
   "source": [
    "third_pet = Dog()"
   ]
  },
  {
   "cell_type": "code",
   "execution_count": 23,
   "id": "f833d294-8c6a-4f1c-8d81-5045ab77b45b",
   "metadata": {},
   "outputs": [
    {
     "name": "stdout",
     "output_type": "stream",
     "text": [
      "I can do the following sound: \n",
      "woof woof\n"
     ]
    }
   ],
   "source": [
    "third_pet.present()"
   ]
  },
  {
   "cell_type": "code",
   "execution_count": null,
   "id": "767fe25b-3118-4ecb-82be-e92dba0c9819",
   "metadata": {},
   "outputs": [],
   "source": []
  }
 ],
 "metadata": {
  "kernelspec": {
   "display_name": "Python [conda env:base] *",
   "language": "python",
   "name": "conda-base-py"
  },
  "language_info": {
   "codemirror_mode": {
    "name": "ipython",
    "version": 3
   },
   "file_extension": ".py",
   "mimetype": "text/x-python",
   "name": "python",
   "nbconvert_exporter": "python",
   "pygments_lexer": "ipython3",
   "version": "3.11.5"
  }
 },
 "nbformat": 4,
 "nbformat_minor": 5
}
