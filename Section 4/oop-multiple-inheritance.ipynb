{
 "cells": [
  {
   "cell_type": "code",
   "execution_count": 49,
   "id": "e8829e13-b2fe-43a0-8621-78c0b3d2e658",
   "metadata": {},
   "outputs": [],
   "source": [
    "class Vehicle:\n",
    "    def go(self):\n",
    "           print('Going')\n",
    "\n",
    "class Flyable:\n",
    "    def fly(self):\n",
    "        print('Flying')\n",
    "\n",
    "class Airplane(Vehicle,Flyable):  # inherits from two classes\n",
    "    pass"
   ]
  },
  {
   "cell_type": "code",
   "execution_count": 51,
   "id": "ae8c8264-4cbd-461d-a541-ed60964b92c6",
   "metadata": {},
   "outputs": [
    {
     "name": "stdout",
     "output_type": "stream",
     "text": [
      "Going\n",
      "Flying\n"
     ]
    }
   ],
   "source": [
    "my_plane = Airplane()\n",
    "my_plane.go()\n",
    "my_plane.fly()"
   ]
  },
  {
   "cell_type": "code",
   "execution_count": 53,
   "id": "3d865bc4-3821-496f-b031-9b6fa0e7bb4e",
   "metadata": {},
   "outputs": [],
   "source": [
    "class Vehicle:\n",
    "    def go(self):\n",
    "           print('Going')\n",
    "    def introduce(self):\n",
    "        print('I am a vehicle')\n",
    "class Flyable:\n",
    "    def fly(self):\n",
    "        print('Flying')\n",
    "\n",
    "    def introduce(self):\n",
    "        print('I am a Flyable')\n",
    "\n",
    "class Airplane(Vehicle,Flyable):  # inherits from two classes\n",
    "    pass"
   ]
  },
  {
   "cell_type": "code",
   "execution_count": 80,
   "id": "963c9dcb-8d45-446e-a168-e593d7651cf6",
   "metadata": {},
   "outputs": [
    {
     "ename": "AttributeError",
     "evalue": "'Airplane' object has no attribute 'introduce'",
     "output_type": "error",
     "traceback": [
      "\u001b[1;31m---------------------------------------------------------------------------\u001b[0m",
      "\u001b[1;31mAttributeError\u001b[0m                            Traceback (most recent call last)",
      "Cell \u001b[1;32mIn[80], line 2\u001b[0m\n\u001b[0;32m      1\u001b[0m my_plane \u001b[38;5;241m=\u001b[39m Airplane()\n\u001b[1;32m----> 2\u001b[0m my_plane\u001b[38;5;241m.\u001b[39mintroduce()\n",
      "\u001b[1;31mAttributeError\u001b[0m: 'Airplane' object has no attribute 'introduce'"
     ]
    }
   ],
   "source": [
    "my_plane = Airplane()\n",
    "my_plane.introduce()  # invokes the first instance"
   ]
  },
  {
   "cell_type": "markdown",
   "id": "2cecb43b-e508-4470-8810-1c579f7e7035",
   "metadata": {},
   "source": [
    "## MRO  Method resolution order"
   ]
  },
  {
   "cell_type": "markdown",
   "id": "3d28eaa4-5a26-4e4d-8d6b-d85186088fbf",
   "metadata": {},
   "source": [
    "### MRO is a way of prioritizing the attributes and inheritance in python\n",
    "Rules:\n",
    "1.object self\n",
    "2.super_classes \n",
    "    if same names - left to right\n",
    "3.error\n",
    "\n",
    "\n",
    "\n"
   ]
  },
  {
   "cell_type": "code",
   "execution_count": 63,
   "id": "f8e910c6-84c6-4b61-a2f4-235dcd0f6f3b",
   "metadata": {},
   "outputs": [],
   "source": [
    "class Vehicle:\n",
    "    def go(self):\n",
    "           print('Going')\n",
    "    def introduce(self):\n",
    "        print('I am a vehicle')\n",
    "class Flyable:\n",
    "    def fly(self):\n",
    "        print('Flying')\n",
    "\n",
    "    def introduce(self):\n",
    "        print('I am a Flyable')\n",
    "\n",
    "class Airplane(Flyable,Vehicle):  # inherits from two classes\n",
    "    pass"
   ]
  },
  {
   "cell_type": "code",
   "execution_count": 65,
   "id": "cc55beb7-0621-42cb-9e85-50f07704fff3",
   "metadata": {},
   "outputs": [
    {
     "name": "stdout",
     "output_type": "stream",
     "text": [
      "I am a Flyable\n"
     ]
    }
   ],
   "source": [
    "my_plane = Airplane()\n",
    "my_plane.introduce()  # invokes the first instance"
   ]
  },
  {
   "cell_type": "code",
   "execution_count": 84,
   "id": "b29ea27d-e83c-4f5d-8d4e-c4ef1e474cdb",
   "metadata": {},
   "outputs": [],
   "source": [
    "class Vehicle:\n",
    "    def go(self):\n",
    "           print('Going')\n",
    "    #def introduce(self):\n",
    "      #  print('I am a vehicle')\n",
    "class Flyable:\n",
    "    def fly(self):\n",
    "        print('Flying')\n",
    "\n",
    "   # def introduce(self):\n",
    "      #  print('I am a Flyable')\n",
    "\n",
    "class Airplane(Flyable,Vehicle):  # inherits from two classes\n",
    "    pass\n",
    "   # def introduce(self):\n",
    "        #print('I am an airplane')"
   ]
  },
  {
   "cell_type": "code",
   "execution_count": 86,
   "id": "e54c769c-8aad-493b-8afb-8e98b13e6223",
   "metadata": {},
   "outputs": [
    {
     "ename": "AttributeError",
     "evalue": "'Airplane' object has no attribute 'introduce'",
     "output_type": "error",
     "traceback": [
      "\u001b[1;31m---------------------------------------------------------------------------\u001b[0m",
      "\u001b[1;31mAttributeError\u001b[0m                            Traceback (most recent call last)",
      "Cell \u001b[1;32mIn[86], line 2\u001b[0m\n\u001b[0;32m      1\u001b[0m my_plane \u001b[38;5;241m=\u001b[39m Airplane()\n\u001b[1;32m----> 2\u001b[0m my_plane\u001b[38;5;241m.\u001b[39mintroduce()\n",
      "\u001b[1;31mAttributeError\u001b[0m: 'Airplane' object has no attribute 'introduce'"
     ]
    }
   ],
   "source": [
    "my_plane = Airplane()\n",
    "my_plane.introduce()  # invokes the first instance"
   ]
  },
  {
   "cell_type": "code",
   "execution_count": 88,
   "id": "ae57eca0-6eca-4fe0-941e-e187adea83fb",
   "metadata": {},
   "outputs": [],
   "source": [
    "## Most languages don't allow multiple inheritence at all\n",
    "## Try to use single inheritence if possible"
   ]
  },
  {
   "cell_type": "code",
   "execution_count": null,
   "id": "c5cee7b8-c4a7-4f68-ba8a-f8d53bc5943e",
   "metadata": {},
   "outputs": [],
   "source": []
  },
  {
   "cell_type": "code",
   "execution_count": 91,
   "id": "64d34576-8684-4d79-81c5-c67a9302d0fc",
   "metadata": {},
   "outputs": [],
   "source": [
    "# __bases__ property:\n",
    "\n",
    "# returns a tuple with all the base classes that the given class inherits from\n",
    "\n"
   ]
  },
  {
   "cell_type": "code",
   "execution_count": 95,
   "id": "90bdf189-41fd-47a0-9246-1bb7536ba65d",
   "metadata": {},
   "outputs": [
    {
     "data": {
      "text/plain": [
       "(__main__.Flyable, __main__.Vehicle)"
      ]
     },
     "execution_count": 95,
     "metadata": {},
     "output_type": "execute_result"
    }
   ],
   "source": [
    "Airplane.__bases__"
   ]
  },
  {
   "cell_type": "code",
   "execution_count": 97,
   "id": "fa8fb1fc-e24a-446e-9d1b-3ee670825c54",
   "metadata": {},
   "outputs": [
    {
     "name": "stdout",
     "output_type": "stream",
     "text": [
      "(<class '__main__.Flyable'>, <class '__main__.Vehicle'>)\n"
     ]
    }
   ],
   "source": [
    "print(Airplane.__bases__)"
   ]
  },
  {
   "cell_type": "code",
   "execution_count": 99,
   "id": "a43f4c7a-99ab-47c9-8b19-108342e08e17",
   "metadata": {},
   "outputs": [
    {
     "name": "stdout",
     "output_type": "stream",
     "text": [
      "(<class 'object'>,)\n"
     ]
    }
   ],
   "source": [
    "print(Vehicle.__bases__)"
   ]
  },
  {
   "cell_type": "code",
   "execution_count": null,
   "id": "614ade95-22a3-450d-b17b-a9c2805e9b5d",
   "metadata": {},
   "outputs": [],
   "source": []
  }
 ],
 "metadata": {
  "kernelspec": {
   "display_name": "Python [conda env:base] *",
   "language": "python",
   "name": "conda-base-py"
  },
  "language_info": {
   "codemirror_mode": {
    "name": "ipython",
    "version": 3
   },
   "file_extension": ".py",
   "mimetype": "text/x-python",
   "name": "python",
   "nbconvert_exporter": "python",
   "pygments_lexer": "ipython3",
   "version": "3.11.5"
  }
 },
 "nbformat": 4,
 "nbformat_minor": 5
}
