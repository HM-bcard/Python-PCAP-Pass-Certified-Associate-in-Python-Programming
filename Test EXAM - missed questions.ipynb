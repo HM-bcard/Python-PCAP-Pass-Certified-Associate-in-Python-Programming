{
 "cells": [
  {
   "cell_type": "code",
   "execution_count": 1,
   "id": "51f735be-8b08-44c1-8cac-bf26fec1fb32",
   "metadata": {},
   "outputs": [
    {
     "name": "stdout",
     "output_type": "stream",
     "text": [
      "Adam-Mary-Kate\n"
     ]
    }
   ],
   "source": [
    "inpt = ['Adam', 'Mary', 'Kate']\n",
    "res = '-'.join(inpt)\n",
    "print(res)"
   ]
  },
  {
   "cell_type": "code",
   "execution_count": 3,
   "id": "c5539d93-664a-443d-b041-970a550a9e55",
   "metadata": {},
   "outputs": [
    {
     "name": "stdout",
     "output_type": "stream",
     "text": [
      "12\n"
     ]
    }
   ],
   "source": [
    "    txt = 'aga aga aga aga'\n",
    "    print(txt.rfind('aga'))"
   ]
  },
  {
   "cell_type": "code",
   "execution_count": 5,
   "id": "db8aff1c-689c-4d45-921b-9e1f8a15b779",
   "metadata": {},
   "outputs": [
    {
     "name": "stdout",
     "output_type": "stream",
     "text": [
      "12\n"
     ]
    }
   ],
   "source": [
    "    txt = 'aga aga aga aga'\n",
    "    print(txt.rfind('aga', 5)) # last 5 chars - absolute 12th char"
   ]
  },
  {
   "cell_type": "code",
   "execution_count": 7,
   "id": "93d406e8-69f4-4beb-989a-19fba31af5de",
   "metadata": {},
   "outputs": [
    {
     "name": "stdout",
     "output_type": "stream",
     "text": [
      "8\n"
     ]
    }
   ],
   "source": [
    "    txt = 'aga aga aga aga'\n",
    "    print(txt.find('aga', 5))"
   ]
  },
  {
   "cell_type": "code",
   "execution_count": 9,
   "id": "8853d13e-a737-406d-b5bf-b3a6bf0a0f81",
   "metadata": {},
   "outputs": [
    {
     "ename": "ValueError",
     "evalue": "could not convert string to float: '1,0'",
     "output_type": "error",
     "traceback": [
      "\u001b[1;31m---------------------------------------------------------------------------\u001b[0m",
      "\u001b[1;31mValueError\u001b[0m                                Traceback (most recent call last)",
      "Cell \u001b[1;32mIn[9], line 1\u001b[0m\n\u001b[1;32m----> 1\u001b[0m \u001b[38;5;28mfloat\u001b[39m(\u001b[38;5;124m\"\u001b[39m\u001b[38;5;124m1,0\u001b[39m\u001b[38;5;124m\"\u001b[39m)\n",
      "\u001b[1;31mValueError\u001b[0m: could not convert string to float: '1,0'"
     ]
    }
   ],
   "source": [
    "float(\"1,0\")"
   ]
  },
  {
   "cell_type": "code",
   "execution_count": 11,
   "id": "c81450b7-fafb-4c46-b2fe-5281d9d5ede9",
   "metadata": {},
   "outputs": [
    {
     "data": {
      "text/plain": [
       "1.0"
      ]
     },
     "execution_count": 11,
     "metadata": {},
     "output_type": "execute_result"
    }
   ],
   "source": [
    "float(\"1.0\")"
   ]
  },
  {
   "cell_type": "code",
   "execution_count": 13,
   "id": "f86b7626-0500-4ddf-9e7f-a1edf3f0da00",
   "metadata": {},
   "outputs": [
    {
     "ename": "TypeError",
     "evalue": "float() argument must be a string or a real number, not 'list'",
     "output_type": "error",
     "traceback": [
      "\u001b[1;31m---------------------------------------------------------------------------\u001b[0m",
      "\u001b[1;31mTypeError\u001b[0m                                 Traceback (most recent call last)",
      "Cell \u001b[1;32mIn[13], line 1\u001b[0m\n\u001b[1;32m----> 1\u001b[0m \u001b[38;5;28mfloat\u001b[39m([\u001b[38;5;241m1\u001b[39m,\u001b[38;5;241m2\u001b[39m,\u001b[38;5;241m3\u001b[39m])\n",
      "\u001b[1;31mTypeError\u001b[0m: float() argument must be a string or a real number, not 'list'"
     ]
    }
   ],
   "source": [
    "float([1,2,3])"
   ]
  },
  {
   "cell_type": "code",
   "execution_count": 15,
   "id": "3b8ae4b8-5d32-473f-a05b-dd4dfa642c9b",
   "metadata": {},
   "outputs": [
    {
     "name": "stdout",
     "output_type": "stream",
     "text": [
      "3\n"
     ]
    }
   ],
   "source": [
    "    class Server:\n",
    "     def __init__(self, colour):\n",
    "      self.colour = 'brown'\n",
    "      self.name = 'Atari'\n",
    "     \n",
    "    myserv = Server('black')\n",
    "    myserv.attr = 'extra'\n",
    "    print(len(myserv.__dict__))"
   ]
  },
  {
   "cell_type": "code",
   "execution_count": 17,
   "id": "7cbe54a5-814a-4751-96e8-46b4c9ec60f9",
   "metadata": {},
   "outputs": [
    {
     "name": "stdout",
     "output_type": "stream",
     "text": [
      "extra\n"
     ]
    }
   ],
   "source": [
    "print(myserv.attr)"
   ]
  },
  {
   "cell_type": "code",
   "execution_count": 19,
   "id": "3c05cd79-ce47-4e22-ad8d-3e05366ec8b7",
   "metadata": {},
   "outputs": [
    {
     "data": {
      "text/plain": [
       "False"
      ]
     },
     "execution_count": 19,
     "metadata": {},
     "output_type": "execute_result"
    }
   ],
   "source": [
    "hasattr(myserv,'black')"
   ]
  },
  {
   "cell_type": "code",
   "execution_count": 25,
   "id": "8577597a-a18c-4afb-8e7f-9dc7516a6129",
   "metadata": {},
   "outputs": [
    {
     "ename": "NameError",
     "evalue": "name 'z' is not defined",
     "output_type": "error",
     "traceback": [
      "\u001b[1;31m---------------------------------------------------------------------------\u001b[0m",
      "\u001b[1;31mNameError\u001b[0m                                 Traceback (most recent call last)",
      "Cell \u001b[1;32mIn[25], line 6\u001b[0m\n\u001b[0;32m      3\u001b[0m  \u001b[38;5;28;01mdef\u001b[39;00m \u001b[38;5;21m__init__\u001b[39m(\u001b[38;5;28mself\u001b[39m):\n\u001b[0;32m      4\u001b[0m   \u001b[38;5;28mself\u001b[39m\u001b[38;5;241m.\u001b[39mz \u001b[38;5;241m=\u001b[39m \u001b[38;5;241m0\u001b[39m\n\u001b[1;32m----> 6\u001b[0m \u001b[38;5;28mprint\u001b[39m(\u001b[38;5;28mhasattr\u001b[39m(X, z))\n",
      "\u001b[1;31mNameError\u001b[0m: name 'z' is not defined"
     ]
    }
   ],
   "source": [
    "    class X:\n",
    "     Y = 1\n",
    "     def __init__(self):\n",
    "      self.z = 0\n",
    "     \n",
    "    print(hasattr(X, z))"
   ]
  },
  {
   "cell_type": "code",
   "execution_count": 23,
   "id": "faa9af3a-2a7d-4dea-9cd4-5909d3c5d9c2",
   "metadata": {},
   "outputs": [
    {
     "ename": "TypeError",
     "evalue": "attribute name must be string, not 'type'",
     "output_type": "error",
     "traceback": [
      "\u001b[1;31m---------------------------------------------------------------------------\u001b[0m",
      "\u001b[1;31mTypeError\u001b[0m                                 Traceback (most recent call last)",
      "Cell \u001b[1;32mIn[23], line 6\u001b[0m\n\u001b[0;32m      3\u001b[0m  \u001b[38;5;28;01mdef\u001b[39;00m \u001b[38;5;21m__init__\u001b[39m(\u001b[38;5;28mself\u001b[39m):\n\u001b[0;32m      4\u001b[0m   \u001b[38;5;28mself\u001b[39m\u001b[38;5;241m.\u001b[39mz \u001b[38;5;241m=\u001b[39m \u001b[38;5;241m0\u001b[39m\n\u001b[1;32m----> 6\u001b[0m \u001b[38;5;28mprint\u001b[39m(\u001b[38;5;28mhasattr\u001b[39m( \u001b[38;5;124m'\u001b[39m\u001b[38;5;124mz\u001b[39m\u001b[38;5;124m'\u001b[39m,X))\n",
      "\u001b[1;31mTypeError\u001b[0m: attribute name must be string, not 'type'"
     ]
    }
   ],
   "source": [
    "    class X:\n",
    "     Y = 1\n",
    "     def __init__(self):\n",
    "      self.z = 0\n",
    "     \n",
    "    print(hasattr( 'z',X))"
   ]
  },
  {
   "cell_type": "code",
   "execution_count": 29,
   "id": "4bb4e052-077e-48b7-b60c-8f626e57eca3",
   "metadata": {},
   "outputs": [
    {
     "name": "stdout",
     "output_type": "stream",
     "text": [
      "False\n"
     ]
    }
   ],
   "source": [
    "    class X:\n",
    "     Y = 1\n",
    "     def __init__(self):\n",
    "      self.z = 0\n",
    "     \n",
    "    print(hasattr(X, 'z')) # because \"z\" is (would be) an instance attribute - not a class attribute!"
   ]
  },
  {
   "cell_type": "code",
   "execution_count": 31,
   "id": "dcdf0c70-67f1-4c88-a34e-d8b9d9adfe32",
   "metadata": {},
   "outputs": [
    {
     "ename": "SyntaxError",
     "evalue": "default 'except:' must be last (3828393550.py, line 3)",
     "output_type": "error",
     "traceback": [
      "\u001b[1;36m  Cell \u001b[1;32mIn[31], line 3\u001b[1;36m\u001b[0m\n\u001b[1;33m    except:\u001b[0m\n\u001b[1;37m    ^\u001b[0m\n\u001b[1;31mSyntaxError\u001b[0m\u001b[1;31m:\u001b[0m default 'except:' must be last\n"
     ]
    }
   ],
   "source": [
    "    try:\n",
    "     raise Exception\n",
    "    except:\n",
    "     print('a')\n",
    "    except BaseException:\n",
    "     print('b')\n",
    "    except Exception:\n",
    "     print('c')"
   ]
  },
  {
   "cell_type": "code",
   "execution_count": 39,
   "id": "3c0db9d2-1b4f-4e89-ae12-560f440d793f",
   "metadata": {},
   "outputs": [
    {
     "name": "stdout",
     "output_type": "stream",
     "text": [
      "a\n"
     ]
    }
   ],
   "source": [
    "    try:\n",
    "     raise Exception\n",
    "    except BaseException:\n",
    "     print('a')\n",
    "    except Exception:\n",
    "     print('b')\n",
    "    except:\n",
    "     print('c')"
   ]
  },
  {
   "cell_type": "code",
   "execution_count": 41,
   "id": "48f29c7e-e264-4ad6-a75c-abfb9f3c57af",
   "metadata": {},
   "outputs": [
    {
     "ename": "FileNotFoundError",
     "evalue": "[Errno 2] No such file or directory: 'file.txt'",
     "output_type": "error",
     "traceback": [
      "\u001b[1;31m---------------------------------------------------------------------------\u001b[0m",
      "\u001b[1;31mFileNotFoundError\u001b[0m                         Traceback (most recent call last)",
      "Cell \u001b[1;32mIn[41], line 1\u001b[0m\n\u001b[1;32m----> 1\u001b[0m \u001b[38;5;28;01mfor\u001b[39;00m item \u001b[38;5;129;01min\u001b[39;00m \u001b[38;5;28mopen\u001b[39m(\u001b[38;5;124m'\u001b[39m\u001b[38;5;124mfile.txt\u001b[39m\u001b[38;5;124m'\u001b[39m, \u001b[38;5;124m'\u001b[39m\u001b[38;5;124mrt\u001b[39m\u001b[38;5;124m'\u001b[39m):\n\u001b[0;32m      2\u001b[0m     \u001b[38;5;28mprint\u001b[39m(item)\n",
      "File \u001b[1;32m~\\anaconda3\\Lib\\site-packages\\IPython\\core\\interactiveshell.py:286\u001b[0m, in \u001b[0;36m_modified_open\u001b[1;34m(file, *args, **kwargs)\u001b[0m\n\u001b[0;32m    279\u001b[0m \u001b[38;5;28;01mif\u001b[39;00m file \u001b[38;5;129;01min\u001b[39;00m {\u001b[38;5;241m0\u001b[39m, \u001b[38;5;241m1\u001b[39m, \u001b[38;5;241m2\u001b[39m}:\n\u001b[0;32m    280\u001b[0m     \u001b[38;5;28;01mraise\u001b[39;00m \u001b[38;5;167;01mValueError\u001b[39;00m(\n\u001b[0;32m    281\u001b[0m         \u001b[38;5;124mf\u001b[39m\u001b[38;5;124m\"\u001b[39m\u001b[38;5;124mIPython won\u001b[39m\u001b[38;5;124m'\u001b[39m\u001b[38;5;124mt let you open fd=\u001b[39m\u001b[38;5;132;01m{\u001b[39;00mfile\u001b[38;5;132;01m}\u001b[39;00m\u001b[38;5;124m by default \u001b[39m\u001b[38;5;124m\"\u001b[39m\n\u001b[0;32m    282\u001b[0m         \u001b[38;5;124m\"\u001b[39m\u001b[38;5;124mas it is likely to crash IPython. If you know what you are doing, \u001b[39m\u001b[38;5;124m\"\u001b[39m\n\u001b[0;32m    283\u001b[0m         \u001b[38;5;124m\"\u001b[39m\u001b[38;5;124myou can use builtins\u001b[39m\u001b[38;5;124m'\u001b[39m\u001b[38;5;124m open.\u001b[39m\u001b[38;5;124m\"\u001b[39m\n\u001b[0;32m    284\u001b[0m     )\n\u001b[1;32m--> 286\u001b[0m \u001b[38;5;28;01mreturn\u001b[39;00m io_open(file, \u001b[38;5;241m*\u001b[39margs, \u001b[38;5;241m*\u001b[39m\u001b[38;5;241m*\u001b[39mkwargs)\n",
      "\u001b[1;31mFileNotFoundError\u001b[0m: [Errno 2] No such file or directory: 'file.txt'"
     ]
    }
   ],
   "source": [
    "for item in open('file.txt', 'rt'): # so open returns an iterable\n",
    "    print(item)"
   ]
  },
  {
   "cell_type": "markdown",
   "id": "480d2c62-addf-4677-bb57-a2437da70d06",
   "metadata": {},
   "source": [
    "## A self defined exception class:\n",
    "\n",
    "May inherit from The Exception class\n",
    "\n",
    "MAy not define its own constructor"
   ]
  },
  {
   "cell_type": "code",
   "execution_count": 44,
   "id": "7ae8f3aa-064f-4eef-b67b-1587dc52ec66",
   "metadata": {},
   "outputs": [
    {
     "name": "stdout",
     "output_type": "stream",
     "text": [
      "[5]\n"
     ]
    }
   ],
   "source": [
    "print(list(map(lambda x: x + 5, [int(bytearray(10)[0])]))) # zero position(1st) position of a a bytearray of length 10"
   ]
  },
  {
   "cell_type": "code",
   "execution_count": 54,
   "id": "9c9d24c6-8d74-4723-9811-89fb80c24959",
   "metadata": {},
   "outputs": [
    {
     "data": {
      "text/plain": [
       "bytearray(b'\\x00\\x00\\x00\\x00\\x00\\x00\\x00\\x00\\x00\\x00')"
      ]
     },
     "execution_count": 54,
     "metadata": {},
     "output_type": "execute_result"
    }
   ],
   "source": [
    "(bytearray(10))"
   ]
  },
  {
   "cell_type": "code",
   "execution_count": 52,
   "id": "8e3d70ce-26d2-4fa1-8fca-f9d2338dc629",
   "metadata": {},
   "outputs": [
    {
     "name": "stdout",
     "output_type": "stream",
     "text": [
      "0\n"
     ]
    }
   ],
   "source": [
    "print((bytearray(10)[0]))"
   ]
  },
  {
   "cell_type": "code",
   "execution_count": 60,
   "id": "cc439122-ebe6-4353-a004-7c98f9e2fd19",
   "metadata": {},
   "outputs": [
    {
     "data": {
      "text/plain": [
       "0"
      ]
     },
     "execution_count": 60,
     "metadata": {},
     "output_type": "execute_result"
    }
   ],
   "source": [
    "int((bytearray(10)[0]))"
   ]
  },
  {
   "cell_type": "markdown",
   "id": "d5a54d0b-eb19-4033-aabb-5e8bda77ea79",
   "metadata": {},
   "source": [
    "## strerror:\n",
    "\n",
    "returns a message for the given error code\n",
    "\n",
    "comes from the os module"
   ]
  },
  {
   "cell_type": "code",
   "execution_count": 65,
   "id": "846e9aed-b209-40c2-8055-ba9df242075a",
   "metadata": {},
   "outputs": [
    {
     "name": "stdout",
     "output_type": "stream",
     "text": [
      "1\n"
     ]
    }
   ],
   "source": [
    "    class Art():\n",
    "     masterpiece = 'John'\n",
    "     def __init__(self):\n",
    "      self.name = 'One'\n",
    "     \n",
    "    print(len(Art().__dict__)) # ART() has only one attribute - the rest are object attributes(instance attributes)"
   ]
  },
  {
   "cell_type": "code",
   "execution_count": null,
   "id": "731f43ad-b2ea-4e9b-8fd3-698702789896",
   "metadata": {},
   "outputs": [],
   "source": []
  }
 ],
 "metadata": {
  "kernelspec": {
   "display_name": "Python [conda env:base] *",
   "language": "python",
   "name": "conda-base-py"
  },
  "language_info": {
   "codemirror_mode": {
    "name": "ipython",
    "version": 3
   },
   "file_extension": ".py",
   "mimetype": "text/x-python",
   "name": "python",
   "nbconvert_exporter": "python",
   "pygments_lexer": "ipython3",
   "version": "3.11.5"
  }
 },
 "nbformat": 4,
 "nbformat_minor": 5
}
