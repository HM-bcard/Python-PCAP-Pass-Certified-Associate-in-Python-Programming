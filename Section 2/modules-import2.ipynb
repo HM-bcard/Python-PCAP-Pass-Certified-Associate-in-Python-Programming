{
 "cells": [
  {
   "cell_type": "code",
   "execution_count": 1,
   "id": "cad52c22-9db0-42cf-b4c5-4b77ff00899e",
   "metadata": {},
   "outputs": [],
   "source": [
    "import sys\n"
   ]
  },
  {
   "cell_type": "code",
   "execution_count": 3,
   "id": "f9f52f64-c923-49b3-94b7-6862bfaa5eba",
   "metadata": {},
   "outputs": [],
   "source": [
    "import sys\n",
    "import math"
   ]
  },
  {
   "cell_type": "code",
   "execution_count": 5,
   "id": "5efde54a-9599-42c0-b412-0c549850036b",
   "metadata": {},
   "outputs": [],
   "source": [
    "import sys,math"
   ]
  },
  {
   "cell_type": "code",
   "execution_count": 7,
   "id": "71d2fdea-e0c0-422d-96df-9e8c7c2aa16a",
   "metadata": {},
   "outputs": [
    {
     "name": "stdout",
     "output_type": "stream",
     "text": [
      "__breakpointhook__\t__displayhook__\t__doc__\t__excepthook__\t__interactivehook__\t__loader__\t__name__\t__package__\t__spec__\t__stderr__\t__stdin__\t__stdout__\t__unraisablehook__\t_base_executable\t_clear_type_cache\t_current_exceptions\t_current_frames\t_debugmallocstats\t_enablelegacywindowsfsencoding\t_framework\t_getframe\t_getquickenedcount\t_git\t_home\t_stdlib_dir\t_vpath\t_xoptions\taddaudithook\tapi_version\targv\taudit\tbase_exec_prefix\tbase_prefix\tbreakpointhook\tbuiltin_module_names\tbyteorder\tcall_tracing\tcopyright\tdisplayhook\tdllhandle\tdont_write_bytecode\texc_info\texcepthook\texception\texec_prefix\texecutable\texit\tflags\tfloat_info\tfloat_repr_style\tget_asyncgen_hooks\tget_coroutine_origin_tracking_depth\tget_int_max_str_digits\tgetallocatedblocks\tgetdefaultencoding\tgetfilesystemencodeerrors\tgetfilesystemencoding\tgetprofile\tgetrecursionlimit\tgetrefcount\tgetsizeof\tgetswitchinterval\tgettrace\tgetwindowsversion\thash_info\thexversion\timplementation\tint_info\tintern\tis_finalizing\tmaxsize\tmaxunicode\tmeta_path\tmodules\torig_argv\tpath\tpath_hooks\tpath_importer_cache\tplatform\tplatlibdir\tprefix\tps1\tps2\tps3\tpycache_prefix\tset_asyncgen_hooks\tset_coroutine_origin_tracking_depth\tset_int_max_str_digits\tsetprofile\tsetrecursionlimit\tsetswitchinterval\tsettrace\tstderr\tstdin\tstdlib_module_names\tstdout\tthread_info\tunraisablehook\tversion\tversion_info\twarnoptions\twinver\t"
     ]
    }
   ],
   "source": [
    "import sys\n",
    "\n",
    "for name in dir(sys):\n",
    "    print(name,end ='\\t')"
   ]
  },
  {
   "cell_type": "code",
   "execution_count": 9,
   "id": "13150cff-197f-478b-9853-c88956fb51fc",
   "metadata": {},
   "outputs": [
    {
     "ename": "SystemExit",
     "evalue": "",
     "output_type": "error",
     "traceback": [
      "An exception has occurred, use %tb to see the full traceback.\n",
      "\u001b[1;31mSystemExit\u001b[0m\n"
     ]
    },
    {
     "name": "stderr",
     "output_type": "stream",
     "text": [
      "C:\\Users\\Nouser\\anaconda3\\Lib\\site-packages\\IPython\\core\\interactiveshell.py:3534: UserWarning: To exit: use 'exit', 'quit', or Ctrl-D.\n",
      "  warn(\"To exit: use 'exit', 'quit', or Ctrl-D.\", stacklevel=1)\n"
     ]
    }
   ],
   "source": [
    "sys.exit()"
   ]
  },
  {
   "cell_type": "code",
   "execution_count": 11,
   "id": "9dc475a2-2dc7-49fc-b1a4-7b0f12c46da6",
   "metadata": {},
   "outputs": [
    {
     "ename": "AttributeError",
     "evalue": "module 'sys' has no attribute 'bla'",
     "output_type": "error",
     "traceback": [
      "\u001b[1;31m---------------------------------------------------------------------------\u001b[0m",
      "\u001b[1;31mAttributeError\u001b[0m                            Traceback (most recent call last)",
      "Cell \u001b[1;32mIn[11], line 1\u001b[0m\n\u001b[1;32m----> 1\u001b[0m sys\u001b[38;5;241m.\u001b[39mbla()\n",
      "\u001b[1;31mAttributeError\u001b[0m: module 'sys' has no attribute 'bla'"
     ]
    }
   ],
   "source": [
    "sys.bla()"
   ]
  },
  {
   "cell_type": "code",
   "execution_count": 13,
   "id": "77790362-5c7f-4858-9629-9bfd47a6d7a0",
   "metadata": {},
   "outputs": [
    {
     "name": "stdout",
     "output_type": "stream",
     "text": [
      "No way to exit\n"
     ]
    },
    {
     "ename": "SystemExit",
     "evalue": "",
     "output_type": "error",
     "traceback": [
      "An exception has occurred, use %tb to see the full traceback.\n",
      "\u001b[1;31mSystemExit\u001b[0m\n"
     ]
    }
   ],
   "source": [
    "import sys\n",
    "\n",
    "def exit():\n",
    "    print('No way to exit')\n",
    "exit()\n",
    "sys.exit()"
   ]
  },
  {
   "cell_type": "code",
   "execution_count": 17,
   "id": "f226443e-1b93-4205-a426-3e3033c1ab60",
   "metadata": {},
   "outputs": [
    {
     "ename": "SystemExit",
     "evalue": "",
     "output_type": "error",
     "traceback": [
      "An exception has occurred, use %tb to see the full traceback.\n",
      "\u001b[1;31mSystemExit\u001b[0m\n"
     ]
    }
   ],
   "source": [
    "from sys import exit\n",
    "exit()"
   ]
  },
  {
   "cell_type": "code",
   "execution_count": 19,
   "id": "fd56c6cd-6e9b-44bb-8642-33bb41b8680d",
   "metadata": {},
   "outputs": [
    {
     "name": "stdout",
     "output_type": "stream",
     "text": [
      "No way to exit\n",
      "No way to exit\n"
     ]
    }
   ],
   "source": [
    "from sys import exit\n",
    "\n",
    "def exit():\n",
    "    print('No way to exit')\n",
    "exit()\n",
    "exit()"
   ]
  },
  {
   "cell_type": "code",
   "execution_count": 21,
   "id": "d4d80690-f14f-4734-922a-4e8fea42da00",
   "metadata": {},
   "outputs": [],
   "source": [
    "from sys import *"
   ]
  },
  {
   "cell_type": "code",
   "execution_count": 23,
   "id": "5a3c8505-0eb6-4cb2-9293-339b324d564d",
   "metadata": {},
   "outputs": [],
   "source": [
    "import sys as s"
   ]
  },
  {
   "cell_type": "code",
   "execution_count": 25,
   "id": "5dd406ff-9894-4fdc-adc5-c41911900fa4",
   "metadata": {},
   "outputs": [],
   "source": [
    "from sys import exit as bye_bye"
   ]
  },
  {
   "cell_type": "code",
   "execution_count": null,
   "id": "5a0dd601-29f6-451f-846b-9f665b53731f",
   "metadata": {},
   "outputs": [],
   "source": []
  }
 ],
 "metadata": {
  "kernelspec": {
   "display_name": "Python [conda env:base] *",
   "language": "python",
   "name": "conda-base-py"
  },
  "language_info": {
   "codemirror_mode": {
    "name": "ipython",
    "version": 3
   },
   "file_extension": ".py",
   "mimetype": "text/x-python",
   "name": "python",
   "nbconvert_exporter": "python",
   "pygments_lexer": "ipython3",
   "version": "3.11.5"
  }
 },
 "nbformat": 4,
 "nbformat_minor": 5
}
