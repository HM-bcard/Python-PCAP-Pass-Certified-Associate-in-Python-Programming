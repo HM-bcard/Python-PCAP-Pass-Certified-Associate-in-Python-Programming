{
 "cells": [
  {
   "cell_type": "code",
   "execution_count": 1,
   "id": "52bdb68e-ca5a-4c52-8dff-13d386c3f8c8",
   "metadata": {},
   "outputs": [],
   "source": [
    "import platform\n"
   ]
  },
  {
   "cell_type": "code",
   "execution_count": 3,
   "id": "e0ffd43a-0e7c-4c50-8db8-8931311cdf78",
   "metadata": {},
   "outputs": [
    {
     "data": {
      "text/plain": [
       "'Windows-10-10.0.26100-SP0'"
      ]
     },
     "execution_count": 3,
     "metadata": {},
     "output_type": "execute_result"
    }
   ],
   "source": [
    "platform.platform()"
   ]
  },
  {
   "cell_type": "code",
   "execution_count": 5,
   "id": "e18e8bd9-3e4c-4b83-b7f2-5b86e3aff8b9",
   "metadata": {},
   "outputs": [
    {
     "data": {
      "text/plain": [
       "'Windows-10-10.0.26100-SP0'"
      ]
     },
     "execution_count": 5,
     "metadata": {},
     "output_type": "execute_result"
    }
   ],
   "source": [
    "platform.platform(aliased = False, terse = False)"
   ]
  },
  {
   "cell_type": "code",
   "execution_count": 7,
   "id": "73d0f1a4-5523-4eb5-924f-61404f5dc1f7",
   "metadata": {},
   "outputs": [
    {
     "data": {
      "text/plain": [
       "'Windows-10'"
      ]
     },
     "execution_count": 7,
     "metadata": {},
     "output_type": "execute_result"
    }
   ],
   "source": [
    "platform.platform(True, True)"
   ]
  },
  {
   "cell_type": "code",
   "execution_count": 11,
   "id": "504ced40-0398-41e4-a826-e99cbe8b5403",
   "metadata": {},
   "outputs": [
    {
     "data": {
      "text/plain": [
       "'AMD64'"
      ]
     },
     "execution_count": 11,
     "metadata": {},
     "output_type": "execute_result"
    }
   ],
   "source": [
    "platform.machine()"
   ]
  },
  {
   "cell_type": "code",
   "execution_count": 13,
   "id": "28c76ddf-ced8-4437-b35b-41f51a889dd4",
   "metadata": {},
   "outputs": [
    {
     "data": {
      "text/plain": [
       "'AMD64 Family 25 Model 80 Stepping 0, AuthenticAMD'"
      ]
     },
     "execution_count": 13,
     "metadata": {},
     "output_type": "execute_result"
    }
   ],
   "source": [
    "platform.processor()"
   ]
  },
  {
   "cell_type": "code",
   "execution_count": 15,
   "id": "173ebd9c-70f4-4362-9cb4-9a944a74e3a2",
   "metadata": {},
   "outputs": [
    {
     "data": {
      "text/plain": [
       "'Windows'"
      ]
     },
     "execution_count": 15,
     "metadata": {},
     "output_type": "execute_result"
    }
   ],
   "source": [
    "platform.system()"
   ]
  },
  {
   "cell_type": "code",
   "execution_count": 17,
   "id": "6032439d-8000-40dd-b29e-bd94a0362658",
   "metadata": {},
   "outputs": [
    {
     "data": {
      "text/plain": [
       "'CPython'"
      ]
     },
     "execution_count": 17,
     "metadata": {},
     "output_type": "execute_result"
    }
   ],
   "source": [
    "platform.python_implementation()"
   ]
  },
  {
   "cell_type": "code",
   "execution_count": 21,
   "id": "bf03be93-c15e-49b4-955c-e5f5e39bf90b",
   "metadata": {},
   "outputs": [
    {
     "data": {
      "text/plain": [
       "('3', '11', '5')"
      ]
     },
     "execution_count": 21,
     "metadata": {},
     "output_type": "execute_result"
    }
   ],
   "source": [
    "platform.python_version_tuple()\n"
   ]
  },
  {
   "cell_type": "code",
   "execution_count": 23,
   "id": "3d907165-5724-4b88-9e89-ceb7f66613a5",
   "metadata": {},
   "outputs": [
    {
     "data": {
      "text/plain": [
       "'3.11.5'"
      ]
     },
     "execution_count": 23,
     "metadata": {},
     "output_type": "execute_result"
    }
   ],
   "source": [
    "platform.python_version()"
   ]
  },
  {
   "cell_type": "code",
   "execution_count": 25,
   "id": "8691cdf4-08d8-46ae-bb3a-9288d604d382",
   "metadata": {},
   "outputs": [
    {
     "data": {
      "text/plain": [
       "'10.0.26100'"
      ]
     },
     "execution_count": 25,
     "metadata": {},
     "output_type": "execute_result"
    }
   ],
   "source": [
    "platform.version()"
   ]
  },
  {
   "cell_type": "code",
   "execution_count": null,
   "id": "9c759d7a-ee32-4261-bbce-3d86468ce150",
   "metadata": {},
   "outputs": [],
   "source": []
  }
 ],
 "metadata": {
  "kernelspec": {
   "display_name": "Python [conda env:base] *",
   "language": "python",
   "name": "conda-base-py"
  },
  "language_info": {
   "codemirror_mode": {
    "name": "ipython",
    "version": 3
   },
   "file_extension": ".py",
   "mimetype": "text/x-python",
   "name": "python",
   "nbconvert_exporter": "python",
   "pygments_lexer": "ipython3",
   "version": "3.11.5"
  }
 },
 "nbformat": 4,
 "nbformat_minor": 5
}
