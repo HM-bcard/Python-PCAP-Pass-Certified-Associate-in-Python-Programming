{
 "cells": [
  {
   "cell_type": "code",
   "execution_count": 5,
   "id": "d1c936fe-15c1-4a15-aebd-fb8d55178d15",
   "metadata": {},
   "outputs": [
    {
     "name": "stdout",
     "output_type": "stream",
     "text": [
      "__doc__\n",
      "__loader__\n",
      "__name__\n",
      "__package__\n",
      "__spec__\n",
      "acos\n",
      "acosh\n",
      "asin\n",
      "asinh\n",
      "atan\n",
      "atan2\n",
      "atanh\n",
      "cbrt\n",
      "ceil\n",
      "comb\n",
      "copysign\n",
      "cos\n",
      "cosh\n",
      "degrees\n",
      "dist\n",
      "e\n",
      "erf\n",
      "erfc\n",
      "exp\n",
      "exp2\n",
      "expm1\n",
      "fabs\n",
      "factorial\n",
      "floor\n",
      "fmod\n",
      "frexp\n",
      "fsum\n",
      "gamma\n",
      "gcd\n",
      "hypot\n",
      "inf\n",
      "isclose\n",
      "isfinite\n",
      "isinf\n",
      "isnan\n",
      "isqrt\n",
      "lcm\n",
      "ldexp\n",
      "lgamma\n",
      "log\n",
      "log10\n",
      "log1p\n",
      "log2\n",
      "modf\n",
      "nan\n",
      "nextafter\n",
      "perm\n",
      "pi\n",
      "pow\n",
      "prod\n",
      "radians\n",
      "remainder\n",
      "sin\n",
      "sinh\n",
      "sqrt\n",
      "tan\n",
      "tanh\n",
      "tau\n",
      "trunc\n",
      "ulp\n"
     ]
    }
   ],
   "source": [
    "import math\n",
    "for name in dir (math):\n",
    "    print(name, end='\\n')"
   ]
  },
  {
   "cell_type": "code",
   "execution_count": 7,
   "id": "d8cb77f9-554d-45c8-aaee-0d807488400d",
   "metadata": {},
   "outputs": [
    {
     "name": "stdout",
     "output_type": "stream",
     "text": [
      "4\n"
     ]
    }
   ],
   "source": [
    "# functions needed for PCAP: ceil(),floor(),trunc()\n",
    "print(math.ceil(3.6)) # print the closest integer to the float that is higher than the float"
   ]
  },
  {
   "cell_type": "code",
   "execution_count": 9,
   "id": "b9b8def5-8b05-4a07-b859-893ac0528597",
   "metadata": {},
   "outputs": [
    {
     "name": "stdout",
     "output_type": "stream",
     "text": [
      "3\n"
     ]
    }
   ],
   "source": [
    "print(math.floor(3.6)) # prints the closest integer to the number, lower than the float"
   ]
  },
  {
   "cell_type": "code",
   "execution_count": 11,
   "id": "21c5d2f6-27a3-4c5b-839c-c40e8da4f4c9",
   "metadata": {},
   "outputs": [
    {
     "name": "stdout",
     "output_type": "stream",
     "text": [
      "3\n"
     ]
    }
   ],
   "source": [
    "print(math.trunc(3.6)) # truncates the number to the integer without the decimal part\n"
   ]
  },
  {
   "cell_type": "code",
   "execution_count": 13,
   "id": "de908d16-98c3-4a5b-8949-7c0843c2060a",
   "metadata": {},
   "outputs": [
    {
     "name": "stdout",
     "output_type": "stream",
     "text": [
      "-3\n",
      "-4\n",
      "-3\n"
     ]
    }
   ],
   "source": [
    "print(math.ceil(-3.6))\n",
    "print(math.floor(-3.6))\n",
    "print(math.trunc(-3.6))"
   ]
  },
  {
   "cell_type": "code",
   "execution_count": 15,
   "id": "15200b14-61f2-4e0e-a682-a5051cf9188f",
   "metadata": {},
   "outputs": [],
   "source": [
    "#factorial"
   ]
  },
  {
   "cell_type": "code",
   "execution_count": 17,
   "id": "5de3db64-2b23-4f08-875a-5fea7ee68579",
   "metadata": {},
   "outputs": [
    {
     "ename": "SyntaxError",
     "evalue": "invalid syntax (694740394.py, line 1)",
     "output_type": "error",
     "traceback": [
      "\u001b[1;36m  Cell \u001b[1;32mIn[17], line 1\u001b[1;36m\u001b[0m\n\u001b[1;33m    3!\u001b[0m\n\u001b[1;37m     ^\u001b[0m\n\u001b[1;31mSyntaxError\u001b[0m\u001b[1;31m:\u001b[0m invalid syntax\n"
     ]
    }
   ],
   "source": [
    "3!"
   ]
  },
  {
   "cell_type": "code",
   "execution_count": 19,
   "id": "ca2bfb66-253d-438e-92a1-045e7dcfccec",
   "metadata": {},
   "outputs": [
    {
     "name": "stdout",
     "output_type": "stream",
     "text": [
      "6\n"
     ]
    }
   ],
   "source": [
    "print(math.factorial(3))"
   ]
  },
  {
   "cell_type": "code",
   "execution_count": 21,
   "id": "6be3a919-6bb4-4a0e-b25a-bb07e931166a",
   "metadata": {},
   "outputs": [
    {
     "name": "stdout",
     "output_type": "stream",
     "text": [
      "1.4142135623730951\n"
     ]
    }
   ],
   "source": [
    "print(math.sqrt(2)))"
   ]
  },
  {
   "cell_type": "code",
   "execution_count": 33,
   "id": "bcbac115-500f-46be-b52b-de18b55c95bd",
   "metadata": {},
   "outputs": [
    {
     "name": "stdout",
     "output_type": "stream",
     "text": [
      "1.414 :>\n"
     ]
    }
   ],
   "source": [
    "print(round(math.sqrt(2),3), ':>' )"
   ]
  },
  {
   "cell_type": "code",
   "execution_count": 35,
   "id": "bf9f95ab-e500-457e-8e26-b767158c642d",
   "metadata": {},
   "outputs": [],
   "source": [
    "#hypot (hypothenuse)"
   ]
  },
  {
   "cell_type": "code",
   "execution_count": 37,
   "id": "cae28ac4-6fb2-478e-b945-0065806dd177",
   "metadata": {},
   "outputs": [
    {
     "name": "stdout",
     "output_type": "stream",
     "text": [
      "5.0\n"
     ]
    }
   ],
   "source": [
    "print(math.hypot(3,4))"
   ]
  },
  {
   "cell_type": "code",
   "execution_count": null,
   "id": "5b73346d-befa-4c43-89a9-1bc596632b3b",
   "metadata": {},
   "outputs": [],
   "source": []
  }
 ],
 "metadata": {
  "kernelspec": {
   "display_name": "Python [conda env:base] *",
   "language": "python",
   "name": "conda-base-py"
  },
  "language_info": {
   "codemirror_mode": {
    "name": "ipython",
    "version": 3
   },
   "file_extension": ".py",
   "mimetype": "text/x-python",
   "name": "python",
   "nbconvert_exporter": "python",
   "pygments_lexer": "ipython3",
   "version": "3.11.5"
  }
 },
 "nbformat": 4,
 "nbformat_minor": 5
}
