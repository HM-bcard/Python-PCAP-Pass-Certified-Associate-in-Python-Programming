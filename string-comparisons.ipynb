{
 "cells": [
  {
   "cell_type": "code",
   "execution_count": 1,
   "id": "7f80f0a4-1ff1-4967-87a4-93bfaf40bd7c",
   "metadata": {},
   "outputs": [
    {
     "data": {
      "text/plain": [
       "True"
      ]
     },
     "execution_count": 1,
     "metadata": {},
     "output_type": "execute_result"
    }
   ],
   "source": [
    "'Python' == 'Python'"
   ]
  },
  {
   "cell_type": "code",
   "execution_count": 3,
   "id": "22eca89f-c3de-445d-aa66-2408816bce24",
   "metadata": {},
   "outputs": [
    {
     "data": {
      "text/plain": [
       "False"
      ]
     },
     "execution_count": 3,
     "metadata": {},
     "output_type": "execute_result"
    }
   ],
   "source": [
    "'Python' == 'python'\n"
   ]
  },
  {
   "cell_type": "code",
   "execution_count": 5,
   "id": "cba551e2-8180-4daa-97c1-1bbd153b335d",
   "metadata": {},
   "outputs": [
    {
     "data": {
      "text/plain": [
       "True"
      ]
     },
     "execution_count": 5,
     "metadata": {},
     "output_type": "execute_result"
    }
   ],
   "source": [
    "'Python' != 'python'"
   ]
  },
  {
   "cell_type": "code",
   "execution_count": 7,
   "id": "501bb819-620e-473f-bc9d-fdcf31151206",
   "metadata": {},
   "outputs": [
    {
     "ename": "SyntaxError",
     "evalue": "unterminated string literal (detected at line 1) (3967474799.py, line 1)",
     "output_type": "error",
     "traceback": [
      "\u001b[1;36m  Cell \u001b[1;32mIn[7], line 1\u001b[1;36m\u001b[0m\n\u001b[1;33m    'Python' == 'Pytho\u001b[0m\n\u001b[1;37m                ^\u001b[0m\n\u001b[1;31mSyntaxError\u001b[0m\u001b[1;31m:\u001b[0m unterminated string literal (detected at line 1)\n"
     ]
    }
   ],
   "source": [
    "'Python' == 'Pytho"
   ]
  },
  {
   "cell_type": "code",
   "execution_count": 9,
   "id": "153efff5-c35e-45ff-b40e-3a326b7883d7",
   "metadata": {},
   "outputs": [
    {
     "data": {
      "text/plain": [
       "True"
      ]
     },
     "execution_count": 9,
     "metadata": {},
     "output_type": "execute_result"
    }
   ],
   "source": [
    "'I love Python' < 'I love python'"
   ]
  },
  {
   "cell_type": "code",
   "execution_count": 11,
   "id": "fdfca22e-87ce-4302-bdc3-d4a698892b8b",
   "metadata": {},
   "outputs": [],
   "source": [
    "# calcuating the ASCII value of letters and summing it to evaluate"
   ]
  },
  {
   "cell_type": "code",
   "execution_count": 13,
   "id": "6363ec96-3941-464b-b350-c4b036d9e229",
   "metadata": {},
   "outputs": [],
   "source": [
    "# Python searches for the first differing character in both strings"
   ]
  },
  {
   "cell_type": "code",
   "execution_count": 15,
   "id": "bb349026-b585-4047-9b1d-3749db56e3f8",
   "metadata": {},
   "outputs": [
    {
     "data": {
      "text/plain": [
       "True"
      ]
     },
     "execution_count": 15,
     "metadata": {},
     "output_type": "execute_result"
    }
   ],
   "source": [
    "'Pythonist' > 'Python'"
   ]
  },
  {
   "cell_type": "code",
   "execution_count": 19,
   "id": "8c5cd243-7ebc-4049-bf66-8dcf9f15f93e",
   "metadata": {},
   "outputs": [
    {
     "data": {
      "text/plain": [
       "False"
      ]
     },
     "execution_count": 19,
     "metadata": {},
     "output_type": "execute_result"
    }
   ],
   "source": [
    "'20' > '8'"
   ]
  },
  {
   "cell_type": "code",
   "execution_count": 21,
   "id": "ca74c4bd-4628-48e1-9384-8fa564c40202",
   "metadata": {},
   "outputs": [
    {
     "data": {
      "text/plain": [
       "True"
      ]
     },
     "execution_count": 21,
     "metadata": {},
     "output_type": "execute_result"
    }
   ],
   "source": [
    "10 != '10'"
   ]
  },
  {
   "cell_type": "code",
   "execution_count": 23,
   "id": "d192b252-071b-47a0-b260-48905710d7bc",
   "metadata": {},
   "outputs": [
    {
     "ename": "TypeError",
     "evalue": "'>' not supported between instances of 'int' and 'str'",
     "output_type": "error",
     "traceback": [
      "\u001b[1;31m---------------------------------------------------------------------------\u001b[0m",
      "\u001b[1;31mTypeError\u001b[0m                                 Traceback (most recent call last)",
      "Cell \u001b[1;32mIn[23], line 1\u001b[0m\n\u001b[1;32m----> 1\u001b[0m \u001b[38;5;241m10\u001b[39m \u001b[38;5;241m>\u001b[39m \u001b[38;5;124m'\u001b[39m\u001b[38;5;124m10\u001b[39m\u001b[38;5;124m'\u001b[39m\n",
      "\u001b[1;31mTypeError\u001b[0m: '>' not supported between instances of 'int' and 'str'"
     ]
    }
   ],
   "source": [
    "10 > '10'"
   ]
  },
  {
   "cell_type": "code",
   "execution_count": null,
   "id": "08875cfb-bcf8-4200-bf72-4aadde16369e",
   "metadata": {},
   "outputs": [],
   "source": []
  }
 ],
 "metadata": {
  "kernelspec": {
   "display_name": "Python [conda env:base] *",
   "language": "python",
   "name": "conda-base-py"
  },
  "language_info": {
   "codemirror_mode": {
    "name": "ipython",
    "version": 3
   },
   "file_extension": ".py",
   "mimetype": "text/x-python",
   "name": "python",
   "nbconvert_exporter": "python",
   "pygments_lexer": "ipython3",
   "version": "3.11.5"
  }
 },
 "nbformat": 4,
 "nbformat_minor": 5
}
