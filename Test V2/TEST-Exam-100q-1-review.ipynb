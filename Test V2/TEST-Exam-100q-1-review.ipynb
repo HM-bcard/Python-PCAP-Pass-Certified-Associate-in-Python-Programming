{
 "cells": [
  {
   "cell_type": "markdown",
   "id": "1c4400e5-3b8c-4ff9-8318-7d7ab0eaf6a0",
   "metadata": {},
   "source": [
    "# # 1 wrong|  control flow (q121)"
   ]
  },
  {
   "cell_type": "code",
   "execution_count": 16,
   "id": "f73c8d6c-70e4-42e7-8789-ebff274c0d3f",
   "metadata": {},
   "outputs": [
    {
     "ename": "NameError",
     "evalue": "name 'B' is not defined",
     "output_type": "error",
     "traceback": [
      "\u001b[1;31m---------------------------------------------------------------------------\u001b[0m",
      "\u001b[1;31mNameError\u001b[0m                                 Traceback (most recent call last)",
      "Cell \u001b[1;32mIn[16], line 3\u001b[0m\n\u001b[0;32m      1\u001b[0m \u001b[38;5;28;01mdef\u001b[39;00m \u001b[38;5;21mfunc\u001b[39m(x):\n\u001b[0;32m      2\u001b[0m     \u001b[38;5;28;01mreturn\u001b[39;00m \u001b[38;5;241m1\u001b[39m \u001b[38;5;28;01mif\u001b[39;00m x \u001b[38;5;241m%\u001b[39m  \u001b[38;5;241m2\u001b[39m \u001b[38;5;241m!=\u001b[39m \u001b[38;5;241m0\u001b[39m \u001b[38;5;28;01melse\u001b[39;00m \u001b[38;5;241m2\u001b[39m\n\u001b[1;32m----> 3\u001b[0m B\n\u001b[0;32m      4\u001b[0m \u001b[38;5;28mprint\u001b[39m(func(func(\u001b[38;5;241m1\u001b[39m)))\n",
      "\u001b[1;31mNameError\u001b[0m: name 'B' is not defined"
     ]
    }
   ],
   "source": [
    "def func(x):\n",
    "    return 1 if x %  2 != 0 else 2\n",
    "\n",
    "print(func(func(1)))"
   ]
  },
  {
   "cell_type": "markdown",
   "id": "6447c318-ccd6-4664-9dad-d6d75f094d79",
   "metadata": {},
   "source": [
    "# my v:"
   ]
  },
  {
   "cell_type": "code",
   "execution_count": null,
   "id": "020b0145-a1e6-4d6c-bf13-a067dcc6dc1a",
   "metadata": {},
   "outputs": [],
   "source": [
    "def func(y):\n",
    "    return 'z' if y"
   ]
  },
  {
   "cell_type": "markdown",
   "id": "19c2e930-cfbe-4b63-a333-150ca7c4473d",
   "metadata": {},
   "source": [
    "# 2|  OOP (q151)"
   ]
  },
  {
   "cell_type": "code",
   "execution_count": 20,
   "id": "c1a2cee3-5019-4eb8-a6e0-8828614c6df0",
   "metadata": {},
   "outputs": [
    {
     "ename": "NameError",
     "evalue": "name 'obj' is not defined",
     "output_type": "error",
     "traceback": [
      "\u001b[1;31m---------------------------------------------------------------------------\u001b[0m",
      "\u001b[1;31mNameError\u001b[0m                                 Traceback (most recent call last)",
      "Cell \u001b[1;32mIn[20], line 1\u001b[0m\n\u001b[1;32m----> 1\u001b[0m \u001b[38;5;28misinstance\u001b[39m(obj,A)\n",
      "\u001b[1;31mNameError\u001b[0m: name 'obj' is not defined"
     ]
    }
   ],
   "source": [
    "isinstance(obj,A) # checking whether object is an instance of class A"
   ]
  },
  {
   "cell_type": "code",
   "execution_count": null,
   "id": "a8f5c04a-2f7f-41c6-9df8-435842bb60af",
   "metadata": {},
   "outputs": [],
   "source": [
    "class Dog:\n",
    "    def __init__(self,dog):\n",
    "        self.dog = dog\n",
    "    def what_dog(self):\n",
    "        "
   ]
  },
  {
   "cell_type": "code",
   "execution_count": 12,
   "id": "403936f5-7b5a-46cb-ba85-467c388c9dda",
   "metadata": {},
   "outputs": [
    {
     "ename": "SyntaxError",
     "evalue": "default 'except:' must be last (1603801606.py, line 5)",
     "output_type": "error",
     "traceback": [
      "\u001b[1;36m  Cell \u001b[1;32mIn[12], line 5\u001b[1;36m\u001b[0m\n\u001b[1;33m    except:\u001b[0m\n\u001b[1;37m    ^\u001b[0m\n\u001b[1;31mSyntaxError\u001b[0m\u001b[1;31m:\u001b[0m default 'except:' must be last\n"
     ]
    }
   ],
   "source": [
    "    s = '2A'\n",
    "     \n",
    "    try:\n",
    "        n = int(s)\n",
    "    except:\n",
    "        n = 3\n",
    "    except ValueError:\n",
    "        n = 2\n",
    "    except ArithmeticError:\n",
    "        n = 1\n",
    "     \n",
    "    print(n)"
   ]
  },
  {
   "cell_type": "markdown",
   "id": "554f3a74-edba-4f5e-90ba-c6948a7bce69",
   "metadata": {},
   "source": [
    "# 3| Q17 Data Aggregates Q104"
   ]
  },
  {
   "cell_type": "code",
   "execution_count": 27,
   "id": "f7bf8e3d-810d-413d-ae73-a0ca50a2b2c2",
   "metadata": {},
   "outputs": [
    {
     "name": "stdout",
     "output_type": "stream",
     "text": [
      "[1, 3, 5, 7, 9]\n"
     ]
    }
   ],
   "source": [
    "a = [1,2,3,4,5,6,7,8,9]\n",
    "print(a[::2]) # slicing a list from the beginning - every two elements"
   ]
  },
  {
   "cell_type": "markdown",
   "id": "23a956ae-5ab5-464f-840f-5ada3823128f",
   "metadata": {},
   "source": [
    "# 4|  Q23 Control FLow Q145  - i would have solved this - no unknown unknowns"
   ]
  },
  {
   "cell_type": "code",
   "execution_count": 31,
   "id": "036f9f4d-5d88-404b-ac16-982f47eec5cb",
   "metadata": {},
   "outputs": [
    {
     "name": "stdout",
     "output_type": "stream",
     "text": [
      "4\n"
     ]
    }
   ],
   "source": [
    "x = [[[1,2],[3,4]],[[5,6],[7,8]]]\n",
    "\n",
    "def func(data):\n",
    "    res = data[0][0] # res = 1\n",
    "    for da in data: # data =  [[1,2],[3,4]] \n",
    "        for d in da: # da = [1,2] or [3,4]\n",
    "            if res < d:\n",
    "                res = d # last res == 4\n",
    "    return res\n",
    "\n",
    "print(func(x[0])) # x[0] - first element of x = [[1,2],[3,4]]"
   ]
  },
  {
   "cell_type": "markdown",
   "id": "7b589a3c-1c1b-4bd6-a735-f057fd485b2e",
   "metadata": {},
   "source": [
    "# 5| Q24 Data Types Q178: next 3 cells"
   ]
  },
  {
   "cell_type": "code",
   "execution_count": 1,
   "id": "fbbd2a99-57ab-42a9-aea1-c434d54b3b91",
   "metadata": {},
   "outputs": [
    {
     "name": "stdout",
     "output_type": "stream",
     "text": [
      "['1', '2', '3']\n"
     ]
    }
   ],
   "source": [
    "    print(sorted(\"321\")) # not linked"
   ]
  },
  {
   "cell_type": "code",
   "execution_count": 3,
   "id": "f4a568a8-9c2b-4efd-9e3e-371d7c9d512d",
   "metadata": {},
   "outputs": [
    {
     "name": "stdout",
     "output_type": "stream",
     "text": [
      "123\n"
     ]
    }
   ],
   "source": [
    "    print(''.join(sorted(\"321\")))"
   ]
  },
  {
   "cell_type": "code",
   "execution_count": 5,
   "id": "a317779e-6ad1-4613-a2e4-dd8e28aaa5fd",
   "metadata": {},
   "outputs": [
    {
     "name": "stdout",
     "output_type": "stream",
     "text": [
      "123\n"
     ]
    }
   ],
   "source": [
    "    tmp = list(\"321\")\n",
    "    tmp.sort()\n",
    "    print(''.join(tmp))"
   ]
  },
  {
   "cell_type": "code",
   "execution_count": 7,
   "id": "d15485b7-54a0-4c17-b02d-0b02507110ba",
   "metadata": {},
   "outputs": [
    {
     "ename": "AttributeError",
     "evalue": "'str' object has no attribute 'sort'",
     "output_type": "error",
     "traceback": [
      "\u001b[1;31m---------------------------------------------------------------------------\u001b[0m",
      "\u001b[1;31mAttributeError\u001b[0m                            Traceback (most recent call last)",
      "Cell \u001b[1;32mIn[7], line 1\u001b[0m\n\u001b[1;32m----> 1\u001b[0m tmp \u001b[38;5;241m=\u001b[39m \u001b[38;5;124m\"\u001b[39m\u001b[38;5;124m321\u001b[39m\u001b[38;5;124m\"\u001b[39m\u001b[38;5;241m.\u001b[39msort()\n\u001b[0;32m      2\u001b[0m \u001b[38;5;28mprint\u001b[39m(\u001b[38;5;28mstr\u001b[39m(tmp))\n",
      "\u001b[1;31mAttributeError\u001b[0m: 'str' object has no attribute 'sort'"
     ]
    }
   ],
   "source": [
    "    tmp = \"321\".sort()\n",
    "    print(str(tmp))"
   ]
  },
  {
   "cell_type": "markdown",
   "id": "93690261-ddb9-43a2-8189-7b66ea740612",
   "metadata": {},
   "source": [
    "# 6| Q 31 Control Flow Q118"
   ]
  },
  {
   "cell_type": "code",
   "execution_count": 10,
   "id": "b79d84cf-ba24-47d8-83c1-73ff743186a6",
   "metadata": {},
   "outputs": [
    {
     "name": "stdout",
     "output_type": "stream",
     "text": [
      "*\n"
     ]
    }
   ],
   "source": [
    "    i = 4\n",
    "    while i > 0: # i = 4\n",
    "        i -= 2 # i = 2\n",
    "        print('*') # * is printed\n",
    "        if i == 2: # is equal to 2 \n",
    "            break # loop is ended\n",
    "    else: # else branch isn't executed in a while loop after a break\n",
    "     \n",
    "        print('*')"
   ]
  },
  {
   "cell_type": "markdown",
   "id": "ce468135-557e-4f7d-a691-db5f4074c556",
   "metadata": {},
   "source": [
    "# 7| Q32 I/O  Q174\n",
    "\n",
    "Open returns an iterable - it will read the file line by line\n",
    "read() with a specoified number of characters reads the number of characters"
   ]
  },
  {
   "cell_type": "code",
   "execution_count": 17,
   "id": "e18a0bce-1882-4cf3-948a-dbea2a2a49cb",
   "metadata": {},
   "outputs": [
    {
     "ename": "FileNotFoundError",
     "evalue": "[Errno 2] No such file or directory: 'file'",
     "output_type": "error",
     "traceback": [
      "\u001b[1;31m---------------------------------------------------------------------------\u001b[0m",
      "\u001b[1;31mFileNotFoundError\u001b[0m                         Traceback (most recent call last)",
      "Cell \u001b[1;32mIn[17], line 1\u001b[0m\n\u001b[1;32m----> 1\u001b[0m \u001b[38;5;28;01mfor\u001b[39;00m x \u001b[38;5;129;01min\u001b[39;00m \u001b[38;5;28mopen\u001b[39m(\u001b[38;5;124m'\u001b[39m\u001b[38;5;124mfile\u001b[39m\u001b[38;5;124m'\u001b[39m,\u001b[38;5;124m'\u001b[39m\u001b[38;5;124mrt\u001b[39m\u001b[38;5;124m'\u001b[39m):\n\u001b[0;32m      2\u001b[0m     \u001b[38;5;28mprint\u001b[39m(x)\n",
      "File \u001b[1;32m~\\anaconda3\\Lib\\site-packages\\IPython\\core\\interactiveshell.py:286\u001b[0m, in \u001b[0;36m_modified_open\u001b[1;34m(file, *args, **kwargs)\u001b[0m\n\u001b[0;32m    279\u001b[0m \u001b[38;5;28;01mif\u001b[39;00m file \u001b[38;5;129;01min\u001b[39;00m {\u001b[38;5;241m0\u001b[39m, \u001b[38;5;241m1\u001b[39m, \u001b[38;5;241m2\u001b[39m}:\n\u001b[0;32m    280\u001b[0m     \u001b[38;5;28;01mraise\u001b[39;00m \u001b[38;5;167;01mValueError\u001b[39;00m(\n\u001b[0;32m    281\u001b[0m         \u001b[38;5;124mf\u001b[39m\u001b[38;5;124m\"\u001b[39m\u001b[38;5;124mIPython won\u001b[39m\u001b[38;5;124m'\u001b[39m\u001b[38;5;124mt let you open fd=\u001b[39m\u001b[38;5;132;01m{\u001b[39;00mfile\u001b[38;5;132;01m}\u001b[39;00m\u001b[38;5;124m by default \u001b[39m\u001b[38;5;124m\"\u001b[39m\n\u001b[0;32m    282\u001b[0m         \u001b[38;5;124m\"\u001b[39m\u001b[38;5;124mas it is likely to crash IPython. If you know what you are doing, \u001b[39m\u001b[38;5;124m\"\u001b[39m\n\u001b[0;32m    283\u001b[0m         \u001b[38;5;124m\"\u001b[39m\u001b[38;5;124myou can use builtins\u001b[39m\u001b[38;5;124m'\u001b[39m\u001b[38;5;124m open.\u001b[39m\u001b[38;5;124m\"\u001b[39m\n\u001b[0;32m    284\u001b[0m     )\n\u001b[1;32m--> 286\u001b[0m \u001b[38;5;28;01mreturn\u001b[39;00m io_open(file, \u001b[38;5;241m*\u001b[39margs, \u001b[38;5;241m*\u001b[39m\u001b[38;5;241m*\u001b[39mkwargs)\n",
      "\u001b[1;31mFileNotFoundError\u001b[0m: [Errno 2] No such file or directory: 'file'"
     ]
    }
   ],
   "source": [
    "for x in open('file','rt'):\n",
    "    print(x)"
   ]
  },
  {
   "cell_type": "code",
   "execution_count": null,
   "id": "0b076780-bbd4-4c85-915f-eaec7378a636",
   "metadata": {},
   "outputs": [],
   "source": []
  },
  {
   "cell_type": "markdown",
   "id": "cc8b98cc-f13f-4250-af94-6f311a66c5a1",
   "metadata": {},
   "source": [
    "# 8|  Q34 Control Flow Q156\n",
    "\n",
    "Question 34Incorrect\n",
    "\n",
    "Q156 - Control Flow\n",
    "\n",
    "\n",
    "The ABC organics company needs a simple program\n",
    "\n",
    "that their call center will use to enter survey data for a new coffee variety.\n",
    "\n",
    "The program must accept input\n",
    "\n",
    "and return the average rating based on a five-star scale.\n",
    "\n",
    "The output must be rounded to two decimal places.\n",
    "\n",
    "\n",
    "You need to complete the code to meet the requirements.\n",
    "\n",
    "### What should you insert instead of XXX, YYY and ZZZ?"
   ]
  },
  {
   "cell_type": "code",
   "execution_count": 22,
   "id": "a7f15fcd-ff93-4f73-8bfb-3aba8694c720",
   "metadata": {},
   "outputs": [
    {
     "ename": "NameError",
     "evalue": "name 'XXX' is not defined",
     "output_type": "error",
     "traceback": [
      "\u001b[1;31m---------------------------------------------------------------------------\u001b[0m",
      "\u001b[1;31mNameError\u001b[0m                                 Traceback (most recent call last)",
      "Cell \u001b[1;32mIn[22], line 5\u001b[0m\n\u001b[0;32m      2\u001b[0m average \u001b[38;5;241m=\u001b[39m \u001b[38;5;241m0.0\u001b[39m\n\u001b[0;32m      4\u001b[0m \u001b[38;5;28;01mwhile\u001b[39;00m done \u001b[38;5;241m!=\u001b[39m \u001b[38;5;241m-\u001b[39m\u001b[38;5;241m1\u001b[39m:\n\u001b[1;32m----> 5\u001b[0m     rating \u001b[38;5;241m=\u001b[39m XXX\n\u001b[0;32m      6\u001b[0m     \u001b[38;5;28;01mif\u001b[39;00m rating \u001b[38;5;241m==\u001b[39m \u001b[38;5;241m-\u001b[39m\u001b[38;5;241m1\u001b[39m:\n\u001b[0;32m      7\u001b[0m         \u001b[38;5;28;01mbreak\u001b[39;00m\n",
      "\u001b[1;31mNameError\u001b[0m: name 'XXX' is not defined"
     ]
    }
   ],
   "source": [
    "    sum = count = done = 0\n",
    "    average = 0.0\n",
    "     \n",
    "    while done != -1:\n",
    "        rating = XXX\n",
    "        if rating == -1:\n",
    "            break\n",
    "        sum += rating\n",
    "        count += 1\n",
    "     \n",
    "    average = float(sum / count)\n",
    "     \n",
    "    YYY + ZZZ"
   ]
  },
  {
   "cell_type": "code",
   "execution_count": 26,
   "id": "c7755b2d-36de-4b56-85bb-87267a2ff1ed",
   "metadata": {},
   "outputs": [
    {
     "name": "stdin",
     "output_type": "stream",
     "text": [
      "Enter next rating (1-5), -1 for done 5\n",
      "Enter next rating (1-5), -1 for done 2\n",
      "Enter next rating (1-5), -1 for done -1\n"
     ]
    },
    {
     "name": "stdout",
     "output_type": "stream",
     "text": [
      "The average star rating for the new coffee is: 3.50\n"
     ]
    },
    {
     "ename": "TypeError",
     "evalue": "can only concatenate str (not \"tuple\") to str",
     "output_type": "error",
     "traceback": [
      "\u001b[1;31m---------------------------------------------------------------------------\u001b[0m",
      "\u001b[1;31mTypeError\u001b[0m                                 Traceback (most recent call last)",
      "Cell \u001b[1;32mIn[26], line 14\u001b[0m\n\u001b[0;32m     11\u001b[0m average \u001b[38;5;241m=\u001b[39m \u001b[38;5;28mfloat\u001b[39m(\u001b[38;5;28msum\u001b[39m \u001b[38;5;241m/\u001b[39m count)\n\u001b[0;32m     13\u001b[0m \u001b[38;5;28mprint\u001b[39m(\u001b[38;5;124m'\u001b[39m\u001b[38;5;124mThe average star rating for the new coffee is: \u001b[39m\u001b[38;5;124m'\u001b[39m \u001b[38;5;241m+\u001b[39m \u001b[38;5;28mformat\u001b[39m(average, \u001b[38;5;124m'\u001b[39m\u001b[38;5;124m.2f\u001b[39m\u001b[38;5;124m'\u001b[39m))\n\u001b[1;32m---> 14\u001b[0m \u001b[38;5;28mprint\u001b[39m(\u001b[38;5;124m'\u001b[39m\u001b[38;5;124mThe average star rating for the new coffee is: \u001b[39m\u001b[38;5;124m'\u001b[39m \u001b[38;5;241m+\u001b[39m (average, \u001b[38;5;124m'\u001b[39m\u001b[38;5;124m.2f\u001b[39m\u001b[38;5;124m'\u001b[39m))\n",
      "\u001b[1;31mTypeError\u001b[0m: can only concatenate str (not \"tuple\") to str"
     ]
    }
   ],
   "source": [
    "    sum = count = done = 0\n",
    "    average = 0.0\n",
    "     \n",
    "    while done != -1:\n",
    "        rating = float(input('Enter next rating (1-5), -1 for done')) \n",
    "        if rating == -1:\n",
    "            break\n",
    "        sum += rating\n",
    "        count += 1\n",
    "     \n",
    "    average = float(sum / count)\n",
    "     \n",
    "    print('The average star rating for the new coffee is: ' + format(average, '.2f'))\n",
    "    print('The average star rating for the new coffee is: ' + format(average, '.2f'))"
   ]
  },
  {
   "cell_type": "markdown",
   "id": "7d103323-682e-4b1d-a71b-2ab91b35eaea",
   "metadata": {},
   "source": [
    "# 9| Q35  Modules  Q170\n",
    "\n",
    "\n",
    "What happens if you run the following code, assuming that the d directory already exists?"
   ]
  },
  {
   "cell_type": "code",
   "execution_count": 32,
   "id": "e2b321e0-2018-4bc1-9191-7836e5e532b0",
   "metadata": {},
   "outputs": [
    {
     "ename": "FileNotFoundError",
     "evalue": "[WinError 3] The system cannot find the path specified: 'a/b/c/d'",
     "output_type": "error",
     "traceback": [
      "\u001b[1;31m---------------------------------------------------------------------------\u001b[0m",
      "\u001b[1;31mFileNotFoundError\u001b[0m                         Traceback (most recent call last)",
      "Cell \u001b[1;32mIn[32], line 2\u001b[0m\n\u001b[0;32m      1\u001b[0m \u001b[38;5;28;01mimport\u001b[39;00m \u001b[38;5;21;01mos\u001b[39;00m\n\u001b[1;32m----> 2\u001b[0m os\u001b[38;5;241m.\u001b[39mmkdir(\u001b[38;5;124m\"\u001b[39m\u001b[38;5;124ma/b/c/d\u001b[39m\u001b[38;5;124m\"\u001b[39m)\n",
      "\u001b[1;31mFileNotFoundError\u001b[0m: [WinError 3] The system cannot find the path specified: 'a/b/c/d'"
     ]
    }
   ],
   "source": [
    "    import os\n",
    "    os.mkdir(\"a/b/c/d\") # FileExistsError - there is no directory exists error"
   ]
  },
  {
   "cell_type": "markdown",
   "id": "ab15d29d-5bfa-4312-b30b-04c580215876",
   "metadata": {},
   "source": [
    "# 10|  Q38 Error Handling Q1000"
   ]
  },
  {
   "cell_type": "code",
   "execution_count": 3,
   "id": "14a1497c-1d5e-4720-8864-9e5221358dc0",
   "metadata": {},
   "outputs": [
    {
     "ename": "SyntaxError",
     "evalue": "default 'except:' must be last (1603801606.py, line 5)",
     "output_type": "error",
     "traceback": [
      "\u001b[1;36m  Cell \u001b[1;32mIn[3], line 5\u001b[1;36m\u001b[0m\n\u001b[1;33m    except:\u001b[0m\n\u001b[1;37m    ^\u001b[0m\n\u001b[1;31mSyntaxError\u001b[0m\u001b[1;31m:\u001b[0m default 'except:' must be last\n"
     ]
    }
   ],
   "source": [
    "    s = '2A'\n",
    "     \n",
    "    try:\n",
    "        n = int(s)\n",
    "    except: # default except must be last\n",
    "        n = 3\n",
    "    except ValueError:\n",
    "        n = 2\n",
    "    except ArithmeticError:\n",
    "        n = 1\n",
    "     \n",
    "    print(n)"
   ]
  },
  {
   "cell_type": "markdown",
   "id": "4864d441-de88-4ac0-8686-2b5fd7f8b61b",
   "metadata": {},
   "source": [
    "# 11| Q42 OOP Q192 \n",
    "\n",
    "What is the expected output of the following code?"
   ]
  },
  {
   "cell_type": "code",
   "execution_count": 3,
   "id": "150b027b-b50d-4b8f-8ad7-eec041fc0c0f",
   "metadata": {},
   "outputs": [
    {
     "name": "stdout",
     "output_type": "stream",
     "text": [
      "False\n"
     ]
    }
   ],
   "source": [
    "\n",
    "    class Content:\n",
    "        title = \"None\"\n",
    "     \n",
    "        def __init__(self, this):\n",
    "            self.name = this + \" than \" + Content.title\n",
    "     \n",
    "    text_1 = Content(\"Paper\")\n",
    "    text_2 = Content(\"Article\")\n",
    "    print(text_1.title == text_2.name)"
   ]
  },
  {
   "cell_type": "markdown",
   "id": "5177d62e-d0f9-4b5c-ac76-9edfb257ee2d",
   "metadata": {},
   "source": [
    "# 12| Q48 Error Handling Q186\n",
    "\n",
    "What is the expected output of the following program?"
   ]
  },
  {
   "cell_type": "code",
   "execution_count": 6,
   "id": "3f163c66-d7ac-4ef3-bf78-be27e49478c8",
   "metadata": {},
   "outputs": [
    {
     "ename": "SyntaxError",
     "evalue": "'break' outside loop (139270861.py, line 3)",
     "output_type": "error",
     "traceback": [
      "\u001b[1;36m  Cell \u001b[1;32mIn[6], line 3\u001b[1;36m\u001b[0m\n\u001b[1;33m    break # the break statement is used outside of a loop - for or while for example, causing the error(Syntax Error) to be raised before evaluating the\u001b[0m\n\u001b[1;37m    ^\u001b[0m\n\u001b[1;31mSyntaxError\u001b[0m\u001b[1;31m:\u001b[0m 'break' outside loop\n"
     ]
    }
   ],
   "source": [
    "    try:\n",
    "        print(5/0)\n",
    "        break # the break statement is used outside of a loop - for or while for example, causing the error(Syntax Error) to be raised before evaluating the \n",
    "        # try block\n",
    "    except:\n",
    "        print(\"Sorry, something went wrong...\")\n",
    "    except (ValueError, ZeroDivisionError):\n",
    "        print(\"Too bad...\")"
   ]
  },
  {
   "cell_type": "markdown",
   "id": "3c268c59-a513-4508-942b-8a465e720a82",
   "metadata": {},
   "source": [
    "# My Ver:"
   ]
  },
  {
   "cell_type": "code",
   "execution_count": null,
   "id": "67692a7a-e9a1-4c70-a088-1ea7d298a05c",
   "metadata": {},
   "outputs": [],
   "source": []
  },
  {
   "cell_type": "markdown",
   "id": "8ad40e35-b714-48f9-a3ab-1e2a8c1eb203",
   "metadata": {},
   "source": [
    "# 13| Q56 Basics Q176\n",
    "Which of the following statements is tru?:"
   ]
  },
  {
   "cell_type": "markdown",
   "id": "eb93d17c-3f1f-4abd-b944-00f013fd6463",
   "metadata": {},
   "source": [
    "## There are three pre-opened file streams.\n",
    "Explanation\n",
    "In Python, there are three pre-opened file streams: sys.stdin, sys.stdout, and sys.stderr. These streams are automatically available for input, output, and error handling without the need for explicit file opening.\n",
    "\n",
    "## The input() function reads data from the stdin stream.\n",
    "Explanation\n",
    "The input() function in Python reads data from the standard input stream, commonly referred to as stdin. It allows the user to input data from the keyboard during program execution.\n"
   ]
  },
  {
   "cell_type": "markdown",
   "id": "29929517-916d-4208-b971-33c3882bb3ea",
   "metadata": {},
   "source": [
    "# 14| Q58 Data Aggregates Q 147 \n",
    "\n",
    "What is the expected output of the following code?"
   ]
  },
  {
   "cell_type": "code",
   "execution_count": 12,
   "id": "f8fbd363-8175-4bc2-97ef-ef79d84b3852",
   "metadata": {},
   "outputs": [
    {
     "name": "stdout",
     "output_type": "stream",
     "text": [
      "4\n"
     ]
    }
   ],
   "source": [
    "    x = [0, 1, 2]\n",
    "    x.insert(0, 1) # inserts value 1 at index zero\n",
    "    del x[1]\n",
    "    print(sum(x))"
   ]
  },
  {
   "cell_type": "markdown",
   "id": "a2ecc73d-448f-4418-8543-b901fdef1812",
   "metadata": {},
   "source": [
    "# 15| Q 67 OOP Q195\n",
    "\n",
    "What is the output of the following code?"
   ]
  },
  {
   "cell_type": "code",
   "execution_count": 34,
   "id": "e1c4a36c-cbdd-42b5-aa90-294d03aab788",
   "metadata": {},
   "outputs": [
    {
     "name": "stdout",
     "output_type": "stream",
     "text": [
      "True False\n"
     ]
    }
   ],
   "source": [
    "    class Cat:\n",
    "        Species = 1\n",
    "     \n",
    "        def get_species(self):\n",
    "            return 'kitty'\n",
    "     \n",
    "     \n",
    "    class Tiger(Cat): # tiger inherits species from the cat\n",
    "        def get_species(self):\n",
    "            return 'tiggy'\n",
    "     \n",
    "        def set_species(self):\n",
    "            pass\n",
    "     \n",
    "     \n",
    "    creature = Tiger()\n",
    "    print(hasattr(creature, \"Species\"),\n",
    "          hasattr(Cat, \"set_species\"))"
   ]
  },
  {
   "cell_type": "code",
   "execution_count": null,
   "id": "0c971106-bfd4-4874-bf5d-f43f6bfb9c96",
   "metadata": {},
   "outputs": [],
   "source": []
  }
 ],
 "metadata": {
  "kernelspec": {
   "display_name": "Python [conda env:base] *",
   "language": "python",
   "name": "conda-base-py"
  },
  "language_info": {
   "codemirror_mode": {
    "name": "ipython",
    "version": 3
   },
   "file_extension": ".py",
   "mimetype": "text/x-python",
   "name": "python",
   "nbconvert_exporter": "python",
   "pygments_lexer": "ipython3",
   "version": "3.11.5"
  }
 },
 "nbformat": 4,
 "nbformat_minor": 5
}
