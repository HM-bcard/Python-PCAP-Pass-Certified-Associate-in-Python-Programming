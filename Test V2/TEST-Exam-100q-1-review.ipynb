{
 "cells": [
  {
   "cell_type": "markdown",
   "id": "1c4400e5-3b8c-4ff9-8318-7d7ab0eaf6a0",
   "metadata": {},
   "source": [
    "# control flow (q121)"
   ]
  },
  {
   "cell_type": "code",
   "execution_count": 16,
   "id": "f73c8d6c-70e4-42e7-8789-ebff274c0d3f",
   "metadata": {},
   "outputs": [
    {
     "ename": "NameError",
     "evalue": "name 'B' is not defined",
     "output_type": "error",
     "traceback": [
      "\u001b[1;31m---------------------------------------------------------------------------\u001b[0m",
      "\u001b[1;31mNameError\u001b[0m                                 Traceback (most recent call last)",
      "Cell \u001b[1;32mIn[16], line 3\u001b[0m\n\u001b[0;32m      1\u001b[0m \u001b[38;5;28;01mdef\u001b[39;00m \u001b[38;5;21mfunc\u001b[39m(x):\n\u001b[0;32m      2\u001b[0m     \u001b[38;5;28;01mreturn\u001b[39;00m \u001b[38;5;241m1\u001b[39m \u001b[38;5;28;01mif\u001b[39;00m x \u001b[38;5;241m%\u001b[39m  \u001b[38;5;241m2\u001b[39m \u001b[38;5;241m!=\u001b[39m \u001b[38;5;241m0\u001b[39m \u001b[38;5;28;01melse\u001b[39;00m \u001b[38;5;241m2\u001b[39m\n\u001b[1;32m----> 3\u001b[0m B\n\u001b[0;32m      4\u001b[0m \u001b[38;5;28mprint\u001b[39m(func(func(\u001b[38;5;241m1\u001b[39m)))\n",
      "\u001b[1;31mNameError\u001b[0m: name 'B' is not defined"
     ]
    }
   ],
   "source": [
    "def func(x):\n",
    "    return 1 if x %  2 != 0 else 2\n",
    "\n",
    "print(func(func(1)))"
   ]
  },
  {
   "cell_type": "markdown",
   "id": "6447c318-ccd6-4664-9dad-d6d75f094d79",
   "metadata": {},
   "source": [
    "# my v:"
   ]
  },
  {
   "cell_type": "code",
   "execution_count": null,
   "id": "020b0145-a1e6-4d6c-bf13-a067dcc6dc1a",
   "metadata": {},
   "outputs": [],
   "source": [
    "def func(y):\n",
    "    return 'z' if y"
   ]
  },
  {
   "cell_type": "markdown",
   "id": "19c2e930-cfbe-4b63-a333-150ca7c4473d",
   "metadata": {},
   "source": [
    "# OOP (q151)"
   ]
  },
  {
   "cell_type": "code",
   "execution_count": 20,
   "id": "c1a2cee3-5019-4eb8-a6e0-8828614c6df0",
   "metadata": {},
   "outputs": [
    {
     "ename": "NameError",
     "evalue": "name 'obj' is not defined",
     "output_type": "error",
     "traceback": [
      "\u001b[1;31m---------------------------------------------------------------------------\u001b[0m",
      "\u001b[1;31mNameError\u001b[0m                                 Traceback (most recent call last)",
      "Cell \u001b[1;32mIn[20], line 1\u001b[0m\n\u001b[1;32m----> 1\u001b[0m \u001b[38;5;28misinstance\u001b[39m(obj,A)\n",
      "\u001b[1;31mNameError\u001b[0m: name 'obj' is not defined"
     ]
    }
   ],
   "source": [
    "isinstance(obj,A) # checking whether object is an instance of class A"
   ]
  },
  {
   "cell_type": "code",
   "execution_count": null,
   "id": "a8f5c04a-2f7f-41c6-9df8-435842bb60af",
   "metadata": {},
   "outputs": [],
   "source": [
    "class Dog:\n",
    "    def __init__(self,dog):\n",
    "        self.dog = dog\n",
    "    def what_dog(self):\n",
    "        "
   ]
  },
  {
   "cell_type": "code",
   "execution_count": 12,
   "id": "403936f5-7b5a-46cb-ba85-467c388c9dda",
   "metadata": {},
   "outputs": [
    {
     "ename": "SyntaxError",
     "evalue": "default 'except:' must be last (1603801606.py, line 5)",
     "output_type": "error",
     "traceback": [
      "\u001b[1;36m  Cell \u001b[1;32mIn[12], line 5\u001b[1;36m\u001b[0m\n\u001b[1;33m    except:\u001b[0m\n\u001b[1;37m    ^\u001b[0m\n\u001b[1;31mSyntaxError\u001b[0m\u001b[1;31m:\u001b[0m default 'except:' must be last\n"
     ]
    }
   ],
   "source": [
    "    s = '2A'\n",
    "     \n",
    "    try:\n",
    "        n = int(s)\n",
    "    except:\n",
    "        n = 3\n",
    "    except ValueError:\n",
    "        n = 2\n",
    "    except ArithmeticError:\n",
    "        n = 1\n",
    "     \n",
    "    print(n)"
   ]
  },
  {
   "cell_type": "markdown",
   "id": "554f3a74-edba-4f5e-90ba-c6948a7bce69",
   "metadata": {},
   "source": [
    "# Q17 Data Aggregates Q104"
   ]
  },
  {
   "cell_type": "code",
   "execution_count": 27,
   "id": "f7bf8e3d-810d-413d-ae73-a0ca50a2b2c2",
   "metadata": {},
   "outputs": [
    {
     "name": "stdout",
     "output_type": "stream",
     "text": [
      "[1, 3, 5, 7, 9]\n"
     ]
    }
   ],
   "source": [
    "a = [1,2,3,4,5,6,7,8,9]\n",
    "print(a[::2]) # slicing a list from the beginning - every two elements"
   ]
  },
  {
   "cell_type": "markdown",
   "id": "23a956ae-5ab5-464f-840f-5ada3823128f",
   "metadata": {},
   "source": [
    "# Q23 Control FLow Q145 "
   ]
  },
  {
   "cell_type": "code",
   "execution_count": 31,
   "id": "036f9f4d-5d88-404b-ac16-982f47eec5cb",
   "metadata": {},
   "outputs": [
    {
     "name": "stdout",
     "output_type": "stream",
     "text": [
      "4\n"
     ]
    }
   ],
   "source": [
    "x = [[[1,2],[3,4]],[[5,6],[7,8]]]\n",
    "\n",
    "def func(data):\n",
    "    res = data[0][0]\n",
    "    for da in data:\n",
    "        for d in da:\n",
    "            if res <d:\n",
    "                res = d\n",
    "    return res\n",
    "\n",
    "print(func(x[0]))"
   ]
  },
  {
   "cell_type": "code",
   "execution_count": null,
   "id": "fbbd2a99-57ab-42a9-aea1-c434d54b3b91",
   "metadata": {},
   "outputs": [],
   "source": []
  }
 ],
 "metadata": {
  "kernelspec": {
   "display_name": "Python [conda env:base] *",
   "language": "python",
   "name": "conda-base-py"
  },
  "language_info": {
   "codemirror_mode": {
    "name": "ipython",
    "version": 3
   },
   "file_extension": ".py",
   "mimetype": "text/x-python",
   "name": "python",
   "nbconvert_exporter": "python",
   "pygments_lexer": "ipython3",
   "version": "3.11.5"
  }
 },
 "nbformat": 4,
 "nbformat_minor": 5
}
