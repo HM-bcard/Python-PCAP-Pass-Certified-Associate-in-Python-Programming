{
 "cells": [
  {
   "cell_type": "markdown",
   "id": "1cf9f0ce-4fc6-4c3a-88e2-4263d060de1c",
   "metadata": {},
   "source": [
    "# Q2 I/O Q340\n",
    "\n",
    "ou want to write a new player to a file\n",
    "\n",
    "and print the whole file content to the monitor.\n",
    "\n",
    "What snippet would you insert in the line indicated below:\n",
    "\n",
    "\n",
    "    customer = 'Peter Wellert'\n",
    "    with open('customers.txt', 'a+') as f:\n",
    "        f.write(customer)\n",
    "        # insert your code here\n",
    "        data = f.read()\n",
    "        print(data)\n",
    "\n"
   ]
  },
  {
   "cell_type": "code",
   "execution_count": 10,
   "id": "43d4a61b-eefe-4a0b-92a5-78087a424e6a",
   "metadata": {},
   "outputs": [
    {
     "name": "stdout",
     "output_type": "stream",
     "text": [
      "Peter WellertPeter WellertPeter WellertPeter WellertPeter Wellert\n"
     ]
    }
   ],
   "source": [
    "customer = 'Peter Wellert'\n",
    "with open('customers.txt', 'a+') as f:\n",
    "    f.write(customer)\n",
    "    f.seek(0)\n",
    "    data = f.read()\n",
    "    print(data)\n"
   ]
  },
  {
   "cell_type": "markdown",
   "id": "673d78d6-b7a0-4602-9f12-904ad82902ea",
   "metadata": {},
   "source": [
    "f.seek - places the coursor at the beginning of the file\n",
    "flush clears the internal buffer of the file\n"
   ]
  },
  {
   "cell_type": "markdown",
   "id": "d1b16bad-49f2-4ef7-90bf-72fb1ad428ce",
   "metadata": {},
   "source": [
    "# Q3 OOP Q395\n",
    "\n",
    "Given the code below,\n",
    "\n",
    "which of the expressions will evaluate to True?"
   ]
  },
  {
   "cell_type": "code",
   "execution_count": 15,
   "id": "b7003848-061f-470a-ad46-36474c43a065",
   "metadata": {},
   "outputs": [],
   "source": [
    "    class Un:\n",
    "        value = \"Eins\"\n",
    "     \n",
    "        def say(self):\n",
    "            return self.value.lower()\n",
    "     \n",
    "     \n",
    "    class Deux(Un):\n",
    "        value = \"Zwei\"\n",
    "     \n",
    "     \n",
    "    class Troi(Un):\n",
    "        def say(self):\n",
    "            return self.value.upper()\n",
    "     \n",
    "     \n",
    "    class Quatre(Troi, Deux):\n",
    "        pass\n",
    "     \n",
    "     \n",
    "    d = Quatre()\n",
    "    b = Deux()"
   ]
  },
  {
   "cell_type": "code",
   "execution_count": 19,
   "id": "826ac1bb-2590-4467-85a2-7c6a0fa62cc4",
   "metadata": {},
   "outputs": [],
   "source": [
    "# not d.value == \"Eins\" because Quare class inherits the value from  the class Deux - not Un\n"
   ]
  },
  {
   "cell_type": "markdown",
   "id": "3279eed5-f34b-455e-8ed5-d4a126051371",
   "metadata": {},
   "source": [
    "# Q5 Control Flow Q323  III\n",
    "\n",
    "What is the expected output of the following code?"
   ]
  },
  {
   "cell_type": "code",
   "execution_count": 23,
   "id": "ba374621-ac1a-48e3-8d2b-6166ea9de0d8",
   "metadata": {},
   "outputs": [
    {
     "name": "stdout",
     "output_type": "stream",
     "text": [
      "6\n"
     ]
    }
   ],
   "source": [
    "    data = [(0, 1), (1, 2), (2, 3)]\n",
    "    res = sum(i for j, i in data) # a list of j and i tuples in data - sum of 1,2 and 3\n",
    "    print(res)"
   ]
  },
  {
   "cell_type": "markdown",
   "id": "645235d3-8dec-4f44-a8cd-42e76a332ff6",
   "metadata": {},
   "source": [
    "# Q7 Control flow Q356 IV\n",
    "\n",
    "The ABC company is creating a program\n",
    "\n",
    "that allows customers to log the number of miles biked.\n",
    "\n",
    "The program will send messages based on how many miles the customer logs.\n",
    "\n",
    "You create the following Python code."
   ]
  },
  {
   "cell_type": "code",
   "execution_count": 27,
   "id": "b6574408-dcc2-415c-ae03-48a85f60d9f8",
   "metadata": {},
   "outputs": [
    {
     "ename": "IndentationError",
     "evalue": "unexpected indent (3839600776.py, line 2)",
     "output_type": "error",
     "traceback": [
      "\u001b[1;36m  Cell \u001b[1;32mIn[27], line 2\u001b[1;36m\u001b[0m\n\u001b[1;33m    name = input('What is your name? ')\u001b[0m\n\u001b[1;37m    ^\u001b[0m\n\u001b[1;31mIndentationError\u001b[0m\u001b[1;31m:\u001b[0m unexpected indent\n"
     ]
    }
   ],
   "source": [
    "    ???\n",
    "        name = input('What is your name? ')\n",
    "        return name\n",
    "     \n",
    "     \n",
    "    ???\n",
    "        calories = miles * calories_per_mile\n",
    "        return calories\n",
    "     \n",
    "     \n",
    "    distance = int(input('How many miles did you bike this week? '))\n",
    "    burn_rate = 50\n",
    "    biker = get_name()\n",
    "    calories_burned = calc_calories(distance, burn_rate)\n",
    "    print(biker + ', you burned about', calories_burned, 'calories.')"
   ]
  },
  {
   "cell_type": "markdown",
   "id": "562ec38f-715a-42a2-ba48-9868889e3f78",
   "metadata": {},
   "source": [
    "def get_name():\n",
    "\n",
    "def calc_calories(miles, calories_per_mile):\n",
    "\n",
    "not def get_name(name)- as the user has to be prompted for the name here "
   ]
  },
  {
   "cell_type": "markdown",
   "id": "6ca7ddb9-8bc0-4bae-b23e-a3f0eecffe3b",
   "metadata": {},
   "source": [
    "# Q14 Error Handling Q363 V\n",
    "\n",
    "\n",
    "Select the true statements.\n",
    "\n",
    "\n",
    "Choose two.\n",
    "\n",
    "\n"
   ]
  },
  {
   "cell_type": "markdown",
   "id": "1bbaad66-8a92-4d66-817b-a013b5a16e49",
   "metadata": {},
   "source": [
    "1  Different except: branches must have unique exception names.\n",
    "\n",
    "2 You can use multiple except: branches to handle multiple exceptions coming from the same try: branch."
   ]
  },
  {
   "cell_type": "markdown",
   "id": "f35528d3-1d1e-41fe-ae3b-2fa8004f9224",
   "metadata": {},
   "source": [
    "# Q15 Error Handling Q357 VI\n",
    "\n",
    "What is the expected output of the following code?"
   ]
  },
  {
   "cell_type": "code",
   "execution_count": 37,
   "id": "c9369696-8b20-42e2-9076-a78b56cc6362",
   "metadata": {},
   "outputs": [
    {
     "ename": "NameError",
     "evalue": "name 'FirstError' is not defined",
     "output_type": "error",
     "traceback": [
      "\u001b[1;31m---------------------------------------------------------------------------\u001b[0m",
      "\u001b[1;31mNameError\u001b[0m                                 Traceback (most recent call last)",
      "Cell \u001b[1;32mIn[37], line 3\u001b[0m\n\u001b[0;32m      2\u001b[0m \u001b[38;5;28;01mif\u001b[39;00m \u001b[38;5;124m'\u001b[39m\u001b[38;5;124m1\u001b[39m\u001b[38;5;124m'\u001b[39m \u001b[38;5;241m!=\u001b[39m \u001b[38;5;241m1\u001b[39m:\n\u001b[1;32m----> 3\u001b[0m     \u001b[38;5;28;01mraise\u001b[39;00m FirstError\n\u001b[0;32m      4\u001b[0m \u001b[38;5;28;01melse\u001b[39;00m:\n",
      "\u001b[1;31mNameError\u001b[0m: name 'FirstError' is not defined",
      "\nDuring handling of the above exception, another exception occurred:\n",
      "\u001b[1;31mNameError\u001b[0m                                 Traceback (most recent call last)",
      "Cell \u001b[1;32mIn[37], line 6\u001b[0m\n\u001b[0;32m      4\u001b[0m     \u001b[38;5;28;01melse\u001b[39;00m:\n\u001b[0;32m      5\u001b[0m         \u001b[38;5;28mprint\u001b[39m(\u001b[38;5;124m'\u001b[39m\u001b[38;5;124mFirstError has not occured.\u001b[39m\u001b[38;5;124m'\u001b[39m)\n\u001b[1;32m----> 6\u001b[0m \u001b[38;5;28;01mexcept\u001b[39;00m FirstError:\n\u001b[0;32m      7\u001b[0m     \u001b[38;5;28mprint\u001b[39m(\u001b[38;5;124m'\u001b[39m\u001b[38;5;124mFirstError has occured.\u001b[39m\u001b[38;5;124m'\u001b[39m)\n\u001b[0;32m      8\u001b[0m \u001b[38;5;28;01melse\u001b[39;00m:\n",
      "\u001b[1;31mNameError\u001b[0m: name 'FirstError' is not defined"
     ]
    }
   ],
   "source": [
    "    try:\n",
    "        if '1' != 1:\n",
    "            raise FirstError\n",
    "        else:\n",
    "            print('FirstError has not occured.')\n",
    "    except FirstError:\n",
    "        print('FirstError has occured.')\n",
    "    else:\n",
    "        print('None of the above.')"
   ]
  },
  {
   "cell_type": "markdown",
   "id": "eebe32eb-a3cd-4adb-9cd5-65c8676c60e4",
   "metadata": {},
   "source": [
    "The FirstError was invoked before the definition"
   ]
  },
  {
   "cell_type": "markdown",
   "id": "d5a6de40-02bc-4a1b-a654-fbfece78992c",
   "metadata": {},
   "source": [
    "# Q18 Control Flow Q381 VII\n",
    "\n",
    "What is the expected output of the following code?"
   ]
  },
  {
   "cell_type": "code",
   "execution_count": 45,
   "id": "2e90b11b-50cb-4b91-b379-53c65b17a7d4",
   "metadata": {},
   "outputs": [
    {
     "name": "stdout",
     "output_type": "stream",
     "text": [
      "0\n"
     ]
    }
   ],
   "source": [
    "    header = 2 * '+-' + '+'\n",
    "    plus = 0\n",
    "    for x in header:\n",
    "        if x not in header: # it's never true - x in header is always in header\n",
    "            plus += 1\n",
    "    print(plus)"
   ]
  },
  {
   "cell_type": "markdown",
   "id": "d069fd23-789c-4329-aead-72098d29d585",
   "metadata": {},
   "source": [
    "# Q21 OOP Q332\n",
    "\n",
    "What is the expected output of the following code?"
   ]
  },
  {
   "cell_type": "code",
   "execution_count": 54,
   "id": "08be788e-f107-4635-87ed-69cbb581841d",
   "metadata": {},
   "outputs": [
    {
     "name": "stdout",
     "output_type": "stream",
     "text": [
      "i from B is 20\n"
     ]
    }
   ],
   "source": [
    "\n",
    "    class A:\n",
    "        def __init__(self):\n",
    "            self.calc(10)\n",
    "     \n",
    "        def calc(self, i):\n",
    "            self.i = 3 * i\n",
    "     \n",
    "     \n",
    "    class B(A):\n",
    "        def __init__(self):\n",
    "            super().__init__() # super sets the i to 10\n",
    "            print('i from B is', self.i)\n",
    "     \n",
    "        def calc(self, i):\n",
    "            self.i = 2 * i # method is overridden in class B\n",
    "     \n",
    "     \n",
    "    b = B()"
   ]
  },
  {
   "cell_type": "markdown",
   "id": "f509143d-b202-4413-b6d4-c263d486fa3a",
   "metadata": {},
   "source": [
    "# Q24  OOP Q391 IX\n",
    "\n",
    "Which of the following classes have valid constructors?\n",
    "\n",
    "\n",
    "(Select two answers.)"
   ]
  },
  {
   "cell_type": "code",
   "execution_count": 58,
   "id": "32b4ae3e-eed7-4a7a-9d02-a3c8c890ac0f",
   "metadata": {},
   "outputs": [],
   "source": [
    "    class Aleph:\n",
    "        def __init__(self):\n",
    "            self.attribute = True"
   ]
  },
  {
   "cell_type": "code",
   "execution_count": 64,
   "id": "1de67350-a27a-495a-817a-d7147b6bb92e",
   "metadata": {},
   "outputs": [],
   "source": [
    "    class Dalet: # not incorrect\n",
    "        def __init__(self):\n",
    "            return False"
   ]
  },
  {
   "cell_type": "code",
   "execution_count": 62,
   "id": "577a06ec-8aaf-4969-8b06-2ff59ad03e9a",
   "metadata": {},
   "outputs": [],
   "source": [
    "    class Bet:\n",
    "        def __init__(self):\n",
    "            raise ArithmeticError"
   ]
  },
  {
   "cell_type": "markdown",
   "id": "713294d9-4f56-424e-aaa6-d668870581dd",
   "metadata": {},
   "source": [
    "# Q26 Functions Q383 X\n",
    "\n",
    "What is the expected output of the following code?"
   ]
  },
  {
   "cell_type": "code",
   "execution_count": 68,
   "id": "ac1654c2-f0bf-49b0-9d12-90a273b60cb1",
   "metadata": {},
   "outputs": [
    {
     "name": "stdout",
     "output_type": "stream",
     "text": [
      "1\n"
     ]
    }
   ],
   "source": [
    "    pairs = [[2, 1], [-1, -1]]\n",
    "    new_pairs = map(lambda p: sorted(p), pairs)\n",
    "    print(list(new_pairs)[0][0])"
   ]
  },
  {
   "cell_type": "markdown",
   "id": "22184ab2-88cd-49a3-aa2a-6ce45db1ab3f",
   "metadata": {},
   "source": [
    "# Q35 Control Flow Q306 XI\n",
    "\n",
    "What is the expected output of the following code?"
   ]
  },
  {
   "cell_type": "code",
   "execution_count": 84,
   "id": "bef03abc-e85d-4873-8598-d169ea6f8223",
   "metadata": {},
   "outputs": [
    {
     "name": "stdout",
     "output_type": "stream",
     "text": [
      "<class 'dict'>\n",
      "<class 'tuple'>\n",
      "<class 'tuple'>\n",
      "<class 'set'>\n",
      "<class 'list'>\n",
      "11121\n",
      "11121\n"
     ]
    }
   ],
   "source": [
    "    data = [1, {}, (2,), (), {3}, [4, 5]]\n",
    "    points = 0\n",
    "     \n",
    "    for i in range(len(data)):\n",
    "        if type(data[i]) == list:\n",
    "            points += 1\n",
    "            print(type(data[i]))\n",
    "            print(points)\n",
    "        elif type(data[i]) == tuple:\n",
    "            points += 10\n",
    "            print(type(data[i]))\n",
    "        elif type(data[i]) == set:\n",
    "            points += 100\n",
    "            print(type(data[i]))\n",
    "        elif type(data[i]) == dict:\n",
    "            points += 1000\n",
    "            print(type(data[i]))\n",
    "        else:\n",
    "            points += 10000\n",
    "    print(points)"
   ]
  },
  {
   "cell_type": "code",
   "execution_count": 86,
   "id": "fea06269-ff0c-429a-b78c-be6296a39541",
   "metadata": {},
   "outputs": [
    {
     "name": "stdout",
     "output_type": "stream",
     "text": [
      "<class 'dict'>\n",
      "<class 'tuple'>\n",
      "<class 'tuple'>\n",
      "<class 'set'>\n",
      "<class 'list'>\n",
      "11121\n",
      "11121\n"
     ]
    }
   ],
   "source": [
    "    data = [1, {}, (2,), (), {3}, [4, 5]]\n",
    "    points = 0\n",
    "     \n",
    "    for i in range(len(data)):\n",
    "        if type(data[i]) == list:\n",
    "            points += 1\n",
    "            print(type(data[i]))\n",
    "            print(points)\n",
    "        elif type(data[i]) == tuple:\n",
    "            points += 10\n",
    "            print(type(data[i]))\n",
    "        elif type(data[i]) == set:\n",
    "            points += 100\n",
    "            print(type(data[i]))\n",
    "        elif type(data[i]) == dict:\n",
    "            points += 1000\n",
    "            print(type(data[i]))\n",
    "        else:\n",
    "            points += 10000\n",
    "    print(points)"
   ]
  },
  {
   "cell_type": "code",
   "execution_count": null,
   "id": "d01665b0-531c-411d-9695-284b5e29d9a1",
   "metadata": {},
   "outputs": [],
   "source": []
  }
 ],
 "metadata": {
  "kernelspec": {
   "display_name": "Python [conda env:base] *",
   "language": "python",
   "name": "conda-base-py"
  },
  "language_info": {
   "codemirror_mode": {
    "name": "ipython",
    "version": 3
   },
   "file_extension": ".py",
   "mimetype": "text/x-python",
   "name": "python",
   "nbconvert_exporter": "python",
   "pygments_lexer": "ipython3",
   "version": "3.11.5"
  }
 },
 "nbformat": 4,
 "nbformat_minor": 5
}
