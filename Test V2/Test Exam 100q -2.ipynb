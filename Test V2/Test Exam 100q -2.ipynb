{
 "cells": [
  {
   "cell_type": "code",
   "execution_count": 1,
   "id": "ff133b92-62a0-40df-9441-948c4be72a6b",
   "metadata": {},
   "outputs": [
    {
     "name": "stdout",
     "output_type": "stream",
     "text": [
      "lr"
     ]
    }
   ],
   "source": [
    "    vect = [\"alpha\", \"bravo\", \"charlie\"]\n",
    "    new_vect = filter(lambda s: s[-1].upper() in [\"A\", \"O\"], vect)\n",
    "    for x in new_vect:\n",
    "        print(x[1], end=\"\")\n",
    "\n",
    "\n"
   ]
  },
  {
   "cell_type": "code",
   "execution_count": 3,
   "id": "5370ef6f-2806-409a-b9b7-5f0aad2de81b",
   "metadata": {},
   "outputs": [
    {
     "name": "stdout",
     "output_type": "stream",
     "text": [
      "python"
     ]
    }
   ],
   "source": [
    "    s = 'python'\n",
    "    for i in range(len(s)):\n",
    "        i = s[i].upper()\n",
    "    print(s, end='')"
   ]
  },
  {
   "cell_type": "code",
   "execution_count": 5,
   "id": "84386a81-fdfd-4501-bada-d7e38db022dd",
   "metadata": {},
   "outputs": [
    {
     "name": "stdout",
     "output_type": "stream",
     "text": [
      "1\n"
     ]
    }
   ],
   "source": [
    "    x = \"\"\"\n",
    "    \"\"\"\n",
    "    print(len(x))"
   ]
  },
  {
   "cell_type": "markdown",
   "id": "ce056326-24c7-4615-b11a-2fd3972d3f2d",
   "metadata": {},
   "source": [
    "# Q3 Data Types Q249 \n",
    "Which of the following statements is false?"
   ]
  },
  {
   "cell_type": "markdown",
   "id": "80ce6d18-f138-4f44-b928-92c3b695e0de",
   "metadata": {},
   "source": [
    "The None value may not be used outside functions - it can , its a built in constant representing the absence of value"
   ]
  },
  {
   "cell_type": "markdown",
   "id": "9ac39cf9-247b-47ee-95d5-3395d5656014",
   "metadata": {},
   "source": [
    "# Q6 I/O 284\n",
    "\n",
    "Which of the following statements is true?"
   ]
  },
  {
   "cell_type": "markdown",
   "id": "9c7c3e62-52ef-4604-8f8f-8ff9ca4e863b",
   "metadata": {},
   "source": [
    "1. Your selection is incorrect\n",
    "\n",
    "read, write, and delete are the names of file open modes.\n",
    "Explanation\n",
    "While read and write are indeed common file open modes in Python, 'delete' is not a standard file open mode. The correct modes are 'r' for reading, 'w' for writing, and 'a' for appending.\n",
    "Your selection is correct\n",
    "\n",
    "The open() function raises an exception when its operation fails.\n",
    "Explanation\n",
    "The open() function in Python does raise an exception when its operation fails, such as when the file cannot be opened due to permission issues or when the file does not exist.\n",
    "Correct selection\n",
    "\n",
    "The second argument of the open() function is a string.\n",
    "Explanation\n",
    "The second argument of the open() function in Python is indeed a string that specifies the mode in which the file should be opened, such as 'r' for reading, 'w' for writing, or 'a' for appending.\n",
    "\n",
    "Trying to write a file opened in read-only mode removes its contents.\n",
    "Explanation\n",
    "Trying to write to a file that has been opened in read-only mode will not remove its contents. Instead, it will raise an exception indicating that the file is not open for writing."
   ]
  },
  {
   "cell_type": "markdown",
   "id": "7edebb2e-3047-476c-8e86-3e5e760d2987",
   "metadata": {},
   "source": [
    "# Q19 I/O Q232\n",
    "\n",
    "Wha is the expected output of the following code?\n",
    "\n",
    "- It's closed before the values are added: it results in an error"
   ]
  },
  {
   "cell_type": "code",
   "execution_count": 12,
   "id": "2a43ae02-5808-445a-9d36-4c26a02ef814",
   "metadata": {},
   "outputs": [
    {
     "ename": "ValueError",
     "evalue": "I/O operation on closed file.",
     "output_type": "error",
     "traceback": [
      "\u001b[1;31m---------------------------------------------------------------------------\u001b[0m",
      "\u001b[1;31mValueError\u001b[0m                                Traceback (most recent call last)",
      "Cell \u001b[1;32mIn[12], line 5\u001b[0m\n\u001b[0;32m      3\u001b[0m file\u001b[38;5;241m.\u001b[39mwritelines(colors)\n\u001b[0;32m      4\u001b[0m file\u001b[38;5;241m.\u001b[39mclose()\n\u001b[1;32m----> 5\u001b[0m file\u001b[38;5;241m.\u001b[39mseek(\u001b[38;5;241m0\u001b[39m)\n\u001b[0;32m      6\u001b[0m \u001b[38;5;28;01mfor\u001b[39;00m line \u001b[38;5;129;01min\u001b[39;00m file:\n\u001b[0;32m      7\u001b[0m     \u001b[38;5;28mprint\u001b[39m(line)\n",
      "\u001b[1;31mValueError\u001b[0m: I/O operation on closed file."
     ]
    }
   ],
   "source": [
    "\n",
    "    colors = ['red\\n', 'yellow\\n', 'blue\\n']\n",
    "    file = open('wellert.txt', 'w+')\n",
    "    file.writelines(colors)\n",
    "    file.close()\n",
    "    file.seek(0)\n",
    "    for line in file:\n",
    "        print(line)"
   ]
  },
  {
   "cell_type": "markdown",
   "id": "000b1b41-0bde-450e-ab26-ef4a70092cc6",
   "metadata": {},
   "source": [
    "# Q24 OOP Q220\n",
    "\n",
    "What is the expected output of the following code?"
   ]
  },
  {
   "cell_type": "code",
   "execution_count": 17,
   "id": "c278c6da-964c-480f-a1e2-724fd7c734d2",
   "metadata": {},
   "outputs": [
    {
     "ename": "SyntaxError",
     "evalue": "invalid syntax (3137385265.py, line 3)",
     "output_type": "error",
     "traceback": [
      "\u001b[1;36m  Cell \u001b[1;32mIn[17], line 3\u001b[1;36m\u001b[0m\n\u001b[1;33m    global num += 1\u001b[0m\n\u001b[1;37m               ^\u001b[0m\n\u001b[1;31mSyntaxError\u001b[0m\u001b[1;31m:\u001b[0m invalid syntax\n"
     ]
    }
   ],
   "source": [
    "    def increment(c, num):\n",
    "        c.count += 1\n",
    "        num += 1\n",
    "     \n",
    "     \n",
    "    class Counter:\n",
    "        def __init__(self):\n",
    "            self.count = 0\n",
    "     \n",
    "     \n",
    "    counter = Counter()\n",
    "    number = 0\n",
    "     \n",
    "    for i in range(0, 100):\n",
    "        increment(counter, number)\n",
    "     \n",
    "    print(\n",
    "        \"counter is \"\n",
    "        + str(counter.count)\n",
    "        + \", number of times is \"\n",
    "        + str(number)\n",
    "    )"
   ]
  },
  {
   "cell_type": "code",
   "execution_count": 19,
   "id": "b72223df-3b8b-4180-bd42-99734119eaf8",
   "metadata": {},
   "outputs": [
    {
     "ename": "SyntaxError",
     "evalue": "invalid syntax (1672064531.py, line 1)",
     "output_type": "error",
     "traceback": [
      "\u001b[1;36m  Cell \u001b[1;32mIn[19], line 1\u001b[1;36m\u001b[0m\n\u001b[1;33m    BEcause integers are immutable in Python\u001b[0m\n\u001b[1;37m            ^\u001b[0m\n\u001b[1;31mSyntaxError\u001b[0m\u001b[1;31m:\u001b[0m invalid syntax\n"
     ]
    }
   ],
   "source": [
    "BEcause integers are immutable in Python "
   ]
  },
  {
   "cell_type": "markdown",
   "id": "896f761c-3d02-4282-902e-609cde93ed20",
   "metadata": {},
   "source": [
    "# Q28 Data Aggregates Q247\n",
    "What is the expected output of the following code?"
   ]
  },
  {
   "cell_type": "code",
   "execution_count": 22,
   "id": "77f06260-03c2-4e9c-8046-d767219c7d10",
   "metadata": {},
   "outputs": [
    {
     "name": "stdout",
     "output_type": "stream",
     "text": [
      "2\n"
     ]
    }
   ],
   "source": [
    "    lst = [1, 2, 3, 4]\n",
    "    lst = lst[-3:2] # 3 is excluded because the parenthesis are right side exclusive\n",
    "    lst = lst[-1]\n",
    "    print(lst)"
   ]
  },
  {
   "cell_type": "markdown",
   "id": "da96130e-3fb4-44a2-9883-180537bc5330",
   "metadata": {},
   "source": [
    "# Q29 Functions Q253\n",
    "\n",
    "What is the expected output of the following code?\n",
    "\n",
    "    def func(data):\n",
    "        for d in data[::2]:\n",
    "            yield d\n",
    "     \n",
    "    for x in func('abcdef'):\n",
    "        print(x, end='')"
   ]
  },
  {
   "cell_type": "markdown",
   "id": "6f1f42d1-859e-4133-b7d2-c115595a24f0",
   "metadata": {},
   "source": [
    "###  it steps 2 over beginning from the first element:  a,c,e"
   ]
  },
  {
   "cell_type": "markdown",
   "id": "2bbf923f-02c1-4d5f-ac91-bfba6b053011",
   "metadata": {},
   "source": [
    "# Q38 Functions Q270\n",
    "\n",
    "Select the true statements.\n"
   ]
  },
  {
   "cell_type": "markdown",
   "id": "e580cfec-96da-4258-a80a-275065cf54e5",
   "metadata": {},
   "source": [
    "Correct selection\n",
    "\n",
    "The lambda function can evaluate only one expressions.\n",
    "Explanation\n",
    "The lambda function in Python is limited to evaluating only one expression. It is commonly used for simple operations where a full function definition is not necessary.\n",
    "Your selection is correct\n",
    "\n",
    "The lambda function can accept any number of arguments.\n",
    "Explanation\n",
    "The lambda function in Python can indeed accept any number of arguments. It is a small anonymous function that can take multiple arguments and return a single value.\n",
    "Your selection is incorrect\n",
    "\n",
    "The lambda function can evaluate multiple expressions.\n",
    "Explanation\n",
    "The lambda function in Python can only evaluate a single expression, not multiple expressions. This limitation is what makes lambda functions suitable for simple and concise operations.\n",
    "\n",
    "The lambda function can accept a maximum of two arguments.\n",
    "Explanation\n",
    "The lambda function in Python is not limited to accepting only two arguments. It can accept any number of arguments, making it versatile for various programming tasks."
   ]
  },
  {
   "cell_type": "markdown",
   "id": "f48df98b-381e-4f08-9c5c-ad7a1b3ca679",
   "metadata": {},
   "source": [
    "# Q39 Data Types Q231"
   ]
  },
  {
   "cell_type": "code",
   "execution_count": 2,
   "id": "7af709fb-35a2-4013-9664-86e33c5f5f8f",
   "metadata": {},
   "outputs": [
    {
     "name": "stdout",
     "output_type": "stream",
     "text": [
      "PeterWellert\n"
     ]
    }
   ],
   "source": [
    "print('Peter' 'Wellert') # it's automatically concatenated"
   ]
  },
  {
   "cell_type": "markdown",
   "id": "23150c39-96b3-4cf5-b6ac-a1e29e0231a1",
   "metadata": {},
   "source": [
    "# Q41 Data Aggregates Q203\n",
    "\n",
    "What is the output of the following code?"
   ]
  },
  {
   "cell_type": "code",
   "execution_count": 7,
   "id": "7cf5968e-b256-422d-a3e8-bcfc44753e65",
   "metadata": {},
   "outputs": [
    {
     "name": "stdout",
     "output_type": "stream",
     "text": [
      "[4, 3, 2]\n"
     ]
    }
   ],
   "source": [
    "a = [1,2,3,4,5]\n",
    "print(a[3:0:-1]) # from 0 because in reverse order"
   ]
  },
  {
   "cell_type": "markdown",
   "id": "a67fa6c9-3f9a-4a5e-b22b-a02853e95b20",
   "metadata": {},
   "source": [
    "# Q43 I/O Q299\n",
    "\n",
    "Which of the following statements are true?"
   ]
  },
  {
   "cell_type": "markdown",
   "id": "2e6e6a74-b21e-450e-98ad-d4fb3507e2fe",
   "metadata": {},
   "source": [
    "Question 43Incorrect\n",
    "\n",
    "Q299 - I/O\n",
    "\n",
    "\n",
    "Which of the following statement are true?\n",
    "\n",
    "\n",
    "(Select two answers)\n",
    "\n",
    "\n",
    "Closing an open file is performed by the closefile() function.\n",
    "Explanation\n",
    "To close an open file in Python, the correct function to use is close(), not closefile(). The close() function is used to release the file resources and should be called after finishing operations on the file.\n",
    "\n",
    "Your selection is incorrect\n",
    "\n",
    "The second open() argument describes the open mode and defaults to 'w'\n",
    "Explanation\n",
    "\n",
    "The second argument of the open() function specifies the mode in which the file should be opened. If this argument is not provided, the default mode is 'r' (read mode), not 'w' (write mode) as stated in this choice.\n",
    "\n",
    "Correct selection\n",
    "\n",
    "If open()’s second argument is 'w' and the invocation succeeds, the previous file’s content is lost.\n",
    "Explanation\n",
    "If the open() function is called with 'w' as the second argument, it will open the file in write mode, truncating the file if it already exists. This means that the previous content of the file will be lost upon a successful invocation.\n",
    "\n",
    "Your selection is correct\n",
    "\n",
    "If open()‘s second argument is 'r' the file must exist or open will fail.\n",
    "Explanation\n",
    "When open() is called with 'r' as the second argument, it opens the file in read mode. If the file specified does not exist, the open operation will fail as it requires an existing file to read from."
   ]
  },
  {
   "cell_type": "markdown",
   "id": "8e3cbce7-a8dd-4c13-a51c-53240518b231",
   "metadata": {},
   "source": [
    "# Q53 Basics Q276\n",
    "\n",
    "Which of the following statements are true?"
   ]
  },
  {
   "cell_type": "markdown",
   "id": "90c5a887-4714-4eaf-9953-6bd9ed08115b",
   "metadata": {},
   "source": [
    "Your selection is correct\n",
    "\n",
    "The print() function writes its output to the stdout stream.\n",
    "Explanation\n",
    "The print() function in Python writes its output to the standard output stream, commonly referred to as stdout. This stream is used for displaying text output to the console or terminal.\n",
    "\n",
    "The second argument of the open() function is an integer value.\n",
    "Explanation\n",
    "The second argument of the open() function in Python is not an integer value. The second argument is typically a string representing the mode in which the file should be opened, such as 'r' for reading or 'w' for writing.\n",
    "Your selection is incorrect\n",
    "\n",
    "The open() function returns False when its operation fails.\n",
    "Explanation\n",
    "The open() function in Python does not return False when its operation fails. Instead, it raises an exception (such as FileNotFoundError or PermissionError) if the file cannot be opened successfully. It is important to handle these exceptions to gracefully manage file operations in Python.\n",
    "Correct selection\n",
    "\n",
    "stdin, stdout, stderr are names of pre-opened streams.\n",
    "Explanation\n",
    "In Python, stdin, stdout, and stderr are standard names for pre-opened streams. These streams are used for handling input (stdin), output (stdout), and error messages (stderr) in Python programs."
   ]
  },
  {
   "cell_type": "markdown",
   "id": "d52a503f-6305-4df3-8e66-2776e5a2d4a8",
   "metadata": {},
   "source": [
    "# Q57 Control Flow Q211\n"
   ]
  },
  {
   "cell_type": "markdown",
   "id": "ad0cdeb8-c141-4435-8f80-c37196a9d6fd",
   "metadata": {},
   "source": [
    "Which of the following sentences correctly describes\n",
    "\n",
    "the output of the below Python code?"
   ]
  },
  {
   "cell_type": "code",
   "execution_count": 20,
   "id": "3755349c-0991-4ae0-af77-8e873e1003de",
   "metadata": {},
   "outputs": [
    {
     "name": "stdout",
     "output_type": "stream",
     "text": [
      "1\n"
     ]
    }
   ],
   "source": [
    "    data = [4, 2, 3, 2, 1]\n",
    "    res = data[0]\n",
    "     \n",
    "    for d in data:\n",
    "        if d < res:\n",
    "            res = d\n",
    "     \n",
    "    print(res)"
   ]
  },
  {
   "cell_type": "markdown",
   "id": "d6376346-8a41-49fa-9eb9-50d4844e18bc",
   "metadata": {},
   "source": [
    "# Q65 OOP Q291 \n",
    "\n",
    "Given the code below,\n",
    "\n",
    "complete the print() method body in a way\n",
    "\n",
    "that will ensure that the get() method is properly invoked."
   ]
  },
  {
   "cell_type": "markdown",
   "id": "7793ea04-3973-479d-8417-86c72df0a8de",
   "metadata": {},
   "source": [
    "Your selection is incorrect\n",
    "\n",
    "    print(Storage.get())\n",
    "\n",
    "Explanation\n",
    "Using `Storage.get()` in the print method will not properly invoke the get method. This syntax attempts to call the get method directly from the class without an instance, which will result in a TypeError as the method requires an instance of the class to be called.\n",
    "Your selection is correct\n",
    "\n",
    "    print(self.get())\n",
    "\n",
    "Explanation\n",
    "Using `self.get()` in the print method will correctly invoke the get method from the current instance of the Storage class. By using self to refer to the current instance, the get method will be properly invoked.\n",
    "\n",
    "    print(get())\n",
    "\n",
    "Explanation\n",
    "Using `print(get())` in the print method will not properly invoke the get method. This syntax does not specify the class or instance from which to call the get method, leading to a NameError as the get method is not defined in the current scope.\n",
    "Correct selection\n",
    "\n",
    "    print(Storage.get(self)) # i didn't know this invocation"
   ]
  },
  {
   "cell_type": "markdown",
   "id": "e569306e-427f-4e3d-86fa-4aa06c7f50f2",
   "metadata": {},
   "source": [
    "# Q66 Modules Q269\n",
    "\n",
    "What is the expected output of the following code?"
   ]
  },
  {
   "cell_type": "code",
   "execution_count": 28,
   "id": "0a36d876-c6e6-4e61-b9cc-3721875ca92d",
   "metadata": {},
   "outputs": [
    {
     "name": "stdout",
     "output_type": "stream",
     "text": [
      "['large', 'medium', 'small']\n"
     ]
    }
   ],
   "source": [
    "    import os\n",
    "     \n",
    "    os.mkdir('thumbnails')\n",
    "    os.chdir('thumbnails')\n",
    "     \n",
    "    sizes = ['small', 'medium', 'large']\n",
    "     \n",
    "    for size in sizes:\n",
    "        os.mkdir(size)\n",
    "     \n",
    "    print(os.listdir()) # the parent directory isn't included in the output"
   ]
  },
  {
   "cell_type": "markdown",
   "id": "49903205-62da-4419-b03d-7d7b47e7dc66",
   "metadata": {},
   "source": [
    "Q68 Operators Q254 \n",
    "\n",
    "What is the expected output of the following code?"
   ]
  },
  {
   "cell_type": "code",
   "execution_count": 31,
   "id": "f1291acd-c817-495b-8d06-dad523b05e1f",
   "metadata": {},
   "outputs": [
    {
     "name": "stdout",
     "output_type": "stream",
     "text": [
      "8.0\n"
     ]
    }
   ],
   "source": [
    "    x = 9\n",
    "    y = 12\n",
    "    result = x // 2 * 2 / 2 + y % 2 ** 3 # power - then modulo \n",
    "    print(result)"
   ]
  },
  {
   "cell_type": "markdown",
   "id": "ee1b0d60-51a1-4a05-bf63-b7748cdc9f93",
   "metadata": {},
   "source": [
    "# Q72 Modules Q259 \n",
    "\n",
    "A list of package's dependencies can be obtained from pip using command: "
   ]
  },
  {
   "cell_type": "markdown",
   "id": "516afdf5-b0a6-438c-be20-20c2d37bd7f7",
   "metadata": {},
   "source": [
    "## show"
   ]
  },
  {
   "cell_type": "markdown",
   "id": "6eafdfe9-cf82-460b-96cf-5929be7041db",
   "metadata": {},
   "source": [
    "pip show package-name"
   ]
  },
  {
   "cell_type": "code",
   "execution_count": null,
   "id": "3dbfd463-8d12-460a-a89a-0f3f18826184",
   "metadata": {},
   "outputs": [],
   "source": []
  }
 ],
 "metadata": {
  "kernelspec": {
   "display_name": "Python [conda env:base] *",
   "language": "python",
   "name": "conda-base-py"
  },
  "language_info": {
   "codemirror_mode": {
    "name": "ipython",
    "version": 3
   },
   "file_extension": ".py",
   "mimetype": "text/x-python",
   "name": "python",
   "nbconvert_exporter": "python",
   "pygments_lexer": "ipython3",
   "version": "3.11.5"
  }
 },
 "nbformat": 4,
 "nbformat_minor": 5
}
