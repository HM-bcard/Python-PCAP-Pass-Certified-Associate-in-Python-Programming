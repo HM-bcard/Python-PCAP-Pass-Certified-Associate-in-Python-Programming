{
 "cells": [
  {
   "cell_type": "code",
   "execution_count": 1,
   "id": "ff133b92-62a0-40df-9441-948c4be72a6b",
   "metadata": {},
   "outputs": [
    {
     "name": "stdout",
     "output_type": "stream",
     "text": [
      "lr"
     ]
    }
   ],
   "source": [
    "    vect = [\"alpha\", \"bravo\", \"charlie\"]\n",
    "    new_vect = filter(lambda s: s[-1].upper() in [\"A\", \"O\"], vect)\n",
    "    for x in new_vect:\n",
    "        print(x[1], end=\"\")\n",
    "\n",
    "\n"
   ]
  },
  {
   "cell_type": "code",
   "execution_count": 3,
   "id": "5370ef6f-2806-409a-b9b7-5f0aad2de81b",
   "metadata": {},
   "outputs": [
    {
     "name": "stdout",
     "output_type": "stream",
     "text": [
      "python"
     ]
    }
   ],
   "source": [
    "    s = 'python'\n",
    "    for i in range(len(s)):\n",
    "        i = s[i].upper()\n",
    "    print(s, end='')"
   ]
  },
  {
   "cell_type": "code",
   "execution_count": 5,
   "id": "84386a81-fdfd-4501-bada-d7e38db022dd",
   "metadata": {},
   "outputs": [
    {
     "name": "stdout",
     "output_type": "stream",
     "text": [
      "1\n"
     ]
    }
   ],
   "source": [
    "    x = \"\"\"\n",
    "    \"\"\"\n",
    "    print(len(x))"
   ]
  },
  {
   "cell_type": "markdown",
   "id": "ce056326-24c7-4615-b11a-2fd3972d3f2d",
   "metadata": {},
   "source": [
    "# Q3 Data Types Q249 \n",
    "Which of the following statements is false?"
   ]
  },
  {
   "cell_type": "markdown",
   "id": "80ce6d18-f138-4f44-b928-92c3b695e0de",
   "metadata": {},
   "source": [
    "The None value may not be used outside functions - it can , its a built in constant representing the absence of value"
   ]
  },
  {
   "cell_type": "markdown",
   "id": "9ac39cf9-247b-47ee-95d5-3395d5656014",
   "metadata": {},
   "source": [
    "# Q6 I/O 284\n",
    "\n",
    "Which of the following statements is true?"
   ]
  },
  {
   "cell_type": "markdown",
   "id": "9c7c3e62-52ef-4604-8f8f-8ff9ca4e863b",
   "metadata": {},
   "source": [
    "1. Your selection is incorrect\n",
    "\n",
    "read, write, and delete are the names of file open modes.\n",
    "Explanation\n",
    "While read and write are indeed common file open modes in Python, 'delete' is not a standard file open mode. The correct modes are 'r' for reading, 'w' for writing, and 'a' for appending.\n",
    "Your selection is correct\n",
    "\n",
    "The open() function raises an exception when its operation fails.\n",
    "Explanation\n",
    "The open() function in Python does raise an exception when its operation fails, such as when the file cannot be opened due to permission issues or when the file does not exist.\n",
    "Correct selection\n",
    "\n",
    "The second argument of the open() function is a string.\n",
    "Explanation\n",
    "The second argument of the open() function in Python is indeed a string that specifies the mode in which the file should be opened, such as 'r' for reading, 'w' for writing, or 'a' for appending.\n",
    "\n",
    "Trying to write a file opened in read-only mode removes its contents.\n",
    "Explanation\n",
    "Trying to write to a file that has been opened in read-only mode will not remove its contents. Instead, it will raise an exception indicating that the file is not open for writing."
   ]
  },
  {
   "cell_type": "markdown",
   "id": "7edebb2e-3047-476c-8e86-3e5e760d2987",
   "metadata": {},
   "source": [
    "# Q19 I/O Q232\n",
    "\n",
    "Wha is the expected output of the following code?\n",
    "\n",
    "- It's closed before the values are added: it results in an error"
   ]
  },
  {
   "cell_type": "code",
   "execution_count": 12,
   "id": "2a43ae02-5808-445a-9d36-4c26a02ef814",
   "metadata": {},
   "outputs": [
    {
     "ename": "ValueError",
     "evalue": "I/O operation on closed file.",
     "output_type": "error",
     "traceback": [
      "\u001b[1;31m---------------------------------------------------------------------------\u001b[0m",
      "\u001b[1;31mValueError\u001b[0m                                Traceback (most recent call last)",
      "Cell \u001b[1;32mIn[12], line 5\u001b[0m\n\u001b[0;32m      3\u001b[0m file\u001b[38;5;241m.\u001b[39mwritelines(colors)\n\u001b[0;32m      4\u001b[0m file\u001b[38;5;241m.\u001b[39mclose()\n\u001b[1;32m----> 5\u001b[0m file\u001b[38;5;241m.\u001b[39mseek(\u001b[38;5;241m0\u001b[39m)\n\u001b[0;32m      6\u001b[0m \u001b[38;5;28;01mfor\u001b[39;00m line \u001b[38;5;129;01min\u001b[39;00m file:\n\u001b[0;32m      7\u001b[0m     \u001b[38;5;28mprint\u001b[39m(line)\n",
      "\u001b[1;31mValueError\u001b[0m: I/O operation on closed file."
     ]
    }
   ],
   "source": [
    "\n",
    "    colors = ['red\\n', 'yellow\\n', 'blue\\n']\n",
    "    file = open('wellert.txt', 'w+')\n",
    "    file.writelines(colors)\n",
    "    file.close()\n",
    "    file.seek(0)\n",
    "    for line in file:\n",
    "        print(line)"
   ]
  },
  {
   "cell_type": "markdown",
   "id": "000b1b41-0bde-450e-ab26-ef4a70092cc6",
   "metadata": {},
   "source": [
    "# Q24 OOP Q220\n",
    "\n",
    "What is the expected output of the following code?"
   ]
  },
  {
   "cell_type": "code",
   "execution_count": 17,
   "id": "c278c6da-964c-480f-a1e2-724fd7c734d2",
   "metadata": {},
   "outputs": [
    {
     "ename": "SyntaxError",
     "evalue": "invalid syntax (3137385265.py, line 3)",
     "output_type": "error",
     "traceback": [
      "\u001b[1;36m  Cell \u001b[1;32mIn[17], line 3\u001b[1;36m\u001b[0m\n\u001b[1;33m    global num += 1\u001b[0m\n\u001b[1;37m               ^\u001b[0m\n\u001b[1;31mSyntaxError\u001b[0m\u001b[1;31m:\u001b[0m invalid syntax\n"
     ]
    }
   ],
   "source": [
    "    def increment(c, num):\n",
    "        c.count += 1\n",
    "        num += 1\n",
    "     \n",
    "     \n",
    "    class Counter:\n",
    "        def __init__(self):\n",
    "            self.count = 0\n",
    "     \n",
    "     \n",
    "    counter = Counter()\n",
    "    number = 0\n",
    "     \n",
    "    for i in range(0, 100):\n",
    "        increment(counter, number)\n",
    "     \n",
    "    print(\n",
    "        \"counter is \"\n",
    "        + str(counter.count)\n",
    "        + \", number of times is \"\n",
    "        + str(number)\n",
    "    )"
   ]
  },
  {
   "cell_type": "code",
   "execution_count": 19,
   "id": "b72223df-3b8b-4180-bd42-99734119eaf8",
   "metadata": {},
   "outputs": [
    {
     "ename": "SyntaxError",
     "evalue": "invalid syntax (1672064531.py, line 1)",
     "output_type": "error",
     "traceback": [
      "\u001b[1;36m  Cell \u001b[1;32mIn[19], line 1\u001b[1;36m\u001b[0m\n\u001b[1;33m    BEcause integers are immutable in Python\u001b[0m\n\u001b[1;37m            ^\u001b[0m\n\u001b[1;31mSyntaxError\u001b[0m\u001b[1;31m:\u001b[0m invalid syntax\n"
     ]
    }
   ],
   "source": [
    "BEcause integers are immutable in Python "
   ]
  },
  {
   "cell_type": "markdown",
   "id": "896f761c-3d02-4282-902e-609cde93ed20",
   "metadata": {},
   "source": [
    "# Q28 Data Aggregates Q247\n",
    "What is the expected output of the following code?"
   ]
  },
  {
   "cell_type": "code",
   "execution_count": 22,
   "id": "77f06260-03c2-4e9c-8046-d767219c7d10",
   "metadata": {},
   "outputs": [
    {
     "name": "stdout",
     "output_type": "stream",
     "text": [
      "2\n"
     ]
    }
   ],
   "source": [
    "    lst = [1, 2, 3, 4]\n",
    "    lst = lst[-3:2] # 3 is excluded because the parenthesis are right side exclusive\n",
    "    lst = lst[-1]\n",
    "    print(lst)"
   ]
  },
  {
   "cell_type": "code",
   "execution_count": null,
   "id": "179563a7-be21-4533-9123-84e17608913c",
   "metadata": {},
   "outputs": [],
   "source": []
  }
 ],
 "metadata": {
  "kernelspec": {
   "display_name": "Python [conda env:base] *",
   "language": "python",
   "name": "conda-base-py"
  },
  "language_info": {
   "codemirror_mode": {
    "name": "ipython",
    "version": 3
   },
   "file_extension": ".py",
   "mimetype": "text/x-python",
   "name": "python",
   "nbconvert_exporter": "python",
   "pygments_lexer": "ipython3",
   "version": "3.11.5"
  }
 },
 "nbformat": 4,
 "nbformat_minor": 5
}
