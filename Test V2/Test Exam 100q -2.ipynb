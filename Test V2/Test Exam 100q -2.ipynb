{
 "cells": [
  {
   "cell_type": "code",
   "execution_count": 1,
   "id": "ff133b92-62a0-40df-9441-948c4be72a6b",
   "metadata": {},
   "outputs": [
    {
     "name": "stdout",
     "output_type": "stream",
     "text": [
      "lr"
     ]
    }
   ],
   "source": [
    "    vect = [\"alpha\", \"bravo\", \"charlie\"]\n",
    "    new_vect = filter(lambda s: s[-1].upper() in [\"A\", \"O\"], vect)\n",
    "    for x in new_vect:\n",
    "        print(x[1], end=\"\")\n",
    "\n",
    "\n"
   ]
  },
  {
   "cell_type": "code",
   "execution_count": 3,
   "id": "5370ef6f-2806-409a-b9b7-5f0aad2de81b",
   "metadata": {},
   "outputs": [
    {
     "name": "stdout",
     "output_type": "stream",
     "text": [
      "python"
     ]
    }
   ],
   "source": [
    "    s = 'python'\n",
    "    for i in range(len(s)):\n",
    "        i = s[i].upper()\n",
    "    print(s, end='')"
   ]
  },
  {
   "cell_type": "code",
   "execution_count": 5,
   "id": "84386a81-fdfd-4501-bada-d7e38db022dd",
   "metadata": {},
   "outputs": [
    {
     "name": "stdout",
     "output_type": "stream",
     "text": [
      "1\n"
     ]
    }
   ],
   "source": [
    "    x = \"\"\"\n",
    "    \"\"\"\n",
    "    print(len(x))"
   ]
  },
  {
   "cell_type": "markdown",
   "id": "ce056326-24c7-4615-b11a-2fd3972d3f2d",
   "metadata": {},
   "source": [
    "# Q3 Data Types Q249 \n",
    "Which of the following statements is false?"
   ]
  },
  {
   "cell_type": "markdown",
   "id": "80ce6d18-f138-4f44-b928-92c3b695e0de",
   "metadata": {},
   "source": [
    "The None value may not be used outside functions - it can , its a built in constant representing the absence of value"
   ]
  },
  {
   "cell_type": "code",
   "execution_count": null,
   "id": "f264b8e9-cfef-4f78-8f88-854fe18c92d7",
   "metadata": {},
   "outputs": [],
   "source": []
  }
 ],
 "metadata": {
  "kernelspec": {
   "display_name": "Python [conda env:base] *",
   "language": "python",
   "name": "conda-base-py"
  },
  "language_info": {
   "codemirror_mode": {
    "name": "ipython",
    "version": 3
   },
   "file_extension": ".py",
   "mimetype": "text/x-python",
   "name": "python",
   "nbconvert_exporter": "python",
   "pygments_lexer": "ipython3",
   "version": "3.11.5"
  }
 },
 "nbformat": 4,
 "nbformat_minor": 5
}
