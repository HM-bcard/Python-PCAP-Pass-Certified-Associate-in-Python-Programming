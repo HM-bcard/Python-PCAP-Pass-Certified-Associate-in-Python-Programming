{
 "cells": [
  {
   "cell_type": "code",
   "execution_count": 1,
   "id": "e2bf6971-8627-4580-bd7e-814d92487099",
   "metadata": {},
   "outputs": [],
   "source": [
    "\n",
    "    class A:\n",
    "        def __init__(self):\n",
    "            self.a = 1\n",
    "     \n",
    "     \n",
    "    class B(A):\n",
    "        def __init__(self):\n",
    "            # Put selected line here. \n",
    "            A.__init__()\n",
    "            self.b = 2"
   ]
  },
  {
   "cell_type": "code",
   "execution_count": 3,
   "id": "413e2f5f-00b0-4ea8-a27c-4bdf20563abc",
   "metadata": {},
   "outputs": [
    {
     "data": {
      "text/plain": [
       "0"
      ]
     },
     "execution_count": 3,
     "metadata": {},
     "output_type": "execute_result"
    }
   ],
   "source": [
    "1//2"
   ]
  },
  {
   "cell_type": "code",
   "execution_count": 5,
   "id": "8ae698c2-3d2b-45cf-a886-e483e06891fb",
   "metadata": {},
   "outputs": [
    {
     "ename": "TypeError",
     "evalue": "unsupported operand type(s) for +: 'NoneType' and 'int'",
     "output_type": "error",
     "traceback": [
      "\u001b[1;31m---------------------------------------------------------------------------\u001b[0m",
      "\u001b[1;31mTypeError\u001b[0m                                 Traceback (most recent call last)",
      "Cell \u001b[1;32mIn[5], line 15\u001b[0m\n\u001b[0;32m     12\u001b[0m b \u001b[38;5;241m=\u001b[39m B()\n\u001b[0;32m     13\u001b[0m c \u001b[38;5;241m=\u001b[39m C()\n\u001b[1;32m---> 15\u001b[0m \u001b[38;5;28mprint\u001b[39m(b\u001b[38;5;241m.\u001b[39mfunc() \u001b[38;5;241m+\u001b[39m c\u001b[38;5;241m.\u001b[39mfunc())\n",
      "\u001b[1;31mTypeError\u001b[0m: unsupported operand type(s) for +: 'NoneType' and 'int'"
     ]
    }
   ],
   "source": [
    "    class A:\n",
    "        def func(self):\n",
    "            return # returns None\n",
    "     \n",
    "    class B(A):\n",
    "        pass\n",
    "     \n",
    "    class C(A):\n",
    "        def func(self):\n",
    "            return 1 # returns int\n",
    "     \n",
    "    b = B()\n",
    "    c = C()\n",
    "     \n",
    "    print(b.func() + c.func())"
   ]
  },
  {
   "cell_type": "code",
   "execution_count": 7,
   "id": "078ae7bf-4d22-4a8a-8ac9-400865edb249",
   "metadata": {},
   "outputs": [
    {
     "name": "stdout",
     "output_type": "stream",
     "text": [
      "False\n",
      "True\n"
     ]
    }
   ],
   "source": [
    "    class A:\n",
    "        def __init__(self, x=0):\n",
    "            self.x = x\n",
    "     \n",
    "     \n",
    "    obj1 = A(2)\n",
    "    obj2 = A(2)\n",
    "    print(id(obj1) == id(obj2))\n",
    "     \n",
    "    str1 = 'Hello'\n",
    "    str2 = 'Hello'\n",
    "    print(id(str1) == id(str2))"
   ]
  },
  {
   "cell_type": "code",
   "execution_count": 9,
   "id": "ed318308-99a7-44cc-ba94-09e58617d422",
   "metadata": {},
   "outputs": [
    {
     "name": "stdout",
     "output_type": "stream",
     "text": [
      "22"
     ]
    }
   ],
   "source": [
    "\n",
    "    from random import randint\n",
    "     \n",
    "    for i in range(2):\n",
    "        print(randint(1, 2), end='')"
   ]
  },
  {
   "cell_type": "code",
   "execution_count": 13,
   "id": "b3587b94-db73-44a8-86b4-0fe3da0cd843",
   "metadata": {},
   "outputs": [
    {
     "data": {
      "text/plain": [
       "True"
      ]
     },
     "execution_count": 13,
     "metadata": {},
     "output_type": "execute_result"
    }
   ],
   "source": [
    "    z = 2\n",
    "    y = 1\n",
    "    x = y < z or z > y and y > z or z < y\n",
    "x"
   ]
  },
  {
   "cell_type": "code",
   "execution_count": null,
   "id": "e8db21e3-56be-44ff-bb4c-939d82cc4dff",
   "metadata": {},
   "outputs": [],
   "source": [
    "print(type(1J))"
   ]
  }
 ],
 "metadata": {
  "kernelspec": {
   "display_name": "Python [conda env:base] *",
   "language": "python",
   "name": "conda-base-py"
  },
  "language_info": {
   "codemirror_mode": {
    "name": "ipython",
    "version": 3
   },
   "file_extension": ".py",
   "mimetype": "text/x-python",
   "name": "python",
   "nbconvert_exporter": "python",
   "pygments_lexer": "ipython3",
   "version": "3.11.5"
  }
 },
 "nbformat": 4,
 "nbformat_minor": 5
}
