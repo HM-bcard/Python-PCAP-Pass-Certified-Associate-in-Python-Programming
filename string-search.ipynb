{
 "cells": [
  {
   "cell_type": "code",
   "execution_count": 1,
   "id": "deb86710-6d5f-4b56-8399-d292ef82347a",
   "metadata": {},
   "outputs": [
    {
     "data": {
      "text/plain": [
       "7"
      ]
     },
     "execution_count": 1,
     "metadata": {},
     "output_type": "execute_result"
    }
   ],
   "source": [
    "'ilovetravellingaroundswitzerland'.index('a')"
   ]
  },
  {
   "cell_type": "code",
   "execution_count": 3,
   "id": "c5862dd8-fb7d-4b73-8e13-168839ff1443",
   "metadata": {},
   "outputs": [],
   "source": [
    "# return"
   ]
  },
  {
   "cell_type": "code",
   "execution_count": 7,
   "id": "892bf35a-efbd-49b5-936e-024d866df615",
   "metadata": {},
   "outputs": [
    {
     "ename": "NameError",
     "evalue": "name 'my_text' is not defined",
     "output_type": "error",
     "traceback": [
      "\u001b[1;31m---------------------------------------------------------------------------\u001b[0m",
      "\u001b[1;31mNameError\u001b[0m                                 Traceback (most recent call last)",
      "Cell \u001b[1;32mIn[7], line 2\u001b[0m\n\u001b[0;32m      1\u001b[0m string \u001b[38;5;241m=\u001b[39m \u001b[38;5;124m'\u001b[39m\u001b[38;5;124mobladiblada\u001b[39m\u001b[38;5;124m'\u001b[39m\n\u001b[1;32m----> 2\u001b[0m \u001b[38;5;28mprint\u001b[39m(my_text\u001b[38;5;241m.\u001b[39mindex(\u001b[38;5;124m'\u001b[39m\u001b[38;5;124mis\u001b[39m\u001b[38;5;124m'\u001b[39m))\n\u001b[0;32m      3\u001b[0m \u001b[38;5;28mprint\u001b[39m(my_text\u001b[38;5;241m.\u001b[39mfind(\u001b[38;5;124m'\u001b[39m\u001b[38;5;124mis\u001b[39m\u001b[38;5;124m'\u001b[39m))\n",
      "\u001b[1;31mNameError\u001b[0m: name 'my_text' is not defined"
     ]
    }
   ],
   "source": [
    "string = 'obladiblada'\n",
    "print(string.index('is'))\n",
    "print(string.find('is'))"
   ]
  },
  {
   "cell_type": "code",
   "execution_count": 11,
   "id": "ea3f0f82-765b-42ed-98c6-827c643faa2f",
   "metadata": {},
   "outputs": [
    {
     "name": "stdout",
     "output_type": "stream",
     "text": [
      "4\n",
      "4\n"
     ]
    }
   ],
   "source": [
    "string = 'obladiblada'\n",
    "print(string.index('dib'))\n",
    "print(string.find('dib'))"
   ]
  },
  {
   "cell_type": "code",
   "execution_count": 13,
   "id": "5c9ab6f7-9163-4d88-a87d-a40594be5d63",
   "metadata": {},
   "outputs": [
    {
     "data": {
      "text/plain": [
       "-1"
      ]
     },
     "execution_count": 13,
     "metadata": {},
     "output_type": "execute_result"
    }
   ],
   "source": [
    "string = 'obla dibl ada'\n",
    "string.find('obla', 10)  # look for the keyword from the 10th index\n",
    "\n"
   ]
  },
  {
   "cell_type": "code",
   "execution_count": 13,
   "id": "dc6333fe-73dd-46a9-ab72-a64b518f886c",
   "metadata": {},
   "outputs": [
    {
     "data": {
      "text/plain": [
       "13"
      ]
     },
     "execution_count": 13,
     "metadata": {},
     "output_type": "execute_result"
    }
   ],
   "source": [
    "my_text = 'obla dibl adaobla da obla dobla obla daiobla di dobla oblai'\n",
    "my_text.find('ob',10,15)"
   ]
  },
  {
   "cell_type": "code",
   "execution_count": 15,
   "id": "e09a08eb-c0e8-4746-86c0-4960c6d4e264",
   "metadata": {},
   "outputs": [
    {
     "data": {
      "text/plain": [
       "13"
      ]
     },
     "execution_count": 15,
     "metadata": {},
     "output_type": "execute_result"
    }
   ],
   "source": [
    "my_text = 'obla dibl adaobla da obla dobla obla daiobla di dobla oblai'\n",
    "my_text.rfind('ob',10,15)"
   ]
  },
  {
   "cell_type": "code",
   "execution_count": 21,
   "id": "1101e509-993f-4c1e-8851-6789f8ec0a17",
   "metadata": {},
   "outputs": [
    {
     "name": "stdout",
     "output_type": "stream",
     "text": [
      "0\n",
      "10\n",
      "5\n",
      "10\n",
      "-1\n",
      "-1\n"
     ]
    }
   ],
   "source": [
    "print('work work work'.find('work'))\n",
    "print('work work work'.rfind('work')) # so right find finds the first found string from the right\n",
    "print('work work work'.find('work',2))\n",
    "print('work work work'.rfind('work',2))\n",
    "print('work work work'.find('work',2,5))\n",
    "print('work work work'.rfind('work',2,5))\n",
    "#print('work work work'.find('work')\n",
    "###print('work work work'.find('work')"
   ]
  },
  {
   "cell_type": "code",
   "execution_count": 25,
   "id": "bf856f68-2bda-4694-9230-a3397e997518",
   "metadata": {},
   "outputs": [
    {
     "ename": "NameError",
     "evalue": "name 'isalnum' is not defined",
     "output_type": "error",
     "traceback": [
      "\u001b[1;31m---------------------------------------------------------------------------\u001b[0m",
      "\u001b[1;31mNameError\u001b[0m                                 Traceback (most recent call last)",
      "Cell \u001b[1;32mIn[25], line 1\u001b[0m\n\u001b[1;32m----> 1\u001b[0m isalnum()\n",
      "\u001b[1;31mNameError\u001b[0m: name 'isalnum' is not defined"
     ]
    }
   ],
   "source": [
    "isalnum()"
   ]
  },
  {
   "cell_type": "code",
   "execution_count": 27,
   "id": "fa98c324-9b98-484e-ae03-75754a2ccb52",
   "metadata": {},
   "outputs": [
    {
     "data": {
      "text/plain": [
       "True"
      ]
     },
     "execution_count": 27,
     "metadata": {},
     "output_type": "execute_result"
    }
   ],
   "source": [
    "'Isitalphanumeric'.isalnum()"
   ]
  },
  {
   "cell_type": "code",
   "execution_count": 31,
   "id": "e8a8ba7c-22a5-459b-b468-fa23c53368e6",
   "metadata": {},
   "outputs": [
    {
     "data": {
      "text/plain": [
       "False"
      ]
     },
     "execution_count": 31,
     "metadata": {},
     "output_type": "execute_result"
    }
   ],
   "source": [
    "'Isitalphanu2meric'.isalpha()"
   ]
  },
  {
   "cell_type": "code",
   "execution_count": 33,
   "id": "e366f01b-84df-4448-9817-caa368c09b76",
   "metadata": {},
   "outputs": [
    {
     "data": {
      "text/plain": [
       "True"
      ]
     },
     "execution_count": 33,
     "metadata": {},
     "output_type": "execute_result"
    }
   ],
   "source": [
    "'333'.isdigit()"
   ]
  },
  {
   "cell_type": "code",
   "execution_count": 35,
   "id": "47b601b2-29c5-401d-bfd5-6683ab1a5943",
   "metadata": {},
   "outputs": [],
   "source": [
    "#islower\n",
    "#isupper\n",
    "#isspace"
   ]
  },
  {
   "cell_type": "code",
   "execution_count": null,
   "id": "4b561ac2-bd61-439f-8871-48c31efb35f8",
   "metadata": {},
   "outputs": [],
   "source": []
  }
 ],
 "metadata": {
  "kernelspec": {
   "display_name": "Python [conda env:base] *",
   "language": "python",
   "name": "conda-base-py"
  },
  "language_info": {
   "codemirror_mode": {
    "name": "ipython",
    "version": 3
   },
   "file_extension": ".py",
   "mimetype": "text/x-python",
   "name": "python",
   "nbconvert_exporter": "python",
   "pygments_lexer": "ipython3",
   "version": "3.11.5"
  }
 },
 "nbformat": 4,
 "nbformat_minor": 5
}
