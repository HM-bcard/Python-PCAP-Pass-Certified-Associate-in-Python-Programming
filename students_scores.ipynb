{
 "cells": [
  {
   "cell_type": "code",
   "execution_count": null,
   "id": "75d7f2c9-2578-43a2-bcd3-e8f0ae860013",
   "metadata": {},
   "outputs": [],
   "source": [
    "student_scores = {\n",
    "    'Harry': 88,\n",
    "    'Ron': 78,\n",
    "    'Hermione': 95,\n",
    "    'Draco': 75,\n",
    "    'Neville': 60\n",
    "}\n",
    "\n",
    "\n",
    "\n",
    "\n",
    "\n",
    "\n",
    "student_grades = {}\n",
    "\n",
    "for student in student_scores:\n",
    "    if student_scores[student] >=91:\n",
    "        student_grades[student] = \"Outstanding\"\n",
    "    elif student_scores[student] >=81 and student_scores[student] < 91:\n",
    "        student_grades[student] = \"Exceeds Expectations\"\n",
    "    elif student_scores[student] >=71 and student_scores[student] < 81:\n",
    "        student_grades[student] = \"Acceptable\"\n",
    "    elif student_scores[student] < 71:\n",
    "        student_grades[student] = \"Fail\"\n",
    "\n"
   ]
  }
 ],
 "metadata": {
  "kernelspec": {
   "display_name": "Python 3 (ipykernel)",
   "language": "python",
   "name": "python3"
  },
  "language_info": {
   "codemirror_mode": {
    "name": "ipython",
    "version": 3
   },
   "file_extension": ".py",
   "mimetype": "text/x-python",
   "name": "python",
   "nbconvert_exporter": "python",
   "pygments_lexer": "ipython3",
   "version": "3.11.5"
  }
 },
 "nbformat": 4,
 "nbformat_minor": 5
}
