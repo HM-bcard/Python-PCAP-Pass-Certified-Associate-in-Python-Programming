{
 "cells": [
  {
   "cell_type": "code",
   "execution_count": 1,
   "id": "b3cb3214-fd0f-4a62-8e2a-78b8f75a4183",
   "metadata": {},
   "outputs": [
    {
     "name": "stdout",
     "output_type": "stream",
     "text": [
      "Hello\n"
     ]
    }
   ],
   "source": [
    "def greet(text):\n",
    "    def print_greet():\n",
    "        print(text)\n",
    "    return print_greet\n",
    "\n",
    "say_hello = greet('Hello')#a variable memorized by closure is called a free variable\n",
    "say_hello()"
   ]
  },
  {
   "cell_type": "code",
   "execution_count": 3,
   "id": "08609171-aadf-4379-9dd1-743a2f6e1bac",
   "metadata": {},
   "outputs": [
    {
     "name": "stdout",
     "output_type": "stream",
     "text": [
      "50\n",
      "240\n",
      "120\n",
      "240\n"
     ]
    }
   ],
   "source": [
    "def make_multiply_closure(x):\n",
    "\n",
    "    def multiply(y):\n",
    "        return x * y\n",
    "    return multiply\n",
    "\n",
    "multiply_5 = make_multiply_closure(5)\n",
    "multiply_12 = make_multiply_closure(12)\n",
    "\n",
    "print(multiply_5(10))\n",
    "print(multiply_12(20))\n",
    "\n",
    "print(multiply_12(10))\n",
    "print(multiply_12(20))"
   ]
  },
  {
   "cell_type": "code",
   "execution_count": null,
   "id": "c8e00264-141e-4d46-9685-23c552bce7e8",
   "metadata": {},
   "outputs": [],
   "source": []
  }
 ],
 "metadata": {
  "kernelspec": {
   "display_name": "Python [conda env:base] *",
   "language": "python",
   "name": "conda-base-py"
  },
  "language_info": {
   "codemirror_mode": {
    "name": "ipython",
    "version": 3
   },
   "file_extension": ".py",
   "mimetype": "text/x-python",
   "name": "python",
   "nbconvert_exporter": "python",
   "pygments_lexer": "ipython3",
   "version": "3.11.5"
  }
 },
 "nbformat": 4,
 "nbformat_minor": 5
}
