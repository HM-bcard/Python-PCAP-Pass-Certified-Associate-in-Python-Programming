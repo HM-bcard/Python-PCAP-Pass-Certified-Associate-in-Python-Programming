{
 "cells": [
  {
   "cell_type": "code",
   "execution_count": 11,
   "id": "667894f0-c91d-4524-a18d-b24bd6a902a5",
   "metadata": {},
   "outputs": [],
   "source": [
    "lambda1 = lambda i: i * 2\n",
    "list_1 = [1,2,3,4,5]"
   ]
  },
  {
   "cell_type": "code",
   "execution_count": 13,
   "id": "c1413685-f82f-4d89-a02d-f1ba1545edad",
   "metadata": {},
   "outputs": [
    {
     "data": {
      "text/plain": [
       "<map at 0x2889eb606d0>"
      ]
     },
     "execution_count": 13,
     "metadata": {},
     "output_type": "execute_result"
    }
   ],
   "source": [
    "map(lambda1, list_1)"
   ]
  },
  {
   "cell_type": "code",
   "execution_count": 25,
   "id": "a56f4072-cd19-4fbf-87d2-394dee4fe08b",
   "metadata": {},
   "outputs": [
    {
     "name": "stdout",
     "output_type": "stream",
     "text": [
      "2\n",
      "4\n",
      "6\n"
     ]
    }
   ],
   "source": [
    "map_insides = map(lambda1,list_1)\n",
    "print(next(map_insides))\n",
    "print(next((map_insides)))\n",
    "print(next((map_insides)))"
   ]
  },
  {
   "cell_type": "code",
   "execution_count": 35,
   "id": "1f05b75b-d405-4c08-b252-8cd49bca5bf6",
   "metadata": {},
   "outputs": [
    {
     "name": "stdout",
     "output_type": "stream",
     "text": [
      "2!4!6!8!10!"
     ]
    }
   ],
   "source": [
    "map_insides = map(lambda1,list_1)\n",
    "for element in map_insides:\n",
    "    print(element, end='!')"
   ]
  },
  {
   "cell_type": "code",
   "execution_count": 37,
   "id": "b76bf89f-ca6c-49d9-aca5-f57e9142f52d",
   "metadata": {},
   "outputs": [
    {
     "name": "stdout",
     "output_type": "stream",
     "text": [
      "[2, 4, 6, 8, 10]\n"
     ]
    }
   ],
   "source": [
    "lambda1 = lambda i: i * 2\n",
    "list_1 = [1,2,3,4,5]\n",
    "map_insides = map(lambda1,list_1)\n",
    "print(list(map_insides))"
   ]
  },
  {
   "cell_type": "markdown",
   "id": "06e99618-64eb-4c58-8800-a32156063670",
   "metadata": {},
   "source": [
    "## Single line reduction"
   ]
  },
  {
   "cell_type": "code",
   "execution_count": 42,
   "id": "64bbea34-0c95-4db4-b1dd-77a7dfbc519f",
   "metadata": {},
   "outputs": [
    {
     "name": "stdout",
     "output_type": "stream",
     "text": [
      "[1, 4, 9, 16, 25]\n"
     ]
    }
   ],
   "source": [
    "print(list(map(lambda i: i * i, [1,2,3,4,5])))"
   ]
  },
  {
   "cell_type": "code",
   "execution_count": 44,
   "id": "5174fe13-ae3f-4ac1-9683-941b7f6c972a",
   "metadata": {},
   "outputs": [
    {
     "name": "stdout",
     "output_type": "stream",
     "text": [
      "[0, 2, 4, 6, 8, 10]\n"
     ]
    }
   ],
   "source": [
    "print(list(filter(lambda i: i % 2 == 0, [0,1,2,3,4,5,6,7,8,9,10])))"
   ]
  },
  {
   "cell_type": "code",
   "execution_count": 46,
   "id": "85a7783e-ef5f-42f2-939f-ccb6e2a9c725",
   "metadata": {},
   "outputs": [
    {
     "name": "stdout",
     "output_type": "stream",
     "text": [
      "[True, False, True, False, True, False, True, False, True, False, True]\n"
     ]
    }
   ],
   "source": [
    "print(list(map(lambda i: i % 2 == 0, [0,1,2,3,4,5,6,7,8,9,10])))"
   ]
  },
  {
   "cell_type": "code",
   "execution_count": 50,
   "id": "fbf61767-ee19-4f2f-83ed-5d42517c93bd",
   "metadata": {},
   "outputs": [
    {
     "data": {
      "text/plain": [
       "['frank@gmail.com', 'johnsmith@yahoo.com', 'whereareyou@website.co.uk']"
      ]
     },
     "execution_count": 50,
     "metadata": {},
     "output_type": "execute_result"
    }
   ],
   "source": [
    "email = [\n",
    "    'frank@gmail.com',\n",
    "    'i love python',\n",
    "    '8763124845',\n",
    "    'johnsmith@yahoo.com',\n",
    "    'whereareyou@website.co.uk',\n",
    "    'fs3dfss'\n",
    "]\n",
    "list(filter(lambda i: '@' in i, email))"
   ]
  },
  {
   "cell_type": "code",
   "execution_count": null,
   "id": "bb7c746e-1e41-4607-8545-48132018c78b",
   "metadata": {},
   "outputs": [],
   "source": []
  }
 ],
 "metadata": {
  "kernelspec": {
   "display_name": "Python [conda env:base] *",
   "language": "python",
   "name": "conda-base-py"
  },
  "language_info": {
   "codemirror_mode": {
    "name": "ipython",
    "version": 3
   },
   "file_extension": ".py",
   "mimetype": "text/x-python",
   "name": "python",
   "nbconvert_exporter": "python",
   "pygments_lexer": "ipython3",
   "version": "3.11.5"
  }
 },
 "nbformat": 4,
 "nbformat_minor": 5
}
