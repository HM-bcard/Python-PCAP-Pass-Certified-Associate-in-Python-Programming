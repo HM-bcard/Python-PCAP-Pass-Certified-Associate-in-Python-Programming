{
 "cells": [
  {
   "cell_type": "code",
   "execution_count": 3,
   "id": "c3017440-2b7c-4f5a-b4cd-8390dbc10224",
   "metadata": {},
   "outputs": [],
   "source": [
    "data = bytearray(100) # creates an array of 100 bytes equalling zero "
   ]
  },
  {
   "cell_type": "code",
   "execution_count": 5,
   "id": "d62cf449-dd5c-48c0-bb51-17cdd4c6314c",
   "metadata": {},
   "outputs": [],
   "source": [
    "data[0] = 100"
   ]
  },
  {
   "cell_type": "code",
   "execution_count": 9,
   "id": "37b607c3-f128-415f-89d0-85ee03910f78",
   "metadata": {},
   "outputs": [
    {
     "ename": "ValueError",
     "evalue": "byte must be in range(0, 256)",
     "output_type": "error",
     "traceback": [
      "\u001b[1;31m---------------------------------------------------------------------------\u001b[0m",
      "\u001b[1;31mValueError\u001b[0m                                Traceback (most recent call last)",
      "Cell \u001b[1;32mIn[9], line 2\u001b[0m\n\u001b[0;32m      1\u001b[0m data \u001b[38;5;241m=\u001b[39m \u001b[38;5;28mbytearray\u001b[39m(\u001b[38;5;241m100\u001b[39m)\n\u001b[1;32m----> 2\u001b[0m data[\u001b[38;5;241m0\u001b[39m] \u001b[38;5;241m=\u001b[39m \u001b[38;5;241m270\u001b[39m\n",
      "\u001b[1;31mValueError\u001b[0m: byte must be in range(0, 256)"
     ]
    }
   ],
   "source": [
    "data = bytearray(100)\n",
    "data[0] = 270 # a single byte can contain 256 at most"
   ]
  },
  {
   "cell_type": "code",
   "execution_count": 11,
   "id": "eac9f013-42ca-46a3-93b0-e31442f2dc48",
   "metadata": {},
   "outputs": [],
   "source": [
    "data = bytearray(100)\n",
    "data[0] = 100\n",
    "data[1] = 120\n",
    "\n",
    "try:\n",
    "    stream = open('file.bin','wb')# wb - write binary\n",
    "    stream.write(data)\n",
    "    stream.close()\n",
    "except Exception as e:\n",
    "    print('An error occured:',e)"
   ]
  },
  {
   "cell_type": "code",
   "execution_count": 15,
   "id": "ce871da1-801c-4602-a17a-9a623048b1a7",
   "metadata": {},
   "outputs": [
    {
     "name": "stdout",
     "output_type": "stream",
     "text": [
      "b'dx\\x00\\x00\\x00\\x00\\x00\\x00\\x00\\x00\\x00\\x00\\x00\\x00\\x00\\x00\\x00\\x00\\x00\\x00\\x00\\x00\\x00\\x00\\x00\\x00\\x00\\x00\\x00\\x00\\x00\\x00\\x00\\x00\\x00\\x00\\x00\\x00\\x00\\x00\\x00\\x00\\x00\\x00\\x00\\x00\\x00\\x00\\x00\\x00\\x00\\x00\\x00\\x00\\x00\\x00\\x00\\x00\\x00\\x00\\x00\\x00\\x00\\x00\\x00\\x00\\x00\\x00\\x00\\x00\\x00\\x00\\x00\\x00\\x00\\x00\\x00\\x00\\x00\\x00\\x00\\x00\\x00\\x00\\x00\\x00\\x00\\x00\\x00\\x00\\x00\\x00\\x00\\x00\\x00\\x00\\x00\\x00\\x00\\x00'\n"
     ]
    }
   ],
   "source": [
    "try:\n",
    "    bf = open('file.bin','rb')\n",
    "    byte_array = bf.read()\n",
    "    bf.close()\n",
    "except Exception as e:\n",
    "    print('AN error occured: ',e)\n",
    "\n",
    "print(byte_array)"
   ]
  },
  {
   "cell_type": "code",
   "execution_count": 19,
   "id": "9b98ac33-adc7-42e2-9a4a-917a87aa1f1b",
   "metadata": {},
   "outputs": [
    {
     "name": "stdout",
     "output_type": "stream",
     "text": [
      "0x640x780x00x00x00x00x00x00x00x00x00x00x00x00x00x00x00x00x00x00x00x00x00x00x00x00x00x00x00x00x00x00x00x00x00x00x00x00x00x00x00x00x00x00x00x00x00x00x00x00x00x00x00x00x00x00x00x00x00x00x00x00x00x00x00x00x00x00x00x00x00x00x00x00x00x00x00x00x00x00x00x00x00x00x00x00x00x00x00x00x00x00x00x00x00x00x00x00x00x0"
     ]
    }
   ],
   "source": [
    "for byte in byte_array:\n",
    "    print(hex(byte),end='')"
   ]
  },
  {
   "cell_type": "code",
   "execution_count": 21,
   "id": "58b9dad1-1ac2-42c7-bddd-8213a5b99544",
   "metadata": {},
   "outputs": [
    {
     "name": "stdout",
     "output_type": "stream",
     "text": [
      "10012000000000000000000000000000000000000000000000000000000000000000000000000000000000000000000000000000"
     ]
    }
   ],
   "source": [
    "for byte in byte_array:\n",
    "    print(int(byte),end='')"
   ]
  },
  {
   "cell_type": "code",
   "execution_count": 23,
   "id": "e8d04d17-3cdc-4752-b9d9-15928b9cfdc8",
   "metadata": {},
   "outputs": [
    {
     "name": "stdout",
     "output_type": "stream",
     "text": [
      "b'dx\\x00\\x00\\x00\\x00\\x00\\x00\\x00\\x00'\n",
      "10012000000000"
     ]
    }
   ],
   "source": [
    "try:\n",
    "    bf = open('file.bin','rb')\n",
    "    byte_array = bf.read(10)\n",
    "    bf.close()\n",
    "except Exception as e:\n",
    "    print('AN error occured: ',e)\n",
    "\n",
    "print(byte_array)\n",
    "for byte in byte_array:\n",
    "    print(int(byte),end='')"
   ]
  },
  {
   "cell_type": "markdown",
   "id": "e257cd50-14f7-4063-9fc5-3f19f318bccf",
   "metadata": {},
   "source": []
  },
  {
   "cell_type": "markdown",
   "id": "b2ba346e-daf9-4dde-b553-c4591a7073df",
   "metadata": {},
   "source": [
    "## Bytes class"
   ]
  },
  {
   "cell_type": "code",
   "execution_count": null,
   "id": "0ac64bab-b908-48ac-a4f7-41ae748982ee",
   "metadata": {},
   "outputs": [],
   "source": []
  }
 ],
 "metadata": {
  "kernelspec": {
   "display_name": "Python [conda env:base] *",
   "language": "python",
   "name": "conda-base-py"
  },
  "language_info": {
   "codemirror_mode": {
    "name": "ipython",
    "version": 3
   },
   "file_extension": ".py",
   "mimetype": "text/x-python",
   "name": "python",
   "nbconvert_exporter": "python",
   "pygments_lexer": "ipython3",
   "version": "3.11.5"
  }
 },
 "nbformat": 4,
 "nbformat_minor": 5
}
