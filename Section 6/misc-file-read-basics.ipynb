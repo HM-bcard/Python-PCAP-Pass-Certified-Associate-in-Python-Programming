{
 "cells": [
  {
   "cell_type": "code",
   "execution_count": 3,
   "id": "536cc66b-d715-4246-a75a-5375719dd100",
   "metadata": {},
   "outputs": [],
   "source": [
    "try:\n",
    "    stream = open('animals.txt')\n",
    "    #code\n",
    "    stream.close()\n",
    "except Exception as e:\n",
    "    print('An error occured: ',e)\n",
    "    "
   ]
  },
  {
   "cell_type": "code",
   "execution_count": 5,
   "id": "68a929d2-66d5-409e-aaa7-ecb663e6a82b",
   "metadata": {},
   "outputs": [
    {
     "name": "stdout",
     "output_type": "stream",
     "text": [
      "PIG is a domestic animal.\n",
      "LION is a wild animal.\n",
      "FOX is a wild animal that is sometimes kept as a pet. \n"
     ]
    }
   ],
   "source": [
    "try:\n",
    "    stream = open('animals.txt')\n",
    "    print(stream.read())\n",
    "    stream.close()\n",
    "except Exception as e:\n",
    "    print('An error occured: ',e)\n",
    "    "
   ]
  },
  {
   "cell_type": "code",
   "execution_count": 7,
   "id": "e43397b7-eee8-4f7a-b589-9831d8ad061a",
   "metadata": {},
   "outputs": [
    {
     "name": "stdout",
     "output_type": "stream",
     "text": [
      "PIG is a d\n"
     ]
    }
   ],
   "source": [
    "try:\n",
    "    stream = open('animals.txt')\n",
    "    print(stream.read(10))\n",
    "    stream.close()\n",
    "except Exception as e:\n",
    "    print('An error occured: ',e)\n",
    "    "
   ]
  },
  {
   "cell_type": "code",
   "execution_count": 9,
   "id": "7da98783-265c-4816-a99a-098c5ae61603",
   "metadata": {},
   "outputs": [
    {
     "name": "stdout",
     "output_type": "stream",
     "text": [
      "PIG is a d\n",
      "omestic an\n"
     ]
    }
   ],
   "source": [
    "try:\n",
    "    stream = open('animals.txt')\n",
    "    print(stream.read(10))\n",
    "    print(stream.read(10))\n",
    "    stream.close()\n",
    "except Exception as e:\n",
    "    print('An error occured: ',e)\n",
    "    "
   ]
  },
  {
   "cell_type": "code",
   "execution_count": 11,
   "id": "2fe3675d-7767-4449-bcf6-f83dd4b04aad",
   "metadata": {},
   "outputs": [
    {
     "name": "stdout",
     "output_type": "stream",
     "text": [
      "PIG is a domestic animal.\n",
      "LION is a wild animal.\n",
      "FOX is a wild animal that is sometimes kept as a pet. \n",
      "\n"
     ]
    }
   ],
   "source": [
    "try:\n",
    "    stream = open('animals.txt')\n",
    "    print(stream.read(999))\n",
    "    print(stream.read(10))\n",
    "    stream.close()\n",
    "except Exception as e:\n",
    "    print('An error occured: ',e)\n",
    "    "
   ]
  },
  {
   "cell_type": "markdown",
   "id": "4bae4d1a-bd39-444b-97a8-24f9b1a5918a",
   "metadata": {},
   "source": [
    "## Empty characters"
   ]
  },
  {
   "cell_type": "code",
   "execution_count": 14,
   "id": "1daa2b41-c115-4e9d-a6ac-246c7cae0e76",
   "metadata": {},
   "outputs": [
    {
     "name": "stdout",
     "output_type": "stream",
     "text": [
      "P-I-G- -i-s- -a- -d-o-m-e-s-t-i-c- -a-n-i-m-a-l-.-\n",
      "-L-I-O-N- -i-s- -a- -w-i-l-d- -a-n-i-m-a-l-.-\n",
      "-F-O-X- -i-s- -a- -w-i-l-d- -a-n-i-m-a-l- -t-h-a-t- -i-s- -s-o-m-e-t-i-m-e-s- -k-e-p-t- -a-s- -a- -p-e-t-.- -"
     ]
    }
   ],
   "source": [
    "try:\n",
    "    stream = open('animals.txt')\n",
    "    character = stream.read(1)\n",
    "    while character != '':\n",
    "        print(character, end='-')\n",
    "        character = stream.read(1)\n",
    "    stream.close()\n",
    "except Exception as e:\n",
    "    print('An error occured: ',e)\n",
    "    "
   ]
  },
  {
   "cell_type": "markdown",
   "id": "c9ca00c5-14de-44f3-9456-fd15ec0e9a53",
   "metadata": {},
   "source": [
    "## Counting charaacters"
   ]
  },
  {
   "cell_type": "code",
   "execution_count": 19,
   "id": "e0a32b68-b5ca-420a-95fb-5a3133c6bcf7",
   "metadata": {},
   "outputs": [
    {
     "name": "stdout",
     "output_type": "stream",
     "text": [
      "P-I-G- -i-s- -a- -d-o-m-e-s-t-i-c- -a-n-i-m-a-l-.-\n",
      "-L-I-O-N- -i-s- -a- -w-i-l-d- -a-n-i-m-a-l-.-\n",
      "-F-O-X- -i-s- -a- -w-i-l-d- -a-n-i-m-a-l- -t-h-a-t- -i-s- -s-o-m-e-t-i-m-e-s- -k-e-p-t- -a-s- -a- -p-e-t-.- -\n",
      "Number of characters: 0\n"
     ]
    }
   ],
   "source": [
    "try:\n",
    "    stream = open('animals.txt')\n",
    "    counter = 0\n",
    "    character = stream.read(1)\n",
    "    while character != '':\n",
    "        print(character, end='-')\n",
    "        character = stream.read(1)\n",
    "    stream.close()\n",
    "    print(\"\\nNumber of characters:\", counter)\n",
    "except Exception as e:\n",
    "    print('An error occured: ',e)\n",
    "    "
   ]
  },
  {
   "cell_type": "code",
   "execution_count": 27,
   "id": "44a2bb62-45b2-4e40-82f7-56d3e5c22297",
   "metadata": {},
   "outputs": [
    {
     "name": "stdout",
     "output_type": "stream",
     "text": [
      "PIG is a domestic animal.\n",
      "-LION is a wild animal.\n",
      "-FOX is a wild animal that is sometimes kept as a pet. -\n",
      "Number of lines: 3\n"
     ]
    }
   ],
   "source": [
    "try:\n",
    "    stream = open('animals.txt')\n",
    "    counter = 0\n",
    "    line = stream.readline()\n",
    "    while line != '':\n",
    "        counter += 1\n",
    "        print(line,end = '-')\n",
    "        line = stream.readline()\n",
    "    stream.close()\n",
    "    print(\"\\nNumber of lines:\", counter)\n",
    "except Exception as e:\n",
    "    print('An error occured: ',e)\n",
    "    "
   ]
  },
  {
   "cell_type": "markdown",
   "id": "4c887f04-4a9b-4357-9643-465bee87507b",
   "metadata": {},
   "source": [
    "## Readlines method"
   ]
  },
  {
   "cell_type": "code",
   "execution_count": 34,
   "id": "811bb41e-834f-4253-a802-9099a49d9ba2",
   "metadata": {},
   "outputs": [
    {
     "name": "stdout",
     "output_type": "stream",
     "text": [
      "Content of the lines var: ['PIG is a domestic animal.\\n', 'LION is a wild animal.\\n', 'FOX is a wild animal that is sometimes kept as a pet. ']\n",
      "Number of lines in the file:  3\n",
      "PIG is a domestic animal.\n",
      "!LION is a wild animal.\n",
      "!FOX is a wild animal that is sometimes kept as a pet. !"
     ]
    }
   ],
   "source": [
    "try:\n",
    "    stream = open('animals.txt')\n",
    "    lines = stream.readlines()\n",
    "    print('Content of the lines var:', lines)\n",
    "    print('Number of lines in the file: ', len(lines))\n",
    "    for line in lines:\n",
    "        print(line, end = '!')\n",
    "    stream.close()\n",
    "except Exception as e:\n",
    "    print('An error occured: ',e)\n",
    "    "
   ]
  },
  {
   "cell_type": "code",
   "execution_count": 38,
   "id": "ddd5d9be-317d-4f81-8230-21172a3013fd",
   "metadata": {},
   "outputs": [
    {
     "name": "stdout",
     "output_type": "stream",
     "text": [
      "PIG is a domestic animal.\n",
      "\n",
      "LION is a wild animal.\n",
      "\n",
      "FOX is a wild animal that is sometimes kept as a pet. \n"
     ]
    }
   ],
   "source": [
    "try:\n",
    "    stream = open('animals.txt')\n",
    "    lines = stream.readlines(2) #reading buffer of 2 bytes\n",
    "    while len(lines) != 0:\n",
    "        for line in lines:\n",
    "            print(line, sep = '')\n",
    "        lines = stream.readlines(2)\n",
    "    stream.close()\n",
    "except Exception as e:\n",
    "    print('An error occured: ',e)\n",
    "    "
   ]
  },
  {
   "cell_type": "code",
   "execution_count": 40,
   "id": "a7ae3a83-03b8-4c5f-9525-6b2d3682b39f",
   "metadata": {},
   "outputs": [
    {
     "name": "stdout",
     "output_type": "stream",
     "text": [
      "PIG is a domestic animal.\n",
      "LION is a wild animal.\n",
      "FOX is a wild animal that is sometimes kept as a pet. "
     ]
    }
   ],
   "source": [
    "try:\n",
    "    stream = open('animals.txt')\n",
    "    for line in stream:\n",
    "        print(line,end = '')\n",
    "except Exception as e:\n",
    "    print('An error occured: ',e)\n",
    "    "
   ]
  },
  {
   "cell_type": "code",
   "execution_count": null,
   "id": "288ee13a-ea78-46b7-afcf-00e5c1149840",
   "metadata": {},
   "outputs": [],
   "source": []
  }
 ],
 "metadata": {
  "kernelspec": {
   "display_name": "Python [conda env:base] *",
   "language": "python",
   "name": "conda-base-py"
  },
  "language_info": {
   "codemirror_mode": {
    "name": "ipython",
    "version": 3
   },
   "file_extension": ".py",
   "mimetype": "text/x-python",
   "name": "python",
   "nbconvert_exporter": "python",
   "pygments_lexer": "ipython3",
   "version": "3.11.5"
  }
 },
 "nbformat": 4,
 "nbformat_minor": 5
}
