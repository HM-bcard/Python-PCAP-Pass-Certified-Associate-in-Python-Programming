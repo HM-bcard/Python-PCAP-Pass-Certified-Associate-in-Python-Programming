{
 "cells": [
  {
   "cell_type": "code",
   "execution_count": 1,
   "id": "0eb766e7-3cbd-4b18-b8da-226255463478",
   "metadata": {},
   "outputs": [],
   "source": [
    "lambda_f = lambda i: i * 2\n",
    "list1 = [1,2,3,4,5,6,7]"
   ]
  },
  {
   "cell_type": "code",
   "execution_count": 3,
   "id": "95bcdae1-08bd-495e-8f9c-3eb96ba73fa3",
   "metadata": {},
   "outputs": [
    {
     "data": {
      "text/plain": [
       "<map at 0x17ff7894400>"
      ]
     },
     "execution_count": 3,
     "metadata": {},
     "output_type": "execute_result"
    }
   ],
   "source": [
    "map(lambda_f,list1)\n"
   ]
  },
  {
   "cell_type": "code",
   "execution_count": 5,
   "id": "9e6edcba-f174-4187-9a0b-0d820e5a3b2c",
   "metadata": {},
   "outputs": [
    {
     "name": "stdout",
     "output_type": "stream",
     "text": [
      "<map object at 0x0000017FF9182110>\n"
     ]
    }
   ],
   "source": [
    "map_result = map(lambda_f,list1)\n",
    "print(map_result)"
   ]
  },
  {
   "cell_type": "code",
   "execution_count": 7,
   "id": "601f531b-c5ad-4f56-9036-7cb910bf828b",
   "metadata": {},
   "outputs": [
    {
     "name": "stdout",
     "output_type": "stream",
     "text": [
      "2\n"
     ]
    }
   ],
   "source": [
    "map_result = map(lambda_f,list1)\n",
    "print(next(map_result))"
   ]
  },
  {
   "cell_type": "code",
   "execution_count": 13,
   "id": "f9d4dd0e-9bfa-4ce2-830e-d1310934b2ea",
   "metadata": {},
   "outputs": [
    {
     "data": {
      "text/plain": [
       "2"
      ]
     },
     "execution_count": 13,
     "metadata": {},
     "output_type": "execute_result"
    }
   ],
   "source": [
    "next(map(lambda_f,list1))\n",
    "next(map(lambda_f,list1))\n",
    "next(map(lambda_f,list1))"
   ]
  },
  {
   "cell_type": "code",
   "execution_count": 15,
   "id": "86e95c65-23d2-4747-a767-4443b1bef8eb",
   "metadata": {},
   "outputs": [
    {
     "name": "stdout",
     "output_type": "stream",
     "text": [
      "2,4,6,8,10,12,14,"
     ]
    }
   ],
   "source": [
    "map_result = map(lambda_f,list1)\n",
    "for element in map_result:\n",
    "    print(element,end=',')"
   ]
  },
  {
   "cell_type": "code",
   "execution_count": 17,
   "id": "68f10302-5621-47fe-ab5a-dfaf868d7c31",
   "metadata": {},
   "outputs": [
    {
     "name": "stdout",
     "output_type": "stream",
     "text": [
      "[2, 4, 6, 8, 10, 12, 14]\n"
     ]
    }
   ],
   "source": [
    "map_result = map(lambda_f,list1)\n",
    "print(list(map_result))"
   ]
  },
  {
   "cell_type": "code",
   "execution_count": 21,
   "id": "316bc792-13c0-42f3-9b02-3c7bb3e578ab",
   "metadata": {},
   "outputs": [
    {
     "name": "stdout",
     "output_type": "stream",
     "text": [
      "[2, 4, 6, 8, 10]\n"
     ]
    }
   ],
   "source": [
    "print(list(map(lambda i: i * 2,[1,2,3,4,5])))"
   ]
  },
  {
   "cell_type": "code",
   "execution_count": 23,
   "id": "eda93013-b5a7-416f-8492-3e39c01672a4",
   "metadata": {},
   "outputs": [
    {
     "name": "stdout",
     "output_type": "stream",
     "text": [
      "[False, True, False, True, False]\n"
     ]
    }
   ],
   "source": [
    "print(list(map(lambda i: i % 2 == 0,[1,2,3,4,5])))"
   ]
  },
  {
   "cell_type": "code",
   "execution_count": 25,
   "id": "cdc3195f-f395-4003-bad0-7486f472f11b",
   "metadata": {},
   "outputs": [
    {
     "data": {
      "text/plain": [
       "['frank@gmail.com', 'johnsmith@yahoo.com', 'whereareyou@website.co.uk']"
      ]
     },
     "execution_count": 25,
     "metadata": {},
     "output_type": "execute_result"
    }
   ],
   "source": [
    "email = [\n",
    "    'frank@gmail.com',\n",
    "    'i love python',\n",
    "    '8763124845',\n",
    "    'johnsmith@yahoo.com',\n",
    "    'whereareyou@website.co.uk',\n",
    "    'fs3dfss'\n",
    "]\n",
    "list(filter(lambda i: '@' in i, email))\n",
    "list(filter(lambda i: '@' in i, email))"
   ]
  },
  {
   "cell_type": "code",
   "execution_count": null,
   "id": "66e6fd0d-5b40-4335-b56a-bc69658f623b",
   "metadata": {},
   "outputs": [],
   "source": []
  }
 ],
 "metadata": {
  "kernelspec": {
   "display_name": "Python [conda env:base] *",
   "language": "python",
   "name": "conda-base-py"
  },
  "language_info": {
   "codemirror_mode": {
    "name": "ipython",
    "version": 3
   },
   "file_extension": ".py",
   "mimetype": "text/x-python",
   "name": "python",
   "nbconvert_exporter": "python",
   "pygments_lexer": "ipython3",
   "version": "3.11.5"
  }
 },
 "nbformat": 4,
 "nbformat_minor": 5
}
