{
 "cells": [
  {
   "cell_type": "code",
   "execution_count": 1,
   "id": "7790a9c7-b1bc-44ff-a08c-f0abbe3155e6",
   "metadata": {},
   "outputs": [
    {
     "ename": "SyntaxError",
     "evalue": "incomplete input (3642353103.py, line 3)",
     "output_type": "error",
     "traceback": [
      "\u001b[1;36m  Cell \u001b[1;32mIn[1], line 3\u001b[1;36m\u001b[0m\n\u001b[1;33m    #code2\u001b[0m\n\u001b[1;37m          ^\u001b[0m\n\u001b[1;31mSyntaxError\u001b[0m\u001b[1;31m:\u001b[0m incomplete input\n"
     ]
    }
   ],
   "source": [
    "def function_name():\n",
    "    #code 1\n",
    "    #code2"
   ]
  },
  {
   "cell_type": "code",
   "execution_count": 3,
   "id": "6d2e0c00-4dd5-4a33-a338-3fbaccbf6053",
   "metadata": {},
   "outputs": [
    {
     "ename": "SyntaxError",
     "evalue": "invalid syntax (3476230756.py, line 1)",
     "output_type": "error",
     "traceback": [
      "\u001b[1;36m  Cell \u001b[1;32mIn[3], line 1\u001b[1;36m\u001b[0m\n\u001b[1;33m    lambda parameter1,parameter2: # do1\u001b[0m\n\u001b[1;37m                                  ^\u001b[0m\n\u001b[1;31mSyntaxError\u001b[0m\u001b[1;31m:\u001b[0m invalid syntax\n"
     ]
    }
   ],
   "source": [
    "lambda parameter1,parameter2: # do1"
   ]
  },
  {
   "cell_type": "code",
   "execution_count": 5,
   "id": "6d4fcfdf-76cd-49c9-a105-08d5b839ee18",
   "metadata": {},
   "outputs": [],
   "source": [
    "def sum (a,b):\n",
    "    return a + b"
   ]
  },
  {
   "cell_type": "code",
   "execution_count": 7,
   "id": "e883f55d-89f7-41ff-9d40-c5753ddc5193",
   "metadata": {},
   "outputs": [
    {
     "data": {
      "text/plain": [
       "<function __main__.<lambda>(a, b)>"
      ]
     },
     "execution_count": 7,
     "metadata": {},
     "output_type": "execute_result"
    }
   ],
   "source": [
    "lambda a,b: a + b"
   ]
  },
  {
   "cell_type": "code",
   "execution_count": 9,
   "id": "9e2aae55-e7a4-4e37-86ea-89af07d3a6d1",
   "metadata": {},
   "outputs": [
    {
     "data": {
      "text/plain": [
       "8"
      ]
     },
     "execution_count": 9,
     "metadata": {},
     "output_type": "execute_result"
    }
   ],
   "source": [
    "sum(5,3)"
   ]
  },
  {
   "cell_type": "code",
   "execution_count": 13,
   "id": "addb013d-1300-4efd-9fe6-53da9c9f3fc5",
   "metadata": {},
   "outputs": [
    {
     "ename": "SyntaxError",
     "evalue": "invalid syntax (229822587.py, line 1)",
     "output_type": "error",
     "traceback": [
      "\u001b[1;36m  Cell \u001b[1;32mIn[13], line 1\u001b[1;36m\u001b[0m\n\u001b[1;33m    sum = lambda,b: a + b\u001b[0m\n\u001b[1;37m                ^\u001b[0m\n\u001b[1;31mSyntaxError\u001b[0m\u001b[1;31m:\u001b[0m invalid syntax\n"
     ]
    }
   ],
   "source": [
    "sum = lambda,b: a + b"
   ]
  },
  {
   "cell_type": "code",
   "execution_count": 15,
   "id": "ffe95c73-b689-4db6-a577-b513c8c43650",
   "metadata": {},
   "outputs": [
    {
     "data": {
      "text/plain": [
       "14"
      ]
     },
     "execution_count": 15,
     "metadata": {},
     "output_type": "execute_result"
    }
   ],
   "source": [
    "sum(7,7)"
   ]
  },
  {
   "cell_type": "code",
   "execution_count": 21,
   "id": "9b9b0921-a1e9-4492-a325-60adc7bf22b0",
   "metadata": {},
   "outputs": [],
   "source": [
    "def apply_function(elements,function):\n",
    "    for element in elements:\n",
    "        print(function(element))"
   ]
  },
  {
   "cell_type": "code",
   "execution_count": 23,
   "id": "2afb6a3a-5de2-4625-a96a-668f615a1362",
   "metadata": {},
   "outputs": [
    {
     "name": "stdout",
     "output_type": "stream",
     "text": [
      "1\n",
      "4\n",
      "9\n",
      "16\n",
      "25\n"
     ]
    }
   ],
   "source": [
    "my_function = lambda x: x*x\n",
    "apply_function([1,2,3,4,5],my_function)"
   ]
  },
  {
   "cell_type": "code",
   "execution_count": 25,
   "id": "ddcbce0f-f760-4d09-b559-f5086791840b",
   "metadata": {},
   "outputs": [
    {
     "name": "stdout",
     "output_type": "stream",
     "text": [
      "1\n",
      "4\n",
      "9\n",
      "16\n",
      "25\n"
     ]
    }
   ],
   "source": [
    "def my_function1(x):\n",
    "    return x*x\n",
    "apply_function([1,2,3,4,5],my_function)"
   ]
  },
  {
   "cell_type": "code",
   "execution_count": 27,
   "id": "f766bdf0-e162-48db-97e8-fca2ec031ef2",
   "metadata": {},
   "outputs": [
    {
     "name": "stdout",
     "output_type": "stream",
     "text": [
      "1.0\n",
      "0.5\n",
      "0.3333333333333333\n",
      "0.25\n",
      "0.2\n"
     ]
    }
   ],
   "source": [
    "my_function = lambda x: 1/x\n",
    "apply_function([1,2,3,4,5],my_function)"
   ]
  },
  {
   "cell_type": "code",
   "execution_count": 29,
   "id": "6188117f-6ced-4016-b665-95697301bb01",
   "metadata": {},
   "outputs": [
    {
     "name": "stdout",
     "output_type": "stream",
     "text": [
      "1.0\n",
      "0.5\n",
      "0.3333333333333333\n",
      "0.25\n",
      "0.2\n"
     ]
    }
   ],
   "source": [
    "def my_function1(x):\n",
    "    return 1/x\n",
    "apply_function([1,2,3,4,5],my_function)"
   ]
  },
  {
   "cell_type": "code",
   "execution_count": 31,
   "id": "136c54bd-1d62-40a2-a484-6bb6e17a7c31",
   "metadata": {},
   "outputs": [
    {
     "name": "stdout",
     "output_type": "stream",
     "text": [
      "1\n",
      "4\n",
      "9\n",
      "16\n",
      "25\n"
     ]
    }
   ],
   "source": [
    "apply_function([1,2,3,4,5],lambda x:x*x)"
   ]
  },
  {
   "cell_type": "code",
   "execution_count": null,
   "id": "3ed68e13-023f-456b-8d46-7e1bca3f3653",
   "metadata": {},
   "outputs": [],
   "source": []
  }
 ],
 "metadata": {
  "kernelspec": {
   "display_name": "Python [conda env:base] *",
   "language": "python",
   "name": "conda-base-py"
  },
  "language_info": {
   "codemirror_mode": {
    "name": "ipython",
    "version": 3
   },
   "file_extension": ".py",
   "mimetype": "text/x-python",
   "name": "python",
   "nbconvert_exporter": "python",
   "pygments_lexer": "ipython3",
   "version": "3.11.5"
  }
 },
 "nbformat": 4,
 "nbformat_minor": 5
}
