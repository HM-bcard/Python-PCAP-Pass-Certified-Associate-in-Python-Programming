{
 "cells": [
  {
   "cell_type": "markdown",
   "id": "81f654e5-d9a8-48dd-9e7d-a0fd03fe6d6e",
   "metadata": {},
   "source": [
    "## BOK : "
   ]
  },
  {
   "cell_type": "code",
   "execution_count": null,
   "id": "94e6500f-f824-45d1-afc9-329b66135b11",
   "metadata": {},
   "outputs": [],
   "source": []
  }
 ],
 "metadata": {
  "kernelspec": {
   "display_name": "Python [conda env:base] *",
   "language": "python",
   "name": "conda-base-py"
  },
  "language_info": {
   "codemirror_mode": {
    "name": "ipython",
    "version": 3
   },
   "file_extension": ".py",
   "mimetype": "text/x-python",
   "name": "python",
   "nbconvert_exporter": "python",
   "pygments_lexer": "ipython3",
   "version": "3.11.5"
  }
 },
 "nbformat": 4,
 "nbformat_minor": 5
}
