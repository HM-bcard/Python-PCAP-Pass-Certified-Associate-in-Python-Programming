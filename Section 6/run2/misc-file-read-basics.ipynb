{
 "cells": [
  {
   "cell_type": "code",
   "execution_count": 1,
   "id": "3b0e8caa-3467-47cb-ab72-d31a1359db02",
   "metadata": {},
   "outputs": [
    {
     "name": "stdout",
     "output_type": "stream",
     "text": [
      "An error occured:  [Errno 2] No such file or directory: 'animals.txt'\n"
     ]
    }
   ],
   "source": [
    "try:\n",
    "    stream = open('animals.txt')\n",
    "    # code\n",
    "    stream.close()\n",
    "except Exception as e:\n",
    "    print(\"An error occured: \", e)"
   ]
  },
  {
   "cell_type": "code",
   "execution_count": 3,
   "id": "5d81f5d2-6e8a-4a98-ac76-a0da2c799206",
   "metadata": {},
   "outputs": [],
   "source": [
    "try:\n",
    "    stream = open('animals.txt')\n",
    "    # code\n",
    "    stream.close()\n",
    "except Exception as e:\n",
    "    print(\"An error occured: \", e)"
   ]
  },
  {
   "cell_type": "code",
   "execution_count": null,
   "id": "f4722ebc-63fe-4eaa-8323-5d02f0ee5b18",
   "metadata": {},
   "outputs": [],
   "source": []
  }
 ],
 "metadata": {
  "kernelspec": {
   "display_name": "Python [conda env:base] *",
   "language": "python",
   "name": "conda-base-py"
  },
  "language_info": {
   "codemirror_mode": {
    "name": "ipython",
    "version": 3
   },
   "file_extension": ".py",
   "mimetype": "text/x-python",
   "name": "python",
   "nbconvert_exporter": "python",
   "pygments_lexer": "ipython3",
   "version": "3.11.5"
  }
 },
 "nbformat": 4,
 "nbformat_minor": 5
}
