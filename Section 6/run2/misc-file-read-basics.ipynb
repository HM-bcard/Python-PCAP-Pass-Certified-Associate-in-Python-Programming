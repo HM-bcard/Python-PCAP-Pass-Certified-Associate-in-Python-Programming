{
 "cells": [
  {
   "cell_type": "markdown",
   "id": "b82a8892-3f8e-4085-9d05-bf16365bf94e",
   "metadata": {},
   "source": [
    "## Basic stream + exception construction\n"
   ]
  },
  {
   "cell_type": "code",
   "execution_count": 1,
   "id": "3b0e8caa-3467-47cb-ab72-d31a1359db02",
   "metadata": {},
   "outputs": [
    {
     "name": "stdout",
     "output_type": "stream",
     "text": [
      "An error occured:  [Errno 2] No such file or directory: 'animals.txt'\n"
     ]
    }
   ],
   "source": [
    "try:\n",
    "    stream = open('animals.txt')\n",
    "    # code\n",
    "    stream.close()\n",
    "except Exception as e:\n",
    "    print(\"An error occured: \", e)"
   ]
  },
  {
   "cell_type": "code",
   "execution_count": 3,
   "id": "5d81f5d2-6e8a-4a98-ac76-a0da2c799206",
   "metadata": {},
   "outputs": [],
   "source": [
    "try:\n",
    "    stream = open('animals.txt')\n",
    "    # code\n",
    "    stream.close()\n",
    "except Exception as e:\n",
    "    print(\"An error occured: \", e)"
   ]
  },
  {
   "cell_type": "markdown",
   "id": "ef0a0631-5c45-4658-8cd8-497bec83a26c",
   "metadata": {},
   "source": [
    "## Calling stream with file not existing"
   ]
  },
  {
   "cell_type": "code",
   "execution_count": 5,
   "id": "bc067049-102b-416b-ac35-3e6617c7541f",
   "metadata": {},
   "outputs": [
    {
     "name": "stdout",
     "output_type": "stream",
     "text": [
      "An error occured:  [Errno 2] No such file or directory: 'not-animals.txt'\n"
     ]
    }
   ],
   "source": [
    "try:\n",
    "    stream = open('not-animals.txt')\n",
    "    # code\n",
    "    stream.close()\n",
    "except Exception as e:\n",
    "    print(\"An error occured: \", e)"
   ]
  },
  {
   "cell_type": "markdown",
   "id": "2b3a9c0c-7ce4-45c5-a861-ff696dd67eb7",
   "metadata": {},
   "source": [
    "### Reading a stream"
   ]
  },
  {
   "cell_type": "code",
   "execution_count": 11,
   "id": "cf7c949f-db92-49a9-81de-736c3c89c09d",
   "metadata": {},
   "outputs": [
    {
     "name": "stdout",
     "output_type": "stream",
     "text": [
      "PIG is a domestic animal.\n",
      "LION is a wild animal.\n",
      "FOX is a wild animal that is sometimes kept as a pet. \n"
     ]
    }
   ],
   "source": [
    "try:\n",
    "    stream = open('animals.txt')\n",
    "    print(stream.read())\n",
    "    stream.close()\n",
    "except Exception as e:\n",
    "    print(\"An error occured: \", e)"
   ]
  },
  {
   "cell_type": "markdown",
   "id": "a90382f1-164b-424f-a89c-c45318210a59",
   "metadata": {},
   "source": [
    "### Reading a set number of bytes - typically one char per byte(10 bytes - 10 chars)\n"
   ]
  },
  {
   "cell_type": "code",
   "execution_count": 14,
   "id": "89368f09-0ae7-4d9d-8364-0a69b41cd8d8",
   "metadata": {},
   "outputs": [
    {
     "name": "stdout",
     "output_type": "stream",
     "text": [
      "PIG is a d\n"
     ]
    }
   ],
   "source": [
    "try:\n",
    "    stream = open('animals.txt')\n",
    "    print(stream.read(10))\n",
    "    stream.close()\n",
    "except Exception as e:\n",
    "    print(\"An error occured: \", e)"
   ]
  },
  {
   "cell_type": "markdown",
   "id": "f944cab6-18c6-47a8-86d6-9a0364d11d9d",
   "metadata": {},
   "source": [
    "### Asking to read ten bytes two times in a row during the same stream will result in reading the next ten bytes"
   ]
  },
  {
   "cell_type": "code",
   "execution_count": 18,
   "id": "5d7acc7d-b264-4d14-840d-0736d5370d8c",
   "metadata": {},
   "outputs": [
    {
     "name": "stdout",
     "output_type": "stream",
     "text": [
      "PIG is a d\n",
      "omestic an\n"
     ]
    }
   ],
   "source": [
    "try:\n",
    "    stream = open('animals.txt')\n",
    "    print(stream.read(10))\n",
    "    print(stream.read(10))\n",
    "    stream.close()\n",
    "except Exception as e:\n",
    "    print(\"An error occured: \", e)"
   ]
  },
  {
   "cell_type": "markdown",
   "id": "264d5d70-725f-4673-a6df-94e3b292c02e",
   "metadata": {},
   "source": [
    "### Reading over the contents of the file results in no output over the contents of the file"
   ]
  },
  {
   "cell_type": "code",
   "execution_count": 23,
   "id": "15aab97a-fa1d-4706-8dc8-78bcfc60715b",
   "metadata": {},
   "outputs": [
    {
     "name": "stdout",
     "output_type": "stream",
     "text": [
      "PIG is a domestic animal.\n",
      "LION is a wild animal.\n",
      "FOX is a wild animal that is sometimes kept as a pet. \n",
      "\n"
     ]
    }
   ],
   "source": [
    "try:\n",
    "    stream = open('animals.txt')\n",
    "    print(stream.read(1000))\n",
    "    print(stream.read(1))\n",
    "    stream.close()\n",
    "except Exception as e:\n",
    "    print(\"An error occured: \", e)"
   ]
  },
  {
   "cell_type": "markdown",
   "id": "5e0901ca-757a-4e24-90ce-604ee3ce8b55",
   "metadata": {},
   "source": [
    "### Reading character by character"
   ]
  },
  {
   "cell_type": "code",
   "execution_count": null,
   "id": "7a3c56fd-d830-41ee-9682-d6e12d4b7269",
   "metadata": {},
   "outputs": [],
   "source": [
    "try:\n",
    "    stream = open('animals.txt')\n",
    "    character = stream.read(1)\n",
    "    while character != '':\n",
    "        print(character)\n",
    "    stream.close()\n",
    "except Exception as e:\n",
    "    print(\"An error occured: \", e)"
   ]
  },
  {
   "cell_type": "code",
   "execution_count": 30,
   "id": "7689df61-6d51-4736-938a-1ccfa89169e4",
   "metadata": {},
   "outputs": [
    {
     "name": "stdout",
     "output_type": "stream",
     "text": [
      "P-I-G- -i-s- -a- -d-o-m-e-s-t-i-c- -a-n-i-m-a-l-.-\n",
      "-L-I-O-N- -i-s- -a- -w-i-l-d- -a-n-i-m-a-l-.-\n",
      "-F-O-X- -i-s- -a- -w-i-l-d- -a-n-i-m-a-l- -t-h-a-t- -i-s- -s-o-m-e-t-i-m-e-s- -k-e-p-t- -a-s- -a- -p-e-t-.- -"
     ]
    }
   ],
   "source": [
    "\n",
    "try:\n",
    "    stream = open('animals.txt')\n",
    "    character = stream.read(1)\n",
    "    while character != '':\n",
    "        print(character,end = '-')\n",
    "        character = stream.read(1)\n",
    "    stream.close()\n",
    "except Exception as e:\n",
    "    print(\"An error occured: \", e)\n"
   ]
  },
  {
   "cell_type": "markdown",
   "id": "fcb0c5a2-3de8-4764-b2c2-1c53d64d4535",
   "metadata": {},
   "source": [
    "### Number of characters"
   ]
  },
  {
   "cell_type": "code",
   "execution_count": 35,
   "id": "f6788973-c817-49e1-8e81-0235b642c04e",
   "metadata": {},
   "outputs": [
    {
     "name": "stdout",
     "output_type": "stream",
     "text": [
      "\n",
      "Number of characters: 103\n"
     ]
    }
   ],
   "source": [
    "\n",
    "try:\n",
    "    stream = open('animals.txt')\n",
    "    counter = 0\n",
    "    character = stream.read(1)\n",
    "    while character != '':\n",
    "        counter += 1\n",
    "        character = stream.read(1)\n",
    "    stream.close()\n",
    "    print(\"\\nNumber of characters:\", counter)\n",
    "except Exception as e:\n",
    "    print(\"An error occured: \", e)\n"
   ]
  },
  {
   "cell_type": "markdown",
   "id": "52057486-e5d3-4e2d-a09c-e53040a6cdff",
   "metadata": {},
   "source": [
    "### Reading line by line"
   ]
  },
  {
   "cell_type": "code",
   "execution_count": 42,
   "id": "2ad909df-bf08-4bd6-9a99-49d1abbee625",
   "metadata": {},
   "outputs": [
    {
     "name": "stdout",
     "output_type": "stream",
     "text": [
      "* PIG is a domestic animal.\n",
      " *\n",
      "* LION is a wild animal.\n",
      " *\n",
      "* FOX is a wild animal that is sometimes kept as a pet.  *\n",
      "\n",
      "Number of characters: 3\n"
     ]
    }
   ],
   "source": [
    "\n",
    "try:\n",
    "    stream = open('animals.txt')\n",
    "    counter = 0\n",
    "    line = stream.readline()\n",
    "    while line != '':\n",
    "        counter += 1\n",
    "        print(\"*\",line,\"*\")\n",
    "        line = stream.readline()\n",
    "    stream.close()\n",
    "    print(\"\\nNumber of lines:\", counter)\n",
    "except Exception as e:\n",
    "    print(\"An error occured: \", e)\n"
   ]
  },
  {
   "cell_type": "markdown",
   "id": "59bc9453-c295-4a0c-8e2c-32fa8b47e71d",
   "metadata": {},
   "source": [
    "### readlines() method"
   ]
  },
  {
   "cell_type": "code",
   "execution_count": 45,
   "id": "ad5a5324-9ddb-4547-8212-d0124fad943e",
   "metadata": {},
   "outputs": [
    {
     "name": "stdout",
     "output_type": "stream",
     "text": [
      "['PIG is a domestic animal.\\n', 'LION is a wild animal.\\n', 'FOX is a wild animal that is sometimes kept as a pet. ']\n",
      "\n",
      "Number of lines: 0\n"
     ]
    }
   ],
   "source": [
    "try:\n",
    "    stream = open('animals.txt')\n",
    "    counter = 0\n",
    "    line = stream.readlines()\n",
    "    print(line)\n",
    "    stream.close()\n",
    "    print(\"\\nNumber of lines:\", counter)\n",
    "except Exception as e:\n",
    "    print(\"An error occured: \", e)\n"
   ]
  },
  {
   "cell_type": "code",
   "execution_count": 47,
   "id": "a9dfc6d6-25ec-4cb6-9ca7-0aa1e16f973b",
   "metadata": {},
   "outputs": [
    {
     "name": "stdout",
     "output_type": "stream",
     "text": [
      "contents of the 'lines' variable:  ['PIG is a domestic animal.\\n', 'LION is a wild animal.\\n', 'FOX is a wild animal that is sometimes kept as a pet. ']\n",
      "Number of lines in the file: 3\n",
      "PIG is a domestic animal.\n",
      "LION is a wild animal.\n",
      "FOX is a wild animal that is sometimes kept as a pet. \n",
      "Number of lines: 0\n"
     ]
    }
   ],
   "source": [
    "try:\n",
    "    stream = open('animals.txt')\n",
    "    lines = stream.readlines()\n",
    "    print(\"contents of the 'lines' variable: \",lines)\n",
    "    print(\"Number of lines in the file:\", len(lines))\n",
    "    for line in lines:\n",
    "        print(line, end='')\n",
    "    stream.close()\n",
    "    print(\"\\nNumber of lines:\", counter)\n",
    "except Exception as e:\n",
    "    print(\"An error occured: \", e)"
   ]
  },
  {
   "cell_type": "markdown",
   "id": "b1569b1c-f6de-4eb9-83de-0fcf095beb12",
   "metadata": {},
   "source": [
    "### Reading one line at a time using a loop"
   ]
  },
  {
   "cell_type": "code",
   "execution_count": 49,
   "id": "3c8cd21c-2b59-4176-985d-a0bffd492618",
   "metadata": {},
   "outputs": [
    {
     "name": "stdout",
     "output_type": "stream",
     "text": [
      "PIG is a domestic animal.\n",
      "\n",
      "LION is a wild animal.\n",
      "\n",
      "FOX is a wild animal that is sometimes kept as a pet. \n"
     ]
    }
   ],
   "source": [
    "try:\n",
    "    stream = open('animals.txt')\n",
    "    lines = stream.readlines(2)\n",
    "    while len(lines) != 0:\n",
    "        for line in lines:\n",
    "            print(line, sep = '')\n",
    "        lines = stream.readlines(2)\n",
    "    stream.close()\n",
    "except Exception as e:\n",
    "    print(\"An error occured: \",e)"
   ]
  },
  {
   "cell_type": "markdown",
   "id": "afa516e8-bec2-44fa-bb6b-2c9e95b1f52c",
   "metadata": {},
   "source": [
    "### Reading line by lines via iterating over the \"readlines()\""
   ]
  },
  {
   "cell_type": "code",
   "execution_count": 53,
   "id": "7a41693e-1775-47ce-a481-597b7a5421b1",
   "metadata": {},
   "outputs": [
    {
     "name": "stdout",
     "output_type": "stream",
     "text": [
      "PIG is a domestic animal.\n",
      "LION is a wild animal.\n",
      "FOX is a wild animal that is sometimes kept as a pet. "
     ]
    }
   ],
   "source": [
    "try:\n",
    "    stream = open('animals.txt')\n",
    "    for line in stream:\n",
    "        print(line,end='')\n",
    "    stream.close()\n",
    "except Exception as e:\n",
    "    print(\"An error occured: \", e)"
   ]
  },
  {
   "cell_type": "code",
   "execution_count": null,
   "id": "d8ae6bed-8a0f-418d-b411-f7df9755652f",
   "metadata": {},
   "outputs": [],
   "source": []
  }
 ],
 "metadata": {
  "kernelspec": {
   "display_name": "Python [conda env:base] *",
   "language": "python",
   "name": "conda-base-py"
  },
  "language_info": {
   "codemirror_mode": {
    "name": "ipython",
    "version": 3
   },
   "file_extension": ".py",
   "mimetype": "text/x-python",
   "name": "python",
   "nbconvert_exporter": "python",
   "pygments_lexer": "ipython3",
   "version": "3.11.5"
  }
 },
 "nbformat": 4,
 "nbformat_minor": 5
}
