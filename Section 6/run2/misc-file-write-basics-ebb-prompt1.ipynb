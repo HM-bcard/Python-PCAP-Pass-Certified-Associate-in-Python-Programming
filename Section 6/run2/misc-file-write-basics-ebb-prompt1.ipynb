{
 "cells": [
  {
   "cell_type": "markdown",
   "id": "bf26d430-2d99-48e2-9957-d20ee3f28eeb",
   "metadata": {},
   "source": [
    "### New file"
   ]
  },
  {
   "cell_type": "code",
   "execution_count": null,
   "id": "c42f6eec-5c00-4c43-a86c-1f30224c4e6d",
   "metadata": {},
   "outputs": [],
   "source": []
  },
  {
   "cell_type": "markdown",
   "id": "9717384c-152d-4ff4-b307-6d38236547d1",
   "metadata": {},
   "source": [
    "### Existing file"
   ]
  },
  {
   "cell_type": "code",
   "execution_count": null,
   "id": "2d2ce228-0260-4631-ab0f-98f3838acccd",
   "metadata": {},
   "outputs": [],
   "source": []
  },
  {
   "cell_type": "code",
   "execution_count": null,
   "id": "cf34a618-0145-46e9-a82a-f01de15487d2",
   "metadata": {},
   "outputs": [],
   "source": []
  }
 ],
 "metadata": {
  "kernelspec": {
   "display_name": "Python [conda env:base] *",
   "language": "python",
   "name": "conda-base-py"
  },
  "language_info": {
   "codemirror_mode": {
    "name": "ipython",
    "version": 3
   },
   "file_extension": ".py",
   "mimetype": "text/x-python",
   "name": "python",
   "nbconvert_exporter": "python",
   "pygments_lexer": "ipython3",
   "version": "3.11.5"
  }
 },
 "nbformat": 4,
 "nbformat_minor": 5
}
