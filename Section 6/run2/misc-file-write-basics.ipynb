{
 "cells": [
  {
   "cell_type": "markdown",
   "id": "ce8d9be8-60c0-48fa-b6af-4edf13171058",
   "metadata": {},
   "source": [
    "### New file write"
   ]
  },
  {
   "cell_type": "code",
   "execution_count": 4,
   "id": "fe578131-9f9a-4f71-b542-0defbb6329b1",
   "metadata": {},
   "outputs": [],
   "source": [
    "try:\n",
    "    stream = open('newfile.txt','w')\n",
    "    stream.write('Line one newfile from stream\\n')\n",
    "    stream.write('Line 2')\n",
    "    stream.close()\n",
    "except Exception as e:\n",
    "    print('Ane error occured: ', e)"
   ]
  },
  {
   "cell_type": "markdown",
   "id": "818280ac-a055-4bd3-baeb-fe05e0aa8691",
   "metadata": {},
   "source": [
    "### Existing file"
   ]
  },
  {
   "cell_type": "code",
   "execution_count": 10,
   "id": "811d9f35-7d13-4e8d-8338-10c8b42451b1",
   "metadata": {},
   "outputs": [],
   "source": [
    "try:\n",
    "    stream = open('newfile.txt','w')\n",
    "    stream.write('redacted\\n')\n",
    "    stream.write('Line 2')\n",
    "    stream.close()\n",
    "except Exception as e:\n",
    "    print('Ane error occured: ', e)"
   ]
  },
  {
   "cell_type": "code",
   "execution_count": null,
   "id": "2a66d38b-cefd-4b0d-83e5-a9c7cc47167a",
   "metadata": {},
   "outputs": [],
   "source": []
  }
 ],
 "metadata": {
  "kernelspec": {
   "display_name": "Python [conda env:base] *",
   "language": "python",
   "name": "conda-base-py"
  },
  "language_info": {
   "codemirror_mode": {
    "name": "ipython",
    "version": 3
   },
   "file_extension": ".py",
   "mimetype": "text/x-python",
   "name": "python",
   "nbconvert_exporter": "python",
   "pygments_lexer": "ipython3",
   "version": "3.11.5"
  }
 },
 "nbformat": 4,
 "nbformat_minor": 5
}
