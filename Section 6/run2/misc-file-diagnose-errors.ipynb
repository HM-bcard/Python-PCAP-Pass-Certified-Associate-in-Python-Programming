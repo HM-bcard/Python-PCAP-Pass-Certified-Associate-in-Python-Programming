{
 "cells": [
  {
   "cell_type": "markdown",
   "id": "81b225cf-c942-43e4-a6b8-e716b65f8fb3",
   "metadata": {},
   "source": [
    "### 1: File non existent"
   ]
  },
  {
   "cell_type": "code",
   "execution_count": 1,
   "id": "5d8c046c-c2f0-4c0c-9c86-fd270fe381a1",
   "metadata": {},
   "outputs": [
    {
     "name": "stdout",
     "output_type": "stream",
     "text": [
      "An error occured [Errno 2] No such file or directory: 'nonexistent.txt'\n"
     ]
    }
   ],
   "source": [
    "try:\n",
    "    stream = open('nonexistent.txt')\n",
    "    stream.close()\n",
    "except Exception as e:\n",
    "    print(\"An error occured\",e)"
   ]
  },
  {
   "cell_type": "markdown",
   "id": "90a2fb50-eaef-4215-914d-ab720daa7307",
   "metadata": {},
   "source": [
    "## 2: Print only the error number"
   ]
  },
  {
   "cell_type": "code",
   "execution_count": 5,
   "id": "c6ec11be-5f8a-4164-bab2-50005dabdac1",
   "metadata": {},
   "outputs": [
    {
     "name": "stdout",
     "output_type": "stream",
     "text": [
      "2\n"
     ]
    }
   ],
   "source": [
    "try:\n",
    "    stream = open('nonexistent.txt')\n",
    "    stream.close()\n",
    "except Exception as e:\n",
    "    print(e.errno)"
   ]
  },
  {
   "cell_type": "markdown",
   "id": "12301dc9-46c6-45e5-9488-4be7f50b84a9",
   "metadata": {},
   "source": [
    "## 3: Python Documentation: errno "
   ]
  },
  {
   "cell_type": "code",
   "execution_count": 10,
   "id": "015bba6d-81ab-4859-ac0a-87587a3329eb",
   "metadata": {},
   "outputs": [
    {
     "name": "stdout",
     "output_type": "stream",
     "text": [
      "No such file or directory\n"
     ]
    }
   ],
   "source": [
    "from os import strerror\n",
    "\n",
    "try:\n",
    "    stream = open('nonexistent.txt')\n",
    "    stream.close()\n",
    "except Exception as e:\n",
    "    print(strerror(e.errno))"
   ]
  },
  {
   "cell_type": "code",
   "execution_count": null,
   "id": "dd9dacf3-098d-4aa4-ab09-37610296a7cd",
   "metadata": {},
   "outputs": [],
   "source": []
  },
  {
   "cell_type": "code",
   "execution_count": null,
   "id": "de3c9607-0c66-4403-a34a-9c873af31ddb",
   "metadata": {},
   "outputs": [],
   "source": []
  }
 ],
 "metadata": {
  "kernelspec": {
   "display_name": "Python [conda env:base] *",
   "language": "python",
   "name": "conda-base-py"
  },
  "language_info": {
   "codemirror_mode": {
    "name": "ipython",
    "version": 3
   },
   "file_extension": ".py",
   "mimetype": "text/x-python",
   "name": "python",
   "nbconvert_exporter": "python",
   "pygments_lexer": "ipython3",
   "version": "3.11.5"
  }
 },
 "nbformat": 4,
 "nbformat_minor": 5
}
