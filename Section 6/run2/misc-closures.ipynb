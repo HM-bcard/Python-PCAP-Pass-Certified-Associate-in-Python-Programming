{
 "cells": [
  {
   "cell_type": "markdown",
   "id": "9b5acce5-9c56-41ba-9fa0-32e70ef12a39",
   "metadata": {},
   "source": [
    "## A closure is a technique for implementing  lexically scoped name binding in a language with first class functions\n"
   ]
  },
  {
   "cell_type": "markdown",
   "id": "093a4529-c411-414e-92e8-28b51731a4a5",
   "metadata": {},
   "source": []
  },
  {
   "cell_type": "code",
   "execution_count": 6,
   "id": "9f6af878-da9f-49a8-a588-32f45f093075",
   "metadata": {},
   "outputs": [
    {
     "name": "stdout",
     "output_type": "stream",
     "text": [
      "Hello\n"
     ]
    }
   ],
   "source": [
    "def greet(text):\n",
    "    def print_greet():\n",
    "        print(text)\n",
    "\n",
    "    return print_greet\n",
    "\n",
    "say_hello = greet('Hello')\n",
    "say_hello()"
   ]
  },
  {
   "cell_type": "code",
   "execution_count": 12,
   "id": "942a867e-68b0-47a0-b916-b0ddc4640dec",
   "metadata": {},
   "outputs": [
    {
     "name": "stdout",
     "output_type": "stream",
     "text": [
      "250\n",
      "2880\n",
      "1440\n",
      "2880\n"
     ]
    }
   ],
   "source": [
    "def make_multiply_closure(x):\n",
    "    n = x * x\n",
    "    def multiply(y):\n",
    "        return n * y\n",
    "    return multiply\n",
    "\n",
    "multiply_5 = make_multiply_closure(5)\n",
    "multiply_12 = make_multiply_closure(12)\n",
    "\n",
    "print(multiply_5(10))\n",
    "print(multiply_12(20))\n",
    "\n",
    "print(multiply_12(10))\n",
    "print(multiply_12(20))"
   ]
  },
  {
   "cell_type": "code",
   "execution_count": null,
   "id": "b961951f-12d9-4a0f-aea6-56f81d7b7497",
   "metadata": {},
   "outputs": [],
   "source": []
  },
  {
   "cell_type": "code",
   "execution_count": null,
   "id": "5e3231a3-b072-4357-9031-db9927a23cbe",
   "metadata": {},
   "outputs": [],
   "source": []
  },
  {
   "cell_type": "code",
   "execution_count": null,
   "id": "52be97c5-26fe-40d5-b728-37e82f47e401",
   "metadata": {},
   "outputs": [],
   "source": []
  }
 ],
 "metadata": {
  "kernelspec": {
   "display_name": "Python [conda env:base] *",
   "language": "python",
   "name": "conda-base-py"
  },
  "language_info": {
   "codemirror_mode": {
    "name": "ipython",
    "version": 3
   },
   "file_extension": ".py",
   "mimetype": "text/x-python",
   "name": "python",
   "nbconvert_exporter": "python",
   "pygments_lexer": "ipython3",
   "version": "3.11.5"
  }
 },
 "nbformat": 4,
 "nbformat_minor": 5
}
