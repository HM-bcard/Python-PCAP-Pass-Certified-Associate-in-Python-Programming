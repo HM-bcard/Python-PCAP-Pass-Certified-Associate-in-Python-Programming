{
 "cells": [
  {
   "cell_type": "markdown",
   "id": "43a9045b-2ffe-40d6-ad85-930a2b909530",
   "metadata": {},
   "source": [
    "## Python file handling:\n",
    "(1)\n",
    "\n",
    "### Binary:\n",
    "\n",
    "\n",
    "\n",
    "### Text:\n",
    "\n",
    "\n"
   ]
  },
  {
   "cell_type": "markdown",
   "id": "053ea19d-1fa5-4060-8383-c4234d5a6378",
   "metadata": {},
   "source": [
    "### Bytearray"
   ]
  },
  {
   "cell_type": "code",
   "execution_count": 5,
   "id": "6a0d8966-bbfc-476a-a3f9-01907261a636",
   "metadata": {},
   "outputs": [],
   "source": [
    "data = bytearray(100)"
   ]
  },
  {
   "cell_type": "markdown",
   "id": "d928fefe-727f-4a8d-8ce1-95d181673b8b",
   "metadata": {},
   "source": [
    "### Setting a value"
   ]
  },
  {
   "cell_type": "code",
   "execution_count": 8,
   "id": "f63ee308-0251-4b25-99fd-a87f846c898d",
   "metadata": {},
   "outputs": [],
   "source": [
    "data[0] = 100"
   ]
  },
  {
   "cell_type": "code",
   "execution_count": 10,
   "id": "3c46af6a-878c-45df-861f-8c4142646f2e",
   "metadata": {},
   "outputs": [
    {
     "name": "stdout",
     "output_type": "stream",
     "text": [
      "bytearray(b'd\\x00\\x00\\x00\\x00\\x00\\x00\\x00\\x00\\x00\\x00\\x00\\x00\\x00\\x00\\x00\\x00\\x00\\x00\\x00\\x00\\x00\\x00\\x00\\x00\\x00\\x00\\x00\\x00\\x00\\x00\\x00\\x00\\x00\\x00\\x00\\x00\\x00\\x00\\x00\\x00\\x00\\x00\\x00\\x00\\x00\\x00\\x00\\x00\\x00\\x00\\x00\\x00\\x00\\x00\\x00\\x00\\x00\\x00\\x00\\x00\\x00\\x00\\x00\\x00\\x00\\x00\\x00\\x00\\x00\\x00\\x00\\x00\\x00\\x00\\x00\\x00\\x00\\x00\\x00\\x00\\x00\\x00\\x00\\x00\\x00\\x00\\x00\\x00\\x00\\x00\\x00\\x00\\x00\\x00\\x00\\x00\\x00\\x00\\x00')\n"
     ]
    }
   ],
   "source": [
    "print(data)"
   ]
  },
  {
   "cell_type": "markdown",
   "id": "9836d111-3d41-4722-984b-6154c1d7ce49",
   "metadata": {},
   "source": [
    "# Overflowing a byte"
   ]
  },
  {
   "cell_type": "code",
   "execution_count": 15,
   "id": "be8911f0-e62e-42df-9194-d673dac5f542",
   "metadata": {},
   "outputs": [
    {
     "ename": "ValueError",
     "evalue": "byte must be in range(0, 256)",
     "output_type": "error",
     "traceback": [
      "\u001b[1;31m---------------------------------------------------------------------------\u001b[0m",
      "\u001b[1;31mValueError\u001b[0m                                Traceback (most recent call last)",
      "Cell \u001b[1;32mIn[15], line 1\u001b[0m\n\u001b[1;32m----> 1\u001b[0m data[\u001b[38;5;241m1\u001b[39m] \u001b[38;5;241m=\u001b[39m \u001b[38;5;241m256\u001b[39m\n",
      "\u001b[1;31mValueError\u001b[0m: byte must be in range(0, 256)"
     ]
    }
   ],
   "source": [
    "data[1] = 256# max value of a number in a byte is 255"
   ]
  },
  {
   "cell_type": "markdown",
   "id": "07fe9784-2021-497b-9847-462900c790a8",
   "metadata": {},
   "source": [
    "### Writing into a file"
   ]
  },
  {
   "cell_type": "code",
   "execution_count": 29,
   "id": "709a3e47-06f8-4918-897d-171c900e9fb5",
   "metadata": {},
   "outputs": [],
   "source": [
    "data1 = bytearray(100)\n",
    "data1[1] = 129\n",
    "data1[0] = 127\n",
    "data1[3] = 125\n",
    "\n",
    "try:\n",
    "    stream = open('file.bin','wb')\n",
    "    stream.write(data1)\n",
    "    stream.close()\n",
    "except Exception as e:\n",
    "    print('An error occured: ',e)"
   ]
  },
  {
   "cell_type": "markdown",
   "id": "a756a27f-0e06-4a1c-b493-db5da589a37a",
   "metadata": {},
   "source": [
    "### Reading from a binary file"
   ]
  },
  {
   "cell_type": "code",
   "execution_count": 31,
   "id": "5606af69-3ef0-4c9f-810e-4c9f9457986b",
   "metadata": {},
   "outputs": [
    {
     "name": "stdout",
     "output_type": "stream",
     "text": [
      "b'\\x7f\\x81\\x00}\\x00\\x00\\x00\\x00\\x00\\x00\\x00\\x00\\x00\\x00\\x00\\x00\\x00\\x00\\x00\\x00\\x00\\x00\\x00\\x00\\x00\\x00\\x00\\x00\\x00\\x00\\x00\\x00\\x00\\x00\\x00\\x00\\x00\\x00\\x00\\x00\\x00\\x00\\x00\\x00\\x00\\x00\\x00\\x00\\x00\\x00\\x00\\x00\\x00\\x00\\x00\\x00\\x00\\x00\\x00\\x00\\x00\\x00\\x00\\x00\\x00\\x00\\x00\\x00\\x00\\x00\\x00\\x00\\x00\\x00\\x00\\x00\\x00\\x00\\x00\\x00\\x00\\x00\\x00\\x00\\x00\\x00\\x00\\x00\\x00\\x00\\x00\\x00\\x00\\x00\\x00\\x00\\x00\\x00\\x00\\x00'\n",
      "b'\\x7f\\x81\\x00}\\x00\\x00\\x00\\x00\\x00\\x00\\x00\\x00\\x00\\x00\\x00\\x00\\x00\\x00\\x00\\x00\\x00\\x00\\x00\\x00\\x00\\x00\\x00\\x00\\x00\\x00\\x00\\x00\\x00\\x00\\x00\\x00\\x00\\x00\\x00\\x00\\x00\\x00\\x00\\x00\\x00\\x00\\x00\\x00\\x00\\x00\\x00\\x00\\x00\\x00\\x00\\x00\\x00\\x00\\x00\\x00\\x00\\x00\\x00\\x00\\x00\\x00\\x00\\x00\\x00\\x00\\x00\\x00\\x00\\x00\\x00\\x00\\x00\\x00\\x00\\x00\\x00\\x00\\x00\\x00\\x00\\x00\\x00\\x00\\x00\\x00\\x00\\x00\\x00\\x00\\x00\\x00\\x00\\x00\\x00\\x00'\n"
     ]
    }
   ],
   "source": [
    "try:\n",
    "    bf = open('file.bin','rb')\n",
    "    byte_array = bf.read()\n",
    "    print(byte_array)\n",
    "    bf.close()\n",
    "    \n",
    "except Exception as e:\n",
    "    print('An error occured: ',e)\n",
    "\n",
    "print(byte_array)"
   ]
  },
  {
   "cell_type": "code",
   "execution_count": 33,
   "id": "8a7462e7-0b7a-4c49-888e-3b82c671609f",
   "metadata": {},
   "outputs": [
    {
     "name": "stdout",
     "output_type": "stream",
     "text": [
      "1271290125000000000000000000000000000000000000000000000000000000000000000000000000000000000000000000000000"
     ]
    }
   ],
   "source": [
    "for byte in byte_array:\n",
    "    print(int(byte),end='')"
   ]
  },
  {
   "cell_type": "code",
   "execution_count": 35,
   "id": "a03b22a8-1480-4cd7-9d6c-042598f290d7",
   "metadata": {},
   "outputs": [
    {
     "name": "stdout",
     "output_type": "stream",
     "text": [
      "0x7f0x810x00x7d0x00x00x00x00x00x00x00x00x00x00x00x00x00x00x00x00x00x00x00x00x00x00x00x00x00x00x00x00x00x00x00x00x00x00x00x00x00x00x00x00x00x00x00x00x00x00x00x00x00x00x00x00x00x00x00x00x00x00x00x00x00x00x00x00x00x00x00x00x00x00x00x00x00x00x00x00x00x00x00x00x00x00x00x00x00x00x00x00x00x00x00x00x00x00x00x0"
     ]
    }
   ],
   "source": [
    "for byte in byte_array:\n",
    "    print(hex(byte),end='')"
   ]
  },
  {
   "cell_type": "markdown",
   "id": "1059a946-93c0-4514-a245-7d8fa44af989",
   "metadata": {},
   "source": [
    "### Limiting the output to n bytes"
   ]
  },
  {
   "cell_type": "code",
   "execution_count": 37,
   "id": "9f6731c0-226a-452d-95f9-d1348da38d19",
   "metadata": {},
   "outputs": [
    {
     "name": "stdout",
     "output_type": "stream",
     "text": [
      "b'\\x7f\\x81\\x00}\\x00\\x00\\x00\\x00\\x00\\x00'\n",
      "127 129 0 125 0 0 0 0 0 0 "
     ]
    }
   ],
   "source": [
    "try:\n",
    "    bf = open('file.bin','rb')\n",
    "    byte_array = bf.read(10)\n",
    "    #print(byte_array)\n",
    "    bf.close()\n",
    "    \n",
    "except Exception as e:\n",
    "    print('An error occured: ',e)\n",
    "\n",
    "for byte in byte_array:\n",
    "    print(int(byte),end=' ')"
   ]
  },
  {
   "cell_type": "code",
   "execution_count": null,
   "id": "15d299ac-fb33-4910-8feb-1934b9f91ec7",
   "metadata": {},
   "outputs": [],
   "source": []
  }
 ],
 "metadata": {
  "kernelspec": {
   "display_name": "Python [conda env:base] *",
   "language": "python",
   "name": "conda-base-py"
  },
  "language_info": {
   "codemirror_mode": {
    "name": "ipython",
    "version": 3
   },
   "file_extension": ".py",
   "mimetype": "text/x-python",
   "name": "python",
   "nbconvert_exporter": "python",
   "pygments_lexer": "ipython3",
   "version": "3.11.5"
  }
 },
 "nbformat": 4,
 "nbformat_minor": 5
}
