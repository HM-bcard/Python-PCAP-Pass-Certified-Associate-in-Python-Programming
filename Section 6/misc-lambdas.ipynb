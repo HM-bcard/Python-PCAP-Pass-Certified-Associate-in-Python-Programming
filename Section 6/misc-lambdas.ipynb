{
 "cells": [
  {
   "cell_type": "code",
   "execution_count": 3,
   "id": "e4124645-e689-42be-a724-b52b349a21b2",
   "metadata": {},
   "outputs": [
    {
     "ename": "SyntaxError",
     "evalue": "incomplete input (3688754467.py, line 3)",
     "output_type": "error",
     "traceback": [
      "\u001b[1;36m  Cell \u001b[1;32mIn[3], line 3\u001b[1;36m\u001b[0m\n\u001b[1;33m    #instruction2\u001b[0m\n\u001b[1;37m                 ^\u001b[0m\n\u001b[1;31mSyntaxError\u001b[0m\u001b[1;31m:\u001b[0m incomplete input\n"
     ]
    }
   ],
   "source": [
    "def func(arg1,arg2):\n",
    "    #instruction\n",
    "    #instruction2"
   ]
  },
  {
   "cell_type": "code",
   "execution_count": 5,
   "id": "79846266-0cd0-4da2-8bf1-46503f5f5b85",
   "metadata": {},
   "outputs": [
    {
     "ename": "SyntaxError",
     "evalue": "invalid syntax (2167614598.py, line 1)",
     "output_type": "error",
     "traceback": [
      "\u001b[1;36m  Cell \u001b[1;32mIn[5], line 1\u001b[1;36m\u001b[0m\n\u001b[1;33m    lambda arg1, arg2: #instruction\u001b[0m\n\u001b[1;37m                       ^\u001b[0m\n\u001b[1;31mSyntaxError\u001b[0m\u001b[1;31m:\u001b[0m invalid syntax\n"
     ]
    }
   ],
   "source": [
    "lambda arg1, arg2: #instruction"
   ]
  },
  {
   "cell_type": "code",
   "execution_count": 7,
   "id": "fe82438b-3709-4638-9cd0-16ea60b1a984",
   "metadata": {},
   "outputs": [
    {
     "name": "stdout",
     "output_type": "stream",
     "text": [
      "3\n"
     ]
    }
   ],
   "source": [
    "def sum(a,b):\n",
    "    return a + b\n",
    "print(sum(1,2))"
   ]
  },
  {
   "cell_type": "code",
   "execution_count": 9,
   "id": "5a7246d8-b614-4630-baa9-1b4d0b05c020",
   "metadata": {},
   "outputs": [
    {
     "data": {
      "text/plain": [
       "<function __main__.<lambda>(a, b)>"
      ]
     },
     "execution_count": 9,
     "metadata": {},
     "output_type": "execute_result"
    }
   ],
   "source": [
    "lambda a,b: a + b"
   ]
  },
  {
   "cell_type": "code",
   "execution_count": 11,
   "id": "5cf41463-0127-4be3-9785-3e3394f35bcf",
   "metadata": {},
   "outputs": [],
   "source": [
    "sum1 = lambda a,b: a + b"
   ]
  },
  {
   "cell_type": "code",
   "execution_count": 13,
   "id": "5ddd9661-4833-4eac-b3f9-b0d56630b004",
   "metadata": {},
   "outputs": [
    {
     "data": {
      "text/plain": [
       "3"
      ]
     },
     "execution_count": 13,
     "metadata": {},
     "output_type": "execute_result"
    }
   ],
   "source": [
    "sum(1,2)"
   ]
  },
  {
   "cell_type": "code",
   "execution_count": 15,
   "id": "64b9f228-a2a1-4ade-80be-f30740342266",
   "metadata": {},
   "outputs": [],
   "source": [
    "def apply_fun(elements,fun):\n",
    "    for element in elements:\n",
    "        print(fun(element))"
   ]
  },
  {
   "cell_type": "code",
   "execution_count": 47,
   "id": "32bec50f-7e19-4160-b1a9-0f5f65f52a47",
   "metadata": {},
   "outputs": [
    {
     "ename": "SyntaxError",
     "evalue": "cannot assign to lambda (876146312.py, line 1)",
     "output_type": "error",
     "traceback": [
      "\u001b[1;36m  Cell \u001b[1;32mIn[47], line 1\u001b[1;36m\u001b[0m\n\u001b[1;33m    zero = lambda x: x = 0\u001b[0m\n\u001b[1;37m           ^\u001b[0m\n\u001b[1;31mSyntaxError\u001b[0m\u001b[1;31m:\u001b[0m cannot assign to lambda\n"
     ]
    }
   ],
   "source": [
    "zero = lambda x: x = 0\n",
    "apply_fun([1,2,3,4,5],square)"
   ]
  },
  {
   "cell_type": "code",
   "execution_count": 51,
   "id": "98ba397f-e594-4789-86f7-a2dab412749b",
   "metadata": {},
   "outputs": [
    {
     "name": "stdout",
     "output_type": "stream",
     "text": [
      "0\n",
      "0\n",
      "0\n",
      "0\n",
      "0\n"
     ]
    }
   ],
   "source": [
    "zero = lambda x: x * 0\n",
    "apply_fun((i for i in range(1,6)),zero)"
   ]
  },
  {
   "cell_type": "code",
   "execution_count": 53,
   "id": "c6d8fea8-d9c7-4596-9ff4-867ba3806a7d",
   "metadata": {},
   "outputs": [
    {
     "name": "stdout",
     "output_type": "stream",
     "text": [
      "None\n",
      "None\n",
      "None\n",
      "None\n",
      "None\n"
     ]
    }
   ],
   "source": [
    "clear = lambda x: None\n",
    "apply_fun((i for i in range(1,6)),clear)"
   ]
  },
  {
   "cell_type": "code",
   "execution_count": 55,
   "id": "0556ee6d-b9a0-49eb-98f0-d2a36dd18b28",
   "metadata": {},
   "outputs": [
    {
     "name": "stdout",
     "output_type": "stream",
     "text": [
      "None\n",
      "None\n",
      "None\n",
      "None\n",
      "None\n"
     ]
    }
   ],
   "source": [
    "apply_fun((i for i in range(1,6)),clear)"
   ]
  },
  {
   "cell_type": "code",
   "execution_count": null,
   "id": "9fa41199-9009-4094-adb4-e76f3775273e",
   "metadata": {},
   "outputs": [],
   "source": []
  }
 ],
 "metadata": {
  "kernelspec": {
   "display_name": "Python [conda env:base] *",
   "language": "python",
   "name": "conda-base-py"
  },
  "language_info": {
   "codemirror_mode": {
    "name": "ipython",
    "version": 3
   },
   "file_extension": ".py",
   "mimetype": "text/x-python",
   "name": "python",
   "nbconvert_exporter": "python",
   "pygments_lexer": "ipython3",
   "version": "3.11.5"
  }
 },
 "nbformat": 4,
 "nbformat_minor": 5
}
