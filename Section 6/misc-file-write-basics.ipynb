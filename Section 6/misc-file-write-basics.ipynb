{
 "cells": [
  {
   "cell_type": "code",
   "execution_count": 1,
   "id": "742e9f55-182f-4bb7-9200-11edc2e58700",
   "metadata": {},
   "outputs": [],
   "source": [
    "try: \n",
    "    stream = open(\"newfile.txt\",\"w\")\n",
    "    stream.write(\"line one\\n\")\n",
    "    stream.write(\"line two\\n\")\n",
    "    stream.close()\n",
    "except Exception as e:\n",
    "    print('An error occured:',e)\n",
    "    "
   ]
  },
  {
   "cell_type": "code",
   "execution_count": null,
   "id": "fccf358e-6c5f-4d65-bd87-e0dd0d026c57",
   "metadata": {},
   "outputs": [],
   "source": [
    "try: \n",
    "    stream = open(\"newfile.txt\",\"w\")\n",
    "    stream.write(\"overwritten line one\\n\")\n",
    "    stream.write(\"line two\\n\")\n",
    "    stream.close()\n",
    "except Exception as e:\n",
    "    print('An error occured:',e)\n",
    "    "
   ]
  }
 ],
 "metadata": {
  "kernelspec": {
   "display_name": "Python [conda env:base] *",
   "language": "python",
   "name": "conda-base-py"
  },
  "language_info": {
   "codemirror_mode": {
    "name": "ipython",
    "version": 3
   },
   "file_extension": ".py",
   "mimetype": "text/x-python",
   "name": "python",
   "nbconvert_exporter": "python",
   "pygments_lexer": "ipython3",
   "version": "3.11.5"
  }
 },
 "nbformat": 4,
 "nbformat_minor": 5
}
