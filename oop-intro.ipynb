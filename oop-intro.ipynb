{
 "cells": [
  {
   "cell_type": "code",
   "execution_count": 3,
   "id": "fa2fe1ba-0fd4-4d82-9618-5c85c9036358",
   "metadata": {},
   "outputs": [
    {
     "name": "stdin",
     "output_type": "stream",
     "text": [
      "What is the width? 3\n",
      "What is the length? 3\n"
     ]
    },
    {
     "name": "stdout",
     "output_type": "stream",
     "text": [
      "The area is: 9\n"
     ]
    }
   ],
   "source": [
    "class Rectangle:\n",
    "    def __init__(self,width,length):\n",
    "        self.width = width\n",
    "        self.length = length\n",
    "    def calculate_area(self):\n",
    "        return self.width*self.length\n",
    "\n",
    "a = int(input('What is the width?'))\n",
    "b = int(input('What is the length?'))\n",
    "\n",
    "rectangle = Rectangle(a,b)\n",
    "print('The area is:',rectangle.calculate_area())"
   ]
  },
  {
   "cell_type": "code",
   "execution_count": null,
   "id": "65c8255a-b01f-4de9-a4cd-ccef80440c34",
   "metadata": {},
   "outputs": [],
   "source": []
  }
 ],
 "metadata": {
  "kernelspec": {
   "display_name": "Python [conda env:base] *",
   "language": "python",
   "name": "conda-base-py"
  },
  "language_info": {
   "codemirror_mode": {
    "name": "ipython",
    "version": 3
   },
   "file_extension": ".py",
   "mimetype": "text/x-python",
   "name": "python",
   "nbconvert_exporter": "python",
   "pygments_lexer": "ipython3",
   "version": "3.11.5"
  }
 },
 "nbformat": 4,
 "nbformat_minor": 5
}
