{
 "cells": [
  {
   "cell_type": "markdown",
   "id": "d443a523-862e-4027-859a-1aaaec539a1f",
   "metadata": {},
   "source": [
    "#### 2+2\n"
   ]
  },
  {
   "cell_type": "code",
   "execution_count": null,
   "id": "813dbaaa-d570-4300-b220-fee8fa6ef290",
   "metadata": {},
   "outputs": [],
   "source": []
  },
  {
   "cell_type": "code",
   "execution_count": 9,
   "id": "d10b02e7-d226-4c1e-bba3-0573939cd976",
   "metadata": {},
   "outputs": [
    {
     "data": {
      "text/plain": [
       "3"
      ]
     },
     "execution_count": 9,
     "metadata": {},
     "output_type": "execute_result"
    }
   ],
   "source": [
    "4-1"
   ]
  },
  {
   "cell_type": "code",
   "execution_count": 11,
   "id": "870df014-976c-4265-b892-d6f5c7591eec",
   "metadata": {},
   "outputs": [
    {
     "data": {
      "text/plain": [
       "12"
      ]
     },
     "execution_count": 11,
     "metadata": {},
     "output_type": "execute_result"
    }
   ],
   "source": [
    "4+8"
   ]
  },
  {
   "cell_type": "code",
   "execution_count": 13,
   "id": "1b882749-2a5c-44e2-8f29-01155e05617e",
   "metadata": {},
   "outputs": [],
   "source": [
    "import math\n",
    "\n",
    "def halve_string(input_string):\n",
    "    length = len(input_string)\n",
    "    half_length = length/2\n",
    "    first_half = input_string[0:math.ceil(half_length)]\n",
    "    second_half = input_string[math.ceil(half_length):]\n",
    "    \n",
    "    return (first_half,second_half)"
   ]
  },
  {
   "cell_type": "code",
   "execution_count": 15,
   "id": "0286c90c-2125-456b-b142-d89184ca411b",
   "metadata": {},
   "outputs": [
    {
     "ename": "ModuleNotFoundError",
     "evalue": "No module named 'string_utils'",
     "output_type": "error",
     "traceback": [
      "\u001b[1;31m---------------------------------------------------------------------------\u001b[0m",
      "\u001b[1;31mModuleNotFoundError\u001b[0m                       Traceback (most recent call last)",
      "Cell \u001b[1;32mIn[15], line 1\u001b[0m\n\u001b[1;32m----> 1\u001b[0m \u001b[38;5;28;01mimport\u001b[39;00m \u001b[38;5;21;01mstring_utils\u001b[39;00m\n\u001b[0;32m      3\u001b[0m \u001b[38;5;28;01mdef\u001b[39;00m \u001b[38;5;21mhalve_strings\u001b[39m(string_list):\n\u001b[0;32m      4\u001b[0m     string_tuple_list \u001b[38;5;241m=\u001b[39m []\n",
      "\u001b[1;31mModuleNotFoundError\u001b[0m: No module named 'string_utils'"
     ]
    }
   ],
   "source": [
    "import string_utils\n",
    "\n",
    "def halve_strings(string_list):\n",
    "    string_tuple_list = []\n",
    "    for string in string_list:\n",
    "        string_tuple_list.append(string_utils.halve_string(string))\n",
    "    \n",
    "    return string_tuple_list"
   ]
  },
  {
   "cell_type": "code",
   "execution_count": null,
   "id": "3c41194f-070e-4757-9e01-7212643976f3",
   "metadata": {},
   "outputs": [],
   "source": []
  }
 ],
 "metadata": {
  "kernelspec": {
   "display_name": "Python 3 (ipykernel)",
   "language": "python",
   "name": "python3"
  },
  "language_info": {
   "codemirror_mode": {
    "name": "ipython",
    "version": 3
   },
   "file_extension": ".py",
   "mimetype": "text/x-python",
   "name": "python",
   "nbconvert_exporter": "python",
   "pygments_lexer": "ipython3",
   "version": "3.11.5"
  }
 },
 "nbformat": 4,
 "nbformat_minor": 5
}
