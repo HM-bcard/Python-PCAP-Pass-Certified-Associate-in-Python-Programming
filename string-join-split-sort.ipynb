{
 "cells": [
  {
   "cell_type": "code",
   "execution_count": 3,
   "id": "366b707a-c828-4dc4-afcf-35fbf1c15676",
   "metadata": {},
   "outputs": [
    {
     "data": {
      "text/plain": [
       "'string1 string2 string3'"
      ]
     },
     "execution_count": 3,
     "metadata": {},
     "output_type": "execute_result"
    }
   ],
   "source": [
    "# joining\n",
    "' '.join(['string1','string2','string3'])"
   ]
  },
  {
   "cell_type": "code",
   "execution_count": 5,
   "id": "91493236-762e-4e9e-9b60-b66a147722e7",
   "metadata": {},
   "outputs": [],
   "source": [
    "# splitting"
   ]
  },
  {
   "cell_type": "code",
   "execution_count": 7,
   "id": "41357a84-ff96-44e7-be45-8c0f83fbf891",
   "metadata": {},
   "outputs": [
    {
     "data": {
      "text/plain": [
       "['How', 'many', 'strings', 'will', 'you', 'see?']"
      ]
     },
     "execution_count": 7,
     "metadata": {},
     "output_type": "execute_result"
    }
   ],
   "source": [
    "'How many\\tstrings\\nwill you see?'.split()"
   ]
  },
  {
   "cell_type": "code",
   "execution_count": 9,
   "id": "6d162a05-199e-44d9-b1c7-590e58f1b0e7",
   "metadata": {},
   "outputs": [],
   "source": [
    "# sorting"
   ]
  },
  {
   "cell_type": "code",
   "execution_count": null,
   "id": "e5e700f8-655a-4542-b0f6-8c850614ddf7",
   "metadata": {},
   "outputs": [],
   "source": []
  }
 ],
 "metadata": {
  "kernelspec": {
   "display_name": "Python [conda env:base] *",
   "language": "python",
   "name": "conda-base-py"
  },
  "language_info": {
   "codemirror_mode": {
    "name": "ipython",
    "version": 3
   },
   "file_extension": ".py",
   "mimetype": "text/x-python",
   "name": "python",
   "nbconvert_exporter": "python",
   "pygments_lexer": "ipython3",
   "version": "3.11.5"
  }
 },
 "nbformat": 4,
 "nbformat_minor": 5
}
