{
 "cells": [
  {
   "cell_type": "code",
   "execution_count": 1,
   "id": "4cea1097-08f8-48e9-bb3b-0faa2ed0c397",
   "metadata": {},
   "outputs": [],
   "source": [
    "import platform"
   ]
  },
  {
   "cell_type": "code",
   "execution_count": 3,
   "id": "ccd14e8d-53d7-4454-b6e1-f0c0ff8c4576",
   "metadata": {},
   "outputs": [
    {
     "data": {
      "text/plain": [
       "'Windows-10-10.0.22631-SP0'"
      ]
     },
     "execution_count": 3,
     "metadata": {},
     "output_type": "execute_result"
    }
   ],
   "source": [
    "platform.platform()"
   ]
  },
  {
   "cell_type": "code",
   "execution_count": 5,
   "id": "f301ccd1-2d42-4cd5-9017-9119b032ad8e",
   "metadata": {},
   "outputs": [
    {
     "data": {
      "text/plain": [
       "'AMD64'"
      ]
     },
     "execution_count": 5,
     "metadata": {},
     "output_type": "execute_result"
    }
   ],
   "source": [
    "platform.machine()"
   ]
  },
  {
   "cell_type": "code",
   "execution_count": 7,
   "id": "6332f655-93c3-4b63-b648-652ee7459e65",
   "metadata": {},
   "outputs": [
    {
     "data": {
      "text/plain": [
       "'AMD64 Family 25 Model 80 Stepping 0, AuthenticAMD'"
      ]
     },
     "execution_count": 7,
     "metadata": {},
     "output_type": "execute_result"
    }
   ],
   "source": [
    "platform.processor()"
   ]
  },
  {
   "cell_type": "code",
   "execution_count": 9,
   "id": "1bd54db4-f0a7-4f4b-95f3-71dcba515934",
   "metadata": {},
   "outputs": [
    {
     "data": {
      "text/plain": [
       "'Windows'"
      ]
     },
     "execution_count": 9,
     "metadata": {},
     "output_type": "execute_result"
    }
   ],
   "source": [
    "platform.system()"
   ]
  },
  {
   "cell_type": "code",
   "execution_count": 13,
   "id": "44a3ea76-6001-4967-83e1-471a319cabe2",
   "metadata": {},
   "outputs": [
    {
     "data": {
      "text/plain": [
       "'CPython'"
      ]
     },
     "execution_count": 13,
     "metadata": {},
     "output_type": "execute_result"
    }
   ],
   "source": [
    "platform.python_implementation()"
   ]
  },
  {
   "cell_type": "code",
   "execution_count": 15,
   "id": "dee4aea8-56c4-4f0f-a40d-7abb1eb21924",
   "metadata": {},
   "outputs": [
    {
     "data": {
      "text/plain": [
       "('3', '11', '5')"
      ]
     },
     "execution_count": 15,
     "metadata": {},
     "output_type": "execute_result"
    }
   ],
   "source": [
    "platform.python_version_tuple()"
   ]
  },
  {
   "cell_type": "code",
   "execution_count": 19,
   "id": "6d1dce0c-6931-4474-a0fa-2ad9584d12b7",
   "metadata": {},
   "outputs": [
    {
     "data": {
      "text/plain": [
       "'10.0.22631'"
      ]
     },
     "execution_count": 19,
     "metadata": {},
     "output_type": "execute_result"
    }
   ],
   "source": [
    "platform.version()"
   ]
  },
  {
   "cell_type": "code",
   "execution_count": null,
   "id": "93f45af6-6b09-4759-a192-16f41ea0675f",
   "metadata": {},
   "outputs": [],
   "source": []
  }
 ],
 "metadata": {
  "kernelspec": {
   "display_name": "Python [conda env:base] *",
   "language": "python",
   "name": "conda-base-py"
  },
  "language_info": {
   "codemirror_mode": {
    "name": "ipython",
    "version": 3
   },
   "file_extension": ".py",
   "mimetype": "text/x-python",
   "name": "python",
   "nbconvert_exporter": "python",
   "pygments_lexer": "ipython3",
   "version": "3.11.5"
  }
 },
 "nbformat": 4,
 "nbformat_minor": 5
}
