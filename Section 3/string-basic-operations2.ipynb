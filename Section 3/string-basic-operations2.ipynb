{
 "cells": [
  {
   "cell_type": "code",
   "execution_count": 1,
   "id": "ee6289ad-bebf-40dd-8880-2a66d0105f24",
   "metadata": {},
   "outputs": [
    {
     "data": {
      "text/plain": [
       "3"
      ]
     },
     "execution_count": 1,
     "metadata": {},
     "output_type": "execute_result"
    }
   ],
   "source": [
    "len('dog')"
   ]
  },
  {
   "cell_type": "code",
   "execution_count": 3,
   "id": "785fb5dc-27f3-48ea-803b-4de70fc8bc67",
   "metadata": {},
   "outputs": [
    {
     "name": "stdout",
     "output_type": "stream",
     "text": [
      "e\n"
     ]
    }
   ],
   "source": [
    "print(\"hello\"[1])"
   ]
  },
  {
   "cell_type": "code",
   "execution_count": 5,
   "id": "8719450a-8842-49e3-a9f6-955befea8b4a",
   "metadata": {},
   "outputs": [
    {
     "name": "stdout",
     "output_type": "stream",
     "text": [
      "ello\n"
     ]
    }
   ],
   "source": [
    "print(\"hello\"[1:])"
   ]
  },
  {
   "cell_type": "code",
   "execution_count": 7,
   "id": "cd9423da-18cd-4f49-90c9-43ebfebb1104",
   "metadata": {},
   "outputs": [
    {
     "data": {
      "text/plain": [
       "67"
      ]
     },
     "execution_count": 7,
     "metadata": {},
     "output_type": "execute_result"
    }
   ],
   "source": [
    "ord('C')"
   ]
  },
  {
   "cell_type": "code",
   "execution_count": 9,
   "id": "885505b6-6aeb-4dad-9e88-62e7e37dce07",
   "metadata": {},
   "outputs": [
    {
     "name": "stdout",
     "output_type": "stream",
     "text": [
      "False\n"
     ]
    }
   ],
   "source": [
    "print(\"C\" > \"c\")"
   ]
  },
  {
   "cell_type": "code",
   "execution_count": 11,
   "id": "8117ee3f-2811-490b-a604-7cb34d780608",
   "metadata": {},
   "outputs": [
    {
     "data": {
      "text/plain": [
       "99"
      ]
     },
     "execution_count": 11,
     "metadata": {},
     "output_type": "execute_result"
    }
   ],
   "source": [
    "ord(\"c\")"
   ]
  },
  {
   "cell_type": "code",
   "execution_count": 13,
   "id": "63ee93ca-fbe8-4b54-b088-d346e90aa038",
   "metadata": {},
   "outputs": [
    {
     "data": {
      "text/plain": [
       "'ʚ'"
      ]
     },
     "execution_count": 13,
     "metadata": {},
     "output_type": "execute_result"
    }
   ],
   "source": [
    "chr(666)"
   ]
  },
  {
   "cell_type": "code",
   "execution_count": 15,
   "id": "35267fa8-6dfc-4f41-81be-135a10e38945",
   "metadata": {},
   "outputs": [
    {
     "data": {
      "text/plain": [
       "'E'"
      ]
     },
     "execution_count": 15,
     "metadata": {},
     "output_type": "execute_result"
    }
   ],
   "source": [
    "chr(69)"
   ]
  },
  {
   "cell_type": "code",
   "execution_count": 17,
   "id": "866bdace-d5db-42f6-8d2e-a1acf85964c9",
   "metadata": {},
   "outputs": [],
   "source": [
    "multi_line_string = \"\"\"long string\n",
    "1\"\"\""
   ]
  },
  {
   "cell_type": "code",
   "execution_count": 19,
   "id": "9ebb277a-2578-4623-b34a-1b219e3ebb16",
   "metadata": {},
   "outputs": [
    {
     "data": {
      "text/plain": [
       "13"
      ]
     },
     "execution_count": 19,
     "metadata": {},
     "output_type": "execute_result"
    }
   ],
   "source": [
    "len(multi_line_string)"
   ]
  },
  {
   "cell_type": "code",
   "execution_count": null,
   "id": "d36084ab-666f-4512-9559-b030f4a3087d",
   "metadata": {},
   "outputs": [],
   "source": []
  }
 ],
 "metadata": {
  "kernelspec": {
   "display_name": "Python [conda env:base] *",
   "language": "python",
   "name": "conda-base-py"
  },
  "language_info": {
   "codemirror_mode": {
    "name": "ipython",
    "version": 3
   },
   "file_extension": ".py",
   "mimetype": "text/x-python",
   "name": "python",
   "nbconvert_exporter": "python",
   "pygments_lexer": "ipython3",
   "version": "3.11.5"
  }
 },
 "nbformat": 4,
 "nbformat_minor": 5
}
