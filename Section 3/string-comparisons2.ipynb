{
 "cells": [
  {
   "cell_type": "markdown",
   "id": "307be046-406e-48c6-b9a0-c058d9870db0",
   "metadata": {},
   "source": [
    "## Comparison Operators:\n",
    "\n",
    "```\n",
    "== \n",
    "!= \n",
    "> \n",
    ">=\n",
    "<\n",
    "<=\n"
   ]
  },
  {
   "cell_type": "markdown",
   "id": "a5ccb61d-3ac0-4e7b-85f2-339fdea09084",
   "metadata": {},
   "source": [
    "```python \n",
    "==\n",
    "!=\n",
    "<\n",
    ">\n",
    "<=\n",
    ">=\n",
    "is\n",
    "is not\n",
    "in\n",
    "not in\n",
    "```\n"
   ]
  },
  {
   "cell_type": "code",
   "execution_count": 9,
   "id": "06d23476-0b06-464e-8f4d-1c526655904e",
   "metadata": {},
   "outputs": [
    {
     "data": {
      "text/plain": [
       "True"
      ]
     },
     "execution_count": 9,
     "metadata": {},
     "output_type": "execute_result"
    }
   ],
   "source": [
    "\"Python\" == 'Python'"
   ]
  },
  {
   "cell_type": "code",
   "execution_count": 13,
   "id": "e9a12286-c4ef-4844-b5a1-fc3e9f2b707a",
   "metadata": {},
   "outputs": [
    {
     "data": {
      "text/plain": [
       "False"
      ]
     },
     "execution_count": 13,
     "metadata": {},
     "output_type": "execute_result"
    }
   ],
   "source": [
    "\"Python\" == \"python\""
   ]
  },
  {
   "cell_type": "code",
   "execution_count": 15,
   "id": "9584c129-909f-49bd-b7be-4f311ebb8b02",
   "metadata": {},
   "outputs": [
    {
     "data": {
      "text/plain": [
       "True"
      ]
     },
     "execution_count": 15,
     "metadata": {},
     "output_type": "execute_result"
    }
   ],
   "source": [
    "\"Python\" < \"python\""
   ]
  },
  {
   "cell_type": "code",
   "execution_count": 17,
   "id": "a337996f-7185-4472-948f-764b39966af5",
   "metadata": {},
   "outputs": [
    {
     "data": {
      "text/plain": [
       "False"
      ]
     },
     "execution_count": 17,
     "metadata": {},
     "output_type": "execute_result"
    }
   ],
   "source": [
    "\"Python\" > \"python\""
   ]
  },
  {
   "cell_type": "code",
   "execution_count": 19,
   "id": "226410be-a376-4637-a036-f80369a03ab9",
   "metadata": {},
   "outputs": [
    {
     "data": {
      "text/plain": [
       "False"
      ]
     },
     "execution_count": 19,
     "metadata": {},
     "output_type": "execute_result"
    }
   ],
   "source": [
    "'20' >'8'"
   ]
  },
  {
   "cell_type": "code",
   "execution_count": 21,
   "id": "5487147f-48e8-4d0e-ad71-f9d1c35d2212",
   "metadata": {},
   "outputs": [
    {
     "ename": "TypeError",
     "evalue": "'>' not supported between instances of 'str' and 'int'",
     "output_type": "error",
     "traceback": [
      "\u001b[1;31m---------------------------------------------------------------------------\u001b[0m",
      "\u001b[1;31mTypeError\u001b[0m                                 Traceback (most recent call last)",
      "Cell \u001b[1;32mIn[21], line 1\u001b[0m\n\u001b[1;32m----> 1\u001b[0m \u001b[38;5;124m'\u001b[39m\u001b[38;5;124m20\u001b[39m\u001b[38;5;124m'\u001b[39m \u001b[38;5;241m>\u001b[39m \u001b[38;5;241m8\u001b[39m\n",
      "\u001b[1;31mTypeError\u001b[0m: '>' not supported between instances of 'str' and 'int'"
     ]
    }
   ],
   "source": [
    "'20' > 8"
   ]
  },
  {
   "cell_type": "code",
   "execution_count": 23,
   "id": "7fcb8732-ebbd-4907-bdcf-f74a1ace9de6",
   "metadata": {},
   "outputs": [
    {
     "data": {
      "text/plain": [
       "False"
      ]
     },
     "execution_count": 23,
     "metadata": {},
     "output_type": "execute_result"
    }
   ],
   "source": [
    "'20' == 8"
   ]
  },
  {
   "cell_type": "code",
   "execution_count": null,
   "id": "0b944a3d-89cc-4121-8fc6-3750984a0c37",
   "metadata": {},
   "outputs": [],
   "source": []
  }
 ],
 "metadata": {
  "kernelspec": {
   "display_name": "Python [conda env:base] *",
   "language": "python",
   "name": "conda-base-py"
  },
  "language_info": {
   "codemirror_mode": {
    "name": "ipython",
    "version": 3
   },
   "file_extension": ".py",
   "mimetype": "text/x-python",
   "name": "python",
   "nbconvert_exporter": "python",
   "pygments_lexer": "ipython3",
   "version": "3.11.5"
  }
 },
 "nbformat": 4,
 "nbformat_minor": 5
}
