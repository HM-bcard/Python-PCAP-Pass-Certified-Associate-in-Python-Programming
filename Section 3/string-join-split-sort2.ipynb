{
 "cells": [
  {
   "cell_type": "code",
   "execution_count": 1,
   "id": "fefb3b9b-fe06-4598-bc25-4032bfd917bf",
   "metadata": {},
   "outputs": [
    {
     "data": {
      "text/plain": [
       "'to be'"
      ]
     },
     "execution_count": 1,
     "metadata": {},
     "output_type": "execute_result"
    }
   ],
   "source": [
    "\"This is\"\n",
    "\"a palce\"\n",
    "\"to be\""
   ]
  },
  {
   "cell_type": "code",
   "execution_count": 9,
   "id": "000c1d47-c489-4e73-a7ae-fc949105ae6e",
   "metadata": {},
   "outputs": [
    {
     "data": {
      "text/plain": [
       "'This isa palceto be'"
      ]
     },
     "execution_count": 9,
     "metadata": {},
     "output_type": "execute_result"
    }
   ],
   "source": [
    "''.join([\"This is\",\n",
    "\"a palce\",\n",
    "\"to be\"])"
   ]
  },
  {
   "cell_type": "code",
   "execution_count": 13,
   "id": "7cda24bc-c06d-465e-8d14-f94fc685a4af",
   "metadata": {},
   "outputs": [
    {
     "data": {
      "text/plain": [
       "'This is-a palce-to be'"
      ]
     },
     "execution_count": 13,
     "metadata": {},
     "output_type": "execute_result"
    }
   ],
   "source": [
    "'-'.join([\"This is\",\n",
    "\"a palce\",\n",
    "\"to be\"])"
   ]
  },
  {
   "cell_type": "code",
   "execution_count": 19,
   "id": "8bd923cf-6024-4f8e-83be-bcef1cb7b85c",
   "metadata": {},
   "outputs": [
    {
     "data": {
      "text/plain": [
       "['an', 'un', 'split', 'long', 'string']"
      ]
     },
     "execution_count": 19,
     "metadata": {},
     "output_type": "execute_result"
    }
   ],
   "source": [
    "\"an\\tun\\tsplit\\tlong string\".split()"
   ]
  },
  {
   "cell_type": "code",
   "execution_count": 25,
   "id": "d9052b09-1a54-407e-ad0e-e08994f6622e",
   "metadata": {},
   "outputs": [],
   "source": [
    "names = [\"kate\",\"moss\",\"rolling\",\"stone\",\"acaii\"]\n",
    "names_sorted = sorted(names)\n"
   ]
  },
  {
   "cell_type": "code",
   "execution_count": 27,
   "id": "e1005f30-7916-4382-a3f8-2bf11aa3ed07",
   "metadata": {},
   "outputs": [
    {
     "name": "stdout",
     "output_type": "stream",
     "text": [
      "['acaii', 'kate', 'moss', 'rolling', 'stone']\n"
     ]
    }
   ],
   "source": [
    "print(names_sorted)"
   ]
  },
  {
   "cell_type": "code",
   "execution_count": null,
   "id": "0e24cd1f-a1cb-40c3-a56a-9d61621d2eb2",
   "metadata": {},
   "outputs": [],
   "source": []
  }
 ],
 "metadata": {
  "kernelspec": {
   "display_name": "Python [conda env:base] *",
   "language": "python",
   "name": "conda-base-py"
  },
  "language_info": {
   "codemirror_mode": {
    "name": "ipython",
    "version": 3
   },
   "file_extension": ".py",
   "mimetype": "text/x-python",
   "name": "python",
   "nbconvert_exporter": "python",
   "pygments_lexer": "ipython3",
   "version": "3.11.5"
  }
 },
 "nbformat": 4,
 "nbformat_minor": 5
}
