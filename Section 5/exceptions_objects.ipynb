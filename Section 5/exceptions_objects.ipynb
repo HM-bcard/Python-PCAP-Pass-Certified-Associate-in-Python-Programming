{
 "cells": [
  {
   "cell_type": "code",
   "execution_count": 1,
   "id": "4718da76-7b04-4be6-a7a4-fea7d8abf5f2",
   "metadata": {},
   "outputs": [],
   "source": [
    "def return_bigger(a,b):\n",
    "    try:\n",
    "        if b > a:\n",
    "            return b\n",
    "        else:\n",
    "            return b\n",
    "    except Exception as e:\n",
    "        print(e)\n",
    "        return None"
   ]
  },
  {
   "cell_type": "code",
   "execution_count": 5,
   "id": "d132b7b2-94b6-4a3b-87ac-3275424c75c9",
   "metadata": {},
   "outputs": [
    {
     "name": "stdout",
     "output_type": "stream",
     "text": [
      "'>' not supported between instances of 'str' and 'int'\n",
      "None\n"
     ]
    }
   ],
   "source": [
    "print(return_bigger(5,'b'))"
   ]
  },
  {
   "cell_type": "code",
   "execution_count": 7,
   "id": "d1f17ba9-ab57-4d51-ab92-41d1637ef8f9",
   "metadata": {},
   "outputs": [
    {
     "name": "stdout",
     "output_type": "stream",
     "text": [
      "BaseExceptionGroup\n",
      "Exception\n",
      "GeneratorExit\n",
      "KeyboardInterrupt\n",
      "SystemExit\n",
      "CancelledError\n",
      "AbortThread\n"
     ]
    }
   ],
   "source": [
    "for subclass in BaseException.__subclasses__():\n",
    "    print(subclass.__name__)"
   ]
  },
  {
   "cell_type": "code",
   "execution_count": 9,
   "id": "fda20f40-8623-4e7c-ae61-75676bb7de30",
   "metadata": {},
   "outputs": [
    {
     "name": "stdout",
     "output_type": "stream",
     "text": [
      "ArithmeticError\n",
      "AssertionError\n",
      "AttributeError\n",
      "BufferError\n",
      "EOFError\n",
      "ImportError\n",
      "LookupError\n",
      "MemoryError\n",
      "NameError\n",
      "OSError\n",
      "ReferenceError\n",
      "RuntimeError\n",
      "StopAsyncIteration\n",
      "StopIteration\n",
      "SyntaxError\n",
      "SystemError\n",
      "TypeError\n",
      "ValueError\n",
      "Warning\n",
      "ExceptionGroup\n",
      "_OptionError\n",
      "_Error\n",
      "error\n",
      "Error\n",
      "SubprocessError\n",
      "TokenError\n",
      "StopTokenizing\n",
      "ClassFoundException\n",
      "EndOfBlock\n",
      "TraitError\n",
      "Error\n",
      "Error\n",
      "_GiveupOnSendfile\n",
      "error\n",
      "Incomplete\n",
      "InvalidStateError\n",
      "LimitOverrunError\n",
      "QueueEmpty\n",
      "QueueFull\n",
      "error\n",
      "LZMAError\n",
      "RegistryError\n",
      "_GiveupOnFastCopy\n",
      "Empty\n",
      "Full\n",
      "ZMQBaseError\n",
      "PickleError\n",
      "_Stop\n",
      "ArgumentError\n",
      "COMError\n",
      "ReturnValueIgnoredError\n",
      "ArgumentError\n",
      "ArgumentTypeError\n",
      "ConfigError\n",
      "ConfigurableError\n",
      "ApplicationError\n",
      "InvalidPortNumber\n",
      "NoIPAddresses\n",
      "BadZipFile\n",
      "LargeZipFile\n",
      "Error\n",
      "BadEntryPoint\n",
      "NoSuchEntryPoint\n",
      "DuplicateKernelError\n",
      "ErrorDuringImport\n",
      "NotOneValueFound\n",
      "CannotEval\n",
      "OptionError\n",
      "BdbQuit\n",
      "Restart\n",
      "FindCmdError\n",
      "HomeDirError\n",
      "ProfileDirError\n",
      "IPythonCoreError\n",
      "InputRejected\n",
      "GetoptError\n",
      "ErrorToken\n",
      "PrefilterError\n",
      "AliasError\n",
      "Error\n",
      "Warning\n",
      "SpaceInInput\n",
      "DOMException\n",
      "ValidationError\n",
      "EditReadOnlyBuffer\n",
      "_Retry\n",
      "InvalidLayoutError\n",
      "HeightIsUnknownError\n",
      "GuardRejection\n",
      "ParserSyntaxError\n",
      "InternalParseError\n",
      "_PositionUpdatingFinished\n",
      "SimpleGetItemNotFound\n",
      "UncaughtAttributeError\n",
      "HasNoContext\n",
      "ParamIssue\n",
      "_JediError\n",
      "OnErrorLeaf\n",
      "InvalidPythonEnvironment\n",
      "MessageError\n",
      "HTTPException\n",
      "InteractivelyDefined\n",
      "KillEmbedded\n",
      "Error\n",
      "Error\n",
      "TimeoutExpired\n",
      "TimeoutAbandoned\n",
      "KeyReuseError\n",
      "UnknownKeyError\n",
      "LeakedCallbackError\n",
      "BadYieldError\n",
      "ReturnValueIgnoredError\n",
      "Return\n",
      "QueueEmpty\n",
      "QueueFull\n",
      "DebuggerInitializationError\n",
      "ExpatError\n",
      "Error\n",
      "ParserSyntaxError\n",
      "ResolutionError\n",
      "_Error\n",
      "UnableToResolveVariableException\n",
      "InvalidTypeInArgsException\n",
      "LinAlgError\n",
      "ConverterError\n",
      "MAError\n",
      "Error\n",
      "NumbaUtilError\n",
      "InvalidIndexError\n",
      "DataError\n",
      "SpecificationError\n",
      "IndexingError\n",
      "PossibleDataLossError\n",
      "ClosedFileError\n",
      "LossySetitemError\n",
      "NoBufferPresent\n",
      "InvalidComparison\n",
      "ArrowException\n",
      "ParseError\n",
      "Error\n",
      "TarError\n"
     ]
    }
   ],
   "source": [
    "for subclass in Exception.__subclasses__():\n",
    "    print(subclass.__name__)"
   ]
  },
  {
   "cell_type": "code",
   "execution_count": 11,
   "id": "00a9ca7a-e07f-461d-b63b-f0fc1c2e661a",
   "metadata": {},
   "outputs": [
    {
     "name": "stdout",
     "output_type": "stream",
     "text": [
      "()\n"
     ]
    }
   ],
   "source": [
    "try:\n",
    "    raise Exception\n",
    "except Exception as e:\n",
    "    print(e.args)"
   ]
  },
  {
   "cell_type": "code",
   "execution_count": 13,
   "id": "f75f54bb-3809-4551-8ec3-b48724092e8a",
   "metadata": {},
   "outputs": [
    {
     "name": "stdout",
     "output_type": "stream",
     "text": [
      "(' no arguments or...?',)\n"
     ]
    }
   ],
   "source": [
    "try:\n",
    "    raise Exception(\" no arguments or...?\")\n",
    "except Exception as e:\n",
    "    print(e.args)"
   ]
  },
  {
   "cell_type": "code",
   "execution_count": 15,
   "id": "8b72a3de-3a4c-45e5-88b5-fc7d083c9ce0",
   "metadata": {},
   "outputs": [
    {
     "name": "stdout",
     "output_type": "stream",
     "text": [
      "(' no arguments or...?', 'maybe there is more?')\n"
     ]
    }
   ],
   "source": [
    "try:\n",
    "    raise Exception(\" no arguments or...?\",\"maybe there is more?\")\n",
    "except Exception as e:\n",
    "    print(e.args)"
   ]
  },
  {
   "cell_type": "code",
   "execution_count": 17,
   "id": "46cb184f-7c00-40d0-a18d-0552d1fbc71b",
   "metadata": {},
   "outputs": [
    {
     "name": "stdout",
     "output_type": "stream",
     "text": [
      "('division by zero',)\n"
     ]
    }
   ],
   "source": [
    "try:\n",
    "    1/0\n",
    "except Exception as e:\n",
    "    print(e.args)"
   ]
  },
  {
   "cell_type": "code",
   "execution_count": 19,
   "id": "1ffbb2de-bd02-4203-b8df-0a3cf2fbf7db",
   "metadata": {},
   "outputs": [
    {
     "name": "stdout",
     "output_type": "stream",
     "text": [
      "(\"'<' not supported between instances of 'int' and 'str'\",)\n"
     ]
    }
   ],
   "source": [
    "try:\n",
    "    5 < 'a'\n",
    "except Exception as e:\n",
    "    print(e.args)"
   ]
  },
  {
   "cell_type": "code",
   "execution_count": null,
   "id": "4a82460c-9fd9-40f1-8907-b7da282e4514",
   "metadata": {},
   "outputs": [],
   "source": []
  }
 ],
 "metadata": {
  "kernelspec": {
   "display_name": "Python [conda env:base] *",
   "language": "python",
   "name": "conda-base-py"
  },
  "language_info": {
   "codemirror_mode": {
    "name": "ipython",
    "version": 3
   },
   "file_extension": ".py",
   "mimetype": "text/x-python",
   "name": "python",
   "nbconvert_exporter": "python",
   "pygments_lexer": "ipython3",
   "version": "3.11.5"
  }
 },
 "nbformat": 4,
 "nbformat_minor": 5
}
