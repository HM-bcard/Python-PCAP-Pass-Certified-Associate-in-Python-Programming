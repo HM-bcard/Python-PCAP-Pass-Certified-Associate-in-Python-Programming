{
 "cells": [
  {
   "cell_type": "code",
   "execution_count": 11,
   "id": "5de06839-242f-470a-8903-10f93c451071",
   "metadata": {},
   "outputs": [
    {
     "name": "stdout",
     "output_type": "stream",
     "text": [
      "Hi, I will collect some information please\n"
     ]
    },
    {
     "name": "stdin",
     "output_type": "stream",
     "text": [
      "What is the day of month of your birthday? a\n"
     ]
    },
    {
     "name": "stdout",
     "output_type": "stream",
     "text": [
      "You haven't entered an integer\n"
     ]
    }
   ],
   "source": [
    "def get_day(user_info):\n",
    "    day = int(input(\"What is the day of month of your birthday?\"))\n",
    "    user_info.append(day)\n",
    "\n",
    "def get_month(user_info):\n",
    "    month = int(input(\"What is the month of your birthday from 1 to 12?\"))\n",
    "    user_info.append(month)\n",
    "\n",
    "def get_year(user_info):\n",
    "    year = int(input(\"What is your birth year (yyyy)?\"))\n",
    "    user_info.append(year)\n",
    "\n",
    "def get_user_birthday(user_info):\n",
    "    try:\n",
    "        get_day(user_info)\n",
    "        get_month(user_info)\n",
    "        get_year(user_info)\n",
    "        print(\"Your birthday is\",user_info)\n",
    "    except ValueError:\n",
    "        print(\"You haven't entered an integer\")\n",
    "\n",
    "print(\"Hi, I will collect some information please\")\n",
    "user_info = []\n",
    "get_user_birthday(user_info)\n",
    "\n",
    "\n",
    "                    "
   ]
  },
  {
   "cell_type": "code",
   "execution_count": null,
   "id": "0ece632a-c9c6-4117-92f0-1c4b77eee3d4",
   "metadata": {},
   "outputs": [],
   "source": []
  }
 ],
 "metadata": {
  "kernelspec": {
   "display_name": "Python [conda env:base] *",
   "language": "python",
   "name": "conda-base-py"
  },
  "language_info": {
   "codemirror_mode": {
    "name": "ipython",
    "version": 3
   },
   "file_extension": ".py",
   "mimetype": "text/x-python",
   "name": "python",
   "nbconvert_exporter": "python",
   "pygments_lexer": "ipython3",
   "version": "3.11.5"
  }
 },
 "nbformat": 4,
 "nbformat_minor": 5
}
