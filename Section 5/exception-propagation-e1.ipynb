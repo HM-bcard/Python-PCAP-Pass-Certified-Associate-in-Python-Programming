{
 "cells": [
  {
   "cell_type": "code",
   "execution_count": 1,
   "id": "3cef6312-78cc-4aa2-8fd2-018860ad07a1",
   "metadata": {},
   "outputs": [
    {
     "name": "stdout",
     "output_type": "stream",
     "text": [
      "Hi, I will collect some information please\n"
     ]
    },
    {
     "name": "stdin",
     "output_type": "stream",
     "text": [
      "What is the day of month of your birthday? a\n"
     ]
    },
    {
     "ename": "ValueError",
     "evalue": "invalid literal for int() with base 10: 'a'",
     "output_type": "error",
     "traceback": [
      "\u001b[1;31m---------------------------------------------------------------------------\u001b[0m",
      "\u001b[1;31mValueError\u001b[0m                                Traceback (most recent call last)",
      "Cell \u001b[1;32mIn[1], line 22\u001b[0m\n\u001b[0;32m     20\u001b[0m \u001b[38;5;28mprint\u001b[39m(\u001b[38;5;124m\"\u001b[39m\u001b[38;5;124mHi, I will collect some information please\u001b[39m\u001b[38;5;124m\"\u001b[39m)\n\u001b[0;32m     21\u001b[0m user_info \u001b[38;5;241m=\u001b[39m []\n\u001b[1;32m---> 22\u001b[0m get_user_birthday(user_info)\n",
      "Cell \u001b[1;32mIn[1], line 14\u001b[0m, in \u001b[0;36mget_user_birthday\u001b[1;34m(user_info)\u001b[0m\n\u001b[0;32m     13\u001b[0m \u001b[38;5;28;01mdef\u001b[39;00m \u001b[38;5;21mget_user_birthday\u001b[39m(user_info):\n\u001b[1;32m---> 14\u001b[0m     get_day(user_info)\n\u001b[0;32m     15\u001b[0m     get_month(user_info)\n\u001b[0;32m     16\u001b[0m     get_year(user_info)\n",
      "Cell \u001b[1;32mIn[1], line 2\u001b[0m, in \u001b[0;36mget_day\u001b[1;34m(user_info)\u001b[0m\n\u001b[0;32m      1\u001b[0m \u001b[38;5;28;01mdef\u001b[39;00m \u001b[38;5;21mget_day\u001b[39m(user_info):\n\u001b[1;32m----> 2\u001b[0m     day \u001b[38;5;241m=\u001b[39m \u001b[38;5;28mint\u001b[39m(\u001b[38;5;28minput\u001b[39m(\u001b[38;5;124m\"\u001b[39m\u001b[38;5;124mWhat is the day of month of your birthday?\u001b[39m\u001b[38;5;124m\"\u001b[39m))\n\u001b[0;32m      3\u001b[0m     user_info\u001b[38;5;241m.\u001b[39mappend(day)\n",
      "\u001b[1;31mValueError\u001b[0m: invalid literal for int() with base 10: 'a'"
     ]
    }
   ],
   "source": [
    "def get_day(user_info):\n",
    "    day = int(input(\"What is the day of month of your birthday?\"))\n",
    "    user_info.append(day)\n",
    "\n",
    "def get_month(user_info):\n",
    "    month = int(input(\"What is the month of your birthday from 1 to 12?\"))\n",
    "    user_info.append(month)\n",
    "\n",
    "def get_year(user_info):\n",
    "    year = int(input(\"What is your birth year (yyyy)?\"))\n",
    "    user_info.append(year)\n",
    "\n",
    "def get_user_birthday(user_info):\n",
    "    get_day(user_info)\n",
    "    get_month(user_info)\n",
    "    get_year(user_info)\n",
    "    print(\"Your birthday is\",user_info)\n",
    "\n",
    "\n",
    "print(\"Hi, I will collect some information please\")\n",
    "user_info = []\n",
    "get_user_birthday(user_info)\n"
   ]
  },
  {
   "cell_type": "code",
   "execution_count": null,
   "id": "848cc8e2-9343-4d45-9cfb-4006ac9a7c65",
   "metadata": {},
   "outputs": [],
   "source": []
  }
 ],
 "metadata": {
  "kernelspec": {
   "display_name": "Python [conda env:base] *",
   "language": "python",
   "name": "conda-base-py"
  },
  "language_info": {
   "codemirror_mode": {
    "name": "ipython",
    "version": 3
   },
   "file_extension": ".py",
   "mimetype": "text/x-python",
   "name": "python",
   "nbconvert_exporter": "python",
   "pygments_lexer": "ipython3",
   "version": "3.11.5"
  }
 },
 "nbformat": 4,
 "nbformat_minor": 5
}
