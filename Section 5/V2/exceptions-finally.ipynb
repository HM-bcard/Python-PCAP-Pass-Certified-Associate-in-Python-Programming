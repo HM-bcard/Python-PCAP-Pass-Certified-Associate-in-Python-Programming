{
 "cells": [
  {
   "cell_type": "markdown",
   "id": "1d009f9f-d8e1-4816-a981-65aa8bf05869",
   "metadata": {},
   "source": [
    "### Finally keyword usage example: for closing a connection after connecting to a database"
   ]
  },
  {
   "cell_type": "code",
   "execution_count": 2,
   "id": "25b48350-0284-4a0f-9515-89bf48584427",
   "metadata": {},
   "outputs": [],
   "source": [
    "def get_inverse(x):\n",
    "    try:\n",
    "        return 1 / x\n",
    "    except ZeroDivisionError:\n",
    "        print(\"You provided a '0'\")\n",
    "    finally:\n",
    "        print(\"this is always printed to the output\")"
   ]
  },
  {
   "cell_type": "code",
   "execution_count": 4,
   "id": "8c175af7-608f-4086-bb2f-0dafa784ad5f",
   "metadata": {},
   "outputs": [
    {
     "name": "stdout",
     "output_type": "stream",
     "text": [
      "You provided a '0'\n",
      "this is always printed to the output\n"
     ]
    }
   ],
   "source": [
    "get_inverse(0)\n"
   ]
  },
  {
   "cell_type": "markdown",
   "id": "b6dd61aa-5a5f-45d3-8b65-b57e786b6daf",
   "metadata": {},
   "source": [
    "### The difference between \"else\" and \"finally\" keywords is that the else keyword is triggered if the except didn't occur, finally is always utilized - in case of an exception and no exception"
   ]
  },
  {
   "cell_type": "code",
   "execution_count": null,
   "id": "90c34c1a-c928-4ecb-895f-597773425f56",
   "metadata": {},
   "outputs": [],
   "source": []
  }
 ],
 "metadata": {
  "kernelspec": {
   "display_name": "Python [conda env:base] *",
   "language": "python",
   "name": "conda-base-py"
  },
  "language_info": {
   "codemirror_mode": {
    "name": "ipython",
    "version": 3
   },
   "file_extension": ".py",
   "mimetype": "text/x-python",
   "name": "python",
   "nbconvert_exporter": "python",
   "pygments_lexer": "ipython3",
   "version": "3.11.5"
  }
 },
 "nbformat": 4,
 "nbformat_minor": 5
}
