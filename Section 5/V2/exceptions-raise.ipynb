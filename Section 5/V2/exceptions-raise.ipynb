{
 "cells": [
  {
   "cell_type": "markdown",
   "id": "3a50cd12-59dc-4652-afa3-6e99a7ecec73",
   "metadata": {},
   "source": [
    "### Typically used in two types of situations:\n",
    "\n",
    "1 writing tests for your programs - \n",
    "\n",
    "2 making another part of the program responsible for handling the exception"
   ]
  },
  {
   "cell_type": "code",
   "execution_count": 2,
   "id": "1576d0d4-e808-40b9-92da-90872ae0ce25",
   "metadata": {},
   "outputs": [],
   "source": [
    "def bigger(a,b):\n",
    "    if not isinstance(a,int) or not isinstance(b,int):\n",
    "        raise ValueError\n",
    "    if b > a:\n",
    "        return b\n",
    "    else:\n",
    "        return a"
   ]
  },
  {
   "cell_type": "code",
   "execution_count": 4,
   "id": "5bb17778-4c0f-4b05-aede-5417db8b72bc",
   "metadata": {},
   "outputs": [
    {
     "data": {
      "text/plain": [
       "1"
      ]
     },
     "execution_count": 4,
     "metadata": {},
     "output_type": "execute_result"
    }
   ],
   "source": [
    "bigger(1,1)"
   ]
  },
  {
   "cell_type": "code",
   "execution_count": 6,
   "id": "fa5164e3-0af0-4b81-93c1-3e2b8d345ce6",
   "metadata": {},
   "outputs": [],
   "source": [
    "def bigger(a,b):\n",
    "    if not isinstance(a,int) or not isinstance(b,int):\n",
    "        raise ValueError\n",
    "    if b > a:\n",
    "        return b\n",
    "    else:\n",
    "        return a"
   ]
  },
  {
   "cell_type": "code",
   "execution_count": 8,
   "id": "b181f180-6f74-4751-8182-c4fa6b93f291",
   "metadata": {},
   "outputs": [
    {
     "ename": "NameError",
     "evalue": "name 'a' is not defined",
     "output_type": "error",
     "traceback": [
      "\u001b[1;31m---------------------------------------------------------------------------\u001b[0m",
      "\u001b[1;31mNameError\u001b[0m                                 Traceback (most recent call last)",
      "Cell \u001b[1;32mIn[8], line 1\u001b[0m\n\u001b[1;32m----> 1\u001b[0m bigger(a,a)\n",
      "\u001b[1;31mNameError\u001b[0m: name 'a' is not defined"
     ]
    }
   ],
   "source": [
    "bigger(a,a)"
   ]
  },
  {
   "cell_type": "code",
   "execution_count": 10,
   "id": "7b79e2a3-9ceb-4451-9eec-99bae6e030ff",
   "metadata": {},
   "outputs": [
    {
     "ename": "ValueError",
     "evalue": "",
     "output_type": "error",
     "traceback": [
      "\u001b[1;31m---------------------------------------------------------------------------\u001b[0m",
      "\u001b[1;31mValueError\u001b[0m                                Traceback (most recent call last)",
      "Cell \u001b[1;32mIn[10], line 1\u001b[0m\n\u001b[1;32m----> 1\u001b[0m bigger(\u001b[38;5;124m'\u001b[39m\u001b[38;5;124ma\u001b[39m\u001b[38;5;124m'\u001b[39m,\u001b[38;5;124m'\u001b[39m\u001b[38;5;124ma\u001b[39m\u001b[38;5;124m'\u001b[39m)\n",
      "Cell \u001b[1;32mIn[6], line 3\u001b[0m, in \u001b[0;36mbigger\u001b[1;34m(a, b)\u001b[0m\n\u001b[0;32m      1\u001b[0m \u001b[38;5;28;01mdef\u001b[39;00m \u001b[38;5;21mbigger\u001b[39m(a,b):\n\u001b[0;32m      2\u001b[0m     \u001b[38;5;28;01mif\u001b[39;00m \u001b[38;5;129;01mnot\u001b[39;00m \u001b[38;5;28misinstance\u001b[39m(a,\u001b[38;5;28mint\u001b[39m) \u001b[38;5;129;01mor\u001b[39;00m \u001b[38;5;129;01mnot\u001b[39;00m \u001b[38;5;28misinstance\u001b[39m(b,\u001b[38;5;28mint\u001b[39m):\n\u001b[1;32m----> 3\u001b[0m         \u001b[38;5;28;01mraise\u001b[39;00m \u001b[38;5;167;01mValueError\u001b[39;00m\n\u001b[0;32m      4\u001b[0m     \u001b[38;5;28;01mif\u001b[39;00m b \u001b[38;5;241m>\u001b[39m a:\n\u001b[0;32m      5\u001b[0m         \u001b[38;5;28;01mreturn\u001b[39;00m b\n",
      "\u001b[1;31mValueError\u001b[0m: "
     ]
    }
   ],
   "source": [
    "bigger('a','a')"
   ]
  },
  {
   "cell_type": "markdown",
   "id": "7e3972ca-e6c3-4909-a22d-9e8c1f05d4fb",
   "metadata": {},
   "source": [
    "### Second usage:"
   ]
  },
  {
   "cell_type": "code",
   "execution_count": 15,
   "id": "2fc7fb8e-e3db-453b-96fd-3c259a605007",
   "metadata": {},
   "outputs": [],
   "source": [
    "def reverse(x):\n",
    "    try:\n",
    "        return 1 / x\n",
    "    except:\n",
    "        print(\"An error occured\")"
   ]
  },
  {
   "cell_type": "code",
   "execution_count": 19,
   "id": "4426f455-701f-4d3a-abde-e2472803aa72",
   "metadata": {},
   "outputs": [
    {
     "name": "stdout",
     "output_type": "stream",
     "text": [
      "An error occured\n"
     ]
    }
   ],
   "source": [
    "reverse(0)"
   ]
  },
  {
   "cell_type": "code",
   "execution_count": 21,
   "id": "ef37d037-46da-4b2a-b4f3-06de9d53dc95",
   "metadata": {},
   "outputs": [],
   "source": [
    "def reverse(x):\n",
    "    try:\n",
    "        return 1 / x\n",
    "    except:\n",
    "        print(\"An error occured\")\n",
    "        raise # raises the exception even though it was handled before"
   ]
  },
  {
   "cell_type": "code",
   "execution_count": 23,
   "id": "0bc7eb26-5a25-41b2-b2c3-10fd5d06d562",
   "metadata": {},
   "outputs": [
    {
     "name": "stdout",
     "output_type": "stream",
     "text": [
      "An error occured\n"
     ]
    },
    {
     "ename": "ZeroDivisionError",
     "evalue": "division by zero",
     "output_type": "error",
     "traceback": [
      "\u001b[1;31m---------------------------------------------------------------------------\u001b[0m",
      "\u001b[1;31mZeroDivisionError\u001b[0m                         Traceback (most recent call last)",
      "Cell \u001b[1;32mIn[23], line 1\u001b[0m\n\u001b[1;32m----> 1\u001b[0m reverse(\u001b[38;5;241m0\u001b[39m)\n",
      "Cell \u001b[1;32mIn[21], line 3\u001b[0m, in \u001b[0;36mreverse\u001b[1;34m(x)\u001b[0m\n\u001b[0;32m      1\u001b[0m \u001b[38;5;28;01mdef\u001b[39;00m \u001b[38;5;21mreverse\u001b[39m(x):\n\u001b[0;32m      2\u001b[0m     \u001b[38;5;28;01mtry\u001b[39;00m:\n\u001b[1;32m----> 3\u001b[0m         \u001b[38;5;28;01mreturn\u001b[39;00m \u001b[38;5;241m1\u001b[39m \u001b[38;5;241m/\u001b[39m x\n\u001b[0;32m      4\u001b[0m     \u001b[38;5;28;01mexcept\u001b[39;00m:\n\u001b[0;32m      5\u001b[0m         \u001b[38;5;28mprint\u001b[39m(\u001b[38;5;124m\"\u001b[39m\u001b[38;5;124mAn error occured\u001b[39m\u001b[38;5;124m\"\u001b[39m)\n",
      "\u001b[1;31mZeroDivisionError\u001b[0m: division by zero"
     ]
    }
   ],
   "source": [
    "reverse(0)"
   ]
  },
  {
   "cell_type": "code",
   "execution_count": null,
   "id": "3f6509d9-bf0f-48a0-9993-0ef4c79d711e",
   "metadata": {},
   "outputs": [],
   "source": []
  }
 ],
 "metadata": {
  "kernelspec": {
   "display_name": "Python [conda env:base] *",
   "language": "python",
   "name": "conda-base-py"
  },
  "language_info": {
   "codemirror_mode": {
    "name": "ipython",
    "version": 3
   },
   "file_extension": ".py",
   "mimetype": "text/x-python",
   "name": "python",
   "nbconvert_exporter": "python",
   "pygments_lexer": "ipython3",
   "version": "3.11.5"
  }
 },
 "nbformat": 4,
 "nbformat_minor": 5
}
