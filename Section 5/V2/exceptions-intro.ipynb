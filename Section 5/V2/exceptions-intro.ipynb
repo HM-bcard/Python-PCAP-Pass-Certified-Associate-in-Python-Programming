{
 "cells": [
  {
   "cell_type": "markdown",
   "id": "5b14ffae-4a6a-4169-8384-1c57bf2ee1dc",
   "metadata": {},
   "source": [
    "### Identation error "
   ]
  },
  {
   "cell_type": "code",
   "execution_count": 2,
   "id": "94fc410a-2754-4b3d-a67e-c061da4b2c5e",
   "metadata": {},
   "outputs": [
    {
     "ename": "IndentationError",
     "evalue": "expected an indented block after 'if' statement on line 1 (429455484.py, line 2)",
     "output_type": "error",
     "traceback": [
      "\u001b[1;36m  Cell \u001b[1;32mIn[2], line 2\u001b[1;36m\u001b[0m\n\u001b[1;33m    print(\"horray\")\u001b[0m\n\u001b[1;37m    ^\u001b[0m\n\u001b[1;31mIndentationError\u001b[0m\u001b[1;31m:\u001b[0m expected an indented block after 'if' statement on line 1\n"
     ]
    }
   ],
   "source": [
    "if True:\n",
    "print(\"horray\")"
   ]
  },
  {
   "cell_type": "markdown",
   "id": "37a481ba-94a5-4791-af22-624f47df6996",
   "metadata": {},
   "source": [
    "### Syntax error (bok1)"
   ]
  },
  {
   "cell_type": "code",
   "execution_count": 8,
   "id": "aaebeaf5-f8a5-4100-9379-61876e02e4c0",
   "metadata": {},
   "outputs": [
    {
     "ename": "SyntaxError",
     "evalue": "'(' was never closed (1069710565.py, line 1)",
     "output_type": "error",
     "traceback": [
      "\u001b[1;36m  Cell \u001b[1;32mIn[8], line 1\u001b[1;36m\u001b[0m\n\u001b[1;33m    value = int(input(\"Enter an integer: \")\u001b[0m\n\u001b[1;37m               ^\u001b[0m\n\u001b[1;31mSyntaxError\u001b[0m\u001b[1;31m:\u001b[0m '(' was never closed\n"
     ]
    }
   ],
   "source": [
    "value = int(input(\"Enter an integer: \")\n",
    "            print(1/value)"
   ]
  },
  {
   "cell_type": "markdown",
   "id": "c29ca6b3-8128-4b86-bc1c-55385433354b",
   "metadata": {},
   "source": [
    "### Value error: user provided input is not handled by the function (bok2)"
   ]
  },
  {
   "cell_type": "code",
   "execution_count": 16,
   "id": "a5e25c1b-f150-4b3e-806b-53f6e0cdd4ca",
   "metadata": {},
   "outputs": [
    {
     "name": "stdin",
     "output_type": "stream",
     "text": [
      "Enter an integer:  a\n"
     ]
    },
    {
     "ename": "ValueError",
     "evalue": "invalid literal for int() with base 10: 'a'",
     "output_type": "error",
     "traceback": [
      "\u001b[1;31m---------------------------------------------------------------------------\u001b[0m",
      "\u001b[1;31mValueError\u001b[0m                                Traceback (most recent call last)",
      "Cell \u001b[1;32mIn[16], line 1\u001b[0m\n\u001b[1;32m----> 1\u001b[0m value \u001b[38;5;241m=\u001b[39m \u001b[38;5;28mint\u001b[39m(\u001b[38;5;28minput\u001b[39m(\u001b[38;5;124m\"\u001b[39m\u001b[38;5;124mEnter an integer: \u001b[39m\u001b[38;5;124m\"\u001b[39m))\n\u001b[0;32m      2\u001b[0m \u001b[38;5;28mprint\u001b[39m(\u001b[38;5;241m1\u001b[39m\u001b[38;5;241m/\u001b[39mvalue)\n",
      "\u001b[1;31mValueError\u001b[0m: invalid literal for int() with base 10: 'a'"
     ]
    }
   ],
   "source": [
    "value = int(input(\"Enter an integer: \"))\n",
    "print(1/value)"
   ]
  },
  {
   "cell_type": "markdown",
   "id": "58121f9f-1999-4b47-981e-806a4eada322",
   "metadata": {},
   "source": [
    "### An exception is an event which occurs during the execution of a program that disrupts the normal flow of the program instructions (bok3)"
   ]
  },
  {
   "cell_type": "markdown",
   "id": "2433341b-bdc3-484a-b782-2bf0f4e8d698",
   "metadata": {},
   "source": [
    "### Handling exceptions:"
   ]
  },
  {
   "cell_type": "markdown",
   "id": "554551af-39a3-4afd-a6ad-3c2aacb79b0d",
   "metadata": {},
   "source": [
    "### try/except block doesn't catch syntax error - only runtime errors (bok3)"
   ]
  },
  {
   "cell_type": "code",
   "execution_count": 30,
   "id": "969cf51e-d21f-4ec0-81d4-344f153ea636",
   "metadata": {},
   "outputs": [
    {
     "ename": "IndentationError",
     "evalue": "unexpected indent (1642270841.py, line 3)",
     "output_type": "error",
     "traceback": [
      "\u001b[1;36m  Cell \u001b[1;32mIn[30], line 3\u001b[1;36m\u001b[0m\n\u001b[1;33m    print(1/value)\u001b[0m\n\u001b[1;37m    ^\u001b[0m\n\u001b[1;31mIndentationError\u001b[0m\u001b[1;31m:\u001b[0m unexpected indent\n"
     ]
    }
   ],
   "source": [
    "try:\n",
    "    value = int(input(\"Enter an integer: \"))\n",
    "            print(1/value)\n",
    "except:\n",
    "    print(\"Indeed it was a syntax error\")"
   ]
  },
  {
   "cell_type": "markdown",
   "id": "67341d70-ff41-4dc1-bc89-7f09775f5e2b",
   "metadata": {},
   "source": [
    "### try/except block (bok4)"
   ]
  },
  {
   "cell_type": "code",
   "execution_count": 34,
   "id": "84cf7780-a05f-43d3-abd1-f939a2f02d0e",
   "metadata": {},
   "outputs": [
    {
     "name": "stdin",
     "output_type": "stream",
     "text": [
      "Enter an integer:  a\n"
     ]
    },
    {
     "name": "stdout",
     "output_type": "stream",
     "text": [
      "Indeed it was a value error\n"
     ]
    }
   ],
   "source": [
    "try:\n",
    "    value = int(input(\"Enter an integer: \"))\n",
    "    print(1/value)\n",
    "except:\n",
    "    print(\"Indeed it was a value error\")\n",
    "    \n"
   ]
  },
  {
   "cell_type": "markdown",
   "id": "99bb3050-e09a-4e91-8a26-9ad7f84b2c0f",
   "metadata": {},
   "source": [
    "### zero division error(bok5)"
   ]
  },
  {
   "cell_type": "code",
   "execution_count": 47,
   "id": "d8febf9f-fbe1-450f-92f9-cbfe7251f093",
   "metadata": {},
   "outputs": [
    {
     "name": "stdout",
     "output_type": "stream",
     "text": [
      "Indeed it was a zero division error error\n"
     ]
    }
   ],
   "source": [
    "try:\n",
    "    value = 0\n",
    "    print(1/value)\n",
    "except ZeroDivisionError:\n",
    "    print(\"Indeed it was a zero division error error\")"
   ]
  },
  {
   "cell_type": "markdown",
   "id": "d2983f39-6888-451a-97a2-84379943c0b6",
   "metadata": {},
   "source": [
    "### Handling multiple exceptions(bok6):"
   ]
  },
  {
   "cell_type": "code",
   "execution_count": 51,
   "id": "c924b81d-9c9f-4a30-8192-93f00eca6357",
   "metadata": {},
   "outputs": [
    {
     "name": "stdin",
     "output_type": "stream",
     "text": [
      "Enter an integer:  /\n"
     ]
    },
    {
     "name": "stdout",
     "output_type": "stream",
     "text": [
      "Indeed it was a value error\n"
     ]
    }
   ],
   "source": [
    "try:\n",
    "    value = int(input(\"Enter an integer: \"))\n",
    "    print(1/value)\n",
    "except ValueError:\n",
    "    print(\"Indeed it was a value error\")\n",
    "    \n",
    "except ZeroDivisionError:\n",
    "    print(\"Indeed it was a zero division error error\")\n",
    "except:\n",
    "    print(\"unkown error occured\")"
   ]
  },
  {
   "cell_type": "markdown",
   "id": "4274d698-5a48-4356-a43f-3364d00d19d4",
   "metadata": {},
   "source": [
    "### Unkown errors - general except block (bok7)"
   ]
  },
  {
   "cell_type": "code",
   "execution_count": null,
   "id": "20dd0768-e9cd-4650-8bcc-6cdf5ab19dc9",
   "metadata": {},
   "outputs": [],
   "source": []
  }
 ],
 "metadata": {
  "kernelspec": {
   "display_name": "Python [conda env:base] *",
   "language": "python",
   "name": "conda-base-py"
  },
  "language_info": {
   "codemirror_mode": {
    "name": "ipython",
    "version": 3
   },
   "file_extension": ".py",
   "mimetype": "text/x-python",
   "name": "python",
   "nbconvert_exporter": "python",
   "pygments_lexer": "ipython3",
   "version": "3.11.5"
  }
 },
 "nbformat": 4,
 "nbformat_minor": 5
}
