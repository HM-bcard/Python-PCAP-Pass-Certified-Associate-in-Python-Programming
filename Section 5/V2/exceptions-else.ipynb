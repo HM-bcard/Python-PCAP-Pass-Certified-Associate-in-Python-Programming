{
 "cells": [
  {
   "cell_type": "markdown",
   "id": "ed5128e6-2003-4f87-8371-960a30651d2c",
   "metadata": {},
   "source": [
    "### try excep[t else block:"
   ]
  },
  {
   "cell_type": "code",
   "execution_count": 2,
   "id": "3292bf93-5dcf-453f-b48a-dd9440d8a5d5",
   "metadata": {},
   "outputs": [
    {
     "name": "stdin",
     "output_type": "stream",
     "text": [
      "Enter an int:  1\n"
     ]
    },
    {
     "name": "stdout",
     "output_type": "stream",
     "text": [
      "1.0\n",
      "Program worked as expected\n"
     ]
    }
   ],
   "source": [
    "try:\n",
    "    value = int(input(\"Enter an int: \"))\n",
    "    print(1/value)\n",
    "except:\n",
    "    print(\"Wrong value provided\")\n",
    "else:\n",
    "    print(\"Program worked as expected\")"
   ]
  },
  {
   "cell_type": "code",
   "execution_count": 4,
   "id": "184dbc71-922a-4969-a91f-a4885b1367b5",
   "metadata": {},
   "outputs": [
    {
     "name": "stdin",
     "output_type": "stream",
     "text": [
      "Enter an int:  0\n"
     ]
    },
    {
     "name": "stdout",
     "output_type": "stream",
     "text": [
      "Wrong value provided\n"
     ]
    }
   ],
   "source": [
    "try:\n",
    "    value = int(input(\"Enter an int: \"))\n",
    "    print(1/value)\n",
    "except:\n",
    "    print(\"Wrong value provided\")\n",
    "else:\n",
    "    print(\"Program worked as expected\")"
   ]
  },
  {
   "cell_type": "code",
   "execution_count": null,
   "id": "1a0d7958-80ee-4826-bab8-07b206212538",
   "metadata": {},
   "outputs": [],
   "source": []
  }
 ],
 "metadata": {
  "kernelspec": {
   "display_name": "Python [conda env:base] *",
   "language": "python",
   "name": "conda-base-py"
  },
  "language_info": {
   "codemirror_mode": {
    "name": "ipython",
    "version": 3
   },
   "file_extension": ".py",
   "mimetype": "text/x-python",
   "name": "python",
   "nbconvert_exporter": "python",
   "pygments_lexer": "ipython3",
   "version": "3.11.5"
  }
 },
 "nbformat": 4,
 "nbformat_minor": 5
}
