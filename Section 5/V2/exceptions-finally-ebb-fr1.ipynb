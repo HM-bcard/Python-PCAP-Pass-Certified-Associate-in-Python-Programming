{
 "cells": [
  {
   "cell_type": "code",
   "execution_count": null,
   "id": "dbcd1d6c-a29d-4b60-b60d-c2aafbd4c319",
   "metadata": {},
   "outputs": [],
   "source": []
  }
 ],
 "metadata": {
  "kernelspec": {
   "display_name": "Python [conda env:base] *",
   "language": "python",
   "name": "conda-base-py"
  },
  "language_info": {
   "codemirror_mode": {
    "name": "ipython",
    "version": 3
   },
   "file_extension": ".py",
   "mimetype": "text/x-python",
   "name": "python",
   "nbconvert_exporter": "python",
   "pygments_lexer": "ipython3",
   "version": "3.11.5"
  }
 },
 "nbformat": 4,
 "nbformat_minor": 5
}
