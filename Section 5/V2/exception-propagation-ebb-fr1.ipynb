{
 "cells": [
  {
   "cell_type": "code",
   "execution_count": 1,
   "id": "4460c45c-97a5-4cc6-9d51-f9457df79214",
   "metadata": {},
   "outputs": [],
   "source": [
    "### Create at least one function call within a function to progapagete the exception"
   ]
  },
  {
   "cell_type": "code",
   "execution_count": null,
   "id": "c1f41132-7696-4815-a600-d493a30de277",
   "metadata": {},
   "outputs": [],
   "source": []
  }
 ],
 "metadata": {
  "kernelspec": {
   "display_name": "Python [conda env:base] *",
   "language": "python",
   "name": "conda-base-py"
  },
  "language_info": {
   "codemirror_mode": {
    "name": "ipython",
    "version": 3
   },
   "file_extension": ".py",
   "mimetype": "text/x-python",
   "name": "python",
   "nbconvert_exporter": "python",
   "pygments_lexer": "ipython3",
   "version": "3.11.5"
  }
 },
 "nbformat": 4,
 "nbformat_minor": 5
}
