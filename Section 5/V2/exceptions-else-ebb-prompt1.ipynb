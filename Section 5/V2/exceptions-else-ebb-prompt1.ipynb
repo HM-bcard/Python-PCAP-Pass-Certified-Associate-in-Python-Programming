{
 "cells": [
  {
   "cell_type": "markdown",
   "id": "1b385b8a-1eff-4180-a600-4c75a4dbae96",
   "metadata": {},
   "source": [
    "### Try, except , else block:"
   ]
  },
  {
   "cell_type": "code",
   "execution_count": null,
   "id": "0277c595-61e4-4098-84f5-beb709b0d60d",
   "metadata": {},
   "outputs": [],
   "source": []
  }
 ],
 "metadata": {
  "kernelspec": {
   "display_name": "Python [conda env:base] *",
   "language": "python",
   "name": "conda-base-py"
  },
  "language_info": {
   "codemirror_mode": {
    "name": "ipython",
    "version": 3
   },
   "file_extension": ".py",
   "mimetype": "text/x-python",
   "name": "python",
   "nbconvert_exporter": "python",
   "pygments_lexer": "ipython3",
   "version": "3.11.5"
  }
 },
 "nbformat": 4,
 "nbformat_minor": 5
}
