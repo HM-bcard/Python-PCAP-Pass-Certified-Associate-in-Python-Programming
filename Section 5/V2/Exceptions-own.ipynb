{
 "cells": [
  {
   "cell_type": "markdown",
   "id": "5ea71ce8-e67e-4cbe-9c89-959d6125e441",
   "metadata": {},
   "source": [
    "### 1st : choosing a superclass (bok 1)"
   ]
  },
  {
   "cell_type": "code",
   "execution_count": 2,
   "id": "09b4e393-9e96-41b4-ba95-7f87fa48546b",
   "metadata": {},
   "outputs": [],
   "source": [
    "class AnimalValueError(ValueError):# valueerror as a superclass\n",
    "    pass\n",
    "def produce_sound(animal):\n",
    "    if animal == 'DOG':\n",
    "        print('woof')\n",
    "    elif animal =='cat':\n",
    "        print('meow')\n",
    "    else:\n",
    "        raise AnimalValueError('enter a cat or a dog please')\n",
    "        "
   ]
  },
  {
   "cell_type": "code",
   "execution_count": 4,
   "id": "941782a0-749c-42ee-9c14-cc4a385234bd",
   "metadata": {},
   "outputs": [
    {
     "ename": "AnimalValueError",
     "evalue": "enter a cat or a dog please",
     "output_type": "error",
     "traceback": [
      "\u001b[1;31m---------------------------------------------------------------------------\u001b[0m",
      "\u001b[1;31mAnimalValueError\u001b[0m                          Traceback (most recent call last)",
      "Cell \u001b[1;32mIn[4], line 1\u001b[0m\n\u001b[1;32m----> 1\u001b[0m produce_sound(\u001b[38;5;124m'\u001b[39m\u001b[38;5;124mbirb\u001b[39m\u001b[38;5;124m'\u001b[39m)\n",
      "Cell \u001b[1;32mIn[2], line 9\u001b[0m, in \u001b[0;36mproduce_sound\u001b[1;34m(animal)\u001b[0m\n\u001b[0;32m      7\u001b[0m     \u001b[38;5;28mprint\u001b[39m(\u001b[38;5;124m'\u001b[39m\u001b[38;5;124mmeow\u001b[39m\u001b[38;5;124m'\u001b[39m)\n\u001b[0;32m      8\u001b[0m \u001b[38;5;28;01melse\u001b[39;00m:\n\u001b[1;32m----> 9\u001b[0m     \u001b[38;5;28;01mraise\u001b[39;00m AnimalValueError(\u001b[38;5;124m'\u001b[39m\u001b[38;5;124menter a cat or a dog please\u001b[39m\u001b[38;5;124m'\u001b[39m)\n",
      "\u001b[1;31mAnimalValueError\u001b[0m: enter a cat or a dog please"
     ]
    }
   ],
   "source": [
    "produce_sound('birb')"
   ]
  },
  {
   "cell_type": "markdown",
   "id": "e36aa8e1-8d79-48eb-aeea-41e787f23a18",
   "metadata": {},
   "source": [
    "### An example of a custom error message based on an existing exception(bok 2)"
   ]
  },
  {
   "cell_type": "code",
   "execution_count": null,
   "id": "ddceab06-18f8-4867-8e59-f26f502c95dd",
   "metadata": {},
   "outputs": [],
   "source": []
  },
  {
   "cell_type": "code",
   "execution_count": null,
   "id": "01dbe714-cc64-4aec-804e-abba3a086ad2",
   "metadata": {},
   "outputs": [],
   "source": []
  },
  {
   "cell_type": "markdown",
   "id": "b1c90c9f-53fd-45ae-9ebb-c1a97772e1c0",
   "metadata": {},
   "source": [
    "### Inheriting exceptions(bok 3):"
   ]
  },
  {
   "cell_type": "code",
   "execution_count": 11,
   "id": "2685690e-9559-4159-a81b-8ffa859d2ee7",
   "metadata": {},
   "outputs": [
    {
     "ename": "NameError",
     "evalue": "name 'UserActionException' is not defined",
     "output_type": "error",
     "traceback": [
      "\u001b[1;31m---------------------------------------------------------------------------\u001b[0m",
      "\u001b[1;31mNameError\u001b[0m                                 Traceback (most recent call last)",
      "Cell \u001b[1;32mIn[11], line 1\u001b[0m\n\u001b[1;32m----> 1\u001b[0m \u001b[38;5;28;01mclass\u001b[39;00m \u001b[38;5;21;01mEmptyNameUSerActionException\u001b[39;00m(UserActionException):\n\u001b[0;32m      2\u001b[0m     \u001b[38;5;28;01mdef\u001b[39;00m \u001b[38;5;21m__init__\u001b[39m(\u001b[38;5;28mself\u001b[39m,user_id\u001b[38;5;241m=\u001b[39m\u001b[38;5;124m'\u001b[39m\u001b[38;5;124m'\u001b[39m):\n\u001b[0;32m      3\u001b[0m         \u001b[38;5;28msuper\u001b[39m()\u001b[38;5;241m.\u001b[39m\u001b[38;5;21m__init__\u001b[39m(\u001b[38;5;124m\"\u001b[39m\u001b[38;5;124mAn empty name was provided\u001b[39m\u001b[38;5;124m\"\u001b[39m,user_id)\n",
      "\u001b[1;31mNameError\u001b[0m: name 'UserActionException' is not defined"
     ]
    }
   ],
   "source": [
    "class EmptyNameUSerActionException(UserActionException):\n",
    "    def __init__(self,user_id=''):\n",
    "        super().__init__(\"An empty name was provided\",user_id)"
   ]
  },
  {
   "cell_type": "code",
   "execution_count": 13,
   "id": "843d5841-0fe6-4047-a033-db481511af65",
   "metadata": {},
   "outputs": [],
   "source": [
    "def say_hello(name,user_id):\n",
    "    if name == '':\n",
    "        raise EmptyNameUSerActionException(user_id)\n",
    "    print(\"Hello\",name)"
   ]
  },
  {
   "cell_type": "code",
   "execution_count": 15,
   "id": "7898e4f2-f9f2-4ecd-b41c-86806513ed8b",
   "metadata": {},
   "outputs": [
    {
     "name": "stdout",
     "output_type": "stream",
     "text": [
      "Hello Asam\n",
      "name 'EmptyNameUSerActionException' is not defined\n"
     ]
    }
   ],
   "source": [
    "try:\n",
    "    say_hello(\"Asam\",\"DT134\")\n",
    "    say_hello(\"\",\"R2D2\")\n",
    "except Exception as e:\n",
    "    print(e)"
   ]
  },
  {
   "cell_type": "code",
   "execution_count": null,
   "id": "8ef00975-bea7-4b06-84bb-dd83c5b635b6",
   "metadata": {},
   "outputs": [],
   "source": []
  }
 ],
 "metadata": {
  "kernelspec": {
   "display_name": "Python [conda env:base] *",
   "language": "python",
   "name": "conda-base-py"
  },
  "language_info": {
   "codemirror_mode": {
    "name": "ipython",
    "version": 3
   },
   "file_extension": ".py",
   "mimetype": "text/x-python",
   "name": "python",
   "nbconvert_exporter": "python",
   "pygments_lexer": "ipython3",
   "version": "3.11.5"
  }
 },
 "nbformat": 4,
 "nbformat_minor": 5
}
