{
 "cells": [
  {
   "cell_type": "code",
   "execution_count": 1,
   "id": "971a6b42-d92f-49ed-9c10-ed89fb333943",
   "metadata": {},
   "outputs": [],
   "source": [
    "### "
   ]
  },
  {
   "cell_type": "code",
   "execution_count": 3,
   "id": "93446fb1-09da-47b8-a6c5-202b18aa0f96",
   "metadata": {},
   "outputs": [],
   "source": [
    "### Create at least one function call within a function to progapagete the exception"
   ]
  },
  {
   "cell_type": "markdown",
   "id": "1df8f799-1d5d-4982-ac2d-125767c567df",
   "metadata": {},
   "source": [
    "### Exception is propagate while called"
   ]
  },
  {
   "cell_type": "code",
   "execution_count": null,
   "id": "70055705-c113-4fa8-bd1e-4d04f5534e3f",
   "metadata": {},
   "outputs": [],
   "source": [
    "def get_day(user_info):\n",
    "    day = int(input(\"What is the day of month of your birthday?\"))\n",
    "    user_info.append(day)\n",
    "\n",
    "def get_month(user_info):\n",
    "    month = int(input(\"What is the month of your birthday from 1 to 12?\"))\n",
    "    user_info.append(month)\n",
    "\n",
    "def get_year(user_info):\n",
    "    year = int(input(\"What is your birth year (yyyy)?\"))\n",
    "    user_info.append(year)\n",
    "\n",
    "def get_user_birthday(user_info):\n",
    "    try:\n",
    "        get_day(user_info)\n",
    "        get_month(user_info)\n",
    "        get_year(user_info)\n",
    "        print(\"Your birthday is\",user_info)\n",
    "    except ValueError:\n",
    "        print(\"You haven't entered an integer\")\n",
    "\n",
    "print(\"Hi, I will collect some information please\")\n",
    "user_info = []\n",
    "get_user_birthday(user_info)\n",
    "\n",
    "\n",
    "                    "
   ]
  }
 ],
 "metadata": {
  "kernelspec": {
   "display_name": "Python [conda env:base] *",
   "language": "python",
   "name": "conda-base-py"
  },
  "language_info": {
   "codemirror_mode": {
    "name": "ipython",
    "version": 3
   },
   "file_extension": ".py",
   "mimetype": "text/x-python",
   "name": "python",
   "nbconvert_exporter": "python",
   "pygments_lexer": "ipython3",
   "version": "3.11.5"
  }
 },
 "nbformat": 4,
 "nbformat_minor": 5
}
