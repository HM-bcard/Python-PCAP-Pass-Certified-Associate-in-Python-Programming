{
 "cells": [
  {
   "cell_type": "code",
   "execution_count": 3,
   "id": "d35d27a8-ce27-4596-90b8-78511e27a7f7",
   "metadata": {},
   "outputs": [
    {
     "name": "stdin",
     "output_type": "stream",
     "text": [
      "Enter an integer:  1\n"
     ]
    },
    {
     "name": "stdout",
     "output_type": "stream",
     "text": [
      "1.0\n",
      "the input was correct\n"
     ]
    }
   ],
   "source": [
    "try:\n",
    "    value = int(input('Enter an integer: '))\n",
    "    print(1/value)\n",
    "except:\n",
    "    print('Something went wrong')\n",
    "else:\n",
    "    print('the input was correct')"
   ]
  },
  {
   "cell_type": "code",
   "execution_count": null,
   "id": "8beba208-4219-4675-9db9-ba5a67e09861",
   "metadata": {},
   "outputs": [],
   "source": []
  }
 ],
 "metadata": {
  "kernelspec": {
   "display_name": "Python [conda env:base] *",
   "language": "python",
   "name": "conda-base-py"
  },
  "language_info": {
   "codemirror_mode": {
    "name": "ipython",
    "version": 3
   },
   "file_extension": ".py",
   "mimetype": "text/x-python",
   "name": "python",
   "nbconvert_exporter": "python",
   "pygments_lexer": "ipython3",
   "version": "3.11.5"
  }
 },
 "nbformat": 4,
 "nbformat_minor": 5
}
