{
 "cells": [
  {
   "cell_type": "code",
   "execution_count": 26,
   "id": "32c0c04b-cc1f-4fe3-b529-e46eb264d2c7",
   "metadata": {},
   "outputs": [],
   "source": [
    "class Sample:\n",
    "    def __init__(self):\n",
    "        self.v = '5'\n",
    "\n",
    "mysamp = Sample()"
   ]
  },
  {
   "cell_type": "code",
   "execution_count": 28,
   "id": "13310c13-8bbc-4eb8-9d29-474b59e452c0",
   "metadata": {},
   "outputs": [
    {
     "name": "stdout",
     "output_type": "stream",
     "text": [
      "5\n"
     ]
    }
   ],
   "source": [
    "print(mysamp.v)"
   ]
  },
  {
   "cell_type": "code",
   "execution_count": 32,
   "id": "38b661a4-4b19-4678-9ff1-29539a8d3463",
   "metadata": {},
   "outputs": [
    {
     "ename": "IndentationError",
     "evalue": "expected an indented block after 'if' statement on line 1 (3310128775.py, line 2)",
     "output_type": "error",
     "traceback": [
      "\u001b[1;36m  Cell \u001b[1;32mIn[32], line 2\u001b[1;36m\u001b[0m\n\u001b[1;33m    print('hooray')\u001b[0m\n\u001b[1;37m    ^\u001b[0m\n\u001b[1;31mIndentationError\u001b[0m\u001b[1;31m:\u001b[0m expected an indented block after 'if' statement on line 1\n"
     ]
    }
   ],
   "source": [
    "if True:\n",
    "print('hooray')"
   ]
  },
  {
   "cell_type": "code",
   "execution_count": 34,
   "id": "e5250eae-378b-4bc8-8c70-d67e512b148c",
   "metadata": {},
   "outputs": [
    {
     "name": "stdin",
     "output_type": "stream",
     "text": [
      "Enter an integer:  a\n"
     ]
    },
    {
     "ename": "ValueError",
     "evalue": "invalid literal for int() with base 10: 'a'",
     "output_type": "error",
     "traceback": [
      "\u001b[1;31m---------------------------------------------------------------------------\u001b[0m",
      "\u001b[1;31mValueError\u001b[0m                                Traceback (most recent call last)",
      "Cell \u001b[1;32mIn[34], line 1\u001b[0m\n\u001b[1;32m----> 1\u001b[0m value \u001b[38;5;241m=\u001b[39m \u001b[38;5;28mint\u001b[39m(\u001b[38;5;28minput\u001b[39m(\u001b[38;5;124m'\u001b[39m\u001b[38;5;124mEnter an integer: \u001b[39m\u001b[38;5;124m'\u001b[39m))\n\u001b[0;32m      2\u001b[0m \u001b[38;5;28mprint\u001b[39m(\u001b[38;5;124m'\u001b[39m\u001b[38;5;124mthe inverse of\u001b[39m\u001b[38;5;124m'\u001b[39m,value,\u001b[38;5;124m'\u001b[39m\u001b[38;5;124mis\u001b[39m\u001b[38;5;124m'\u001b[39m,\u001b[38;5;241m1\u001b[39m\u001b[38;5;241m/\u001b[39mvalue)\n",
      "\u001b[1;31mValueError\u001b[0m: invalid literal for int() with base 10: 'a'"
     ]
    }
   ],
   "source": [
    "value = int(input('Enter an integer: '))\n",
    "print('the inverse of',value,'is',1/value)"
   ]
  },
  {
   "cell_type": "code",
   "execution_count": 38,
   "id": "4ea17aa3-b1ca-467d-9e36-2faa657ef74e",
   "metadata": {},
   "outputs": [
    {
     "name": "stdin",
     "output_type": "stream",
     "text": [
      "Enter an integer:  0\n"
     ]
    },
    {
     "name": "stdout",
     "output_type": "stream",
     "text": [
      "You didn't provide a valid real number\n"
     ]
    }
   ],
   "source": [
    "try:\n",
    "    value = int(input('Enter an integer: '))\n",
    "    print('the inverse of',value,'is',1/value)\n",
    "except:\n",
    "    print('You didn\\'t provide a valid real number') "
   ]
  },
  {
   "cell_type": "code",
   "execution_count": 40,
   "id": "6e4f5c6f-5c3d-47f1-bde8-740ffacd03ff",
   "metadata": {},
   "outputs": [
    {
     "name": "stdin",
     "output_type": "stream",
     "text": [
      "Enter an integer:  0\n"
     ]
    },
    {
     "name": "stdout",
     "output_type": "stream",
     "text": [
      "The provided number can't be zero\n"
     ]
    }
   ],
   "source": [
    "try:\n",
    "    value = int(input('Enter an integer: '))\n",
    "    print('the inverse of',value,'is',1/value)\n",
    "except ValueError:\n",
    "    print('You didn\\'t provide a valid real number') \n",
    "except ZeroDivisionError:\n",
    "    print('The provided number can\\'t be zero')"
   ]
  },
  {
   "cell_type": "code",
   "execution_count": null,
   "id": "c93c6d50-3386-4bed-9682-b2c9a2aeadcb",
   "metadata": {},
   "outputs": [],
   "source": []
  }
 ],
 "metadata": {
  "kernelspec": {
   "display_name": "Python [conda env:base] *",
   "language": "python",
   "name": "conda-base-py"
  },
  "language_info": {
   "codemirror_mode": {
    "name": "ipython",
    "version": 3
   },
   "file_extension": ".py",
   "mimetype": "text/x-python",
   "name": "python",
   "nbconvert_exporter": "python",
   "pygments_lexer": "ipython3",
   "version": "3.11.5"
  }
 },
 "nbformat": 4,
 "nbformat_minor": 5
}
