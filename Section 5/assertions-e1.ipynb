{
 "cells": [
  {
   "cell_type": "code",
   "execution_count": 1,
   "id": "980aaa21-5708-4fb0-abaa-f786f0c81c67",
   "metadata": {},
   "outputs": [],
   "source": [
    "def calculate_inverse(number):\n",
    "    assert(number != 0),\"The program has gotten '0' as input!\"\n",
    "    return 1/number"
   ]
  },
  {
   "cell_type": "code",
   "execution_count": 3,
   "id": "a068685a-3679-4335-bde0-da82eb3b4c93",
   "metadata": {},
   "outputs": [
    {
     "ename": "AssertionError",
     "evalue": "The program has gotten '0' as input!",
     "output_type": "error",
     "traceback": [
      "\u001b[1;31m---------------------------------------------------------------------------\u001b[0m",
      "\u001b[1;31mAssertionError\u001b[0m                            Traceback (most recent call last)",
      "Cell \u001b[1;32mIn[3], line 1\u001b[0m\n\u001b[1;32m----> 1\u001b[0m calculate_inverse(\u001b[38;5;241m0\u001b[39m)\n",
      "Cell \u001b[1;32mIn[1], line 2\u001b[0m, in \u001b[0;36mcalculate_inverse\u001b[1;34m(number)\u001b[0m\n\u001b[0;32m      1\u001b[0m \u001b[38;5;28;01mdef\u001b[39;00m \u001b[38;5;21mcalculate_inverse\u001b[39m(number):\n\u001b[1;32m----> 2\u001b[0m     \u001b[38;5;28;01massert\u001b[39;00m(number \u001b[38;5;241m!=\u001b[39m \u001b[38;5;241m0\u001b[39m),\u001b[38;5;124m\"\u001b[39m\u001b[38;5;124mThe program has gotten \u001b[39m\u001b[38;5;124m'\u001b[39m\u001b[38;5;124m0\u001b[39m\u001b[38;5;124m'\u001b[39m\u001b[38;5;124m as input!\u001b[39m\u001b[38;5;124m\"\u001b[39m\n\u001b[0;32m      3\u001b[0m     \u001b[38;5;28;01mreturn\u001b[39;00m \u001b[38;5;241m1\u001b[39m\u001b[38;5;241m/\u001b[39mnumber\n",
      "\u001b[1;31mAssertionError\u001b[0m: The program has gotten '0' as input!"
     ]
    }
   ],
   "source": [
    "calculate_inverse(0)"
   ]
  },
  {
   "cell_type": "code",
   "execution_count": null,
   "id": "93a0b678-1e12-4bb8-942a-41d743d6f4f6",
   "metadata": {},
   "outputs": [],
   "source": []
  }
 ],
 "metadata": {
  "kernelspec": {
   "display_name": "Python [conda env:base] *",
   "language": "python",
   "name": "conda-base-py"
  },
  "language_info": {
   "codemirror_mode": {
    "name": "ipython",
    "version": 3
   },
   "file_extension": ".py",
   "mimetype": "text/x-python",
   "name": "python",
   "nbconvert_exporter": "python",
   "pygments_lexer": "ipython3",
   "version": "3.11.5"
  }
 },
 "nbformat": 4,
 "nbformat_minor": 5
}
