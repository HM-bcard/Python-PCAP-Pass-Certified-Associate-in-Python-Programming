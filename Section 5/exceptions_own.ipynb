{
 "cells": [
  {
   "cell_type": "code",
   "execution_count": 1,
   "id": "2f5e6b11-50b9-4853-aecb-4c999cba531d",
   "metadata": {},
   "outputs": [],
   "source": [
    "class AnimalValueError(ValueError):\n",
    "    pass\n",
    "def produce_animal_sound(animal_type):\n",
    "    if animal_type == 'DOG':\n",
    "        print(\"woof woof\")\n",
    "    elif animal_type == \"CAT\":\n",
    "        print(\"meow\")\n",
    "    else:\n",
    "        raise AnimalValueError('Incorrect animal type!')"
   ]
  },
  {
   "cell_type": "code",
   "execution_count": 5,
   "id": "65b167db-1009-48be-a3cc-619b6b7e8a9c",
   "metadata": {},
   "outputs": [
    {
     "ename": "AnimalValueError",
     "evalue": "Incorrect animal type!",
     "output_type": "error",
     "traceback": [
      "\u001b[1;31m---------------------------------------------------------------------------\u001b[0m",
      "\u001b[1;31mAnimalValueError\u001b[0m                          Traceback (most recent call last)",
      "Cell \u001b[1;32mIn[5], line 1\u001b[0m\n\u001b[1;32m----> 1\u001b[0m produce_animal_sound(\u001b[38;5;124m\"\u001b[39m\u001b[38;5;124mPIG\u001b[39m\u001b[38;5;124m\"\u001b[39m)\n",
      "Cell \u001b[1;32mIn[1], line 9\u001b[0m, in \u001b[0;36mproduce_animal_sound\u001b[1;34m(animal_type)\u001b[0m\n\u001b[0;32m      7\u001b[0m     \u001b[38;5;28mprint\u001b[39m(\u001b[38;5;124m\"\u001b[39m\u001b[38;5;124mmeow\u001b[39m\u001b[38;5;124m\"\u001b[39m)\n\u001b[0;32m      8\u001b[0m \u001b[38;5;28;01melse\u001b[39;00m:\n\u001b[1;32m----> 9\u001b[0m     \u001b[38;5;28;01mraise\u001b[39;00m AnimalValueError(\u001b[38;5;124m'\u001b[39m\u001b[38;5;124mIncorrect animal type!\u001b[39m\u001b[38;5;124m'\u001b[39m)\n",
      "\u001b[1;31mAnimalValueError\u001b[0m: Incorrect animal type!"
     ]
    }
   ],
   "source": [
    "produce_animal_sound(\"PIG\")"
   ]
  },
  {
   "cell_type": "code",
   "execution_count": 7,
   "id": "5dbb49dc-2dc0-439a-9653-b5fbcc953ad5",
   "metadata": {},
   "outputs": [
    {
     "name": "stdout",
     "output_type": "stream",
     "text": [
      "Hello Adam\n",
      "UserActionExceptionoccured.Error message: empty name! , userId: c3po\n"
     ]
    }
   ],
   "source": [
    "class UserActionException(Exception):\n",
    "    def __init__(self,message='',user_id=''):\n",
    "        Exception.__init__(self)\n",
    "        self.user_id = user_id\n",
    "        self.message = message#so our exception inherits the message method\n",
    "    def __str__(self):\n",
    "        return type(self).__name__+ 'occured.Error message: ' + self.message + ' , userId: ' + self.user_id\n",
    "\n",
    "def say_hello(name, user_id):\n",
    "    if name == '':\n",
    "        raise UserActionException('empty name!',user_id)\n",
    "    print('Hello',name)\n",
    "\n",
    "try:\n",
    "    say_hello('Adam','c3po')\n",
    "    say_hello('','c3po')\n",
    "    say_hello('c3po','')\n",
    "except Exception as e:\n",
    "    print(e)"
   ]
  },
  {
   "cell_type": "code",
   "execution_count": 9,
   "id": "bd8d593c-a5c7-4151-9afe-17a2ed91c450",
   "metadata": {},
   "outputs": [],
   "source": [
    "class EmptyNameUserActionException(UserActionException):\n",
    "    def __init__(self,user_id=''):\n",
    "        super().__init__('An empty name was provided',user_id)"
   ]
  },
  {
   "cell_type": "code",
   "execution_count": 11,
   "id": "b0c80b57-efcd-4133-9e78-4b719740c012",
   "metadata": {},
   "outputs": [],
   "source": [
    "def say_hello(name, user_id):\n",
    "    if name == '':\n",
    "        raise EmptyNameUserActionException(user_id)\n",
    "    print('Hello', name)"
   ]
  },
  {
   "cell_type": "code",
   "execution_count": 13,
   "id": "2abf9dce-44a5-41e7-bd91-a327b7992e16",
   "metadata": {},
   "outputs": [
    {
     "name": "stdout",
     "output_type": "stream",
     "text": [
      "Hello Adam\n",
      "EmptyNameUserActionExceptionoccured.Error message: An empty name was provided , userId: c3po\n"
     ]
    }
   ],
   "source": [
    "try:\n",
    "    say_hello('Adam','c3po')\n",
    "    say_hello('','c3po')\n",
    "    say_hello('c3po','')\n",
    "except Exception as e:\n",
    "    print(e)"
   ]
  },
  {
   "cell_type": "code",
   "execution_count": null,
   "id": "f48d3ad4-750e-4d75-a51c-9750a3cd590b",
   "metadata": {},
   "outputs": [],
   "source": []
  }
 ],
 "metadata": {
  "kernelspec": {
   "display_name": "Python [conda env:base] *",
   "language": "python",
   "name": "conda-base-py"
  },
  "language_info": {
   "codemirror_mode": {
    "name": "ipython",
    "version": 3
   },
   "file_extension": ".py",
   "mimetype": "text/x-python",
   "name": "python",
   "nbconvert_exporter": "python",
   "pygments_lexer": "ipython3",
   "version": "3.11.5"
  }
 },
 "nbformat": 4,
 "nbformat_minor": 5
}
