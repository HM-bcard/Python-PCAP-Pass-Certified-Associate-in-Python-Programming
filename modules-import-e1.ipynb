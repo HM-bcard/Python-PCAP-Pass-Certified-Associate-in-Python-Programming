{
 "cells": [
  {
   "cell_type": "code",
   "execution_count": 1,
   "id": "a5582879-4fb1-48f7-b7bd-afe753e4bffe",
   "metadata": {},
   "outputs": [],
   "source": [
    "import sys\n"
   ]
  },
  {
   "cell_type": "code",
   "execution_count": 9,
   "id": "c0a7d977-7b45-412f-acba-8a878c3dc73b",
   "metadata": {},
   "outputs": [
    {
     "name": "stdout",
     "output_type": "stream",
     "text": [
      "__breakpointhook__ \t\n",
      "__displayhook__ \t\n",
      "__doc__ \t\n",
      "__excepthook__ \t\n",
      "__interactivehook__ \t\n",
      "__loader__ \t\n",
      "__name__ \t\n",
      "__package__ \t\n",
      "__spec__ \t\n",
      "__stderr__ \t\n",
      "__stdin__ \t\n",
      "__stdout__ \t\n",
      "__unraisablehook__ \t\n",
      "_base_executable \t\n",
      "_clear_type_cache \t\n",
      "_current_exceptions \t\n",
      "_current_frames \t\n",
      "_debugmallocstats \t\n",
      "_enablelegacywindowsfsencoding \t\n",
      "_framework \t\n",
      "_getframe \t\n",
      "_getquickenedcount \t\n",
      "_git \t\n",
      "_home \t\n",
      "_stdlib_dir \t\n",
      "_vpath \t\n",
      "_xoptions \t\n",
      "addaudithook \t\n",
      "api_version \t\n",
      "argv \t\n",
      "audit \t\n",
      "base_exec_prefix \t\n",
      "base_prefix \t\n",
      "breakpointhook \t\n",
      "builtin_module_names \t\n",
      "byteorder \t\n",
      "call_tracing \t\n",
      "copyright \t\n",
      "displayhook \t\n",
      "dllhandle \t\n",
      "dont_write_bytecode \t\n",
      "exc_info \t\n",
      "excepthook \t\n",
      "exception \t\n",
      "exec_prefix \t\n",
      "executable \t\n",
      "exit \t\n",
      "flags \t\n",
      "float_info \t\n",
      "float_repr_style \t\n",
      "get_asyncgen_hooks \t\n",
      "get_coroutine_origin_tracking_depth \t\n",
      "get_int_max_str_digits \t\n",
      "getallocatedblocks \t\n",
      "getdefaultencoding \t\n",
      "getfilesystemencodeerrors \t\n",
      "getfilesystemencoding \t\n",
      "getprofile \t\n",
      "getrecursionlimit \t\n",
      "getrefcount \t\n",
      "getsizeof \t\n",
      "getswitchinterval \t\n",
      "gettrace \t\n",
      "getwindowsversion \t\n",
      "hash_info \t\n",
      "hexversion \t\n",
      "implementation \t\n",
      "int_info \t\n",
      "intern \t\n",
      "is_finalizing \t\n",
      "last_traceback \t\n",
      "last_type \t\n",
      "last_value \t\n",
      "maxsize \t\n",
      "maxunicode \t\n",
      "meta_path \t\n",
      "modules \t\n",
      "orig_argv \t\n",
      "path \t\n",
      "path_hooks \t\n",
      "path_importer_cache \t\n",
      "platform \t\n",
      "platlibdir \t\n",
      "prefix \t\n",
      "ps1 \t\n",
      "ps2 \t\n",
      "ps3 \t\n",
      "pycache_prefix \t\n",
      "set_asyncgen_hooks \t\n",
      "set_coroutine_origin_tracking_depth \t\n",
      "set_int_max_str_digits \t\n",
      "setprofile \t\n",
      "setrecursionlimit \t\n",
      "setswitchinterval \t\n",
      "settrace \t\n",
      "stderr \t\n",
      "stdin \t\n",
      "stdlib_module_names \t\n",
      "stdout \t\n",
      "thread_info \t\n",
      "unraisablehook \t\n",
      "version \t\n",
      "version_info \t\n",
      "warnoptions \t\n",
      "winver \t\n"
     ]
    }
   ],
   "source": [
    "for function in dir(sys):\n",
    "    print(function,'\\t')"
   ]
  },
  {
   "cell_type": "code",
   "execution_count": 5,
   "id": "151f7e69-a3ee-482a-b6b8-fda65eef446a",
   "metadata": {},
   "outputs": [
    {
     "ename": "ImportError",
     "evalue": "cannot import name 'time' from 'sys' (unknown location)",
     "output_type": "error",
     "traceback": [
      "\u001b[1;31m---------------------------------------------------------------------------\u001b[0m",
      "\u001b[1;31mImportError\u001b[0m                               Traceback (most recent call last)",
      "Cell \u001b[1;32mIn[5], line 1\u001b[0m\n\u001b[1;32m----> 1\u001b[0m \u001b[38;5;28;01mfrom\u001b[39;00m \u001b[38;5;21;01msys\u001b[39;00m \u001b[38;5;28;01mimport\u001b[39;00m time\n\u001b[0;32m      2\u001b[0m \u001b[38;5;28mprint\u001b[39m(time)\n",
      "\u001b[1;31mImportError\u001b[0m: cannot import name 'time' from 'sys' (unknown location)"
     ]
    }
   ],
   "source": [
    "from sys import time\n",
    "print(time)"
   ]
  },
  {
   "cell_type": "code",
   "execution_count": 15,
   "id": "5904eafe-a212-47e4-b6ce-1f6421e08f07",
   "metadata": {},
   "outputs": [
    {
     "name": "stdout",
     "output_type": "stream",
     "text": [
      "__breakpointhook__\t__displayhook__\t__doc__\t__excepthook__\t__interactivehook__\t__loader__\t__name__\t__package__\t__spec__\t__stderr__\t__stdin__\t__stdout__\t__unraisablehook__\t_base_executable\t_clear_type_cache\t_current_exceptions\t_current_frames\t_debugmallocstats\t_enablelegacywindowsfsencoding\t_framework\t_getframe\t_getquickenedcount\t_git\t_home\t_stdlib_dir\t_vpath\t_xoptions\taddaudithook\tapi_version\targv\taudit\tbase_exec_prefix\tbase_prefix\tbreakpointhook\tbuiltin_module_names\tbyteorder\tcall_tracing\tcopyright\tdisplayhook\tdllhandle\tdont_write_bytecode\texc_info\texcepthook\texception\texec_prefix\texecutable\texit\tflags\tfloat_info\tfloat_repr_style\tget_asyncgen_hooks\tget_coroutine_origin_tracking_depth\tget_int_max_str_digits\tgetallocatedblocks\tgetdefaultencoding\tgetfilesystemencodeerrors\tgetfilesystemencoding\tgetprofile\tgetrecursionlimit\tgetrefcount\tgetsizeof\tgetswitchinterval\tgettrace\tgetwindowsversion\thash_info\thexversion\timplementation\tint_info\tintern\tis_finalizing\tlast_traceback\tlast_type\tlast_value\tmaxsize\tmaxunicode\tmeta_path\tmodules\torig_argv\tpath\tpath_hooks\tpath_importer_cache\tplatform\tplatlibdir\tprefix\tps1\tps2\tps3\tpycache_prefix\tset_asyncgen_hooks\tset_coroutine_origin_tracking_depth\tset_int_max_str_digits\tsetprofile\tsetrecursionlimit\tsetswitchinterval\tsettrace\tstderr\tstdin\tstdlib_module_names\tstdout\tthread_info\tunraisablehook\tversion\tversion_info\twarnoptions\twinver\t"
     ]
    }
   ],
   "source": [
    "for function in dir(sys):\n",
    "    print(function,end='\\t')"
   ]
  },
  {
   "cell_type": "code",
   "execution_count": 17,
   "id": "16134ed2-df36-496e-8940-36216ce6e613",
   "metadata": {},
   "outputs": [],
   "source": [
    "from sys import exit"
   ]
  },
  {
   "cell_type": "code",
   "execution_count": 19,
   "id": "bdfdf1b8-35bc-4e0b-80bd-76811d1d3fe7",
   "metadata": {},
   "outputs": [
    {
     "ename": "SystemExit",
     "evalue": "",
     "output_type": "error",
     "traceback": [
      "An exception has occurred, use %tb to see the full traceback.\n",
      "\u001b[1;31mSystemExit\u001b[0m\n"
     ]
    },
    {
     "name": "stderr",
     "output_type": "stream",
     "text": [
      "C:\\Users\\Nouser\\anaconda3\\Lib\\site-packages\\IPython\\core\\interactiveshell.py:3534: UserWarning: To exit: use 'exit', 'quit', or Ctrl-D.\n",
      "  warn(\"To exit: use 'exit', 'quit', or Ctrl-D.\", stacklevel=1)\n"
     ]
    }
   ],
   "source": [
    "from sys import *\n",
    "exit()"
   ]
  },
  {
   "cell_type": "code",
   "execution_count": null,
   "id": "cb84be76-9cc9-4254-9179-9b53f64354c6",
   "metadata": {},
   "outputs": [],
   "source": []
  }
 ],
 "metadata": {
  "kernelspec": {
   "display_name": "Python [conda env:base] *",
   "language": "python",
   "name": "conda-base-py"
  },
  "language_info": {
   "codemirror_mode": {
    "name": "ipython",
    "version": 3
   },
   "file_extension": ".py",
   "mimetype": "text/x-python",
   "name": "python",
   "nbconvert_exporter": "python",
   "pygments_lexer": "ipython3",
   "version": "3.11.5"
  }
 },
 "nbformat": 4,
 "nbformat_minor": 5
}
