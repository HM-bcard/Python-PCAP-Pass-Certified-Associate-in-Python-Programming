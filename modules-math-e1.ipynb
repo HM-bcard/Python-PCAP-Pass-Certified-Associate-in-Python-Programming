{
 "cells": [
  {
   "cell_type": "code",
   "execution_count": 1,
   "id": "dfa037c9-dfc7-4ee6-9e95-e0ff92ce2ca1",
   "metadata": {},
   "outputs": [
    {
     "name": "stdout",
     "output_type": "stream",
     "text": [
      "__doc__ \n",
      "\n",
      "__loader__ \n",
      "\n",
      "__name__ \n",
      "\n",
      "__package__ \n",
      "\n",
      "__spec__ \n",
      "\n",
      "acos \n",
      "\n",
      "acosh \n",
      "\n",
      "asin \n",
      "\n",
      "asinh \n",
      "\n",
      "atan \n",
      "\n",
      "atan2 \n",
      "\n",
      "atanh \n",
      "\n",
      "cbrt \n",
      "\n",
      "ceil \n",
      "\n",
      "comb \n",
      "\n",
      "copysign \n",
      "\n",
      "cos \n",
      "\n",
      "cosh \n",
      "\n",
      "degrees \n",
      "\n",
      "dist \n",
      "\n",
      "e \n",
      "\n",
      "erf \n",
      "\n",
      "erfc \n",
      "\n",
      "exp \n",
      "\n",
      "exp2 \n",
      "\n",
      "expm1 \n",
      "\n",
      "fabs \n",
      "\n",
      "factorial \n",
      "\n",
      "floor \n",
      "\n",
      "fmod \n",
      "\n",
      "frexp \n",
      "\n",
      "fsum \n",
      "\n",
      "gamma \n",
      "\n",
      "gcd \n",
      "\n",
      "hypot \n",
      "\n",
      "inf \n",
      "\n",
      "isclose \n",
      "\n",
      "isfinite \n",
      "\n",
      "isinf \n",
      "\n",
      "isnan \n",
      "\n",
      "isqrt \n",
      "\n",
      "lcm \n",
      "\n",
      "ldexp \n",
      "\n",
      "lgamma \n",
      "\n",
      "log \n",
      "\n",
      "log10 \n",
      "\n",
      "log1p \n",
      "\n",
      "log2 \n",
      "\n",
      "modf \n",
      "\n",
      "nan \n",
      "\n",
      "nextafter \n",
      "\n",
      "perm \n",
      "\n",
      "pi \n",
      "\n",
      "pow \n",
      "\n",
      "prod \n",
      "\n",
      "radians \n",
      "\n",
      "remainder \n",
      "\n",
      "sin \n",
      "\n",
      "sinh \n",
      "\n",
      "sqrt \n",
      "\n",
      "tan \n",
      "\n",
      "tanh \n",
      "\n",
      "tau \n",
      "\n",
      "trunc \n",
      "\n",
      "ulp \n",
      "\n"
     ]
    }
   ],
   "source": [
    "import math\n",
    "for name in dir(math):\n",
    "    print(name,'\\n')"
   ]
  },
  {
   "cell_type": "markdown",
   "id": "eeae3d0d-7ea4-49eb-a5f2-18a0afdbed03",
   "metadata": {},
   "source": [
    "### the six functions requireds for PCAP:"
   ]
  },
  {
   "cell_type": "markdown",
   "id": "d5e63b9d-0bf8-4d16-a608-0ce9592cbefb",
   "metadata": {},
   "source": [
    "## CEIL"
   ]
  },
  {
   "cell_type": "code",
   "execution_count": 7,
   "id": "2af44f07-aec9-48ef-aec2-66fe47eaa68d",
   "metadata": {},
   "outputs": [
    {
     "data": {
      "text/plain": [
       "4"
      ]
     },
     "execution_count": 7,
     "metadata": {},
     "output_type": "execute_result"
    }
   ],
   "source": [
    "math.ceil(3.999)"
   ]
  },
  {
   "cell_type": "code",
   "execution_count": 9,
   "id": "697e635d-ae30-4efa-b0bf-eb264b81d4a5",
   "metadata": {},
   "outputs": [
    {
     "data": {
      "text/plain": [
       "3"
      ]
     },
     "execution_count": 9,
     "metadata": {},
     "output_type": "execute_result"
    }
   ],
   "source": [
    "math.floor(3.999)"
   ]
  },
  {
   "cell_type": "code",
   "execution_count": 11,
   "id": "9dbebd53-8112-46a9-9136-af4f127bccc4",
   "metadata": {},
   "outputs": [
    {
     "data": {
      "text/plain": [
       "3"
      ]
     },
     "execution_count": 11,
     "metadata": {},
     "output_type": "execute_result"
    }
   ],
   "source": [
    "math.trunc(3.999)"
   ]
  },
  {
   "cell_type": "code",
   "execution_count": 13,
   "id": "d7a50eae-bf04-4921-b3d0-2390d4ae2bab",
   "metadata": {},
   "outputs": [
    {
     "data": {
      "text/plain": [
       "3.605551275463989"
      ]
     },
     "execution_count": 13,
     "metadata": {},
     "output_type": "execute_result"
    }
   ],
   "source": [
    "math.hypot(3,2)"
   ]
  },
  {
   "cell_type": "code",
   "execution_count": 15,
   "id": "ceac9c0a-a08c-49a7-9217-caf4daedcb7d",
   "metadata": {},
   "outputs": [
    {
     "data": {
      "text/plain": [
       "720"
      ]
     },
     "execution_count": 15,
     "metadata": {},
     "output_type": "execute_result"
    }
   ],
   "source": [
    "math.factorial(6)"
   ]
  },
  {
   "cell_type": "code",
   "execution_count": 17,
   "id": "16365923-6fe4-43c2-9f7f-56500484f538",
   "metadata": {},
   "outputs": [
    {
     "data": {
      "text/plain": [
       "15.620499351813308"
      ]
     },
     "execution_count": 17,
     "metadata": {},
     "output_type": "execute_result"
    }
   ],
   "source": [
    "math.sqrt(244)"
   ]
  },
  {
   "cell_type": "code",
   "execution_count": null,
   "id": "01071968-48ed-4bf4-8e18-b61c308b92f0",
   "metadata": {},
   "outputs": [],
   "source": []
  }
 ],
 "metadata": {
  "kernelspec": {
   "display_name": "Python [conda env:base] *",
   "language": "python",
   "name": "conda-base-py"
  },
  "language_info": {
   "codemirror_mode": {
    "name": "ipython",
    "version": 3
   },
   "file_extension": ".py",
   "mimetype": "text/x-python",
   "name": "python",
   "nbconvert_exporter": "python",
   "pygments_lexer": "ipython3",
   "version": "3.11.5"
  }
 },
 "nbformat": 4,
 "nbformat_minor": 5
}
